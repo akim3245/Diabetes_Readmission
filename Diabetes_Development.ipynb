{
 "cells": [
  {
   "cell_type": "code",
   "execution_count": 1,
   "metadata": {},
   "outputs": [],
   "source": [
    "import pandas as pd \n",
    "import numpy as np\n",
    "import seaborn as sns\n",
    "import matplotlib.pyplot as plt"
   ]
  },
  {
   "cell_type": "code",
   "execution_count": 2,
   "metadata": {},
   "outputs": [],
   "source": [
    "df = pd.read_csv('diabetic_data.csv')"
   ]
  },
  {
   "cell_type": "code",
   "execution_count": 3,
   "metadata": {},
   "outputs": [
    {
     "data": {
      "text/html": [
       "<div>\n",
       "<style scoped>\n",
       "    .dataframe tbody tr th:only-of-type {\n",
       "        vertical-align: middle;\n",
       "    }\n",
       "\n",
       "    .dataframe tbody tr th {\n",
       "        vertical-align: top;\n",
       "    }\n",
       "\n",
       "    .dataframe thead th {\n",
       "        text-align: right;\n",
       "    }\n",
       "</style>\n",
       "<table border=\"1\" class=\"dataframe\">\n",
       "  <thead>\n",
       "    <tr style=\"text-align: right;\">\n",
       "      <th></th>\n",
       "      <th>encounter_id</th>\n",
       "      <th>patient_nbr</th>\n",
       "      <th>race</th>\n",
       "      <th>gender</th>\n",
       "      <th>age</th>\n",
       "      <th>weight</th>\n",
       "      <th>admission_type_id</th>\n",
       "      <th>discharge_disposition_id</th>\n",
       "      <th>admission_source_id</th>\n",
       "      <th>time_in_hospital</th>\n",
       "      <th>...</th>\n",
       "      <th>citoglipton</th>\n",
       "      <th>insulin</th>\n",
       "      <th>glyburide-metformin</th>\n",
       "      <th>glipizide-metformin</th>\n",
       "      <th>glimepiride-pioglitazone</th>\n",
       "      <th>metformin-rosiglitazone</th>\n",
       "      <th>metformin-pioglitazone</th>\n",
       "      <th>change</th>\n",
       "      <th>diabetesMed</th>\n",
       "      <th>readmitted</th>\n",
       "    </tr>\n",
       "  </thead>\n",
       "  <tbody>\n",
       "    <tr>\n",
       "      <td>0</td>\n",
       "      <td>2278392</td>\n",
       "      <td>8222157</td>\n",
       "      <td>Caucasian</td>\n",
       "      <td>Female</td>\n",
       "      <td>[0-10)</td>\n",
       "      <td>?</td>\n",
       "      <td>6</td>\n",
       "      <td>25</td>\n",
       "      <td>1</td>\n",
       "      <td>1</td>\n",
       "      <td>...</td>\n",
       "      <td>No</td>\n",
       "      <td>No</td>\n",
       "      <td>No</td>\n",
       "      <td>No</td>\n",
       "      <td>No</td>\n",
       "      <td>No</td>\n",
       "      <td>No</td>\n",
       "      <td>No</td>\n",
       "      <td>No</td>\n",
       "      <td>NO</td>\n",
       "    </tr>\n",
       "    <tr>\n",
       "      <td>1</td>\n",
       "      <td>149190</td>\n",
       "      <td>55629189</td>\n",
       "      <td>Caucasian</td>\n",
       "      <td>Female</td>\n",
       "      <td>[10-20)</td>\n",
       "      <td>?</td>\n",
       "      <td>1</td>\n",
       "      <td>1</td>\n",
       "      <td>7</td>\n",
       "      <td>3</td>\n",
       "      <td>...</td>\n",
       "      <td>No</td>\n",
       "      <td>Up</td>\n",
       "      <td>No</td>\n",
       "      <td>No</td>\n",
       "      <td>No</td>\n",
       "      <td>No</td>\n",
       "      <td>No</td>\n",
       "      <td>Ch</td>\n",
       "      <td>Yes</td>\n",
       "      <td>&gt;30</td>\n",
       "    </tr>\n",
       "    <tr>\n",
       "      <td>2</td>\n",
       "      <td>64410</td>\n",
       "      <td>86047875</td>\n",
       "      <td>AfricanAmerican</td>\n",
       "      <td>Female</td>\n",
       "      <td>[20-30)</td>\n",
       "      <td>?</td>\n",
       "      <td>1</td>\n",
       "      <td>1</td>\n",
       "      <td>7</td>\n",
       "      <td>2</td>\n",
       "      <td>...</td>\n",
       "      <td>No</td>\n",
       "      <td>No</td>\n",
       "      <td>No</td>\n",
       "      <td>No</td>\n",
       "      <td>No</td>\n",
       "      <td>No</td>\n",
       "      <td>No</td>\n",
       "      <td>No</td>\n",
       "      <td>Yes</td>\n",
       "      <td>NO</td>\n",
       "    </tr>\n",
       "    <tr>\n",
       "      <td>3</td>\n",
       "      <td>500364</td>\n",
       "      <td>82442376</td>\n",
       "      <td>Caucasian</td>\n",
       "      <td>Male</td>\n",
       "      <td>[30-40)</td>\n",
       "      <td>?</td>\n",
       "      <td>1</td>\n",
       "      <td>1</td>\n",
       "      <td>7</td>\n",
       "      <td>2</td>\n",
       "      <td>...</td>\n",
       "      <td>No</td>\n",
       "      <td>Up</td>\n",
       "      <td>No</td>\n",
       "      <td>No</td>\n",
       "      <td>No</td>\n",
       "      <td>No</td>\n",
       "      <td>No</td>\n",
       "      <td>Ch</td>\n",
       "      <td>Yes</td>\n",
       "      <td>NO</td>\n",
       "    </tr>\n",
       "    <tr>\n",
       "      <td>4</td>\n",
       "      <td>16680</td>\n",
       "      <td>42519267</td>\n",
       "      <td>Caucasian</td>\n",
       "      <td>Male</td>\n",
       "      <td>[40-50)</td>\n",
       "      <td>?</td>\n",
       "      <td>1</td>\n",
       "      <td>1</td>\n",
       "      <td>7</td>\n",
       "      <td>1</td>\n",
       "      <td>...</td>\n",
       "      <td>No</td>\n",
       "      <td>Steady</td>\n",
       "      <td>No</td>\n",
       "      <td>No</td>\n",
       "      <td>No</td>\n",
       "      <td>No</td>\n",
       "      <td>No</td>\n",
       "      <td>Ch</td>\n",
       "      <td>Yes</td>\n",
       "      <td>NO</td>\n",
       "    </tr>\n",
       "  </tbody>\n",
       "</table>\n",
       "<p>5 rows × 50 columns</p>\n",
       "</div>"
      ],
      "text/plain": [
       "   encounter_id  patient_nbr             race  gender      age weight  \\\n",
       "0       2278392      8222157        Caucasian  Female   [0-10)      ?   \n",
       "1        149190     55629189        Caucasian  Female  [10-20)      ?   \n",
       "2         64410     86047875  AfricanAmerican  Female  [20-30)      ?   \n",
       "3        500364     82442376        Caucasian    Male  [30-40)      ?   \n",
       "4         16680     42519267        Caucasian    Male  [40-50)      ?   \n",
       "\n",
       "   admission_type_id  discharge_disposition_id  admission_source_id  \\\n",
       "0                  6                        25                    1   \n",
       "1                  1                         1                    7   \n",
       "2                  1                         1                    7   \n",
       "3                  1                         1                    7   \n",
       "4                  1                         1                    7   \n",
       "\n",
       "   time_in_hospital  ... citoglipton insulin  glyburide-metformin  \\\n",
       "0                 1  ...          No      No                   No   \n",
       "1                 3  ...          No      Up                   No   \n",
       "2                 2  ...          No      No                   No   \n",
       "3                 2  ...          No      Up                   No   \n",
       "4                 1  ...          No  Steady                   No   \n",
       "\n",
       "   glipizide-metformin  glimepiride-pioglitazone  metformin-rosiglitazone  \\\n",
       "0                   No                        No                       No   \n",
       "1                   No                        No                       No   \n",
       "2                   No                        No                       No   \n",
       "3                   No                        No                       No   \n",
       "4                   No                        No                       No   \n",
       "\n",
       "   metformin-pioglitazone  change diabetesMed readmitted  \n",
       "0                      No      No          No         NO  \n",
       "1                      No      Ch         Yes        >30  \n",
       "2                      No      No         Yes         NO  \n",
       "3                      No      Ch         Yes         NO  \n",
       "4                      No      Ch         Yes         NO  \n",
       "\n",
       "[5 rows x 50 columns]"
      ]
     },
     "execution_count": 3,
     "metadata": {},
     "output_type": "execute_result"
    }
   ],
   "source": [
    "df.head()"
   ]
  },
  {
   "cell_type": "code",
   "execution_count": 4,
   "metadata": {},
   "outputs": [
    {
     "data": {
      "text/html": [
       "<div>\n",
       "<style scoped>\n",
       "    .dataframe tbody tr th:only-of-type {\n",
       "        vertical-align: middle;\n",
       "    }\n",
       "\n",
       "    .dataframe tbody tr th {\n",
       "        vertical-align: top;\n",
       "    }\n",
       "\n",
       "    .dataframe thead th {\n",
       "        text-align: right;\n",
       "    }\n",
       "</style>\n",
       "<table border=\"1\" class=\"dataframe\">\n",
       "  <thead>\n",
       "    <tr style=\"text-align: right;\">\n",
       "      <th></th>\n",
       "      <th>encounter_id</th>\n",
       "      <th>patient_nbr</th>\n",
       "      <th>admission_type_id</th>\n",
       "      <th>discharge_disposition_id</th>\n",
       "      <th>admission_source_id</th>\n",
       "      <th>time_in_hospital</th>\n",
       "      <th>num_lab_procedures</th>\n",
       "      <th>num_procedures</th>\n",
       "      <th>num_medications</th>\n",
       "      <th>number_outpatient</th>\n",
       "      <th>number_emergency</th>\n",
       "      <th>number_inpatient</th>\n",
       "      <th>number_diagnoses</th>\n",
       "    </tr>\n",
       "  </thead>\n",
       "  <tbody>\n",
       "    <tr>\n",
       "      <td>count</td>\n",
       "      <td>1.017660e+05</td>\n",
       "      <td>1.017660e+05</td>\n",
       "      <td>101766.000000</td>\n",
       "      <td>101766.000000</td>\n",
       "      <td>101766.000000</td>\n",
       "      <td>101766.000000</td>\n",
       "      <td>101766.000000</td>\n",
       "      <td>101766.000000</td>\n",
       "      <td>101766.000000</td>\n",
       "      <td>101766.000000</td>\n",
       "      <td>101766.000000</td>\n",
       "      <td>101766.000000</td>\n",
       "      <td>101766.000000</td>\n",
       "    </tr>\n",
       "    <tr>\n",
       "      <td>mean</td>\n",
       "      <td>1.652016e+08</td>\n",
       "      <td>5.433040e+07</td>\n",
       "      <td>2.024006</td>\n",
       "      <td>3.715642</td>\n",
       "      <td>5.754437</td>\n",
       "      <td>4.395987</td>\n",
       "      <td>43.095641</td>\n",
       "      <td>1.339730</td>\n",
       "      <td>16.021844</td>\n",
       "      <td>0.369357</td>\n",
       "      <td>0.197836</td>\n",
       "      <td>0.635566</td>\n",
       "      <td>7.422607</td>\n",
       "    </tr>\n",
       "    <tr>\n",
       "      <td>std</td>\n",
       "      <td>1.026403e+08</td>\n",
       "      <td>3.869636e+07</td>\n",
       "      <td>1.445403</td>\n",
       "      <td>5.280166</td>\n",
       "      <td>4.064081</td>\n",
       "      <td>2.985108</td>\n",
       "      <td>19.674362</td>\n",
       "      <td>1.705807</td>\n",
       "      <td>8.127566</td>\n",
       "      <td>1.267265</td>\n",
       "      <td>0.930472</td>\n",
       "      <td>1.262863</td>\n",
       "      <td>1.933600</td>\n",
       "    </tr>\n",
       "    <tr>\n",
       "      <td>min</td>\n",
       "      <td>1.252200e+04</td>\n",
       "      <td>1.350000e+02</td>\n",
       "      <td>1.000000</td>\n",
       "      <td>1.000000</td>\n",
       "      <td>1.000000</td>\n",
       "      <td>1.000000</td>\n",
       "      <td>1.000000</td>\n",
       "      <td>0.000000</td>\n",
       "      <td>1.000000</td>\n",
       "      <td>0.000000</td>\n",
       "      <td>0.000000</td>\n",
       "      <td>0.000000</td>\n",
       "      <td>1.000000</td>\n",
       "    </tr>\n",
       "    <tr>\n",
       "      <td>25%</td>\n",
       "      <td>8.496119e+07</td>\n",
       "      <td>2.341322e+07</td>\n",
       "      <td>1.000000</td>\n",
       "      <td>1.000000</td>\n",
       "      <td>1.000000</td>\n",
       "      <td>2.000000</td>\n",
       "      <td>31.000000</td>\n",
       "      <td>0.000000</td>\n",
       "      <td>10.000000</td>\n",
       "      <td>0.000000</td>\n",
       "      <td>0.000000</td>\n",
       "      <td>0.000000</td>\n",
       "      <td>6.000000</td>\n",
       "    </tr>\n",
       "    <tr>\n",
       "      <td>50%</td>\n",
       "      <td>1.523890e+08</td>\n",
       "      <td>4.550514e+07</td>\n",
       "      <td>1.000000</td>\n",
       "      <td>1.000000</td>\n",
       "      <td>7.000000</td>\n",
       "      <td>4.000000</td>\n",
       "      <td>44.000000</td>\n",
       "      <td>1.000000</td>\n",
       "      <td>15.000000</td>\n",
       "      <td>0.000000</td>\n",
       "      <td>0.000000</td>\n",
       "      <td>0.000000</td>\n",
       "      <td>8.000000</td>\n",
       "    </tr>\n",
       "    <tr>\n",
       "      <td>75%</td>\n",
       "      <td>2.302709e+08</td>\n",
       "      <td>8.754595e+07</td>\n",
       "      <td>3.000000</td>\n",
       "      <td>4.000000</td>\n",
       "      <td>7.000000</td>\n",
       "      <td>6.000000</td>\n",
       "      <td>57.000000</td>\n",
       "      <td>2.000000</td>\n",
       "      <td>20.000000</td>\n",
       "      <td>0.000000</td>\n",
       "      <td>0.000000</td>\n",
       "      <td>1.000000</td>\n",
       "      <td>9.000000</td>\n",
       "    </tr>\n",
       "    <tr>\n",
       "      <td>max</td>\n",
       "      <td>4.438672e+08</td>\n",
       "      <td>1.895026e+08</td>\n",
       "      <td>8.000000</td>\n",
       "      <td>28.000000</td>\n",
       "      <td>25.000000</td>\n",
       "      <td>14.000000</td>\n",
       "      <td>132.000000</td>\n",
       "      <td>6.000000</td>\n",
       "      <td>81.000000</td>\n",
       "      <td>42.000000</td>\n",
       "      <td>76.000000</td>\n",
       "      <td>21.000000</td>\n",
       "      <td>16.000000</td>\n",
       "    </tr>\n",
       "  </tbody>\n",
       "</table>\n",
       "</div>"
      ],
      "text/plain": [
       "       encounter_id   patient_nbr  admission_type_id  \\\n",
       "count  1.017660e+05  1.017660e+05      101766.000000   \n",
       "mean   1.652016e+08  5.433040e+07           2.024006   \n",
       "std    1.026403e+08  3.869636e+07           1.445403   \n",
       "min    1.252200e+04  1.350000e+02           1.000000   \n",
       "25%    8.496119e+07  2.341322e+07           1.000000   \n",
       "50%    1.523890e+08  4.550514e+07           1.000000   \n",
       "75%    2.302709e+08  8.754595e+07           3.000000   \n",
       "max    4.438672e+08  1.895026e+08           8.000000   \n",
       "\n",
       "       discharge_disposition_id  admission_source_id  time_in_hospital  \\\n",
       "count             101766.000000        101766.000000     101766.000000   \n",
       "mean                   3.715642             5.754437          4.395987   \n",
       "std                    5.280166             4.064081          2.985108   \n",
       "min                    1.000000             1.000000          1.000000   \n",
       "25%                    1.000000             1.000000          2.000000   \n",
       "50%                    1.000000             7.000000          4.000000   \n",
       "75%                    4.000000             7.000000          6.000000   \n",
       "max                   28.000000            25.000000         14.000000   \n",
       "\n",
       "       num_lab_procedures  num_procedures  num_medications  number_outpatient  \\\n",
       "count       101766.000000   101766.000000    101766.000000      101766.000000   \n",
       "mean            43.095641        1.339730        16.021844           0.369357   \n",
       "std             19.674362        1.705807         8.127566           1.267265   \n",
       "min              1.000000        0.000000         1.000000           0.000000   \n",
       "25%             31.000000        0.000000        10.000000           0.000000   \n",
       "50%             44.000000        1.000000        15.000000           0.000000   \n",
       "75%             57.000000        2.000000        20.000000           0.000000   \n",
       "max            132.000000        6.000000        81.000000          42.000000   \n",
       "\n",
       "       number_emergency  number_inpatient  number_diagnoses  \n",
       "count     101766.000000     101766.000000     101766.000000  \n",
       "mean           0.197836          0.635566          7.422607  \n",
       "std            0.930472          1.262863          1.933600  \n",
       "min            0.000000          0.000000          1.000000  \n",
       "25%            0.000000          0.000000          6.000000  \n",
       "50%            0.000000          0.000000          8.000000  \n",
       "75%            0.000000          1.000000          9.000000  \n",
       "max           76.000000         21.000000         16.000000  "
      ]
     },
     "execution_count": 4,
     "metadata": {},
     "output_type": "execute_result"
    }
   ],
   "source": [
    "df.describe()"
   ]
  },
  {
   "cell_type": "code",
   "execution_count": 5,
   "metadata": {},
   "outputs": [
    {
     "data": {
      "text/plain": [
       "(101766, 50)"
      ]
     },
     "execution_count": 5,
     "metadata": {},
     "output_type": "execute_result"
    }
   ],
   "source": [
    "df.shape"
   ]
  },
  {
   "cell_type": "code",
   "execution_count": null,
   "metadata": {
    "scrolled": true
   },
   "outputs": [],
   "source": [
    "import pandas_profiling\n",
    "profile=pandas_profiling.ProfileReport(df)"
   ]
  },
  {
   "cell_type": "code",
   "execution_count": null,
   "metadata": {},
   "outputs": [],
   "source": [
    "profile.to_file(\"profile_report.html\")"
   ]
  },
  {
   "cell_type": "code",
   "execution_count": null,
   "metadata": {
    "scrolled": true
   },
   "outputs": [],
   "source": [
    "profile"
   ]
  },
  {
   "cell_type": "code",
   "execution_count": 6,
   "metadata": {
    "scrolled": true
   },
   "outputs": [
    {
     "data": {
      "text/plain": [
       "encounter_id                0\n",
       "patient_nbr                 0\n",
       "race                        0\n",
       "gender                      0\n",
       "age                         0\n",
       "weight                      0\n",
       "admission_type_id           0\n",
       "discharge_disposition_id    0\n",
       "admission_source_id         0\n",
       "time_in_hospital            0\n",
       "payer_code                  0\n",
       "medical_specialty           0\n",
       "num_lab_procedures          0\n",
       "num_procedures              0\n",
       "num_medications             0\n",
       "number_outpatient           0\n",
       "number_emergency            0\n",
       "number_inpatient            0\n",
       "diag_1                      0\n",
       "diag_2                      0\n",
       "diag_3                      0\n",
       "number_diagnoses            0\n",
       "max_glu_serum               0\n",
       "A1Cresult                   0\n",
       "metformin                   0\n",
       "repaglinide                 0\n",
       "nateglinide                 0\n",
       "chlorpropamide              0\n",
       "glimepiride                 0\n",
       "acetohexamide               0\n",
       "glipizide                   0\n",
       "glyburide                   0\n",
       "tolbutamide                 0\n",
       "pioglitazone                0\n",
       "rosiglitazone               0\n",
       "acarbose                    0\n",
       "miglitol                    0\n",
       "troglitazone                0\n",
       "tolazamide                  0\n",
       "examide                     0\n",
       "citoglipton                 0\n",
       "insulin                     0\n",
       "glyburide-metformin         0\n",
       "glipizide-metformin         0\n",
       "glimepiride-pioglitazone    0\n",
       "metformin-rosiglitazone     0\n",
       "metformin-pioglitazone      0\n",
       "change                      0\n",
       "diabetesMed                 0\n",
       "readmitted                  0\n",
       "dtype: int64"
      ]
     },
     "execution_count": 6,
     "metadata": {},
     "output_type": "execute_result"
    }
   ],
   "source": [
    "#check for any missing values\n",
    "df.isnull().sum()"
   ]
  },
  {
   "cell_type": "code",
   "execution_count": 7,
   "metadata": {
    "scrolled": true
   },
   "outputs": [
    {
     "name": "stdout",
     "output_type": "stream",
     "text": [
      "race 2273\n",
      "gender 0\n",
      "age 0\n",
      "weight 98569\n",
      "payer_code 40256\n",
      "medical_specialty 49949\n",
      "diag_1 21\n",
      "diag_2 358\n",
      "diag_3 1423\n",
      "max_glu_serum 0\n",
      "A1Cresult 0\n",
      "metformin 0\n",
      "repaglinide 0\n",
      "nateglinide 0\n",
      "chlorpropamide 0\n",
      "glimepiride 0\n",
      "acetohexamide 0\n",
      "glipizide 0\n",
      "glyburide 0\n",
      "tolbutamide 0\n",
      "pioglitazone 0\n",
      "rosiglitazone 0\n",
      "acarbose 0\n",
      "miglitol 0\n",
      "troglitazone 0\n",
      "tolazamide 0\n",
      "examide 0\n",
      "citoglipton 0\n",
      "insulin 0\n",
      "glyburide-metformin 0\n",
      "glipizide-metformin 0\n",
      "glimepiride-pioglitazone 0\n",
      "metformin-rosiglitazone 0\n",
      "metformin-pioglitazone 0\n",
      "change 0\n",
      "diabetesMed 0\n",
      "readmitted 0\n"
     ]
    }
   ],
   "source": [
    "# checking for missing values represented as '?' sign\n",
    "for col in df.columns:\n",
    "    if df[col].dtype == object:\n",
    "         print(col,df[col][df[col] == '?'].count())"
   ]
  },
  {
   "cell_type": "code",
   "execution_count": 8,
   "metadata": {},
   "outputs": [
    {
     "name": "stdout",
     "output_type": "stream",
     "text": [
      "Missing values in weight: 96.85553131694279 %\n",
      "Missing values in medical specialty: 49.08024291020577 %\n",
      "Missing values in diag_1: 0.02063557573256294 %\n",
      "Missing values in diag_2: 0.3517874339170253 %\n",
      "Missing values in diag_3: 1.398305917497003 %\n"
     ]
    }
   ],
   "source": [
    "print('Missing values in weight:',(98566/df.shape[0]* 100), \"%\")\n",
    "print('Missing values in medical specialty:', (49947/df.shape[0]*100), \"%\")\n",
    "print('Missing values in diag_1:',(21/df.shape[0]* 100), \"%\")\n",
    "print('Missing values in diag_2:', (358/df.shape[0]*100), \"%\")\n",
    "print('Missing values in diag_3:', (1423/df.shape[0]*100), \"%\")"
   ]
  },
  {
   "cell_type": "code",
   "execution_count": 9,
   "metadata": {},
   "outputs": [
    {
     "data": {
      "text/plain": [
       "Index(['encounter_id', 'patient_nbr', 'race', 'gender', 'age', 'weight',\n",
       "       'admission_type_id', 'discharge_disposition_id', 'admission_source_id',\n",
       "       'time_in_hospital', 'payer_code', 'medical_specialty',\n",
       "       'num_lab_procedures', 'num_procedures', 'num_medications',\n",
       "       'number_outpatient', 'number_emergency', 'number_inpatient', 'diag_1',\n",
       "       'diag_2', 'diag_3', 'number_diagnoses', 'max_glu_serum', 'A1Cresult',\n",
       "       'metformin', 'repaglinide', 'nateglinide', 'chlorpropamide',\n",
       "       'glimepiride', 'acetohexamide', 'glipizide', 'glyburide', 'tolbutamide',\n",
       "       'pioglitazone', 'rosiglitazone', 'acarbose', 'miglitol', 'troglitazone',\n",
       "       'tolazamide', 'examide', 'citoglipton', 'insulin',\n",
       "       'glyburide-metformin', 'glipizide-metformin',\n",
       "       'glimepiride-pioglitazone', 'metformin-rosiglitazone',\n",
       "       'metformin-pioglitazone', 'change', 'diabetesMed', 'readmitted'],\n",
       "      dtype='object')"
      ]
     },
     "execution_count": 9,
     "metadata": {},
     "output_type": "execute_result"
    }
   ],
   "source": [
    "df.columns"
   ]
  },
  {
   "cell_type": "code",
   "execution_count": 10,
   "metadata": {},
   "outputs": [],
   "source": [
    "# will drop weight and medical specialty - many missing values\n",
    "# not interested in payer code so will drop that - also has many missing values\n",
    "# dropping id columns\n",
    "drop_col = ['weight', 'medical_specialty', 'payer_code', 'encounter_id', 'patient_nbr','admission_source_id']\n",
    "df.drop(drop_col, axis = 1, inplace = True)"
   ]
  },
  {
   "cell_type": "code",
   "execution_count": 11,
   "metadata": {},
   "outputs": [],
   "source": [
    "# removing rows with missing info ('?') in diag's\n",
    "df['diag_1'] = df.loc[:,('diag_1')].replace('?', np.NaN)\n",
    "df['diag_2'] = df.loc[:,('diag_2')].replace('?', np.NaN)\n",
    "df['diag_3'] = df.loc[:,('diag_3')].replace('?', np.NaN)\n",
    "\n",
    "df=df.dropna()"
   ]
  },
  {
   "cell_type": "code",
   "execution_count": 12,
   "metadata": {},
   "outputs": [],
   "source": [
    "# simplifying the target variable 'readmitted' to either yes (1) or no (0)\n",
    "df['readmitted'] = df.loc[:,('readmitted')].replace('NO', 0)\n",
    "df['readmitted'] = df.loc[:,('readmitted')].replace(['>30','<30'], 1)"
   ]
  },
  {
   "cell_type": "code",
   "execution_count": 13,
   "metadata": {
    "scrolled": true
   },
   "outputs": [
    {
     "data": {
      "text/plain": [
       "Text(0.5,1,'Total number of patients readmitted (1) vs. not readmitted (0)')"
      ]
     },
     "execution_count": 13,
     "metadata": {},
     "output_type": "execute_result"
    },
    {
     "data": {
      "image/png": "[encoded data removed]",
      "text/plain": [
       "<Figure size 432x288 with 1 Axes>"
      ]
     },
     "metadata": {
      "needs_background": "light"
     },
     "output_type": "display_data"
    }
   ],
   "source": [
    "# plotting total count of readmitted patients and not readmitted\n",
    "ax = sns.countplot(x=\"readmitted\", data=df, palette=\"pastel\")\n",
    "plt.title('Total number of patients readmitted (1) vs. not readmitted (0)')"
   ]
  },
  {
   "cell_type": "code",
   "execution_count": 14,
   "metadata": {},
   "outputs": [
    {
     "data": {
      "text/plain": [
       "Female             53922\n",
       "Male               46319\n",
       "Unknown/Invalid        3\n",
       "Name: gender, dtype: int64"
      ]
     },
     "execution_count": 14,
     "metadata": {},
     "output_type": "execute_result"
    }
   ],
   "source": [
    "df.gender.value_counts()"
   ]
  },
  {
   "cell_type": "code",
   "execution_count": 15,
   "metadata": {},
   "outputs": [],
   "source": [
    "# dropping the Unknown/Invalid in gender column\n",
    "df = df[~df['gender'].str.contains('Unknown/Invalid')]"
   ]
  },
  {
   "cell_type": "code",
   "execution_count": 16,
   "metadata": {},
   "outputs": [
    {
     "data": {
      "text/html": [
       "        <script type=\"text/javascript\">\n",
       "        window.PlotlyConfig = {MathJaxConfig: 'local'};\n",
       "        if (window.MathJax) {MathJax.Hub.Config({SVG: {font: \"STIX-Web\"}});}\n",
       "        if (typeof require !== 'undefined') {\n",
       "        require.undef(\"plotly\");\n",
       "        requirejs.config({\n",
       "            paths: {\n",
       "                'plotly': ['https://cdn.plot.ly/plotly-latest.min']\n",
       "            }\n",
       "        });\n",
       "        require(['plotly'], function(Plotly) {\n",
       "            window._Plotly = Plotly;\n",
       "        });\n",
       "        }\n",
       "        </script>\n",
       "        "
      ]
     },
     "metadata": {},
     "output_type": "display_data"
    },
    {
     "data": {
      "application/vnd.plotly.v1+json": {
       "config": {
        "linkText": "Export to plot.ly",
        "plotlyServerURL": "https://plot.ly",
        "showLink": false
       },
       "data": [
        {
         "labels": [
          "Female",
          "Male"
         ],
         "pull": [
          0.05,
          0
         ],
         "type": "pie",
         "values": [
          53922,
          46319
         ]
        }
       ],
       "layout": {
        "template": {
         "data": {
          "bar": [
           {
            "error_x": {
             "color": "#2a3f5f"
            },
            "error_y": {
             "color": "#2a3f5f"
            },
            "marker": {
             "line": {
              "color": "#E5ECF6",
              "width": 0.5
             }
            },
            "type": "bar"
           }
          ],
          "barpolar": [
           {
            "marker": {
             "line": {
              "color": "#E5ECF6",
              "width": 0.5
             }
            },
            "type": "barpolar"
           }
          ],
          "carpet": [
           {
            "aaxis": {
             "endlinecolor": "#2a3f5f",
             "gridcolor": "white",
             "linecolor": "white",
             "minorgridcolor": "white",
             "startlinecolor": "#2a3f5f"
            },
            "baxis": {
             "endlinecolor": "#2a3f5f",
             "gridcolor": "white",
             "linecolor": "white",
             "minorgridcolor": "white",
             "startlinecolor": "#2a3f5f"
            },
            "type": "carpet"
           }
          ],
          "choropleth": [
           {
            "colorbar": {
             "outlinewidth": 0,
             "ticks": ""
            },
            "type": "choropleth"
           }
          ],
          "contour": [
           {
            "colorbar": {
             "outlinewidth": 0,
             "ticks": ""
            },
            "colorscale": [
             [
              0,
              "#0d0887"
             ],
             [
              0.1111111111111111,
              "#46039f"
             ],
             [
              0.2222222222222222,
              "#7201a8"
             ],
             [
              0.3333333333333333,
              "#9c179e"
             ],
             [
              0.4444444444444444,
              "#bd3786"
             ],
             [
              0.5555555555555556,
              "#d8576b"
             ],
             [
              0.6666666666666666,
              "#ed7953"
             ],
             [
              0.7777777777777778,
              "#fb9f3a"
             ],
             [
              0.8888888888888888,
              "#fdca26"
             ],
             [
              1,
              "#f0f921"
             ]
            ],
            "type": "contour"
           }
          ],
          "contourcarpet": [
           {
            "colorbar": {
             "outlinewidth": 0,
             "ticks": ""
            },
            "type": "contourcarpet"
           }
          ],
          "heatmap": [
           {
            "colorbar": {
             "outlinewidth": 0,
             "ticks": ""
            },
            "colorscale": [
             [
              0,
              "#0d0887"
             ],
             [
              0.1111111111111111,
              "#46039f"
             ],
             [
              0.2222222222222222,
              "#7201a8"
             ],
             [
              0.3333333333333333,
              "#9c179e"
             ],
             [
              0.4444444444444444,
              "#bd3786"
             ],
             [
              0.5555555555555556,
              "#d8576b"
             ],
             [
              0.6666666666666666,
              "#ed7953"
             ],
             [
              0.7777777777777778,
              "#fb9f3a"
             ],
             [
              0.8888888888888888,
              "#fdca26"
             ],
             [
              1,
              "#f0f921"
             ]
            ],
            "type": "heatmap"
           }
          ],
          "heatmapgl": [
           {
            "colorbar": {
             "outlinewidth": 0,
             "ticks": ""
            },
            "colorscale": [
             [
              0,
              "#0d0887"
             ],
             [
              0.1111111111111111,
              "#46039f"
             ],
             [
              0.2222222222222222,
              "#7201a8"
             ],
             [
              0.3333333333333333,
              "#9c179e"
             ],
             [
              0.4444444444444444,
              "#bd3786"
             ],
             [
              0.5555555555555556,
              "#d8576b"
             ],
             [
              0.6666666666666666,
              "#ed7953"
             ],
             [
              0.7777777777777778,
              "#fb9f3a"
             ],
             [
              0.8888888888888888,
              "#fdca26"
             ],
             [
              1,
              "#f0f921"
             ]
            ],
            "type": "heatmapgl"
           }
          ],
          "histogram": [
           {
            "marker": {
             "colorbar": {
              "outlinewidth": 0,
              "ticks": ""
             }
            },
            "type": "histogram"
           }
          ],
          "histogram2d": [
           {
            "colorbar": {
             "outlinewidth": 0,
             "ticks": ""
            },
            "colorscale": [
             [
              0,
              "#0d0887"
             ],
             [
              0.1111111111111111,
              "#46039f"
             ],
             [
              0.2222222222222222,
              "#7201a8"
             ],
             [
              0.3333333333333333,
              "#9c179e"
             ],
             [
              0.4444444444444444,
              "#bd3786"
             ],
             [
              0.5555555555555556,
              "#d8576b"
             ],
             [
              0.6666666666666666,
              "#ed7953"
             ],
             [
              0.7777777777777778,
              "#fb9f3a"
             ],
             [
              0.8888888888888888,
              "#fdca26"
             ],
             [
              1,
              "#f0f921"
             ]
            ],
            "type": "histogram2d"
           }
          ],
          "histogram2dcontour": [
           {
            "colorbar": {
             "outlinewidth": 0,
             "ticks": ""
            },
            "colorscale": [
             [
              0,
              "#0d0887"
             ],
             [
              0.1111111111111111,
              "#46039f"
             ],
             [
              0.2222222222222222,
              "#7201a8"
             ],
             [
              0.3333333333333333,
              "#9c179e"
             ],
             [
              0.4444444444444444,
              "#bd3786"
             ],
             [
              0.5555555555555556,
              "#d8576b"
             ],
             [
              0.6666666666666666,
              "#ed7953"
             ],
             [
              0.7777777777777778,
              "#fb9f3a"
             ],
             [
              0.8888888888888888,
              "#fdca26"
             ],
             [
              1,
              "#f0f921"
             ]
            ],
            "type": "histogram2dcontour"
           }
          ],
          "mesh3d": [
           {
            "colorbar": {
             "outlinewidth": 0,
             "ticks": ""
            },
            "type": "mesh3d"
           }
          ],
          "parcoords": [
           {
            "line": {
             "colorbar": {
              "outlinewidth": 0,
              "ticks": ""
             }
            },
            "type": "parcoords"
           }
          ],
          "pie": [
           {
            "automargin": true,
            "type": "pie"
           }
          ],
          "scatter": [
           {
            "marker": {
             "colorbar": {
              "outlinewidth": 0,
              "ticks": ""
             }
            },
            "type": "scatter"
           }
          ],
          "scatter3d": [
           {
            "line": {
             "colorbar": {
              "outlinewidth": 0,
              "ticks": ""
             }
            },
            "marker": {
             "colorbar": {
              "outlinewidth": 0,
              "ticks": ""
             }
            },
            "type": "scatter3d"
           }
          ],
          "scattercarpet": [
           {
            "marker": {
             "colorbar": {
              "outlinewidth": 0,
              "ticks": ""
             }
            },
            "type": "scattercarpet"
           }
          ],
          "scattergeo": [
           {
            "marker": {
             "colorbar": {
              "outlinewidth": 0,
              "ticks": ""
             }
            },
            "type": "scattergeo"
           }
          ],
          "scattergl": [
           {
            "marker": {
             "colorbar": {
              "outlinewidth": 0,
              "ticks": ""
             }
            },
            "type": "scattergl"
           }
          ],
          "scattermapbox": [
           {
            "marker": {
             "colorbar": {
              "outlinewidth": 0,
              "ticks": ""
             }
            },
            "type": "scattermapbox"
           }
          ],
          "scatterpolar": [
           {
            "marker": {
             "colorbar": {
              "outlinewidth": 0,
              "ticks": ""
             }
            },
            "type": "scatterpolar"
           }
          ],
          "scatterpolargl": [
           {
            "marker": {
             "colorbar": {
              "outlinewidth": 0,
              "ticks": ""
             }
            },
            "type": "scatterpolargl"
           }
          ],
          "scatterternary": [
           {
            "marker": {
             "colorbar": {
              "outlinewidth": 0,
              "ticks": ""
             }
            },
            "type": "scatterternary"
           }
          ],
          "surface": [
           {
            "colorbar": {
             "outlinewidth": 0,
             "ticks": ""
            },
            "colorscale": [
             [
              0,
              "#0d0887"
             ],
             [
              0.1111111111111111,
              "#46039f"
             ],
             [
              0.2222222222222222,
              "#7201a8"
             ],
             [
              0.3333333333333333,
              "#9c179e"
             ],
             [
              0.4444444444444444,
              "#bd3786"
             ],
             [
              0.5555555555555556,
              "#d8576b"
             ],
             [
              0.6666666666666666,
              "#ed7953"
             ],
             [
              0.7777777777777778,
              "#fb9f3a"
             ],
             [
              0.8888888888888888,
              "#fdca26"
             ],
             [
              1,
              "#f0f921"
             ]
            ],
            "type": "surface"
           }
          ],
          "table": [
           {
            "cells": {
             "fill": {
              "color": "#EBF0F8"
             },
             "line": {
              "color": "white"
             }
            },
            "header": {
             "fill": {
              "color": "#C8D4E3"
             },
             "line": {
              "color": "white"
             }
            },
            "type": "table"
           }
          ]
         },
         "layout": {
          "annotationdefaults": {
           "arrowcolor": "#2a3f5f",
           "arrowhead": 0,
           "arrowwidth": 1
          },
          "coloraxis": {
           "colorbar": {
            "outlinewidth": 0,
            "ticks": ""
           }
          },
          "colorscale": {
           "diverging": [
            [
             0,
             "#8e0152"
            ],
            [
             0.1,
             "#c51b7d"
            ],
            [
             0.2,
             "#de77ae"
            ],
            [
             0.3,
             "#f1b6da"
            ],
            [
             0.4,
             "#fde0ef"
            ],
            [
             0.5,
             "#f7f7f7"
            ],
            [
             0.6,
             "#e6f5d0"
            ],
            [
             0.7,
             "#b8e186"
            ],
            [
             0.8,
             "#7fbc41"
            ],
            [
             0.9,
             "#4d9221"
            ],
            [
             1,
             "#276419"
            ]
           ],
           "sequential": [
            [
             0,
             "#0d0887"
            ],
            [
             0.1111111111111111,
             "#46039f"
            ],
            [
             0.2222222222222222,
             "#7201a8"
            ],
            [
             0.3333333333333333,
             "#9c179e"
            ],
            [
             0.4444444444444444,
             "#bd3786"
            ],
            [
             0.5555555555555556,
             "#d8576b"
            ],
            [
             0.6666666666666666,
             "#ed7953"
            ],
            [
             0.7777777777777778,
             "#fb9f3a"
            ],
            [
             0.8888888888888888,
             "#fdca26"
            ],
            [
             1,
             "#f0f921"
            ]
           ],
           "sequentialminus": [
            [
             0,
             "#0d0887"
            ],
            [
             0.1111111111111111,
             "#46039f"
            ],
            [
             0.2222222222222222,
             "#7201a8"
            ],
            [
             0.3333333333333333,
             "#9c179e"
            ],
            [
             0.4444444444444444,
             "#bd3786"
            ],
            [
             0.5555555555555556,
             "#d8576b"
            ],
            [
             0.6666666666666666,
             "#ed7953"
            ],
            [
             0.7777777777777778,
             "#fb9f3a"
            ],
            [
             0.8888888888888888,
             "#fdca26"
            ],
            [
             1,
             "#f0f921"
            ]
           ]
          },
          "colorway": [
           "#636efa",
           "#EF553B",
           "#00cc96",
           "#ab63fa",
           "#FFA15A",
           "#19d3f3",
           "#FF6692",
           "#B6E880",
           "#FF97FF",
           "#FECB52"
          ],
          "font": {
           "color": "#2a3f5f"
          },
          "geo": {
           "bgcolor": "white",
           "lakecolor": "white",
           "landcolor": "#E5ECF6",
           "showlakes": true,
           "showland": true,
           "subunitcolor": "white"
          },
          "hoverlabel": {
           "align": "left"
          },
          "hovermode": "closest",
          "mapbox": {
           "style": "light"
          },
          "paper_bgcolor": "white",
          "plot_bgcolor": "#E5ECF6",
          "polar": {
           "angularaxis": {
            "gridcolor": "white",
            "linecolor": "white",
            "ticks": ""
           },
           "bgcolor": "#E5ECF6",
           "radialaxis": {
            "gridcolor": "white",
            "linecolor": "white",
            "ticks": ""
           }
          },
          "scene": {
           "xaxis": {
            "backgroundcolor": "#E5ECF6",
            "gridcolor": "white",
            "gridwidth": 2,
            "linecolor": "white",
            "showbackground": true,
            "ticks": "",
            "zerolinecolor": "white"
           },
           "yaxis": {
            "backgroundcolor": "#E5ECF6",
            "gridcolor": "white",
            "gridwidth": 2,
            "linecolor": "white",
            "showbackground": true,
            "ticks": "",
            "zerolinecolor": "white"
           },
           "zaxis": {
            "backgroundcolor": "#E5ECF6",
            "gridcolor": "white",
            "gridwidth": 2,
            "linecolor": "white",
            "showbackground": true,
            "ticks": "",
            "zerolinecolor": "white"
           }
          },
          "shapedefaults": {
           "line": {
            "color": "#2a3f5f"
           }
          },
          "ternary": {
           "aaxis": {
            "gridcolor": "white",
            "linecolor": "white",
            "ticks": ""
           },
           "baxis": {
            "gridcolor": "white",
            "linecolor": "white",
            "ticks": ""
           },
           "bgcolor": "#E5ECF6",
           "caxis": {
            "gridcolor": "white",
            "linecolor": "white",
            "ticks": ""
           }
          },
          "title": {
           "x": 0.05
          },
          "xaxis": {
           "automargin": true,
           "gridcolor": "white",
           "linecolor": "white",
           "ticks": "",
           "title": {
            "standoff": 15
           },
           "zerolinecolor": "white",
           "zerolinewidth": 2
          },
          "yaxis": {
           "automargin": true,
           "gridcolor": "white",
           "linecolor": "white",
           "ticks": "",
           "title": {
            "standoff": 15
           },
           "zerolinecolor": "white",
           "zerolinewidth": 2
          }
         }
        },
        "title": {
         "text": "Total Count Males v. Females"
        }
       }
      },
      "text/html": [
       "<div>\n",
       "        \n",
       "        \n",
       "            <div id=\"a6c63832-be44-49d7-9b54-41a24617062f\" class=\"plotly-graph-div\" style=\"height:525px; width:100%;\"></div>\n",
       "            <script type=\"text/javascript\">\n",
       "                require([\"plotly\"], function(Plotly) {\n",
       "                    window.PLOTLYENV=window.PLOTLYENV || {};\n",
       "                    \n",
       "                if (document.getElementById(\"a6c63832-be44-49d7-9b54-41a24617062f\")) {\n",
       "                    Plotly.newPlot(\n",
       "                        'a6c63832-be44-49d7-9b54-41a24617062f',\n",
       "                        [{\"labels\": [\"Female\", \"Male\"], \"pull\": [0.05, 0], \"type\": \"pie\", \"values\": [53922, 46319]}],\n",
       "                        {\"template\": {\"data\": {\"bar\": [{\"error_x\": {\"color\": \"#2a3f5f\"}, \"error_y\": {\"color\": \"#2a3f5f\"}, \"marker\": {\"line\": {\"color\": \"#E5ECF6\", \"width\": 0.5}}, \"type\": \"bar\"}], \"barpolar\": [{\"marker\": {\"line\": {\"color\": \"#E5ECF6\", \"width\": 0.5}}, \"type\": \"barpolar\"}], \"carpet\": [{\"aaxis\": {\"endlinecolor\": \"#2a3f5f\", \"gridcolor\": \"white\", \"linecolor\": \"white\", \"minorgridcolor\": \"white\", \"startlinecolor\": \"#2a3f5f\"}, \"baxis\": {\"endlinecolor\": \"#2a3f5f\", \"gridcolor\": \"white\", \"linecolor\": \"white\", \"minorgridcolor\": \"white\", \"startlinecolor\": \"#2a3f5f\"}, \"type\": \"carpet\"}], \"choropleth\": [{\"colorbar\": {\"outlinewidth\": 0, \"ticks\": \"\"}, \"type\": \"choropleth\"}], \"contour\": [{\"colorbar\": {\"outlinewidth\": 0, \"ticks\": \"\"}, \"colorscale\": [[0.0, \"#0d0887\"], [0.1111111111111111, \"#46039f\"], [0.2222222222222222, \"#7201a8\"], [0.3333333333333333, \"#9c179e\"], [0.4444444444444444, \"#bd3786\"], [0.5555555555555556, \"#d8576b\"], [0.6666666666666666, \"#ed7953\"], [0.7777777777777778, \"#fb9f3a\"], [0.8888888888888888, \"#fdca26\"], [1.0, \"#f0f921\"]], \"type\": \"contour\"}], \"contourcarpet\": [{\"colorbar\": {\"outlinewidth\": 0, \"ticks\": \"\"}, \"type\": \"contourcarpet\"}], \"heatmap\": [{\"colorbar\": {\"outlinewidth\": 0, \"ticks\": \"\"}, \"colorscale\": [[0.0, \"#0d0887\"], [0.1111111111111111, \"#46039f\"], [0.2222222222222222, \"#7201a8\"], [0.3333333333333333, \"#9c179e\"], [0.4444444444444444, \"#bd3786\"], [0.5555555555555556, \"#d8576b\"], [0.6666666666666666, \"#ed7953\"], [0.7777777777777778, \"#fb9f3a\"], [0.8888888888888888, \"#fdca26\"], [1.0, \"#f0f921\"]], \"type\": \"heatmap\"}], \"heatmapgl\": [{\"colorbar\": {\"outlinewidth\": 0, \"ticks\": \"\"}, \"colorscale\": [[0.0, \"#0d0887\"], [0.1111111111111111, \"#46039f\"], [0.2222222222222222, \"#7201a8\"], [0.3333333333333333, \"#9c179e\"], [0.4444444444444444, \"#bd3786\"], [0.5555555555555556, \"#d8576b\"], [0.6666666666666666, \"#ed7953\"], [0.7777777777777778, \"#fb9f3a\"], [0.8888888888888888, \"#fdca26\"], [1.0, \"#f0f921\"]], \"type\": \"heatmapgl\"}], \"histogram\": [{\"marker\": {\"colorbar\": {\"outlinewidth\": 0, \"ticks\": \"\"}}, \"type\": \"histogram\"}], \"histogram2d\": [{\"colorbar\": {\"outlinewidth\": 0, \"ticks\": \"\"}, \"colorscale\": [[0.0, \"#0d0887\"], [0.1111111111111111, \"#46039f\"], [0.2222222222222222, \"#7201a8\"], [0.3333333333333333, \"#9c179e\"], [0.4444444444444444, \"#bd3786\"], [0.5555555555555556, \"#d8576b\"], [0.6666666666666666, \"#ed7953\"], [0.7777777777777778, \"#fb9f3a\"], [0.8888888888888888, \"#fdca26\"], [1.0, \"#f0f921\"]], \"type\": \"histogram2d\"}], \"histogram2dcontour\": [{\"colorbar\": {\"outlinewidth\": 0, \"ticks\": \"\"}, \"colorscale\": [[0.0, \"#0d0887\"], [0.1111111111111111, \"#46039f\"], [0.2222222222222222, \"#7201a8\"], [0.3333333333333333, \"#9c179e\"], [0.4444444444444444, \"#bd3786\"], [0.5555555555555556, \"#d8576b\"], [0.6666666666666666, \"#ed7953\"], [0.7777777777777778, \"#fb9f3a\"], [0.8888888888888888, \"#fdca26\"], [1.0, \"#f0f921\"]], \"type\": \"histogram2dcontour\"}], \"mesh3d\": [{\"colorbar\": {\"outlinewidth\": 0, \"ticks\": \"\"}, \"type\": \"mesh3d\"}], \"parcoords\": [{\"line\": {\"colorbar\": {\"outlinewidth\": 0, \"ticks\": \"\"}}, \"type\": \"parcoords\"}], \"pie\": [{\"automargin\": true, \"type\": \"pie\"}], \"scatter\": [{\"marker\": {\"colorbar\": {\"outlinewidth\": 0, \"ticks\": \"\"}}, \"type\": \"scatter\"}], \"scatter3d\": [{\"line\": {\"colorbar\": {\"outlinewidth\": 0, \"ticks\": \"\"}}, \"marker\": {\"colorbar\": {\"outlinewidth\": 0, \"ticks\": \"\"}}, \"type\": \"scatter3d\"}], \"scattercarpet\": [{\"marker\": {\"colorbar\": {\"outlinewidth\": 0, \"ticks\": \"\"}}, \"type\": \"scattercarpet\"}], \"scattergeo\": [{\"marker\": {\"colorbar\": {\"outlinewidth\": 0, \"ticks\": \"\"}}, \"type\": \"scattergeo\"}], \"scattergl\": [{\"marker\": {\"colorbar\": {\"outlinewidth\": 0, \"ticks\": \"\"}}, \"type\": \"scattergl\"}], \"scattermapbox\": [{\"marker\": {\"colorbar\": {\"outlinewidth\": 0, \"ticks\": \"\"}}, \"type\": \"scattermapbox\"}], \"scatterpolar\": [{\"marker\": {\"colorbar\": {\"outlinewidth\": 0, \"ticks\": \"\"}}, \"type\": \"scatterpolar\"}], \"scatterpolargl\": [{\"marker\": {\"colorbar\": {\"outlinewidth\": 0, \"ticks\": \"\"}}, \"type\": \"scatterpolargl\"}], \"scatterternary\": [{\"marker\": {\"colorbar\": {\"outlinewidth\": 0, \"ticks\": \"\"}}, \"type\": \"scatterternary\"}], \"surface\": [{\"colorbar\": {\"outlinewidth\": 0, \"ticks\": \"\"}, \"colorscale\": [[0.0, \"#0d0887\"], [0.1111111111111111, \"#46039f\"], [0.2222222222222222, \"#7201a8\"], [0.3333333333333333, \"#9c179e\"], [0.4444444444444444, \"#bd3786\"], [0.5555555555555556, \"#d8576b\"], [0.6666666666666666, \"#ed7953\"], [0.7777777777777778, \"#fb9f3a\"], [0.8888888888888888, \"#fdca26\"], [1.0, \"#f0f921\"]], \"type\": \"surface\"}], \"table\": [{\"cells\": {\"fill\": {\"color\": \"#EBF0F8\"}, \"line\": {\"color\": \"white\"}}, \"header\": {\"fill\": {\"color\": \"#C8D4E3\"}, \"line\": {\"color\": \"white\"}}, \"type\": \"table\"}]}, \"layout\": {\"annotationdefaults\": {\"arrowcolor\": \"#2a3f5f\", \"arrowhead\": 0, \"arrowwidth\": 1}, \"coloraxis\": {\"colorbar\": {\"outlinewidth\": 0, \"ticks\": \"\"}}, \"colorscale\": {\"diverging\": [[0, \"#8e0152\"], [0.1, \"#c51b7d\"], [0.2, \"#de77ae\"], [0.3, \"#f1b6da\"], [0.4, \"#fde0ef\"], [0.5, \"#f7f7f7\"], [0.6, \"#e6f5d0\"], [0.7, \"#b8e186\"], [0.8, \"#7fbc41\"], [0.9, \"#4d9221\"], [1, \"#276419\"]], \"sequential\": [[0.0, \"#0d0887\"], [0.1111111111111111, \"#46039f\"], [0.2222222222222222, \"#7201a8\"], [0.3333333333333333, \"#9c179e\"], [0.4444444444444444, \"#bd3786\"], [0.5555555555555556, \"#d8576b\"], [0.6666666666666666, \"#ed7953\"], [0.7777777777777778, \"#fb9f3a\"], [0.8888888888888888, \"#fdca26\"], [1.0, \"#f0f921\"]], \"sequentialminus\": [[0.0, \"#0d0887\"], [0.1111111111111111, \"#46039f\"], [0.2222222222222222, \"#7201a8\"], [0.3333333333333333, \"#9c179e\"], [0.4444444444444444, \"#bd3786\"], [0.5555555555555556, \"#d8576b\"], [0.6666666666666666, \"#ed7953\"], [0.7777777777777778, \"#fb9f3a\"], [0.8888888888888888, \"#fdca26\"], [1.0, \"#f0f921\"]]}, \"colorway\": [\"#636efa\", \"#EF553B\", \"#00cc96\", \"#ab63fa\", \"#FFA15A\", \"#19d3f3\", \"#FF6692\", \"#B6E880\", \"#FF97FF\", \"#FECB52\"], \"font\": {\"color\": \"#2a3f5f\"}, \"geo\": {\"bgcolor\": \"white\", \"lakecolor\": \"white\", \"landcolor\": \"#E5ECF6\", \"showlakes\": true, \"showland\": true, \"subunitcolor\": \"white\"}, \"hoverlabel\": {\"align\": \"left\"}, \"hovermode\": \"closest\", \"mapbox\": {\"style\": \"light\"}, \"paper_bgcolor\": \"white\", \"plot_bgcolor\": \"#E5ECF6\", \"polar\": {\"angularaxis\": {\"gridcolor\": \"white\", \"linecolor\": \"white\", \"ticks\": \"\"}, \"bgcolor\": \"#E5ECF6\", \"radialaxis\": {\"gridcolor\": \"white\", \"linecolor\": \"white\", \"ticks\": \"\"}}, \"scene\": {\"xaxis\": {\"backgroundcolor\": \"#E5ECF6\", \"gridcolor\": \"white\", \"gridwidth\": 2, \"linecolor\": \"white\", \"showbackground\": true, \"ticks\": \"\", \"zerolinecolor\": \"white\"}, \"yaxis\": {\"backgroundcolor\": \"#E5ECF6\", \"gridcolor\": \"white\", \"gridwidth\": 2, \"linecolor\": \"white\", \"showbackground\": true, \"ticks\": \"\", \"zerolinecolor\": \"white\"}, \"zaxis\": {\"backgroundcolor\": \"#E5ECF6\", \"gridcolor\": \"white\", \"gridwidth\": 2, \"linecolor\": \"white\", \"showbackground\": true, \"ticks\": \"\", \"zerolinecolor\": \"white\"}}, \"shapedefaults\": {\"line\": {\"color\": \"#2a3f5f\"}}, \"ternary\": {\"aaxis\": {\"gridcolor\": \"white\", \"linecolor\": \"white\", \"ticks\": \"\"}, \"baxis\": {\"gridcolor\": \"white\", \"linecolor\": \"white\", \"ticks\": \"\"}, \"bgcolor\": \"#E5ECF6\", \"caxis\": {\"gridcolor\": \"white\", \"linecolor\": \"white\", \"ticks\": \"\"}}, \"title\": {\"x\": 0.05}, \"xaxis\": {\"automargin\": true, \"gridcolor\": \"white\", \"linecolor\": \"white\", \"ticks\": \"\", \"title\": {\"standoff\": 15}, \"zerolinecolor\": \"white\", \"zerolinewidth\": 2}, \"yaxis\": {\"automargin\": true, \"gridcolor\": \"white\", \"linecolor\": \"white\", \"ticks\": \"\", \"title\": {\"standoff\": 15}, \"zerolinecolor\": \"white\", \"zerolinewidth\": 2}}}, \"title\": {\"text\": \"Total Count Males v. Females\"}},\n",
       "                        {\"responsive\": true}\n",
       "                    ).then(function(){\n",
       "                            \n",
       "var gd = document.getElementById('a6c63832-be44-49d7-9b54-41a24617062f');\n",
       "var x = new MutationObserver(function (mutations, observer) {{\n",
       "        var display = window.getComputedStyle(gd).display;\n",
       "        if (!display || display === 'none') {{\n",
       "            console.log([gd, 'removed!']);\n",
       "            Plotly.purge(gd);\n",
       "            observer.disconnect();\n",
       "        }}\n",
       "}});\n",
       "\n",
       "// Listen for the removal of the full notebook cells\n",
       "var notebookContainer = gd.closest('#notebook-container');\n",
       "if (notebookContainer) {{\n",
       "    x.observe(notebookContainer, {childList: true});\n",
       "}}\n",
       "\n",
       "// Listen for the clearing of the current output cell\n",
       "var outputEl = gd.closest('.output');\n",
       "if (outputEl) {{\n",
       "    x.observe(outputEl, {childList: true});\n",
       "}}\n",
       "\n",
       "                        })\n",
       "                };\n",
       "                });\n",
       "            </script>\n",
       "        </div>"
      ]
     },
     "metadata": {},
     "output_type": "display_data"
    }
   ],
   "source": [
    "# gender pie graph \n",
    "import plotly\n",
    "import plotly.graph_objs as go\n",
    "from plotly.offline import init_notebook_mode, iplot\n",
    "init_notebook_mode(connected=True)\n",
    "\n",
    "col = \"gender\"\n",
    "grouped = df[col].value_counts().reset_index()\n",
    "grouped = grouped.rename(columns = {col : \"count\", \"index\" : col})\n",
    "\n",
    "# plotting \n",
    "trace = go.Pie(labels=grouped[col], values=grouped['count'], pull=[0.05, 0])\n",
    "layout = {'title': 'Total Count Males v. Females'}\n",
    "fig = go.Figure(data = [trace], layout = layout)\n",
    "iplot(fig)"
   ]
  },
  {
   "cell_type": "code",
   "execution_count": 17,
   "metadata": {
    "scrolled": true
   },
   "outputs": [
    {
     "data": {
      "text/plain": [
       "Caucasian          75079\n",
       "AfricanAmerican    18881\n",
       "?                   2189\n",
       "Hispanic            1984\n",
       "Other               1483\n",
       "Asian                625\n",
       "Name: race, dtype: int64"
      ]
     },
     "execution_count": 17,
     "metadata": {},
     "output_type": "execute_result"
    }
   ],
   "source": [
    "df.race.value_counts()"
   ]
  },
  {
   "cell_type": "code",
   "execution_count": 18,
   "metadata": {},
   "outputs": [
    {
     "name": "stdout",
     "output_type": "stream",
     "text": [
      "Missing values in Race: 2.265540048483156 %\n",
      "Caucasians: 75.91604233796551 %\n"
     ]
    }
   ],
   "source": [
    "print('Missing values in Race:', 2271/df.shape[0]*100, '%')\n",
    "print('Caucasians:', 76099/df.shape[0]*100, '%')"
   ]
  },
  {
   "cell_type": "code",
   "execution_count": 19,
   "metadata": {},
   "outputs": [
    {
     "data": {
      "text/plain": [
       "array(['Caucasian', 'AfricanAmerican', 'Other_Race', 'Asian', 'Hispanic'],\n",
       "      dtype=object)"
      ]
     },
     "execution_count": 19,
     "metadata": {},
     "output_type": "execute_result"
    }
   ],
   "source": [
    "# Filling/completing 2.2% missing values in race with the most common occurence -- Caucasian (75% of total dataset)\n",
    "df['race'] = df.loc[:, ('race')].replace('?','Caucasian')\n",
    "\n",
    "# Renaming 'Other'\n",
    "df['race'] = df.loc[:, ('race')].replace('Other','Other_Race')\n",
    "\n",
    "df.race.unique()"
   ]
  },
  {
   "cell_type": "code",
   "execution_count": 20,
   "metadata": {},
   "outputs": [
    {
     "data": {
      "text/plain": [
       "Text(0,0.5,'Count')"
      ]
     },
     "execution_count": 20,
     "metadata": {},
     "output_type": "execute_result"
    },
    {
     "data": {
      "image/png": "[encoded data removed]",
      "text/plain": [
       "<Figure size 432x288 with 1 Axes>"
      ]
     },
     "metadata": {
      "needs_background": "light"
     },
     "output_type": "display_data"
    }
   ],
   "source": [
    "# plotting count of each age group\n",
    "\n",
    "df.age.value_counts().plot(kind='bar')\n",
    "plt.title('Total Age Count')\n",
    "plt.xlabel('Age Group')\n",
    "plt.ylabel('Count')"
   ]
  },
  {
   "cell_type": "markdown",
   "metadata": {},
   "source": [
    "#### most patients admitted range from age 50 to 80"
   ]
  },
  {
   "cell_type": "code",
   "execution_count": 21,
   "metadata": {},
   "outputs": [
    {
     "name": "stdout",
     "output_type": "stream",
     "text": [
      "Yes    77153\n",
      "No     23088\n",
      "Name: diabetesMed, dtype: int64\n"
     ]
    },
    {
     "data": {
      "text/plain": [
       "Text(0,0.5,'Number of Patients')"
      ]
     },
     "execution_count": 21,
     "metadata": {},
     "output_type": "execute_result"
    },
    {
     "data": {
      "image/png": "[encoded data removed]",
      "text/plain": [
       "<Figure size 432x288 with 1 Axes>"
      ]
     },
     "metadata": {
      "needs_background": "light"
     },
     "output_type": "display_data"
    }
   ],
   "source": [
    "# counting how many people have been prescribed with diabetes medication\n",
    "print(df.diabetesMed.value_counts())\n",
    "\n",
    "df.diabetesMed.value_counts().plot(kind='bar')\n",
    "plt.title('Diabetes medication')\n",
    "plt.ylabel('Number of Patients')"
   ]
  },
  {
   "cell_type": "code",
   "execution_count": 22,
   "metadata": {
    "scrolled": false
   },
   "outputs": [
    {
     "data": {
      "image/png": "[encoded data removed]",
      "text/plain": [
       "<Figure size 576x288 with 1 Axes>"
      ]
     },
     "metadata": {
      "needs_background": "light"
     },
     "output_type": "display_data"
    },
    {
     "data": {
      "image/png": "[encoded data removed]",
      "text/plain": [
       "<Figure size 576x360 with 1 Axes>"
      ]
     },
     "metadata": {
      "needs_background": "light"
     },
     "output_type": "display_data"
    },
    {
     "data": {
      "image/png": "[encoded data removed]",
      "text/plain": [
       "<Figure size 576x288 with 1 Axes>"
      ]
     },
     "metadata": {
      "needs_background": "light"
     },
     "output_type": "display_data"
    }
   ],
   "source": [
    "# Number of Medications and demographics (age, gender, race)\n",
    "sns.catplot(x = \"age\", y = \"num_medications\", data=df, jitter = \"0.2\")\n",
    "plt.gcf().set_size_inches(8, 4)\n",
    "plt.title(\"Age and Number of Medications\", fontsize = 13)\n",
    "plt.show()\n",
    "\n",
    "sns.catplot(x = \"gender\", y = \"num_medications\", data=df, jitter = \"0.2\")\n",
    "plt.gcf().set_size_inches(8, 5)\n",
    "plt.title(\"Gender and Number of Medications\", fontsize = 13)\n",
    "plt.show()\n",
    "\n",
    "sns.catplot(x = \"race\", y = \"num_medications\", data=df, jitter = \"0.2\")\n",
    "plt.gcf().set_size_inches(8, 4)\n",
    "plt.title(\"Race and Number of Medications\", fontsize = 13)\n",
    "plt.show()"
   ]
  },
  {
   "cell_type": "code",
   "execution_count": 23,
   "metadata": {
    "scrolled": false
   },
   "outputs": [
    {
     "data": {
      "text/plain": [
       "Text(0.5,1,'Number of Medications and Readmission')"
      ]
     },
     "execution_count": 23,
     "metadata": {},
     "output_type": "execute_result"
    },
    {
     "data": {
      "image/png": "[encoded data removed]",
      "text/plain": [
       "<Figure size 1080x1080 with 1 Axes>"
      ]
     },
     "metadata": {
      "needs_background": "light"
     },
     "output_type": "display_data"
    }
   ],
   "source": [
    "fig = plt.figure(figsize=(15,15))\n",
    "sns.countplot(y = df['num_medications'], hue = df['readmitted'])\n",
    "plt.title('Number of Medications and Readmission')"
   ]
  },
  {
   "cell_type": "code",
   "execution_count": 24,
   "metadata": {},
   "outputs": [],
   "source": [
    "# profile reports shows insignificant drugs which less than 0.1% are taking - will drop these\n",
    "drop_meds = ['examide', 'citoglipton','glimepiride-pioglitazone','glipizide-metformin','metformin-pioglitazone', \n",
    "         'metformin-rosiglitazone', 'troglitazone', 'tolbutamide', 'acetohexamide']\n",
    "\n",
    "df.drop(drop_meds, axis=1,inplace=True)"
   ]
  },
  {
   "cell_type": "code",
   "execution_count": 25,
   "metadata": {
    "scrolled": true
   },
   "outputs": [],
   "source": [
    "meds = ['metformin', 'glimepiride','glipizide','glyburide', 'pioglitazone','rosiglitazone','insulin', \n",
    "        'miglitol','tolazamide','glyburide-metformin','chlorpropamide','acarbose','nateglinide','repaglinide']\n",
    "\n",
    "# medication intake - yes or no\n",
    "df[meds] = df[meds].replace(['Steady','Up','Down'],1)\n",
    "df[meds] = df[meds].replace('No', 0)"
   ]
  },
  {
   "cell_type": "code",
   "execution_count": 26,
   "metadata": {
    "scrolled": true
   },
   "outputs": [
    {
     "data": {
      "text/plain": [
       "Text(0,0.5,'Count')"
      ]
     },
     "execution_count": 26,
     "metadata": {},
     "output_type": "execute_result"
    },
    {
     "data": {
      "image/png": "[encoded data removed]",
      "text/plain": [
       "<Figure size 432x288 with 1 Axes>"
      ]
     },
     "metadata": {
      "needs_background": "light"
     },
     "output_type": "display_data"
    }
   ],
   "source": [
    "df.insulin.value_counts().plot(kind='bar')\n",
    "plt.title('Total count of patients taking insulin')\n",
    "plt.ylabel('Count')"
   ]
  },
  {
   "cell_type": "code",
   "execution_count": 27,
   "metadata": {
    "scrolled": false
   },
   "outputs": [
    {
     "data": {
      "image/png": "[encoded data removed]",
      "text/plain": [
       "<Figure size 576x432 with 1 Axes>"
      ]
     },
     "metadata": {
      "needs_background": "light"
     },
     "output_type": "display_data"
    }
   ],
   "source": [
    "# stacked bar plot of diabetes medication takers and insulin takers\n",
    "\n",
    "df.groupby(['diabetesMed', 'insulin']).size().unstack().plot(kind='bar',stacked=True, figsize=(8,6))\n",
    "plt.title('Diabetes Medication and Insulin', fontsize=15)\n",
    "plt.xlabel('Patients taking Diabetes Medication')\n",
    "plt.ylabel('Count')\n",
    "plt.show()"
   ]
  },
  {
   "cell_type": "code",
   "execution_count": 28,
   "metadata": {},
   "outputs": [
    {
     "data": {
      "image/png": "[encoded data removed]",
      "text/plain": [
       "<Figure size 576x432 with 1 Axes>"
      ]
     },
     "metadata": {
      "needs_background": "light"
     },
     "output_type": "display_data"
    }
   ],
   "source": [
    "# plotting how many patients taking insulin are readmitted back into the hospital\n",
    "    # Readmitted(0) = No\n",
    "    # Readmitted(1) = Yes\n",
    "\n",
    "df.groupby(['insulin', 'readmitted']).size().unstack().plot(kind='bar',stacked=True, figsize=(8,6))\n",
    "plt.title('Insulin and Readmission', fontsize=15)\n",
    "plt.xlabel('Insulin')\n",
    "plt.ylabel('Number of Patients')\n",
    "plt.show()"
   ]
  },
  {
   "cell_type": "code",
   "execution_count": 29,
   "metadata": {},
   "outputs": [
    {
     "name": "stdout",
     "output_type": "stream",
     "text": [
      "No    53891\n",
      "Ch    46350\n",
      "Name: change, dtype: int64\n"
     ]
    }
   ],
   "source": [
    "# 'change' is Change in Diabetic Medications -- how many patients had a change?\n",
    "print(df.change.value_counts())\n",
    "\n",
    "# mapping change 'No' and 'Ch' into numerical values \n",
    "    # readmitted '0' = Not readmitted\n",
    "    # readmitted '1' = Readmitted\n",
    "\n",
    "df['change']=df.loc[:,('change')].replace('No', 0)\n",
    "df['change']=df.loc[:,('change')].replace('Ch', 1)"
   ]
  },
  {
   "cell_type": "code",
   "execution_count": 30,
   "metadata": {},
   "outputs": [
    {
     "data": {
      "text/plain": [
       "None        94978\n",
       "Diabetic     2705\n",
       "Norm         2558\n",
       "Name: max_glu_serum, dtype: int64"
      ]
     },
     "execution_count": 30,
     "metadata": {},
     "output_type": "execute_result"
    }
   ],
   "source": [
    "# Max Glucose Serum Test values: \n",
    "    #  >200 = Diabetic \n",
    "    #  >300 = Dangerous\n",
    "    #  Norm = normal\n",
    "    #  None = not measured\n",
    "\n",
    "# combining '>200' and '>300' values together as 'Diabetic'\n",
    "df['max_glu_serum']=df.loc[:,('max_glu_serum')].replace(['>200', '>300'], 'Diabetic')\n",
    "\n",
    "df.max_glu_serum.value_counts()"
   ]
  },
  {
   "cell_type": "code",
   "execution_count": 31,
   "metadata": {
    "scrolled": false
   },
   "outputs": [
    {
     "data": {
      "image/png": "[encoded data removed]",
      "text/plain": [
       "<Figure size 648x432 with 1 Axes>"
      ]
     },
     "metadata": {
      "needs_background": "light"
     },
     "output_type": "display_data"
    }
   ],
   "source": [
    "# plotting how many patients were readmitted based on how many days they stayed in the hospital\n",
    "\n",
    "df.groupby(['time_in_hospital', 'readmitted']).size().unstack().plot(kind='bar',stacked=True, figsize=(9,6))\n",
    "plt.title('Time in Hospital and Readmission', fontsize=15)\n",
    "plt.xlabel('Number of Days in Hospital')\n",
    "plt.ylabel('Number of Patients')\n",
    "plt.show()"
   ]
  },
  {
   "cell_type": "code",
   "execution_count": 32,
   "metadata": {},
   "outputs": [
    {
     "data": {
      "image/png": "[encoded data removed]",
      "text/plain": [
       "<Figure size 720x504 with 1 Axes>"
      ]
     },
     "metadata": {
      "needs_background": "light"
     },
     "output_type": "display_data"
    }
   ],
   "source": [
    "# plotting how many patients being readmitted based on age\n",
    "\n",
    "df.groupby(['age', 'readmitted']).size().unstack().plot(kind='bar',stacked=True, figsize=(10,7))\n",
    "plt.title('Age and Readmission')\n",
    "plt.ylabel('Number of Patients')\n",
    "plt.show()"
   ]
  },
  {
   "cell_type": "code",
   "execution_count": 33,
   "metadata": {
    "scrolled": false
   },
   "outputs": [
    {
     "data": {
      "image/png": "[encoded data removed]",
      "text/plain": [
       "<Figure size 720x360 with 1 Axes>"
      ]
     },
     "metadata": {
      "needs_background": "light"
     },
     "output_type": "display_data"
    }
   ],
   "source": [
    "# plotting how many patients are readmitted by admission type ID\n",
    "\n",
    "# Admission type ID 1 = Emergency - immediate care for severe, life threatening conditions\n",
    "# Admission type ID 2 = Urgent - immediate care for physical and mental disorders\n",
    "# Admission type ID 3 = Elective - does not need immediate attention\n",
    "# Admission type ID 5 = Trauma Centre\n",
    "# Admission type ID 6 = Reserved\n",
    "\n",
    "df.groupby(['admission_type_id', 'readmitted']).size().unstack().plot(kind='bar',stacked=True, figsize=(10,5))\n",
    "plt.title('Admission Type ID and Readmission')\n",
    "plt.ylabel('Number of Patients')\n",
    "plt.show()"
   ]
  },
  {
   "cell_type": "markdown",
   "metadata": {},
   "source": [
    "#### most patients were readmitted based on Emergency situations (type ID 1)"
   ]
  },
  {
   "cell_type": "code",
   "execution_count": 34,
   "metadata": {
    "scrolled": false
   },
   "outputs": [
    {
     "data": {
      "text/plain": [
       "Text(0.5,1,'Number of Diagnoses and Number of Medications')"
      ]
     },
     "execution_count": 34,
     "metadata": {},
     "output_type": "execute_result"
    },
    {
     "data": {
      "image/png": "[encoded data removed]",
      "text/plain": [
       "<Figure size 792.625x360 with 1 Axes>"
      ]
     },
     "metadata": {
      "needs_background": "light"
     },
     "output_type": "display_data"
    }
   ],
   "source": [
    "# plotting number of diagnoses by number of medications separated by each gender\n",
    "\n",
    "ax = sns.catplot(x=\"number_diagnoses\", y=\"num_medications\", hue=\"gender\", palette = \"pastel\", dodge=True, data=df, aspect=2)\n",
    "plt.title('Number of Diagnoses and Number of Medications')"
   ]
  },
  {
   "cell_type": "code",
   "execution_count": 35,
   "metadata": {},
   "outputs": [
    {
     "data": {
      "text/plain": [
       "(100241, 35)"
      ]
     },
     "execution_count": 35,
     "metadata": {},
     "output_type": "execute_result"
    }
   ],
   "source": [
    "df.shape"
   ]
  },
  {
   "cell_type": "code",
   "execution_count": 36,
   "metadata": {},
   "outputs": [
    {
     "name": "stdout",
     "output_type": "stream",
     "text": [
      "None        83642\n",
      "Diabetic    11664\n",
      "Norm         4935\n",
      "Name: A1Cresult, dtype: int64\n",
      "Number of patients who did not take the test: 84 %\n"
     ]
    }
   ],
   "source": [
    "# mapping '>8' and '>7' values in A1C blood test as 'Diabetic'\n",
    "df['A1Cresult'] = df['A1Cresult'].replace(['>7', '>8'], 'Diabetic')\n",
    "\n",
    "print(df.A1Cresult.value_counts())\n",
    "\n",
    "# 'None' means test was not done. \n",
    "print('Number of patients who did not take the test:', int(84745/df.shape[0]*100), \"%\")"
   ]
  },
  {
   "cell_type": "code",
   "execution_count": 37,
   "metadata": {
    "scrolled": false
   },
   "outputs": [
    {
     "data": {
      "text/html": [
       "<style  type=\"text/css\" >\n",
       "    #T_f2b9d8e2_8fee_11ea_850f_a0999b01858drow0_col0 {\n",
       "            background-color:  #08306b;\n",
       "            color:  #f1f1f1;\n",
       "        }    #T_f2b9d8e2_8fee_11ea_850f_a0999b01858drow0_col1 {\n",
       "            background-color:  #dfebf7;\n",
       "            color:  #000000;\n",
       "        }    #T_f2b9d8e2_8fee_11ea_850f_a0999b01858drow0_col2 {\n",
       "            background-color:  #f7fbff;\n",
       "            color:  #000000;\n",
       "        }    #T_f2b9d8e2_8fee_11ea_850f_a0999b01858drow0_col3 {\n",
       "            background-color:  #f7fbff;\n",
       "            color:  #000000;\n",
       "        }    #T_f2b9d8e2_8fee_11ea_850f_a0999b01858drow0_col4 {\n",
       "            background-color:  #d3e3f3;\n",
       "            color:  #000000;\n",
       "        }    #T_f2b9d8e2_8fee_11ea_850f_a0999b01858drow0_col5 {\n",
       "            background-color:  #e7f0fa;\n",
       "            color:  #000000;\n",
       "        }    #T_f2b9d8e2_8fee_11ea_850f_a0999b01858drow0_col6 {\n",
       "            background-color:  #edf4fc;\n",
       "            color:  #000000;\n",
       "        }    #T_f2b9d8e2_8fee_11ea_850f_a0999b01858drow0_col7 {\n",
       "            background-color:  #f4f9fe;\n",
       "            color:  #000000;\n",
       "        }    #T_f2b9d8e2_8fee_11ea_850f_a0999b01858drow0_col8 {\n",
       "            background-color:  #f1f7fd;\n",
       "            color:  #000000;\n",
       "        }    #T_f2b9d8e2_8fee_11ea_850f_a0999b01858drow0_col9 {\n",
       "            background-color:  #f7fbff;\n",
       "            color:  #000000;\n",
       "        }    #T_f2b9d8e2_8fee_11ea_850f_a0999b01858drow0_col10 {\n",
       "            background-color:  #e7f0fa;\n",
       "            color:  #000000;\n",
       "        }    #T_f2b9d8e2_8fee_11ea_850f_a0999b01858drow0_col11 {\n",
       "            background-color:  #f3f8fe;\n",
       "            color:  #000000;\n",
       "        }    #T_f2b9d8e2_8fee_11ea_850f_a0999b01858drow0_col12 {\n",
       "            background-color:  #f5f9fe;\n",
       "            color:  #000000;\n",
       "        }    #T_f2b9d8e2_8fee_11ea_850f_a0999b01858drow0_col13 {\n",
       "            background-color:  #f2f8fd;\n",
       "            color:  #000000;\n",
       "        }    #T_f2b9d8e2_8fee_11ea_850f_a0999b01858drow0_col14 {\n",
       "            background-color:  #eaf2fb;\n",
       "            color:  #000000;\n",
       "        }    #T_f2b9d8e2_8fee_11ea_850f_a0999b01858drow0_col15 {\n",
       "            background-color:  #e1edf8;\n",
       "            color:  #000000;\n",
       "        }    #T_f2b9d8e2_8fee_11ea_850f_a0999b01858drow0_col16 {\n",
       "            background-color:  #e3eef9;\n",
       "            color:  #000000;\n",
       "        }    #T_f2b9d8e2_8fee_11ea_850f_a0999b01858drow0_col17 {\n",
       "            background-color:  #e8f1fa;\n",
       "            color:  #000000;\n",
       "        }    #T_f2b9d8e2_8fee_11ea_850f_a0999b01858drow0_col18 {\n",
       "            background-color:  #e7f0fa;\n",
       "            color:  #000000;\n",
       "        }    #T_f2b9d8e2_8fee_11ea_850f_a0999b01858drow0_col19 {\n",
       "            background-color:  #f4f9fe;\n",
       "            color:  #000000;\n",
       "        }    #T_f2b9d8e2_8fee_11ea_850f_a0999b01858drow0_col20 {\n",
       "            background-color:  #f6faff;\n",
       "            color:  #000000;\n",
       "        }    #T_f2b9d8e2_8fee_11ea_850f_a0999b01858drow0_col21 {\n",
       "            background-color:  #f4f9fe;\n",
       "            color:  #000000;\n",
       "        }    #T_f2b9d8e2_8fee_11ea_850f_a0999b01858drow0_col22 {\n",
       "            background-color:  #eef5fc;\n",
       "            color:  #000000;\n",
       "        }    #T_f2b9d8e2_8fee_11ea_850f_a0999b01858drow0_col23 {\n",
       "            background-color:  #f2f8fd;\n",
       "            color:  #000000;\n",
       "        }    #T_f2b9d8e2_8fee_11ea_850f_a0999b01858drow0_col24 {\n",
       "            background-color:  #f4f9fe;\n",
       "            color:  #000000;\n",
       "        }    #T_f2b9d8e2_8fee_11ea_850f_a0999b01858drow0_col25 {\n",
       "            background-color:  #eff6fc;\n",
       "            color:  #000000;\n",
       "        }    #T_f2b9d8e2_8fee_11ea_850f_a0999b01858drow1_col0 {\n",
       "            background-color:  #d0e2f2;\n",
       "            color:  #000000;\n",
       "        }    #T_f2b9d8e2_8fee_11ea_850f_a0999b01858drow1_col1 {\n",
       "            background-color:  #08306b;\n",
       "            color:  #f1f1f1;\n",
       "        }    #T_f2b9d8e2_8fee_11ea_850f_a0999b01858drow1_col2 {\n",
       "            background-color:  #d5e5f4;\n",
       "            color:  #000000;\n",
       "        }    #T_f2b9d8e2_8fee_11ea_850f_a0999b01858drow1_col3 {\n",
       "            background-color:  #dae8f6;\n",
       "            color:  #000000;\n",
       "        }    #T_f2b9d8e2_8fee_11ea_850f_a0999b01858drow1_col4 {\n",
       "            background-color:  #e8f1fa;\n",
       "            color:  #000000;\n",
       "        }    #T_f2b9d8e2_8fee_11ea_850f_a0999b01858drow1_col5 {\n",
       "            background-color:  #e1edf8;\n",
       "            color:  #000000;\n",
       "        }    #T_f2b9d8e2_8fee_11ea_850f_a0999b01858drow1_col6 {\n",
       "            background-color:  #f4f9fe;\n",
       "            color:  #000000;\n",
       "        }    #T_f2b9d8e2_8fee_11ea_850f_a0999b01858drow1_col7 {\n",
       "            background-color:  #f5f9fe;\n",
       "            color:  #000000;\n",
       "        }    #T_f2b9d8e2_8fee_11ea_850f_a0999b01858drow1_col8 {\n",
       "            background-color:  #e7f0fa;\n",
       "            color:  #000000;\n",
       "        }    #T_f2b9d8e2_8fee_11ea_850f_a0999b01858drow1_col9 {\n",
       "            background-color:  #dae8f6;\n",
       "            color:  #000000;\n",
       "        }    #T_f2b9d8e2_8fee_11ea_850f_a0999b01858drow1_col10 {\n",
       "            background-color:  #ebf3fb;\n",
       "            color:  #000000;\n",
       "        }    #T_f2b9d8e2_8fee_11ea_850f_a0999b01858drow1_col11 {\n",
       "            background-color:  #f3f8fe;\n",
       "            color:  #000000;\n",
       "        }    #T_f2b9d8e2_8fee_11ea_850f_a0999b01858drow1_col12 {\n",
       "            background-color:  #f5fafe;\n",
       "            color:  #000000;\n",
       "        }    #T_f2b9d8e2_8fee_11ea_850f_a0999b01858drow1_col13 {\n",
       "            background-color:  #f1f7fd;\n",
       "            color:  #000000;\n",
       "        }    #T_f2b9d8e2_8fee_11ea_850f_a0999b01858drow1_col14 {\n",
       "            background-color:  #eef5fc;\n",
       "            color:  #000000;\n",
       "        }    #T_f2b9d8e2_8fee_11ea_850f_a0999b01858drow1_col15 {\n",
       "            background-color:  #e7f0fa;\n",
       "            color:  #000000;\n",
       "        }    #T_f2b9d8e2_8fee_11ea_850f_a0999b01858drow1_col16 {\n",
       "            background-color:  #dce9f6;\n",
       "            color:  #000000;\n",
       "        }    #T_f2b9d8e2_8fee_11ea_850f_a0999b01858drow1_col17 {\n",
       "            background-color:  #eef5fc;\n",
       "            color:  #000000;\n",
       "        }    #T_f2b9d8e2_8fee_11ea_850f_a0999b01858drow1_col18 {\n",
       "            background-color:  #ecf4fb;\n",
       "            color:  #000000;\n",
       "        }    #T_f2b9d8e2_8fee_11ea_850f_a0999b01858drow1_col19 {\n",
       "            background-color:  #f4f9fe;\n",
       "            color:  #000000;\n",
       "        }    #T_f2b9d8e2_8fee_11ea_850f_a0999b01858drow1_col20 {\n",
       "            background-color:  #f5f9fe;\n",
       "            color:  #000000;\n",
       "        }    #T_f2b9d8e2_8fee_11ea_850f_a0999b01858drow1_col21 {\n",
       "            background-color:  #f3f8fe;\n",
       "            color:  #000000;\n",
       "        }    #T_f2b9d8e2_8fee_11ea_850f_a0999b01858drow1_col22 {\n",
       "            background-color:  #f2f7fd;\n",
       "            color:  #000000;\n",
       "        }    #T_f2b9d8e2_8fee_11ea_850f_a0999b01858drow1_col23 {\n",
       "            background-color:  #f3f8fe;\n",
       "            color:  #000000;\n",
       "        }    #T_f2b9d8e2_8fee_11ea_850f_a0999b01858drow1_col24 {\n",
       "            background-color:  #f7fbff;\n",
       "            color:  #000000;\n",
       "        }    #T_f2b9d8e2_8fee_11ea_850f_a0999b01858drow1_col25 {\n",
       "            background-color:  #f2f7fd;\n",
       "            color:  #000000;\n",
       "        }    #T_f2b9d8e2_8fee_11ea_850f_a0999b01858drow2_col0 {\n",
       "            background-color:  #e0ecf8;\n",
       "            color:  #000000;\n",
       "        }    #T_f2b9d8e2_8fee_11ea_850f_a0999b01858drow2_col1 {\n",
       "            background-color:  #d0e1f2;\n",
       "            color:  #000000;\n",
       "        }    #T_f2b9d8e2_8fee_11ea_850f_a0999b01858drow2_col2 {\n",
       "            background-color:  #08306b;\n",
       "            color:  #f1f1f1;\n",
       "        }    #T_f2b9d8e2_8fee_11ea_850f_a0999b01858drow2_col3 {\n",
       "            background-color:  #92c4de;\n",
       "            color:  #000000;\n",
       "        }    #T_f2b9d8e2_8fee_11ea_850f_a0999b01858drow2_col4 {\n",
       "            background-color:  #c8dcf0;\n",
       "            color:  #000000;\n",
       "        }    #T_f2b9d8e2_8fee_11ea_850f_a0999b01858drow2_col5 {\n",
       "            background-color:  #79b5d9;\n",
       "            color:  #000000;\n",
       "        }    #T_f2b9d8e2_8fee_11ea_850f_a0999b01858drow2_col6 {\n",
       "            background-color:  #f5f9fe;\n",
       "            color:  #000000;\n",
       "        }    #T_f2b9d8e2_8fee_11ea_850f_a0999b01858drow2_col7 {\n",
       "            background-color:  #f2f8fd;\n",
       "            color:  #000000;\n",
       "        }    #T_f2b9d8e2_8fee_11ea_850f_a0999b01858drow2_col8 {\n",
       "            background-color:  #dceaf6;\n",
       "            color:  #000000;\n",
       "        }    #T_f2b9d8e2_8fee_11ea_850f_a0999b01858drow2_col9 {\n",
       "            background-color:  #b8d5ea;\n",
       "            color:  #000000;\n",
       "        }    #T_f2b9d8e2_8fee_11ea_850f_a0999b01858drow2_col10 {\n",
       "            background-color:  #eaf3fb;\n",
       "            color:  #000000;\n",
       "        }    #T_f2b9d8e2_8fee_11ea_850f_a0999b01858drow2_col11 {\n",
       "            background-color:  #ecf4fb;\n",
       "            color:  #000000;\n",
       "        }    #T_f2b9d8e2_8fee_11ea_850f_a0999b01858drow2_col12 {\n",
       "            background-color:  #f2f8fd;\n",
       "            color:  #000000;\n",
       "        }    #T_f2b9d8e2_8fee_11ea_850f_a0999b01858drow2_col13 {\n",
       "            background-color:  #f3f8fe;\n",
       "            color:  #000000;\n",
       "        }    #T_f2b9d8e2_8fee_11ea_850f_a0999b01858drow2_col14 {\n",
       "            background-color:  #e7f1fa;\n",
       "            color:  #000000;\n",
       "        }    #T_f2b9d8e2_8fee_11ea_850f_a0999b01858drow2_col15 {\n",
       "            background-color:  #e1edf8;\n",
       "            color:  #000000;\n",
       "        }    #T_f2b9d8e2_8fee_11ea_850f_a0999b01858drow2_col16 {\n",
       "            background-color:  #dfecf7;\n",
       "            color:  #000000;\n",
       "        }    #T_f2b9d8e2_8fee_11ea_850f_a0999b01858drow2_col17 {\n",
       "            background-color:  #eaf3fb;\n",
       "            color:  #000000;\n",
       "        }    #T_f2b9d8e2_8fee_11ea_850f_a0999b01858drow2_col18 {\n",
       "            background-color:  #eaf3fb;\n",
       "            color:  #000000;\n",
       "        }    #T_f2b9d8e2_8fee_11ea_850f_a0999b01858drow2_col19 {\n",
       "            background-color:  #f4f9fe;\n",
       "            color:  #000000;\n",
       "        }    #T_f2b9d8e2_8fee_11ea_850f_a0999b01858drow2_col20 {\n",
       "            background-color:  #f6faff;\n",
       "            color:  #000000;\n",
       "        }    #T_f2b9d8e2_8fee_11ea_850f_a0999b01858drow2_col21 {\n",
       "            background-color:  #f5fafe;\n",
       "            color:  #000000;\n",
       "        }    #T_f2b9d8e2_8fee_11ea_850f_a0999b01858drow2_col22 {\n",
       "            background-color:  #d6e6f4;\n",
       "            color:  #000000;\n",
       "        }    #T_f2b9d8e2_8fee_11ea_850f_a0999b01858drow2_col23 {\n",
       "            background-color:  #f2f8fd;\n",
       "            color:  #000000;\n",
       "        }    #T_f2b9d8e2_8fee_11ea_850f_a0999b01858drow2_col24 {\n",
       "            background-color:  #dfecf7;\n",
       "            color:  #000000;\n",
       "        }    #T_f2b9d8e2_8fee_11ea_850f_a0999b01858drow2_col25 {\n",
       "            background-color:  #e5eff9;\n",
       "            color:  #000000;\n",
       "        }    #T_f2b9d8e2_8fee_11ea_850f_a0999b01858drow3_col0 {\n",
       "            background-color:  #f7fbff;\n",
       "            color:  #000000;\n",
       "        }    #T_f2b9d8e2_8fee_11ea_850f_a0999b01858drow3_col1 {\n",
       "            background-color:  #eaf3fb;\n",
       "            color:  #000000;\n",
       "        }    #T_f2b9d8e2_8fee_11ea_850f_a0999b01858drow3_col2 {\n",
       "            background-color:  #aed1e7;\n",
       "            color:  #000000;\n",
       "        }    #T_f2b9d8e2_8fee_11ea_850f_a0999b01858drow3_col3 {\n",
       "            background-color:  #08306b;\n",
       "            color:  #f1f1f1;\n",
       "        }    #T_f2b9d8e2_8fee_11ea_850f_a0999b01858drow3_col4 {\n",
       "            background-color:  #dfecf7;\n",
       "            color:  #000000;\n",
       "        }    #T_f2b9d8e2_8fee_11ea_850f_a0999b01858drow3_col5 {\n",
       "            background-color:  #bfd8ed;\n",
       "            color:  #000000;\n",
       "        }    #T_f2b9d8e2_8fee_11ea_850f_a0999b01858drow3_col6 {\n",
       "            background-color:  #f4f9fe;\n",
       "            color:  #000000;\n",
       "        }    #T_f2b9d8e2_8fee_11ea_850f_a0999b01858drow3_col7 {\n",
       "            background-color:  #f1f7fd;\n",
       "            color:  #000000;\n",
       "        }    #T_f2b9d8e2_8fee_11ea_850f_a0999b01858drow3_col8 {\n",
       "            background-color:  #e3eef8;\n",
       "            color:  #000000;\n",
       "        }    #T_f2b9d8e2_8fee_11ea_850f_a0999b01858drow3_col9 {\n",
       "            background-color:  #c7dcef;\n",
       "            color:  #000000;\n",
       "        }    #T_f2b9d8e2_8fee_11ea_850f_a0999b01858drow3_col10 {\n",
       "            background-color:  #f2f8fd;\n",
       "            color:  #000000;\n",
       "        }    #T_f2b9d8e2_8fee_11ea_850f_a0999b01858drow3_col11 {\n",
       "            background-color:  #f0f6fd;\n",
       "            color:  #000000;\n",
       "        }    #T_f2b9d8e2_8fee_11ea_850f_a0999b01858drow3_col12 {\n",
       "            background-color:  #f5f9fe;\n",
       "            color:  #000000;\n",
       "        }    #T_f2b9d8e2_8fee_11ea_850f_a0999b01858drow3_col13 {\n",
       "            background-color:  #f4f9fe;\n",
       "            color:  #000000;\n",
       "        }    #T_f2b9d8e2_8fee_11ea_850f_a0999b01858drow3_col14 {\n",
       "            background-color:  #eaf2fb;\n",
       "            color:  #000000;\n",
       "        }    #T_f2b9d8e2_8fee_11ea_850f_a0999b01858drow3_col15 {\n",
       "            background-color:  #e1edf8;\n",
       "            color:  #000000;\n",
       "        }    #T_f2b9d8e2_8fee_11ea_850f_a0999b01858drow3_col16 {\n",
       "            background-color:  #e4eff9;\n",
       "            color:  #000000;\n",
       "        }    #T_f2b9d8e2_8fee_11ea_850f_a0999b01858drow3_col17 {\n",
       "            background-color:  #eef5fc;\n",
       "            color:  #000000;\n",
       "        }    #T_f2b9d8e2_8fee_11ea_850f_a0999b01858drow3_col18 {\n",
       "            background-color:  #edf4fc;\n",
       "            color:  #000000;\n",
       "        }    #T_f2b9d8e2_8fee_11ea_850f_a0999b01858drow3_col19 {\n",
       "            background-color:  #f5fafe;\n",
       "            color:  #000000;\n",
       "        }    #T_f2b9d8e2_8fee_11ea_850f_a0999b01858drow3_col20 {\n",
       "            background-color:  #f7fbff;\n",
       "            color:  #000000;\n",
       "        }    #T_f2b9d8e2_8fee_11ea_850f_a0999b01858drow3_col21 {\n",
       "            background-color:  #f5f9fe;\n",
       "            color:  #000000;\n",
       "        }    #T_f2b9d8e2_8fee_11ea_850f_a0999b01858drow3_col22 {\n",
       "            background-color:  #d8e7f5;\n",
       "            color:  #000000;\n",
       "        }    #T_f2b9d8e2_8fee_11ea_850f_a0999b01858drow3_col23 {\n",
       "            background-color:  #f4f9fe;\n",
       "            color:  #000000;\n",
       "        }    #T_f2b9d8e2_8fee_11ea_850f_a0999b01858drow3_col24 {\n",
       "            background-color:  #e8f1fa;\n",
       "            color:  #000000;\n",
       "        }    #T_f2b9d8e2_8fee_11ea_850f_a0999b01858drow3_col25 {\n",
       "            background-color:  #e7f1fa;\n",
       "            color:  #000000;\n",
       "        }    #T_f2b9d8e2_8fee_11ea_850f_a0999b01858drow4_col0 {\n",
       "            background-color:  #c8dcf0;\n",
       "            color:  #000000;\n",
       "        }    #T_f2b9d8e2_8fee_11ea_850f_a0999b01858drow4_col1 {\n",
       "            background-color:  #ecf4fb;\n",
       "            color:  #000000;\n",
       "        }    #T_f2b9d8e2_8fee_11ea_850f_a0999b01858drow4_col2 {\n",
       "            background-color:  #d0e2f2;\n",
       "            color:  #000000;\n",
       "        }    #T_f2b9d8e2_8fee_11ea_850f_a0999b01858drow4_col3 {\n",
       "            background-color:  #d5e5f4;\n",
       "            color:  #000000;\n",
       "        }    #T_f2b9d8e2_8fee_11ea_850f_a0999b01858drow4_col4 {\n",
       "            background-color:  #08306b;\n",
       "            color:  #f1f1f1;\n",
       "        }    #T_f2b9d8e2_8fee_11ea_850f_a0999b01858drow4_col5 {\n",
       "            background-color:  #9ac8e0;\n",
       "            color:  #000000;\n",
       "        }    #T_f2b9d8e2_8fee_11ea_850f_a0999b01858drow4_col6 {\n",
       "            background-color:  #f7fbff;\n",
       "            color:  #000000;\n",
       "        }    #T_f2b9d8e2_8fee_11ea_850f_a0999b01858drow4_col7 {\n",
       "            background-color:  #f7fbff;\n",
       "            color:  #000000;\n",
       "        }    #T_f2b9d8e2_8fee_11ea_850f_a0999b01858drow4_col8 {\n",
       "            background-color:  #f7fbff;\n",
       "            color:  #000000;\n",
       "        }    #T_f2b9d8e2_8fee_11ea_850f_a0999b01858drow4_col9 {\n",
       "            background-color:  #d7e6f5;\n",
       "            color:  #000000;\n",
       "        }    #T_f2b9d8e2_8fee_11ea_850f_a0999b01858drow4_col10 {\n",
       "            background-color:  #f1f7fd;\n",
       "            color:  #000000;\n",
       "        }    #T_f2b9d8e2_8fee_11ea_850f_a0999b01858drow4_col11 {\n",
       "            background-color:  #f2f7fd;\n",
       "            color:  #000000;\n",
       "        }    #T_f2b9d8e2_8fee_11ea_850f_a0999b01858drow4_col12 {\n",
       "            background-color:  #f4f9fe;\n",
       "            color:  #000000;\n",
       "        }    #T_f2b9d8e2_8fee_11ea_850f_a0999b01858drow4_col13 {\n",
       "            background-color:  #f2f8fd;\n",
       "            color:  #000000;\n",
       "        }    #T_f2b9d8e2_8fee_11ea_850f_a0999b01858drow4_col14 {\n",
       "            background-color:  #e8f1fa;\n",
       "            color:  #000000;\n",
       "        }    #T_f2b9d8e2_8fee_11ea_850f_a0999b01858drow4_col15 {\n",
       "            background-color:  #e3eef9;\n",
       "            color:  #000000;\n",
       "        }    #T_f2b9d8e2_8fee_11ea_850f_a0999b01858drow4_col16 {\n",
       "            background-color:  #e3eef8;\n",
       "            color:  #000000;\n",
       "        }    #T_f2b9d8e2_8fee_11ea_850f_a0999b01858drow4_col17 {\n",
       "            background-color:  #e9f2fa;\n",
       "            color:  #000000;\n",
       "        }    #T_f2b9d8e2_8fee_11ea_850f_a0999b01858drow4_col18 {\n",
       "            background-color:  #e9f2fa;\n",
       "            color:  #000000;\n",
       "        }    #T_f2b9d8e2_8fee_11ea_850f_a0999b01858drow4_col19 {\n",
       "            background-color:  #f5fafe;\n",
       "            color:  #000000;\n",
       "        }    #T_f2b9d8e2_8fee_11ea_850f_a0999b01858drow4_col20 {\n",
       "            background-color:  #f6faff;\n",
       "            color:  #000000;\n",
       "        }    #T_f2b9d8e2_8fee_11ea_850f_a0999b01858drow4_col21 {\n",
       "            background-color:  #f5f9fe;\n",
       "            color:  #000000;\n",
       "        }    #T_f2b9d8e2_8fee_11ea_850f_a0999b01858drow4_col22 {\n",
       "            background-color:  #e5eff9;\n",
       "            color:  #000000;\n",
       "        }    #T_f2b9d8e2_8fee_11ea_850f_a0999b01858drow4_col23 {\n",
       "            background-color:  #f2f8fd;\n",
       "            color:  #000000;\n",
       "        }    #T_f2b9d8e2_8fee_11ea_850f_a0999b01858drow4_col24 {\n",
       "            background-color:  #f4f9fe;\n",
       "            color:  #000000;\n",
       "        }    #T_f2b9d8e2_8fee_11ea_850f_a0999b01858drow4_col25 {\n",
       "            background-color:  #f7fbff;\n",
       "            color:  #000000;\n",
       "        }    #T_f2b9d8e2_8fee_11ea_850f_a0999b01858drow5_col0 {\n",
       "            background-color:  #d1e2f3;\n",
       "            color:  #000000;\n",
       "        }    #T_f2b9d8e2_8fee_11ea_850f_a0999b01858drow5_col1 {\n",
       "            background-color:  #dae8f6;\n",
       "            color:  #000000;\n",
       "        }    #T_f2b9d8e2_8fee_11ea_850f_a0999b01858drow5_col2 {\n",
       "            background-color:  #77b5d9;\n",
       "            color:  #000000;\n",
       "        }    #T_f2b9d8e2_8fee_11ea_850f_a0999b01858drow5_col3 {\n",
       "            background-color:  #a3cce3;\n",
       "            color:  #000000;\n",
       "        }    #T_f2b9d8e2_8fee_11ea_850f_a0999b01858drow5_col4 {\n",
       "            background-color:  #8abfdd;\n",
       "            color:  #000000;\n",
       "        }    #T_f2b9d8e2_8fee_11ea_850f_a0999b01858drow5_col5 {\n",
       "            background-color:  #08306b;\n",
       "            color:  #f1f1f1;\n",
       "        }    #T_f2b9d8e2_8fee_11ea_850f_a0999b01858drow5_col6 {\n",
       "            background-color:  #eaf2fb;\n",
       "            color:  #000000;\n",
       "        }    #T_f2b9d8e2_8fee_11ea_850f_a0999b01858drow5_col7 {\n",
       "            background-color:  #eef5fc;\n",
       "            color:  #000000;\n",
       "        }    #T_f2b9d8e2_8fee_11ea_850f_a0999b01858drow5_col8 {\n",
       "            background-color:  #dfebf7;\n",
       "            color:  #000000;\n",
       "        }    #T_f2b9d8e2_8fee_11ea_850f_a0999b01858drow5_col9 {\n",
       "            background-color:  #aed1e7;\n",
       "            color:  #000000;\n",
       "        }    #T_f2b9d8e2_8fee_11ea_850f_a0999b01858drow5_col10 {\n",
       "            background-color:  #dceaf6;\n",
       "            color:  #000000;\n",
       "        }    #T_f2b9d8e2_8fee_11ea_850f_a0999b01858drow5_col11 {\n",
       "            background-color:  #eef5fc;\n",
       "            color:  #000000;\n",
       "        }    #T_f2b9d8e2_8fee_11ea_850f_a0999b01858drow5_col12 {\n",
       "            background-color:  #eff6fc;\n",
       "            color:  #000000;\n",
       "        }    #T_f2b9d8e2_8fee_11ea_850f_a0999b01858drow5_col13 {\n",
       "            background-color:  #f3f8fe;\n",
       "            color:  #000000;\n",
       "        }    #T_f2b9d8e2_8fee_11ea_850f_a0999b01858drow5_col14 {\n",
       "            background-color:  #e2edf8;\n",
       "            color:  #000000;\n",
       "        }    #T_f2b9d8e2_8fee_11ea_850f_a0999b01858drow5_col15 {\n",
       "            background-color:  #dae8f6;\n",
       "            color:  #000000;\n",
       "        }    #T_f2b9d8e2_8fee_11ea_850f_a0999b01858drow5_col16 {\n",
       "            background-color:  #ddeaf7;\n",
       "            color:  #000000;\n",
       "        }    #T_f2b9d8e2_8fee_11ea_850f_a0999b01858drow5_col17 {\n",
       "            background-color:  #dfebf7;\n",
       "            color:  #000000;\n",
       "        }    #T_f2b9d8e2_8fee_11ea_850f_a0999b01858drow5_col18 {\n",
       "            background-color:  #e1edf8;\n",
       "            color:  #000000;\n",
       "        }    #T_f2b9d8e2_8fee_11ea_850f_a0999b01858drow5_col19 {\n",
       "            background-color:  #f2f7fd;\n",
       "            color:  #000000;\n",
       "        }    #T_f2b9d8e2_8fee_11ea_850f_a0999b01858drow5_col20 {\n",
       "            background-color:  #f5fafe;\n",
       "            color:  #000000;\n",
       "        }    #T_f2b9d8e2_8fee_11ea_850f_a0999b01858drow5_col21 {\n",
       "            background-color:  #f5fafe;\n",
       "            color:  #000000;\n",
       "        }    #T_f2b9d8e2_8fee_11ea_850f_a0999b01858drow5_col22 {\n",
       "            background-color:  #bfd8ed;\n",
       "            color:  #000000;\n",
       "        }    #T_f2b9d8e2_8fee_11ea_850f_a0999b01858drow5_col23 {\n",
       "            background-color:  #f0f6fd;\n",
       "            color:  #000000;\n",
       "        }    #T_f2b9d8e2_8fee_11ea_850f_a0999b01858drow5_col24 {\n",
       "            background-color:  #c4daee;\n",
       "            color:  #000000;\n",
       "        }    #T_f2b9d8e2_8fee_11ea_850f_a0999b01858drow5_col25 {\n",
       "            background-color:  #e6f0f9;\n",
       "            color:  #000000;\n",
       "        }    #T_f2b9d8e2_8fee_11ea_850f_a0999b01858drow6_col0 {\n",
       "            background-color:  #dae8f6;\n",
       "            color:  #000000;\n",
       "        }    #T_f2b9d8e2_8fee_11ea_850f_a0999b01858drow6_col1 {\n",
       "            background-color:  #f1f7fd;\n",
       "            color:  #000000;\n",
       "        }    #T_f2b9d8e2_8fee_11ea_850f_a0999b01858drow6_col2 {\n",
       "            background-color:  #f7fbff;\n",
       "            color:  #000000;\n",
       "        }    #T_f2b9d8e2_8fee_11ea_850f_a0999b01858drow6_col3 {\n",
       "            background-color:  #dfecf7;\n",
       "            color:  #000000;\n",
       "        }    #T_f2b9d8e2_8fee_11ea_850f_a0999b01858drow6_col4 {\n",
       "            background-color:  #f0f6fd;\n",
       "            color:  #000000;\n",
       "        }    #T_f2b9d8e2_8fee_11ea_850f_a0999b01858drow6_col5 {\n",
       "            background-color:  #eef5fc;\n",
       "            color:  #000000;\n",
       "        }    #T_f2b9d8e2_8fee_11ea_850f_a0999b01858drow6_col6 {\n",
       "            background-color:  #08306b;\n",
       "            color:  #f1f1f1;\n",
       "        }    #T_f2b9d8e2_8fee_11ea_850f_a0999b01858drow6_col7 {\n",
       "            background-color:  #deebf7;\n",
       "            color:  #000000;\n",
       "        }    #T_f2b9d8e2_8fee_11ea_850f_a0999b01858drow6_col8 {\n",
       "            background-color:  #d6e6f4;\n",
       "            color:  #000000;\n",
       "        }    #T_f2b9d8e2_8fee_11ea_850f_a0999b01858drow6_col9 {\n",
       "            background-color:  #d2e3f3;\n",
       "            color:  #000000;\n",
       "        }    #T_f2b9d8e2_8fee_11ea_850f_a0999b01858drow6_col10 {\n",
       "            background-color:  #ebf3fb;\n",
       "            color:  #000000;\n",
       "        }    #T_f2b9d8e2_8fee_11ea_850f_a0999b01858drow6_col11 {\n",
       "            background-color:  #f2f7fd;\n",
       "            color:  #000000;\n",
       "        }    #T_f2b9d8e2_8fee_11ea_850f_a0999b01858drow6_col12 {\n",
       "            background-color:  #f3f8fe;\n",
       "            color:  #000000;\n",
       "        }    #T_f2b9d8e2_8fee_11ea_850f_a0999b01858drow6_col13 {\n",
       "            background-color:  #f5f9fe;\n",
       "            color:  #000000;\n",
       "        }    #T_f2b9d8e2_8fee_11ea_850f_a0999b01858drow6_col14 {\n",
       "            background-color:  #ecf4fb;\n",
       "            color:  #000000;\n",
       "        }    #T_f2b9d8e2_8fee_11ea_850f_a0999b01858drow6_col15 {\n",
       "            background-color:  #e3eef8;\n",
       "            color:  #000000;\n",
       "        }    #T_f2b9d8e2_8fee_11ea_850f_a0999b01858drow6_col16 {\n",
       "            background-color:  #e4eff9;\n",
       "            color:  #000000;\n",
       "        }    #T_f2b9d8e2_8fee_11ea_850f_a0999b01858drow6_col17 {\n",
       "            background-color:  #e9f2fa;\n",
       "            color:  #000000;\n",
       "        }    #T_f2b9d8e2_8fee_11ea_850f_a0999b01858drow6_col18 {\n",
       "            background-color:  #ecf4fb;\n",
       "            color:  #000000;\n",
       "        }    #T_f2b9d8e2_8fee_11ea_850f_a0999b01858drow6_col19 {\n",
       "            background-color:  #f3f8fe;\n",
       "            color:  #000000;\n",
       "        }    #T_f2b9d8e2_8fee_11ea_850f_a0999b01858drow6_col20 {\n",
       "            background-color:  #f6faff;\n",
       "            color:  #000000;\n",
       "        }    #T_f2b9d8e2_8fee_11ea_850f_a0999b01858drow6_col21 {\n",
       "            background-color:  #f6faff;\n",
       "            color:  #000000;\n",
       "        }    #T_f2b9d8e2_8fee_11ea_850f_a0999b01858drow6_col22 {\n",
       "            background-color:  #e8f1fa;\n",
       "            color:  #000000;\n",
       "        }    #T_f2b9d8e2_8fee_11ea_850f_a0999b01858drow6_col23 {\n",
       "            background-color:  #f3f8fe;\n",
       "            color:  #000000;\n",
       "        }    #T_f2b9d8e2_8fee_11ea_850f_a0999b01858drow6_col24 {\n",
       "            background-color:  #f0f6fd;\n",
       "            color:  #000000;\n",
       "        }    #T_f2b9d8e2_8fee_11ea_850f_a0999b01858drow6_col25 {\n",
       "            background-color:  #dfebf7;\n",
       "            color:  #000000;\n",
       "        }    #T_f2b9d8e2_8fee_11ea_850f_a0999b01858drow7_col0 {\n",
       "            background-color:  #e2edf8;\n",
       "            color:  #000000;\n",
       "        }    #T_f2b9d8e2_8fee_11ea_850f_a0999b01858drow7_col1 {\n",
       "            background-color:  #f3f8fe;\n",
       "            color:  #000000;\n",
       "        }    #T_f2b9d8e2_8fee_11ea_850f_a0999b01858drow7_col2 {\n",
       "            background-color:  #f7fbff;\n",
       "            color:  #000000;\n",
       "        }    #T_f2b9d8e2_8fee_11ea_850f_a0999b01858drow7_col3 {\n",
       "            background-color:  #dfebf7;\n",
       "            color:  #000000;\n",
       "        }    #T_f2b9d8e2_8fee_11ea_850f_a0999b01858drow7_col4 {\n",
       "            background-color:  #f2f7fd;\n",
       "            color:  #000000;\n",
       "        }    #T_f2b9d8e2_8fee_11ea_850f_a0999b01858drow7_col5 {\n",
       "            background-color:  #f5f9fe;\n",
       "            color:  #000000;\n",
       "        }    #T_f2b9d8e2_8fee_11ea_850f_a0999b01858drow7_col6 {\n",
       "            background-color:  #e0ecf8;\n",
       "            color:  #000000;\n",
       "        }    #T_f2b9d8e2_8fee_11ea_850f_a0999b01858drow7_col7 {\n",
       "            background-color:  #08306b;\n",
       "            color:  #f1f1f1;\n",
       "        }    #T_f2b9d8e2_8fee_11ea_850f_a0999b01858drow7_col8 {\n",
       "            background-color:  #b2d2e8;\n",
       "            color:  #000000;\n",
       "        }    #T_f2b9d8e2_8fee_11ea_850f_a0999b01858drow7_col9 {\n",
       "            background-color:  #d8e7f5;\n",
       "            color:  #000000;\n",
       "        }    #T_f2b9d8e2_8fee_11ea_850f_a0999b01858drow7_col10 {\n",
       "            background-color:  #ebf3fb;\n",
       "            color:  #000000;\n",
       "        }    #T_f2b9d8e2_8fee_11ea_850f_a0999b01858drow7_col11 {\n",
       "            background-color:  #f0f6fd;\n",
       "            color:  #000000;\n",
       "        }    #T_f2b9d8e2_8fee_11ea_850f_a0999b01858drow7_col12 {\n",
       "            background-color:  #f3f8fe;\n",
       "            color:  #000000;\n",
       "        }    #T_f2b9d8e2_8fee_11ea_850f_a0999b01858drow7_col13 {\n",
       "            background-color:  #f5f9fe;\n",
       "            color:  #000000;\n",
       "        }    #T_f2b9d8e2_8fee_11ea_850f_a0999b01858drow7_col14 {\n",
       "            background-color:  #eaf2fb;\n",
       "            color:  #000000;\n",
       "        }    #T_f2b9d8e2_8fee_11ea_850f_a0999b01858drow7_col15 {\n",
       "            background-color:  #e5eff9;\n",
       "            color:  #000000;\n",
       "        }    #T_f2b9d8e2_8fee_11ea_850f_a0999b01858drow7_col16 {\n",
       "            background-color:  #e9f2fa;\n",
       "            color:  #000000;\n",
       "        }    #T_f2b9d8e2_8fee_11ea_850f_a0999b01858drow7_col17 {\n",
       "            background-color:  #ebf3fb;\n",
       "            color:  #000000;\n",
       "        }    #T_f2b9d8e2_8fee_11ea_850f_a0999b01858drow7_col18 {\n",
       "            background-color:  #edf4fc;\n",
       "            color:  #000000;\n",
       "        }    #T_f2b9d8e2_8fee_11ea_850f_a0999b01858drow7_col19 {\n",
       "            background-color:  #f5fafe;\n",
       "            color:  #000000;\n",
       "        }    #T_f2b9d8e2_8fee_11ea_850f_a0999b01858drow7_col20 {\n",
       "            background-color:  #f7fbff;\n",
       "            color:  #000000;\n",
       "        }    #T_f2b9d8e2_8fee_11ea_850f_a0999b01858drow7_col21 {\n",
       "            background-color:  #f5fafe;\n",
       "            color:  #000000;\n",
       "        }    #T_f2b9d8e2_8fee_11ea_850f_a0999b01858drow7_col22 {\n",
       "            background-color:  #e1edf8;\n",
       "            color:  #000000;\n",
       "        }    #T_f2b9d8e2_8fee_11ea_850f_a0999b01858drow7_col23 {\n",
       "            background-color:  #f2f7fd;\n",
       "            color:  #000000;\n",
       "        }    #T_f2b9d8e2_8fee_11ea_850f_a0999b01858drow7_col24 {\n",
       "            background-color:  #eef5fc;\n",
       "            color:  #000000;\n",
       "        }    #T_f2b9d8e2_8fee_11ea_850f_a0999b01858drow7_col25 {\n",
       "            background-color:  #dbe9f6;\n",
       "            color:  #000000;\n",
       "        }    #T_f2b9d8e2_8fee_11ea_850f_a0999b01858drow8_col0 {\n",
       "            background-color:  #e5eff9;\n",
       "            color:  #000000;\n",
       "        }    #T_f2b9d8e2_8fee_11ea_850f_a0999b01858drow8_col1 {\n",
       "            background-color:  #eaf3fb;\n",
       "            color:  #000000;\n",
       "        }    #T_f2b9d8e2_8fee_11ea_850f_a0999b01858drow8_col2 {\n",
       "            background-color:  #e7f0fa;\n",
       "            color:  #000000;\n",
       "        }    #T_f2b9d8e2_8fee_11ea_850f_a0999b01858drow8_col3 {\n",
       "            background-color:  #d8e7f5;\n",
       "            color:  #000000;\n",
       "        }    #T_f2b9d8e2_8fee_11ea_850f_a0999b01858drow8_col4 {\n",
       "            background-color:  #f7fbff;\n",
       "            color:  #000000;\n",
       "        }    #T_f2b9d8e2_8fee_11ea_850f_a0999b01858drow8_col5 {\n",
       "            background-color:  #eaf3fb;\n",
       "            color:  #000000;\n",
       "        }    #T_f2b9d8e2_8fee_11ea_850f_a0999b01858drow8_col6 {\n",
       "            background-color:  #ddeaf7;\n",
       "            color:  #000000;\n",
       "        }    #T_f2b9d8e2_8fee_11ea_850f_a0999b01858drow8_col7 {\n",
       "            background-color:  #b8d5ea;\n",
       "            color:  #000000;\n",
       "        }    #T_f2b9d8e2_8fee_11ea_850f_a0999b01858drow8_col8 {\n",
       "            background-color:  #08306b;\n",
       "            color:  #f1f1f1;\n",
       "        }    #T_f2b9d8e2_8fee_11ea_850f_a0999b01858drow8_col9 {\n",
       "            background-color:  #d0e1f2;\n",
       "            color:  #000000;\n",
       "        }    #T_f2b9d8e2_8fee_11ea_850f_a0999b01858drow8_col10 {\n",
       "            background-color:  #f7fbff;\n",
       "            color:  #000000;\n",
       "        }    #T_f2b9d8e2_8fee_11ea_850f_a0999b01858drow8_col11 {\n",
       "            background-color:  #f0f6fd;\n",
       "            color:  #000000;\n",
       "        }    #T_f2b9d8e2_8fee_11ea_850f_a0999b01858drow8_col12 {\n",
       "            background-color:  #f5f9fe;\n",
       "            color:  #000000;\n",
       "        }    #T_f2b9d8e2_8fee_11ea_850f_a0999b01858drow8_col13 {\n",
       "            background-color:  #f5fafe;\n",
       "            color:  #000000;\n",
       "        }    #T_f2b9d8e2_8fee_11ea_850f_a0999b01858drow8_col14 {\n",
       "            background-color:  #ecf4fb;\n",
       "            color:  #000000;\n",
       "        }    #T_f2b9d8e2_8fee_11ea_850f_a0999b01858drow8_col15 {\n",
       "            background-color:  #e8f1fa;\n",
       "            color:  #000000;\n",
       "        }    #T_f2b9d8e2_8fee_11ea_850f_a0999b01858drow8_col16 {\n",
       "            background-color:  #eaf3fb;\n",
       "            color:  #000000;\n",
       "        }    #T_f2b9d8e2_8fee_11ea_850f_a0999b01858drow8_col17 {\n",
       "            background-color:  #f0f6fd;\n",
       "            color:  #000000;\n",
       "        }    #T_f2b9d8e2_8fee_11ea_850f_a0999b01858drow8_col18 {\n",
       "            background-color:  #eff6fc;\n",
       "            color:  #000000;\n",
       "        }    #T_f2b9d8e2_8fee_11ea_850f_a0999b01858drow8_col19 {\n",
       "            background-color:  #f5f9fe;\n",
       "            color:  #000000;\n",
       "        }    #T_f2b9d8e2_8fee_11ea_850f_a0999b01858drow8_col20 {\n",
       "            background-color:  #f6faff;\n",
       "            color:  #000000;\n",
       "        }    #T_f2b9d8e2_8fee_11ea_850f_a0999b01858drow8_col21 {\n",
       "            background-color:  #f6faff;\n",
       "            color:  #000000;\n",
       "        }    #T_f2b9d8e2_8fee_11ea_850f_a0999b01858drow8_col22 {\n",
       "            background-color:  #dce9f6;\n",
       "            color:  #000000;\n",
       "        }    #T_f2b9d8e2_8fee_11ea_850f_a0999b01858drow8_col23 {\n",
       "            background-color:  #f4f9fe;\n",
       "            color:  #000000;\n",
       "        }    #T_f2b9d8e2_8fee_11ea_850f_a0999b01858drow8_col24 {\n",
       "            background-color:  #f0f6fd;\n",
       "            color:  #000000;\n",
       "        }    #T_f2b9d8e2_8fee_11ea_850f_a0999b01858drow8_col25 {\n",
       "            background-color:  #c6dbef;\n",
       "            color:  #000000;\n",
       "        }    #T_f2b9d8e2_8fee_11ea_850f_a0999b01858drow9_col0 {\n",
       "            background-color:  #f4f9fe;\n",
       "            color:  #000000;\n",
       "        }    #T_f2b9d8e2_8fee_11ea_850f_a0999b01858drow9_col1 {\n",
       "            background-color:  #e7f0fa;\n",
       "            color:  #000000;\n",
       "        }    #T_f2b9d8e2_8fee_11ea_850f_a0999b01858drow9_col2 {\n",
       "            background-color:  #ccdff1;\n",
       "            color:  #000000;\n",
       "        }    #T_f2b9d8e2_8fee_11ea_850f_a0999b01858drow9_col3 {\n",
       "            background-color:  #c4daee;\n",
       "            color:  #000000;\n",
       "        }    #T_f2b9d8e2_8fee_11ea_850f_a0999b01858drow9_col4 {\n",
       "            background-color:  #dfecf7;\n",
       "            color:  #000000;\n",
       "        }    #T_f2b9d8e2_8fee_11ea_850f_a0999b01858drow9_col5 {\n",
       "            background-color:  #c7dbef;\n",
       "            color:  #000000;\n",
       "        }    #T_f2b9d8e2_8fee_11ea_850f_a0999b01858drow9_col6 {\n",
       "            background-color:  #e0ecf8;\n",
       "            color:  #000000;\n",
       "        }    #T_f2b9d8e2_8fee_11ea_850f_a0999b01858drow9_col7 {\n",
       "            background-color:  #e5eff9;\n",
       "            color:  #000000;\n",
       "        }    #T_f2b9d8e2_8fee_11ea_850f_a0999b01858drow9_col8 {\n",
       "            background-color:  #d7e6f5;\n",
       "            color:  #000000;\n",
       "        }    #T_f2b9d8e2_8fee_11ea_850f_a0999b01858drow9_col9 {\n",
       "            background-color:  #08306b;\n",
       "            color:  #f1f1f1;\n",
       "        }    #T_f2b9d8e2_8fee_11ea_850f_a0999b01858drow9_col10 {\n",
       "            background-color:  #f7fbff;\n",
       "            color:  #000000;\n",
       "        }    #T_f2b9d8e2_8fee_11ea_850f_a0999b01858drow9_col11 {\n",
       "            background-color:  #eaf3fb;\n",
       "            color:  #000000;\n",
       "        }    #T_f2b9d8e2_8fee_11ea_850f_a0999b01858drow9_col12 {\n",
       "            background-color:  #f0f6fd;\n",
       "            color:  #000000;\n",
       "        }    #T_f2b9d8e2_8fee_11ea_850f_a0999b01858drow9_col13 {\n",
       "            background-color:  #f6faff;\n",
       "            color:  #000000;\n",
       "        }    #T_f2b9d8e2_8fee_11ea_850f_a0999b01858drow9_col14 {\n",
       "            background-color:  #e8f1fa;\n",
       "            color:  #000000;\n",
       "        }    #T_f2b9d8e2_8fee_11ea_850f_a0999b01858drow9_col15 {\n",
       "            background-color:  #e6f0f9;\n",
       "            color:  #000000;\n",
       "        }    #T_f2b9d8e2_8fee_11ea_850f_a0999b01858drow9_col16 {\n",
       "            background-color:  #eaf2fb;\n",
       "            color:  #000000;\n",
       "        }    #T_f2b9d8e2_8fee_11ea_850f_a0999b01858drow9_col17 {\n",
       "            background-color:  #ebf3fb;\n",
       "            color:  #000000;\n",
       "        }    #T_f2b9d8e2_8fee_11ea_850f_a0999b01858drow9_col18 {\n",
       "            background-color:  #eef5fc;\n",
       "            color:  #000000;\n",
       "        }    #T_f2b9d8e2_8fee_11ea_850f_a0999b01858drow9_col19 {\n",
       "            background-color:  #f4f9fe;\n",
       "            color:  #000000;\n",
       "        }    #T_f2b9d8e2_8fee_11ea_850f_a0999b01858drow9_col20 {\n",
       "            background-color:  #f6faff;\n",
       "            color:  #000000;\n",
       "        }    #T_f2b9d8e2_8fee_11ea_850f_a0999b01858drow9_col21 {\n",
       "            background-color:  #f7fbff;\n",
       "            color:  #000000;\n",
       "        }    #T_f2b9d8e2_8fee_11ea_850f_a0999b01858drow9_col22 {\n",
       "            background-color:  #d8e7f5;\n",
       "            color:  #000000;\n",
       "        }    #T_f2b9d8e2_8fee_11ea_850f_a0999b01858drow9_col23 {\n",
       "            background-color:  #f4f9fe;\n",
       "            color:  #000000;\n",
       "        }    #T_f2b9d8e2_8fee_11ea_850f_a0999b01858drow9_col24 {\n",
       "            background-color:  #eaf3fb;\n",
       "            color:  #000000;\n",
       "        }    #T_f2b9d8e2_8fee_11ea_850f_a0999b01858drow9_col25 {\n",
       "            background-color:  #dae8f6;\n",
       "            color:  #000000;\n",
       "        }    #T_f2b9d8e2_8fee_11ea_850f_a0999b01858drow10_col0 {\n",
       "            background-color:  #dce9f6;\n",
       "            color:  #000000;\n",
       "        }    #T_f2b9d8e2_8fee_11ea_850f_a0999b01858drow10_col1 {\n",
       "            background-color:  #f1f7fd;\n",
       "            color:  #000000;\n",
       "        }    #T_f2b9d8e2_8fee_11ea_850f_a0999b01858drow10_col2 {\n",
       "            background-color:  #f6faff;\n",
       "            color:  #000000;\n",
       "        }    #T_f2b9d8e2_8fee_11ea_850f_a0999b01858drow10_col3 {\n",
       "            background-color:  #e7f0fa;\n",
       "            color:  #000000;\n",
       "        }    #T_f2b9d8e2_8fee_11ea_850f_a0999b01858drow10_col4 {\n",
       "            background-color:  #f2f8fd;\n",
       "            color:  #000000;\n",
       "        }    #T_f2b9d8e2_8fee_11ea_850f_a0999b01858drow10_col5 {\n",
       "            background-color:  #e9f2fa;\n",
       "            color:  #000000;\n",
       "        }    #T_f2b9d8e2_8fee_11ea_850f_a0999b01858drow10_col6 {\n",
       "            background-color:  #f5f9fe;\n",
       "            color:  #000000;\n",
       "        }    #T_f2b9d8e2_8fee_11ea_850f_a0999b01858drow10_col7 {\n",
       "            background-color:  #f2f7fd;\n",
       "            color:  #000000;\n",
       "        }    #T_f2b9d8e2_8fee_11ea_850f_a0999b01858drow10_col8 {\n",
       "            background-color:  #f7fbff;\n",
       "            color:  #000000;\n",
       "        }    #T_f2b9d8e2_8fee_11ea_850f_a0999b01858drow10_col9 {\n",
       "            background-color:  #eff6fc;\n",
       "            color:  #000000;\n",
       "        }    #T_f2b9d8e2_8fee_11ea_850f_a0999b01858drow10_col10 {\n",
       "            background-color:  #08306b;\n",
       "            color:  #f1f1f1;\n",
       "        }    #T_f2b9d8e2_8fee_11ea_850f_a0999b01858drow10_col11 {\n",
       "            background-color:  #f3f8fe;\n",
       "            color:  #000000;\n",
       "        }    #T_f2b9d8e2_8fee_11ea_850f_a0999b01858drow10_col12 {\n",
       "            background-color:  #f0f6fd;\n",
       "            color:  #000000;\n",
       "        }    #T_f2b9d8e2_8fee_11ea_850f_a0999b01858drow10_col13 {\n",
       "            background-color:  #f6faff;\n",
       "            color:  #000000;\n",
       "        }    #T_f2b9d8e2_8fee_11ea_850f_a0999b01858drow10_col14 {\n",
       "            background-color:  #e2edf8;\n",
       "            color:  #000000;\n",
       "        }    #T_f2b9d8e2_8fee_11ea_850f_a0999b01858drow10_col15 {\n",
       "            background-color:  #d6e5f4;\n",
       "            color:  #000000;\n",
       "        }    #T_f2b9d8e2_8fee_11ea_850f_a0999b01858drow10_col16 {\n",
       "            background-color:  #cbdef1;\n",
       "            color:  #000000;\n",
       "        }    #T_f2b9d8e2_8fee_11ea_850f_a0999b01858drow10_col17 {\n",
       "            background-color:  #e0ecf8;\n",
       "            color:  #000000;\n",
       "        }    #T_f2b9d8e2_8fee_11ea_850f_a0999b01858drow10_col18 {\n",
       "            background-color:  #d9e8f5;\n",
       "            color:  #000000;\n",
       "        }    #T_f2b9d8e2_8fee_11ea_850f_a0999b01858drow10_col19 {\n",
       "            background-color:  #f3f8fe;\n",
       "            color:  #000000;\n",
       "        }    #T_f2b9d8e2_8fee_11ea_850f_a0999b01858drow10_col20 {\n",
       "            background-color:  #f5f9fe;\n",
       "            color:  #000000;\n",
       "        }    #T_f2b9d8e2_8fee_11ea_850f_a0999b01858drow10_col21 {\n",
       "            background-color:  #f5f9fe;\n",
       "            color:  #000000;\n",
       "        }    #T_f2b9d8e2_8fee_11ea_850f_a0999b01858drow10_col22 {\n",
       "            background-color:  #eff6fc;\n",
       "            color:  #000000;\n",
       "        }    #T_f2b9d8e2_8fee_11ea_850f_a0999b01858drow10_col23 {\n",
       "            background-color:  #f6faff;\n",
       "            color:  #000000;\n",
       "        }    #T_f2b9d8e2_8fee_11ea_850f_a0999b01858drow10_col24 {\n",
       "            background-color:  #add0e6;\n",
       "            color:  #000000;\n",
       "        }    #T_f2b9d8e2_8fee_11ea_850f_a0999b01858drow10_col25 {\n",
       "            background-color:  #f4f9fe;\n",
       "            color:  #000000;\n",
       "        }    #T_f2b9d8e2_8fee_11ea_850f_a0999b01858drow11_col0 {\n",
       "            background-color:  #dfebf7;\n",
       "            color:  #000000;\n",
       "        }    #T_f2b9d8e2_8fee_11ea_850f_a0999b01858drow11_col1 {\n",
       "            background-color:  #eff6fc;\n",
       "            color:  #000000;\n",
       "        }    #T_f2b9d8e2_8fee_11ea_850f_a0999b01858drow11_col2 {\n",
       "            background-color:  #eef5fc;\n",
       "            color:  #000000;\n",
       "        }    #T_f2b9d8e2_8fee_11ea_850f_a0999b01858drow11_col3 {\n",
       "            background-color:  #dceaf6;\n",
       "            color:  #000000;\n",
       "        }    #T_f2b9d8e2_8fee_11ea_850f_a0999b01858drow11_col4 {\n",
       "            background-color:  #eaf2fb;\n",
       "            color:  #000000;\n",
       "        }    #T_f2b9d8e2_8fee_11ea_850f_a0999b01858drow11_col5 {\n",
       "            background-color:  #f2f8fd;\n",
       "            color:  #000000;\n",
       "        }    #T_f2b9d8e2_8fee_11ea_850f_a0999b01858drow11_col6 {\n",
       "            background-color:  #f2f7fd;\n",
       "            color:  #000000;\n",
       "        }    #T_f2b9d8e2_8fee_11ea_850f_a0999b01858drow11_col7 {\n",
       "            background-color:  #eef5fc;\n",
       "            color:  #000000;\n",
       "        }    #T_f2b9d8e2_8fee_11ea_850f_a0999b01858drow11_col8 {\n",
       "            background-color:  #e7f1fa;\n",
       "            color:  #000000;\n",
       "        }    #T_f2b9d8e2_8fee_11ea_850f_a0999b01858drow11_col9 {\n",
       "            background-color:  #dbe9f6;\n",
       "            color:  #000000;\n",
       "        }    #T_f2b9d8e2_8fee_11ea_850f_a0999b01858drow11_col10 {\n",
       "            background-color:  #eaf2fb;\n",
       "            color:  #000000;\n",
       "        }    #T_f2b9d8e2_8fee_11ea_850f_a0999b01858drow11_col11 {\n",
       "            background-color:  #08306b;\n",
       "            color:  #f1f1f1;\n",
       "        }    #T_f2b9d8e2_8fee_11ea_850f_a0999b01858drow11_col12 {\n",
       "            background-color:  #f4f9fe;\n",
       "            color:  #000000;\n",
       "        }    #T_f2b9d8e2_8fee_11ea_850f_a0999b01858drow11_col13 {\n",
       "            background-color:  #f5f9fe;\n",
       "            color:  #000000;\n",
       "        }    #T_f2b9d8e2_8fee_11ea_850f_a0999b01858drow11_col14 {\n",
       "            background-color:  #eaf3fb;\n",
       "            color:  #000000;\n",
       "        }    #T_f2b9d8e2_8fee_11ea_850f_a0999b01858drow11_col15 {\n",
       "            background-color:  #e7f1fa;\n",
       "            color:  #000000;\n",
       "        }    #T_f2b9d8e2_8fee_11ea_850f_a0999b01858drow11_col16 {\n",
       "            background-color:  #e8f1fa;\n",
       "            color:  #000000;\n",
       "        }    #T_f2b9d8e2_8fee_11ea_850f_a0999b01858drow11_col17 {\n",
       "            background-color:  #e7f1fa;\n",
       "            color:  #000000;\n",
       "        }    #T_f2b9d8e2_8fee_11ea_850f_a0999b01858drow11_col18 {\n",
       "            background-color:  #e9f2fa;\n",
       "            color:  #000000;\n",
       "        }    #T_f2b9d8e2_8fee_11ea_850f_a0999b01858drow11_col19 {\n",
       "            background-color:  #f2f8fd;\n",
       "            color:  #000000;\n",
       "        }    #T_f2b9d8e2_8fee_11ea_850f_a0999b01858drow11_col20 {\n",
       "            background-color:  #f4f9fe;\n",
       "            color:  #000000;\n",
       "        }    #T_f2b9d8e2_8fee_11ea_850f_a0999b01858drow11_col21 {\n",
       "            background-color:  #f5fafe;\n",
       "            color:  #000000;\n",
       "        }    #T_f2b9d8e2_8fee_11ea_850f_a0999b01858drow11_col22 {\n",
       "            background-color:  #e7f1fa;\n",
       "            color:  #000000;\n",
       "        }    #T_f2b9d8e2_8fee_11ea_850f_a0999b01858drow11_col23 {\n",
       "            background-color:  #f3f8fe;\n",
       "            color:  #000000;\n",
       "        }    #T_f2b9d8e2_8fee_11ea_850f_a0999b01858drow11_col24 {\n",
       "            background-color:  #e6f0f9;\n",
       "            color:  #000000;\n",
       "        }    #T_f2b9d8e2_8fee_11ea_850f_a0999b01858drow11_col25 {\n",
       "            background-color:  #eaf3fb;\n",
       "            color:  #000000;\n",
       "        }    #T_f2b9d8e2_8fee_11ea_850f_a0999b01858drow12_col0 {\n",
       "            background-color:  #e0ecf8;\n",
       "            color:  #000000;\n",
       "        }    #T_f2b9d8e2_8fee_11ea_850f_a0999b01858drow12_col1 {\n",
       "            background-color:  #f1f7fd;\n",
       "            color:  #000000;\n",
       "        }    #T_f2b9d8e2_8fee_11ea_850f_a0999b01858drow12_col2 {\n",
       "            background-color:  #f4f9fe;\n",
       "            color:  #000000;\n",
       "        }    #T_f2b9d8e2_8fee_11ea_850f_a0999b01858drow12_col3 {\n",
       "            background-color:  #dfecf7;\n",
       "            color:  #000000;\n",
       "        }    #T_f2b9d8e2_8fee_11ea_850f_a0999b01858drow12_col4 {\n",
       "            background-color:  #ebf3fb;\n",
       "            color:  #000000;\n",
       "        }    #T_f2b9d8e2_8fee_11ea_850f_a0999b01858drow12_col5 {\n",
       "            background-color:  #f2f8fd;\n",
       "            color:  #000000;\n",
       "        }    #T_f2b9d8e2_8fee_11ea_850f_a0999b01858drow12_col6 {\n",
       "            background-color:  #f2f8fd;\n",
       "            color:  #000000;\n",
       "        }    #T_f2b9d8e2_8fee_11ea_850f_a0999b01858drow12_col7 {\n",
       "            background-color:  #eff6fc;\n",
       "            color:  #000000;\n",
       "        }    #T_f2b9d8e2_8fee_11ea_850f_a0999b01858drow12_col8 {\n",
       "            background-color:  #ebf3fb;\n",
       "            color:  #000000;\n",
       "        }    #T_f2b9d8e2_8fee_11ea_850f_a0999b01858drow12_col9 {\n",
       "            background-color:  #dfebf7;\n",
       "            color:  #000000;\n",
       "        }    #T_f2b9d8e2_8fee_11ea_850f_a0999b01858drow12_col10 {\n",
       "            background-color:  #e7f0fa;\n",
       "            color:  #000000;\n",
       "        }    #T_f2b9d8e2_8fee_11ea_850f_a0999b01858drow12_col11 {\n",
       "            background-color:  #f2f8fd;\n",
       "            color:  #000000;\n",
       "        }    #T_f2b9d8e2_8fee_11ea_850f_a0999b01858drow12_col12 {\n",
       "            background-color:  #08306b;\n",
       "            color:  #f1f1f1;\n",
       "        }    #T_f2b9d8e2_8fee_11ea_850f_a0999b01858drow12_col13 {\n",
       "            background-color:  #f4f9fe;\n",
       "            color:  #000000;\n",
       "        }    #T_f2b9d8e2_8fee_11ea_850f_a0999b01858drow12_col14 {\n",
       "            background-color:  #e8f1fa;\n",
       "            color:  #000000;\n",
       "        }    #T_f2b9d8e2_8fee_11ea_850f_a0999b01858drow12_col15 {\n",
       "            background-color:  #e7f0fa;\n",
       "            color:  #000000;\n",
       "        }    #T_f2b9d8e2_8fee_11ea_850f_a0999b01858drow12_col16 {\n",
       "            background-color:  #e7f1fa;\n",
       "            color:  #000000;\n",
       "        }    #T_f2b9d8e2_8fee_11ea_850f_a0999b01858drow12_col17 {\n",
       "            background-color:  #e7f0fa;\n",
       "            color:  #000000;\n",
       "        }    #T_f2b9d8e2_8fee_11ea_850f_a0999b01858drow12_col18 {\n",
       "            background-color:  #e8f1fa;\n",
       "            color:  #000000;\n",
       "        }    #T_f2b9d8e2_8fee_11ea_850f_a0999b01858drow12_col19 {\n",
       "            background-color:  #f5fafe;\n",
       "            color:  #000000;\n",
       "        }    #T_f2b9d8e2_8fee_11ea_850f_a0999b01858drow12_col20 {\n",
       "            background-color:  #f5f9fe;\n",
       "            color:  #000000;\n",
       "        }    #T_f2b9d8e2_8fee_11ea_850f_a0999b01858drow12_col21 {\n",
       "            background-color:  #f5fafe;\n",
       "            color:  #000000;\n",
       "        }    #T_f2b9d8e2_8fee_11ea_850f_a0999b01858drow12_col22 {\n",
       "            background-color:  #e8f1fa;\n",
       "            color:  #000000;\n",
       "        }    #T_f2b9d8e2_8fee_11ea_850f_a0999b01858drow12_col23 {\n",
       "            background-color:  #f2f8fd;\n",
       "            color:  #000000;\n",
       "        }    #T_f2b9d8e2_8fee_11ea_850f_a0999b01858drow12_col24 {\n",
       "            background-color:  #eaf2fb;\n",
       "            color:  #000000;\n",
       "        }    #T_f2b9d8e2_8fee_11ea_850f_a0999b01858drow12_col25 {\n",
       "            background-color:  #eef5fc;\n",
       "            color:  #000000;\n",
       "        }    #T_f2b9d8e2_8fee_11ea_850f_a0999b01858drow13_col0 {\n",
       "            background-color:  #ddeaf7;\n",
       "            color:  #000000;\n",
       "        }    #T_f2b9d8e2_8fee_11ea_850f_a0999b01858drow13_col1 {\n",
       "            background-color:  #ebf3fb;\n",
       "            color:  #000000;\n",
       "        }    #T_f2b9d8e2_8fee_11ea_850f_a0999b01858drow13_col2 {\n",
       "            background-color:  #f5f9fe;\n",
       "            color:  #000000;\n",
       "        }    #T_f2b9d8e2_8fee_11ea_850f_a0999b01858drow13_col3 {\n",
       "            background-color:  #dfebf7;\n",
       "            color:  #000000;\n",
       "        }    #T_f2b9d8e2_8fee_11ea_850f_a0999b01858drow13_col4 {\n",
       "            background-color:  #e9f2fa;\n",
       "            color:  #000000;\n",
       "        }    #T_f2b9d8e2_8fee_11ea_850f_a0999b01858drow13_col5 {\n",
       "            background-color:  #f6faff;\n",
       "            color:  #000000;\n",
       "        }    #T_f2b9d8e2_8fee_11ea_850f_a0999b01858drow13_col6 {\n",
       "            background-color:  #f3f8fe;\n",
       "            color:  #000000;\n",
       "        }    #T_f2b9d8e2_8fee_11ea_850f_a0999b01858drow13_col7 {\n",
       "            background-color:  #f1f7fd;\n",
       "            color:  #000000;\n",
       "        }    #T_f2b9d8e2_8fee_11ea_850f_a0999b01858drow13_col8 {\n",
       "            background-color:  #ebf3fb;\n",
       "            color:  #000000;\n",
       "        }    #T_f2b9d8e2_8fee_11ea_850f_a0999b01858drow13_col9 {\n",
       "            background-color:  #e4eff9;\n",
       "            color:  #000000;\n",
       "        }    #T_f2b9d8e2_8fee_11ea_850f_a0999b01858drow13_col10 {\n",
       "            background-color:  #ebf3fb;\n",
       "            color:  #000000;\n",
       "        }    #T_f2b9d8e2_8fee_11ea_850f_a0999b01858drow13_col11 {\n",
       "            background-color:  #f3f8fe;\n",
       "            color:  #000000;\n",
       "        }    #T_f2b9d8e2_8fee_11ea_850f_a0999b01858drow13_col12 {\n",
       "            background-color:  #f4f9fe;\n",
       "            color:  #000000;\n",
       "        }    #T_f2b9d8e2_8fee_11ea_850f_a0999b01858drow13_col13 {\n",
       "            background-color:  #08306b;\n",
       "            color:  #f1f1f1;\n",
       "        }    #T_f2b9d8e2_8fee_11ea_850f_a0999b01858drow13_col14 {\n",
       "            background-color:  #eaf3fb;\n",
       "            color:  #000000;\n",
       "        }    #T_f2b9d8e2_8fee_11ea_850f_a0999b01858drow13_col15 {\n",
       "            background-color:  #e6f0f9;\n",
       "            color:  #000000;\n",
       "        }    #T_f2b9d8e2_8fee_11ea_850f_a0999b01858drow13_col16 {\n",
       "            background-color:  #e5eff9;\n",
       "            color:  #000000;\n",
       "        }    #T_f2b9d8e2_8fee_11ea_850f_a0999b01858drow13_col17 {\n",
       "            background-color:  #ecf4fb;\n",
       "            color:  #000000;\n",
       "        }    #T_f2b9d8e2_8fee_11ea_850f_a0999b01858drow13_col18 {\n",
       "            background-color:  #ebf3fb;\n",
       "            color:  #000000;\n",
       "        }    #T_f2b9d8e2_8fee_11ea_850f_a0999b01858drow13_col19 {\n",
       "            background-color:  #f5fafe;\n",
       "            color:  #000000;\n",
       "        }    #T_f2b9d8e2_8fee_11ea_850f_a0999b01858drow13_col20 {\n",
       "            background-color:  #f6faff;\n",
       "            color:  #000000;\n",
       "        }    #T_f2b9d8e2_8fee_11ea_850f_a0999b01858drow13_col21 {\n",
       "            background-color:  #f5fafe;\n",
       "            color:  #000000;\n",
       "        }    #T_f2b9d8e2_8fee_11ea_850f_a0999b01858drow13_col22 {\n",
       "            background-color:  #ecf4fb;\n",
       "            color:  #000000;\n",
       "        }    #T_f2b9d8e2_8fee_11ea_850f_a0999b01858drow13_col23 {\n",
       "            background-color:  #f2f8fd;\n",
       "            color:  #000000;\n",
       "        }    #T_f2b9d8e2_8fee_11ea_850f_a0999b01858drow13_col24 {\n",
       "            background-color:  #f6faff;\n",
       "            color:  #000000;\n",
       "        }    #T_f2b9d8e2_8fee_11ea_850f_a0999b01858drow13_col25 {\n",
       "            background-color:  #eef5fc;\n",
       "            color:  #000000;\n",
       "        }    #T_f2b9d8e2_8fee_11ea_850f_a0999b01858drow14_col0 {\n",
       "            background-color:  #dfebf7;\n",
       "            color:  #000000;\n",
       "        }    #T_f2b9d8e2_8fee_11ea_850f_a0999b01858drow14_col1 {\n",
       "            background-color:  #f3f8fe;\n",
       "            color:  #000000;\n",
       "        }    #T_f2b9d8e2_8fee_11ea_850f_a0999b01858drow14_col2 {\n",
       "            background-color:  #f2f8fd;\n",
       "            color:  #000000;\n",
       "        }    #T_f2b9d8e2_8fee_11ea_850f_a0999b01858drow14_col3 {\n",
       "            background-color:  #dfebf7;\n",
       "            color:  #000000;\n",
       "        }    #T_f2b9d8e2_8fee_11ea_850f_a0999b01858drow14_col4 {\n",
       "            background-color:  #e9f2fa;\n",
       "            color:  #000000;\n",
       "        }    #T_f2b9d8e2_8fee_11ea_850f_a0999b01858drow14_col5 {\n",
       "            background-color:  #eef5fc;\n",
       "            color:  #000000;\n",
       "        }    #T_f2b9d8e2_8fee_11ea_850f_a0999b01858drow14_col6 {\n",
       "            background-color:  #f5f9fe;\n",
       "            color:  #000000;\n",
       "        }    #T_f2b9d8e2_8fee_11ea_850f_a0999b01858drow14_col7 {\n",
       "            background-color:  #f0f6fd;\n",
       "            color:  #000000;\n",
       "        }    #T_f2b9d8e2_8fee_11ea_850f_a0999b01858drow14_col8 {\n",
       "            background-color:  #edf4fc;\n",
       "            color:  #000000;\n",
       "        }    #T_f2b9d8e2_8fee_11ea_850f_a0999b01858drow14_col9 {\n",
       "            background-color:  #e0ecf8;\n",
       "            color:  #000000;\n",
       "        }    #T_f2b9d8e2_8fee_11ea_850f_a0999b01858drow14_col10 {\n",
       "            background-color:  #e2edf8;\n",
       "            color:  #000000;\n",
       "        }    #T_f2b9d8e2_8fee_11ea_850f_a0999b01858drow14_col11 {\n",
       "            background-color:  #f4f9fe;\n",
       "            color:  #000000;\n",
       "        }    #T_f2b9d8e2_8fee_11ea_850f_a0999b01858drow14_col12 {\n",
       "            background-color:  #f2f7fd;\n",
       "            color:  #000000;\n",
       "        }    #T_f2b9d8e2_8fee_11ea_850f_a0999b01858drow14_col13 {\n",
       "            background-color:  #f5fafe;\n",
       "            color:  #000000;\n",
       "        }    #T_f2b9d8e2_8fee_11ea_850f_a0999b01858drow14_col14 {\n",
       "            background-color:  #08306b;\n",
       "            color:  #f1f1f1;\n",
       "        }    #T_f2b9d8e2_8fee_11ea_850f_a0999b01858drow14_col15 {\n",
       "            background-color:  #f2f7fd;\n",
       "            color:  #000000;\n",
       "        }    #T_f2b9d8e2_8fee_11ea_850f_a0999b01858drow14_col16 {\n",
       "            background-color:  #f1f7fd;\n",
       "            color:  #000000;\n",
       "        }    #T_f2b9d8e2_8fee_11ea_850f_a0999b01858drow14_col17 {\n",
       "            background-color:  #e3eef8;\n",
       "            color:  #000000;\n",
       "        }    #T_f2b9d8e2_8fee_11ea_850f_a0999b01858drow14_col18 {\n",
       "            background-color:  #e3eef9;\n",
       "            color:  #000000;\n",
       "        }    #T_f2b9d8e2_8fee_11ea_850f_a0999b01858drow14_col19 {\n",
       "            background-color:  #f2f7fd;\n",
       "            color:  #000000;\n",
       "        }    #T_f2b9d8e2_8fee_11ea_850f_a0999b01858drow14_col20 {\n",
       "            background-color:  #f2f8fd;\n",
       "            color:  #000000;\n",
       "        }    #T_f2b9d8e2_8fee_11ea_850f_a0999b01858drow14_col21 {\n",
       "            background-color:  #f6faff;\n",
       "            color:  #000000;\n",
       "        }    #T_f2b9d8e2_8fee_11ea_850f_a0999b01858drow14_col22 {\n",
       "            background-color:  #e7f1fa;\n",
       "            color:  #000000;\n",
       "        }    #T_f2b9d8e2_8fee_11ea_850f_a0999b01858drow14_col23 {\n",
       "            background-color:  #f4f9fe;\n",
       "            color:  #000000;\n",
       "        }    #T_f2b9d8e2_8fee_11ea_850f_a0999b01858drow14_col24 {\n",
       "            background-color:  #d9e8f5;\n",
       "            color:  #000000;\n",
       "        }    #T_f2b9d8e2_8fee_11ea_850f_a0999b01858drow14_col25 {\n",
       "            background-color:  #eef5fc;\n",
       "            color:  #000000;\n",
       "        }    #T_f2b9d8e2_8fee_11ea_850f_a0999b01858drow15_col0 {\n",
       "            background-color:  #dceaf6;\n",
       "            color:  #000000;\n",
       "        }    #T_f2b9d8e2_8fee_11ea_850f_a0999b01858drow15_col1 {\n",
       "            background-color:  #f2f7fd;\n",
       "            color:  #000000;\n",
       "        }    #T_f2b9d8e2_8fee_11ea_850f_a0999b01858drow15_col2 {\n",
       "            background-color:  #f2f8fd;\n",
       "            color:  #000000;\n",
       "        }    #T_f2b9d8e2_8fee_11ea_850f_a0999b01858drow15_col3 {\n",
       "            background-color:  #dceaf6;\n",
       "            color:  #000000;\n",
       "        }    #T_f2b9d8e2_8fee_11ea_850f_a0999b01858drow15_col4 {\n",
       "            background-color:  #eaf2fb;\n",
       "            color:  #000000;\n",
       "        }    #T_f2b9d8e2_8fee_11ea_850f_a0999b01858drow15_col5 {\n",
       "            background-color:  #ebf3fb;\n",
       "            color:  #000000;\n",
       "        }    #T_f2b9d8e2_8fee_11ea_850f_a0999b01858drow15_col6 {\n",
       "            background-color:  #f1f7fd;\n",
       "            color:  #000000;\n",
       "        }    #T_f2b9d8e2_8fee_11ea_850f_a0999b01858drow15_col7 {\n",
       "            background-color:  #f1f7fd;\n",
       "            color:  #000000;\n",
       "        }    #T_f2b9d8e2_8fee_11ea_850f_a0999b01858drow15_col8 {\n",
       "            background-color:  #eef5fc;\n",
       "            color:  #000000;\n",
       "        }    #T_f2b9d8e2_8fee_11ea_850f_a0999b01858drow15_col9 {\n",
       "            background-color:  #e3eef9;\n",
       "            color:  #000000;\n",
       "        }    #T_f2b9d8e2_8fee_11ea_850f_a0999b01858drow15_col10 {\n",
       "            background-color:  #dbe9f6;\n",
       "            color:  #000000;\n",
       "        }    #T_f2b9d8e2_8fee_11ea_850f_a0999b01858drow15_col11 {\n",
       "            background-color:  #f6faff;\n",
       "            color:  #000000;\n",
       "        }    #T_f2b9d8e2_8fee_11ea_850f_a0999b01858drow15_col12 {\n",
       "            background-color:  #f6faff;\n",
       "            color:  #000000;\n",
       "        }    #T_f2b9d8e2_8fee_11ea_850f_a0999b01858drow15_col13 {\n",
       "            background-color:  #f5fafe;\n",
       "            color:  #000000;\n",
       "        }    #T_f2b9d8e2_8fee_11ea_850f_a0999b01858drow15_col14 {\n",
       "            background-color:  #f7fbff;\n",
       "            color:  #000000;\n",
       "        }    #T_f2b9d8e2_8fee_11ea_850f_a0999b01858drow15_col15 {\n",
       "            background-color:  #08306b;\n",
       "            color:  #f1f1f1;\n",
       "        }    #T_f2b9d8e2_8fee_11ea_850f_a0999b01858drow15_col16 {\n",
       "            background-color:  #f7fbff;\n",
       "            color:  #000000;\n",
       "        }    #T_f2b9d8e2_8fee_11ea_850f_a0999b01858drow15_col17 {\n",
       "            background-color:  #e2edf8;\n",
       "            color:  #000000;\n",
       "        }    #T_f2b9d8e2_8fee_11ea_850f_a0999b01858drow15_col18 {\n",
       "            background-color:  #e3eef9;\n",
       "            color:  #000000;\n",
       "        }    #T_f2b9d8e2_8fee_11ea_850f_a0999b01858drow15_col19 {\n",
       "            background-color:  #eff6fc;\n",
       "            color:  #000000;\n",
       "        }    #T_f2b9d8e2_8fee_11ea_850f_a0999b01858drow15_col20 {\n",
       "            background-color:  #f7fbff;\n",
       "            color:  #000000;\n",
       "        }    #T_f2b9d8e2_8fee_11ea_850f_a0999b01858drow15_col21 {\n",
       "            background-color:  #f5fafe;\n",
       "            color:  #000000;\n",
       "        }    #T_f2b9d8e2_8fee_11ea_850f_a0999b01858drow15_col22 {\n",
       "            background-color:  #eff6fc;\n",
       "            color:  #000000;\n",
       "        }    #T_f2b9d8e2_8fee_11ea_850f_a0999b01858drow15_col23 {\n",
       "            background-color:  #f7fbff;\n",
       "            color:  #000000;\n",
       "        }    #T_f2b9d8e2_8fee_11ea_850f_a0999b01858drow15_col24 {\n",
       "            background-color:  #cee0f2;\n",
       "            color:  #000000;\n",
       "        }    #T_f2b9d8e2_8fee_11ea_850f_a0999b01858drow15_col25 {\n",
       "            background-color:  #eaf3fb;\n",
       "            color:  #000000;\n",
       "        }    #T_f2b9d8e2_8fee_11ea_850f_a0999b01858drow16_col0 {\n",
       "            background-color:  #deebf7;\n",
       "            color:  #000000;\n",
       "        }    #T_f2b9d8e2_8fee_11ea_850f_a0999b01858drow16_col1 {\n",
       "            background-color:  #e6f0f9;\n",
       "            color:  #000000;\n",
       "        }    #T_f2b9d8e2_8fee_11ea_850f_a0999b01858drow16_col2 {\n",
       "            background-color:  #f0f6fd;\n",
       "            color:  #000000;\n",
       "        }    #T_f2b9d8e2_8fee_11ea_850f_a0999b01858drow16_col3 {\n",
       "            background-color:  #dfebf7;\n",
       "            color:  #000000;\n",
       "        }    #T_f2b9d8e2_8fee_11ea_850f_a0999b01858drow16_col4 {\n",
       "            background-color:  #eaf2fb;\n",
       "            color:  #000000;\n",
       "        }    #T_f2b9d8e2_8fee_11ea_850f_a0999b01858drow16_col5 {\n",
       "            background-color:  #eff6fc;\n",
       "            color:  #000000;\n",
       "        }    #T_f2b9d8e2_8fee_11ea_850f_a0999b01858drow16_col6 {\n",
       "            background-color:  #f3f8fe;\n",
       "            color:  #000000;\n",
       "        }    #T_f2b9d8e2_8fee_11ea_850f_a0999b01858drow16_col7 {\n",
       "            background-color:  #f5fafe;\n",
       "            color:  #000000;\n",
       "        }    #T_f2b9d8e2_8fee_11ea_850f_a0999b01858drow16_col8 {\n",
       "            background-color:  #f2f7fd;\n",
       "            color:  #000000;\n",
       "        }    #T_f2b9d8e2_8fee_11ea_850f_a0999b01858drow16_col9 {\n",
       "            background-color:  #e7f1fa;\n",
       "            color:  #000000;\n",
       "        }    #T_f2b9d8e2_8fee_11ea_850f_a0999b01858drow16_col10 {\n",
       "            background-color:  #d0e2f2;\n",
       "            color:  #000000;\n",
       "        }    #T_f2b9d8e2_8fee_11ea_850f_a0999b01858drow16_col11 {\n",
       "            background-color:  #f7fbff;\n",
       "            color:  #000000;\n",
       "        }    #T_f2b9d8e2_8fee_11ea_850f_a0999b01858drow16_col12 {\n",
       "            background-color:  #f7fbff;\n",
       "            color:  #000000;\n",
       "        }    #T_f2b9d8e2_8fee_11ea_850f_a0999b01858drow16_col13 {\n",
       "            background-color:  #f5f9fe;\n",
       "            color:  #000000;\n",
       "        }    #T_f2b9d8e2_8fee_11ea_850f_a0999b01858drow16_col14 {\n",
       "            background-color:  #f7fbff;\n",
       "            color:  #000000;\n",
       "        }    #T_f2b9d8e2_8fee_11ea_850f_a0999b01858drow16_col15 {\n",
       "            background-color:  #f7fbff;\n",
       "            color:  #000000;\n",
       "        }    #T_f2b9d8e2_8fee_11ea_850f_a0999b01858drow16_col16 {\n",
       "            background-color:  #08306b;\n",
       "            color:  #f1f1f1;\n",
       "        }    #T_f2b9d8e2_8fee_11ea_850f_a0999b01858drow16_col17 {\n",
       "            background-color:  #e7f0fa;\n",
       "            color:  #000000;\n",
       "        }    #T_f2b9d8e2_8fee_11ea_850f_a0999b01858drow16_col18 {\n",
       "            background-color:  #e4eff9;\n",
       "            color:  #000000;\n",
       "        }    #T_f2b9d8e2_8fee_11ea_850f_a0999b01858drow16_col19 {\n",
       "            background-color:  #f3f8fe;\n",
       "            color:  #000000;\n",
       "        }    #T_f2b9d8e2_8fee_11ea_850f_a0999b01858drow16_col20 {\n",
       "            background-color:  #f6faff;\n",
       "            color:  #000000;\n",
       "        }    #T_f2b9d8e2_8fee_11ea_850f_a0999b01858drow16_col21 {\n",
       "            background-color:  #f6faff;\n",
       "            color:  #000000;\n",
       "        }    #T_f2b9d8e2_8fee_11ea_850f_a0999b01858drow16_col22 {\n",
       "            background-color:  #f7fbff;\n",
       "            color:  #000000;\n",
       "        }    #T_f2b9d8e2_8fee_11ea_850f_a0999b01858drow16_col23 {\n",
       "            background-color:  #f4f9fe;\n",
       "            color:  #000000;\n",
       "        }    #T_f2b9d8e2_8fee_11ea_850f_a0999b01858drow16_col24 {\n",
       "            background-color:  #d2e3f3;\n",
       "            color:  #000000;\n",
       "        }    #T_f2b9d8e2_8fee_11ea_850f_a0999b01858drow16_col25 {\n",
       "            background-color:  #eff6fc;\n",
       "            color:  #000000;\n",
       "        }    #T_f2b9d8e2_8fee_11ea_850f_a0999b01858drow17_col0 {\n",
       "            background-color:  #dce9f6;\n",
       "            color:  #000000;\n",
       "        }    #T_f2b9d8e2_8fee_11ea_850f_a0999b01858drow17_col1 {\n",
       "            background-color:  #f1f7fd;\n",
       "            color:  #000000;\n",
       "        }    #T_f2b9d8e2_8fee_11ea_850f_a0999b01858drow17_col2 {\n",
       "            background-color:  #f4f9fe;\n",
       "            color:  #000000;\n",
       "        }    #T_f2b9d8e2_8fee_11ea_850f_a0999b01858drow17_col3 {\n",
       "            background-color:  #e1edf8;\n",
       "            color:  #000000;\n",
       "        }    #T_f2b9d8e2_8fee_11ea_850f_a0999b01858drow17_col4 {\n",
       "            background-color:  #e8f1fa;\n",
       "            color:  #000000;\n",
       "        }    #T_f2b9d8e2_8fee_11ea_850f_a0999b01858drow17_col5 {\n",
       "            background-color:  #eaf2fb;\n",
       "            color:  #000000;\n",
       "        }    #T_f2b9d8e2_8fee_11ea_850f_a0999b01858drow17_col6 {\n",
       "            background-color:  #f0f6fd;\n",
       "            color:  #000000;\n",
       "        }    #T_f2b9d8e2_8fee_11ea_850f_a0999b01858drow17_col7 {\n",
       "            background-color:  #f0f6fd;\n",
       "            color:  #000000;\n",
       "        }    #T_f2b9d8e2_8fee_11ea_850f_a0999b01858drow17_col8 {\n",
       "            background-color:  #eff6fc;\n",
       "            color:  #000000;\n",
       "        }    #T_f2b9d8e2_8fee_11ea_850f_a0999b01858drow17_col9 {\n",
       "            background-color:  #e2edf8;\n",
       "            color:  #000000;\n",
       "        }    #T_f2b9d8e2_8fee_11ea_850f_a0999b01858drow17_col10 {\n",
       "            background-color:  #dfebf7;\n",
       "            color:  #000000;\n",
       "        }    #T_f2b9d8e2_8fee_11ea_850f_a0999b01858drow17_col11 {\n",
       "            background-color:  #eef5fc;\n",
       "            color:  #000000;\n",
       "        }    #T_f2b9d8e2_8fee_11ea_850f_a0999b01858drow17_col12 {\n",
       "            background-color:  #eef5fc;\n",
       "            color:  #000000;\n",
       "        }    #T_f2b9d8e2_8fee_11ea_850f_a0999b01858drow17_col13 {\n",
       "            background-color:  #f5fafe;\n",
       "            color:  #000000;\n",
       "        }    #T_f2b9d8e2_8fee_11ea_850f_a0999b01858drow17_col14 {\n",
       "            background-color:  #e1edf8;\n",
       "            color:  #000000;\n",
       "        }    #T_f2b9d8e2_8fee_11ea_850f_a0999b01858drow17_col15 {\n",
       "            background-color:  #dbe9f6;\n",
       "            color:  #000000;\n",
       "        }    #T_f2b9d8e2_8fee_11ea_850f_a0999b01858drow17_col16 {\n",
       "            background-color:  #dfecf7;\n",
       "            color:  #000000;\n",
       "        }    #T_f2b9d8e2_8fee_11ea_850f_a0999b01858drow17_col17 {\n",
       "            background-color:  #08306b;\n",
       "            color:  #f1f1f1;\n",
       "        }    #T_f2b9d8e2_8fee_11ea_850f_a0999b01858drow17_col18 {\n",
       "            background-color:  #f7fbff;\n",
       "            color:  #000000;\n",
       "        }    #T_f2b9d8e2_8fee_11ea_850f_a0999b01858drow17_col19 {\n",
       "            background-color:  #f3f8fe;\n",
       "            color:  #000000;\n",
       "        }    #T_f2b9d8e2_8fee_11ea_850f_a0999b01858drow17_col20 {\n",
       "            background-color:  #f6faff;\n",
       "            color:  #000000;\n",
       "        }    #T_f2b9d8e2_8fee_11ea_850f_a0999b01858drow17_col21 {\n",
       "            background-color:  #f5fafe;\n",
       "            color:  #000000;\n",
       "        }    #T_f2b9d8e2_8fee_11ea_850f_a0999b01858drow17_col22 {\n",
       "            background-color:  #e8f1fa;\n",
       "            color:  #000000;\n",
       "        }    #T_f2b9d8e2_8fee_11ea_850f_a0999b01858drow17_col23 {\n",
       "            background-color:  #ecf4fb;\n",
       "            color:  #000000;\n",
       "        }    #T_f2b9d8e2_8fee_11ea_850f_a0999b01858drow17_col24 {\n",
       "            background-color:  #cde0f1;\n",
       "            color:  #000000;\n",
       "        }    #T_f2b9d8e2_8fee_11ea_850f_a0999b01858drow17_col25 {\n",
       "            background-color:  #ecf4fb;\n",
       "            color:  #000000;\n",
       "        }    #T_f2b9d8e2_8fee_11ea_850f_a0999b01858drow18_col0 {\n",
       "            background-color:  #dbe9f6;\n",
       "            color:  #000000;\n",
       "        }    #T_f2b9d8e2_8fee_11ea_850f_a0999b01858drow18_col1 {\n",
       "            background-color:  #f0f6fd;\n",
       "            color:  #000000;\n",
       "        }    #T_f2b9d8e2_8fee_11ea_850f_a0999b01858drow18_col2 {\n",
       "            background-color:  #f4f9fe;\n",
       "            color:  #000000;\n",
       "        }    #T_f2b9d8e2_8fee_11ea_850f_a0999b01858drow18_col3 {\n",
       "            background-color:  #e0ecf8;\n",
       "            color:  #000000;\n",
       "        }    #T_f2b9d8e2_8fee_11ea_850f_a0999b01858drow18_col4 {\n",
       "            background-color:  #e8f1fa;\n",
       "            color:  #000000;\n",
       "        }    #T_f2b9d8e2_8fee_11ea_850f_a0999b01858drow18_col5 {\n",
       "            background-color:  #ecf4fb;\n",
       "            color:  #000000;\n",
       "        }    #T_f2b9d8e2_8fee_11ea_850f_a0999b01858drow18_col6 {\n",
       "            background-color:  #f3f8fe;\n",
       "            color:  #000000;\n",
       "        }    #T_f2b9d8e2_8fee_11ea_850f_a0999b01858drow18_col7 {\n",
       "            background-color:  #f2f7fd;\n",
       "            color:  #000000;\n",
       "        }    #T_f2b9d8e2_8fee_11ea_850f_a0999b01858drow18_col8 {\n",
       "            background-color:  #eef5fc;\n",
       "            color:  #000000;\n",
       "        }    #T_f2b9d8e2_8fee_11ea_850f_a0999b01858drow18_col9 {\n",
       "            background-color:  #e4eff9;\n",
       "            color:  #000000;\n",
       "        }    #T_f2b9d8e2_8fee_11ea_850f_a0999b01858drow18_col10 {\n",
       "            background-color:  #d8e7f5;\n",
       "            color:  #000000;\n",
       "        }    #T_f2b9d8e2_8fee_11ea_850f_a0999b01858drow18_col11 {\n",
       "            background-color:  #f0f6fd;\n",
       "            color:  #000000;\n",
       "        }    #T_f2b9d8e2_8fee_11ea_850f_a0999b01858drow18_col12 {\n",
       "            background-color:  #f0f6fd;\n",
       "            color:  #000000;\n",
       "        }    #T_f2b9d8e2_8fee_11ea_850f_a0999b01858drow18_col13 {\n",
       "            background-color:  #f4f9fe;\n",
       "            color:  #000000;\n",
       "        }    #T_f2b9d8e2_8fee_11ea_850f_a0999b01858drow18_col14 {\n",
       "            background-color:  #e2edf8;\n",
       "            color:  #000000;\n",
       "        }    #T_f2b9d8e2_8fee_11ea_850f_a0999b01858drow18_col15 {\n",
       "            background-color:  #dceaf6;\n",
       "            color:  #000000;\n",
       "        }    #T_f2b9d8e2_8fee_11ea_850f_a0999b01858drow18_col16 {\n",
       "            background-color:  #ddeaf7;\n",
       "            color:  #000000;\n",
       "        }    #T_f2b9d8e2_8fee_11ea_850f_a0999b01858drow18_col17 {\n",
       "            background-color:  #f7fbff;\n",
       "            color:  #000000;\n",
       "        }    #T_f2b9d8e2_8fee_11ea_850f_a0999b01858drow18_col18 {\n",
       "            background-color:  #08306b;\n",
       "            color:  #f1f1f1;\n",
       "        }    #T_f2b9d8e2_8fee_11ea_850f_a0999b01858drow18_col19 {\n",
       "            background-color:  #f4f9fe;\n",
       "            color:  #000000;\n",
       "        }    #T_f2b9d8e2_8fee_11ea_850f_a0999b01858drow18_col20 {\n",
       "            background-color:  #f5fafe;\n",
       "            color:  #000000;\n",
       "        }    #T_f2b9d8e2_8fee_11ea_850f_a0999b01858drow18_col21 {\n",
       "            background-color:  #f5f9fe;\n",
       "            color:  #000000;\n",
       "        }    #T_f2b9d8e2_8fee_11ea_850f_a0999b01858drow18_col22 {\n",
       "            background-color:  #e8f1fa;\n",
       "            color:  #000000;\n",
       "        }    #T_f2b9d8e2_8fee_11ea_850f_a0999b01858drow18_col23 {\n",
       "            background-color:  #f1f7fd;\n",
       "            color:  #000000;\n",
       "        }    #T_f2b9d8e2_8fee_11ea_850f_a0999b01858drow18_col24 {\n",
       "            background-color:  #cfe1f2;\n",
       "            color:  #000000;\n",
       "        }    #T_f2b9d8e2_8fee_11ea_850f_a0999b01858drow18_col25 {\n",
       "            background-color:  #ecf4fb;\n",
       "            color:  #000000;\n",
       "        }    #T_f2b9d8e2_8fee_11ea_850f_a0999b01858drow19_col0 {\n",
       "            background-color:  #ddeaf7;\n",
       "            color:  #000000;\n",
       "        }    #T_f2b9d8e2_8fee_11ea_850f_a0999b01858drow19_col1 {\n",
       "            background-color:  #eef5fc;\n",
       "            color:  #000000;\n",
       "        }    #T_f2b9d8e2_8fee_11ea_850f_a0999b01858drow19_col2 {\n",
       "            background-color:  #f4f9fe;\n",
       "            color:  #000000;\n",
       "        }    #T_f2b9d8e2_8fee_11ea_850f_a0999b01858drow19_col3 {\n",
       "            background-color:  #deebf7;\n",
       "            color:  #000000;\n",
       "        }    #T_f2b9d8e2_8fee_11ea_850f_a0999b01858drow19_col4 {\n",
       "            background-color:  #ebf3fb;\n",
       "            color:  #000000;\n",
       "        }    #T_f2b9d8e2_8fee_11ea_850f_a0999b01858drow19_col5 {\n",
       "            background-color:  #f3f8fe;\n",
       "            color:  #000000;\n",
       "        }    #T_f2b9d8e2_8fee_11ea_850f_a0999b01858drow19_col6 {\n",
       "            background-color:  #f0f6fd;\n",
       "            color:  #000000;\n",
       "        }    #T_f2b9d8e2_8fee_11ea_850f_a0999b01858drow19_col7 {\n",
       "            background-color:  #f0f6fd;\n",
       "            color:  #000000;\n",
       "        }    #T_f2b9d8e2_8fee_11ea_850f_a0999b01858drow19_col8 {\n",
       "            background-color:  #eaf2fb;\n",
       "            color:  #000000;\n",
       "        }    #T_f2b9d8e2_8fee_11ea_850f_a0999b01858drow19_col9 {\n",
       "            background-color:  #e0ecf8;\n",
       "            color:  #000000;\n",
       "        }    #T_f2b9d8e2_8fee_11ea_850f_a0999b01858drow19_col10 {\n",
       "            background-color:  #e7f1fa;\n",
       "            color:  #000000;\n",
       "        }    #T_f2b9d8e2_8fee_11ea_850f_a0999b01858drow19_col11 {\n",
       "            background-color:  #eff6fc;\n",
       "            color:  #000000;\n",
       "        }    #T_f2b9d8e2_8fee_11ea_850f_a0999b01858drow19_col12 {\n",
       "            background-color:  #f3f8fe;\n",
       "            color:  #000000;\n",
       "        }    #T_f2b9d8e2_8fee_11ea_850f_a0999b01858drow19_col13 {\n",
       "            background-color:  #f4f9fe;\n",
       "            color:  #000000;\n",
       "        }    #T_f2b9d8e2_8fee_11ea_850f_a0999b01858drow19_col14 {\n",
       "            background-color:  #e7f0fa;\n",
       "            color:  #000000;\n",
       "        }    #T_f2b9d8e2_8fee_11ea_850f_a0999b01858drow19_col15 {\n",
       "            background-color:  #deebf7;\n",
       "            color:  #000000;\n",
       "        }    #T_f2b9d8e2_8fee_11ea_850f_a0999b01858drow19_col16 {\n",
       "            background-color:  #e2edf8;\n",
       "            color:  #000000;\n",
       "        }    #T_f2b9d8e2_8fee_11ea_850f_a0999b01858drow19_col17 {\n",
       "            background-color:  #e9f2fa;\n",
       "            color:  #000000;\n",
       "        }    #T_f2b9d8e2_8fee_11ea_850f_a0999b01858drow19_col18 {\n",
       "            background-color:  #eaf2fb;\n",
       "            color:  #000000;\n",
       "        }    #T_f2b9d8e2_8fee_11ea_850f_a0999b01858drow19_col19 {\n",
       "            background-color:  #08306b;\n",
       "            color:  #f1f1f1;\n",
       "        }    #T_f2b9d8e2_8fee_11ea_850f_a0999b01858drow19_col20 {\n",
       "            background-color:  #f5f9fe;\n",
       "            color:  #000000;\n",
       "        }    #T_f2b9d8e2_8fee_11ea_850f_a0999b01858drow19_col21 {\n",
       "            background-color:  #f5fafe;\n",
       "            color:  #000000;\n",
       "        }    #T_f2b9d8e2_8fee_11ea_850f_a0999b01858drow19_col22 {\n",
       "            background-color:  #eaf3fb;\n",
       "            color:  #000000;\n",
       "        }    #T_f2b9d8e2_8fee_11ea_850f_a0999b01858drow19_col23 {\n",
       "            background-color:  #f1f7fd;\n",
       "            color:  #000000;\n",
       "        }    #T_f2b9d8e2_8fee_11ea_850f_a0999b01858drow19_col24 {\n",
       "            background-color:  #ecf4fb;\n",
       "            color:  #000000;\n",
       "        }    #T_f2b9d8e2_8fee_11ea_850f_a0999b01858drow19_col25 {\n",
       "            background-color:  #ecf4fb;\n",
       "            color:  #000000;\n",
       "        }    #T_f2b9d8e2_8fee_11ea_850f_a0999b01858drow20_col0 {\n",
       "            background-color:  #dfebf7;\n",
       "            color:  #000000;\n",
       "        }    #T_f2b9d8e2_8fee_11ea_850f_a0999b01858drow20_col1 {\n",
       "            background-color:  #edf4fc;\n",
       "            color:  #000000;\n",
       "        }    #T_f2b9d8e2_8fee_11ea_850f_a0999b01858drow20_col2 {\n",
       "            background-color:  #f5f9fe;\n",
       "            color:  #000000;\n",
       "        }    #T_f2b9d8e2_8fee_11ea_850f_a0999b01858drow20_col3 {\n",
       "            background-color:  #dfecf7;\n",
       "            color:  #000000;\n",
       "        }    #T_f2b9d8e2_8fee_11ea_850f_a0999b01858drow20_col4 {\n",
       "            background-color:  #eaf3fb;\n",
       "            color:  #000000;\n",
       "        }    #T_f2b9d8e2_8fee_11ea_850f_a0999b01858drow20_col5 {\n",
       "            background-color:  #f6faff;\n",
       "            color:  #000000;\n",
       "        }    #T_f2b9d8e2_8fee_11ea_850f_a0999b01858drow20_col6 {\n",
       "            background-color:  #f2f8fd;\n",
       "            color:  #000000;\n",
       "        }    #T_f2b9d8e2_8fee_11ea_850f_a0999b01858drow20_col7 {\n",
       "            background-color:  #f0f6fd;\n",
       "            color:  #000000;\n",
       "        }    #T_f2b9d8e2_8fee_11ea_850f_a0999b01858drow20_col8 {\n",
       "            background-color:  #eaf2fb;\n",
       "            color:  #000000;\n",
       "        }    #T_f2b9d8e2_8fee_11ea_850f_a0999b01858drow20_col9 {\n",
       "            background-color:  #e2edf8;\n",
       "            color:  #000000;\n",
       "        }    #T_f2b9d8e2_8fee_11ea_850f_a0999b01858drow20_col10 {\n",
       "            background-color:  #e8f1fa;\n",
       "            color:  #000000;\n",
       "        }    #T_f2b9d8e2_8fee_11ea_850f_a0999b01858drow20_col11 {\n",
       "            background-color:  #eff6fc;\n",
       "            color:  #000000;\n",
       "        }    #T_f2b9d8e2_8fee_11ea_850f_a0999b01858drow20_col12 {\n",
       "            background-color:  #f1f7fd;\n",
       "            color:  #000000;\n",
       "        }    #T_f2b9d8e2_8fee_11ea_850f_a0999b01858drow20_col13 {\n",
       "            background-color:  #f4f9fe;\n",
       "            color:  #000000;\n",
       "        }    #T_f2b9d8e2_8fee_11ea_850f_a0999b01858drow20_col14 {\n",
       "            background-color:  #e6f0f9;\n",
       "            color:  #000000;\n",
       "        }    #T_f2b9d8e2_8fee_11ea_850f_a0999b01858drow20_col15 {\n",
       "            background-color:  #e4eff9;\n",
       "            color:  #000000;\n",
       "        }    #T_f2b9d8e2_8fee_11ea_850f_a0999b01858drow20_col16 {\n",
       "            background-color:  #e3eef9;\n",
       "            color:  #000000;\n",
       "        }    #T_f2b9d8e2_8fee_11ea_850f_a0999b01858drow20_col17 {\n",
       "            background-color:  #eaf3fb;\n",
       "            color:  #000000;\n",
       "        }    #T_f2b9d8e2_8fee_11ea_850f_a0999b01858drow20_col18 {\n",
       "            background-color:  #eaf3fb;\n",
       "            color:  #000000;\n",
       "        }    #T_f2b9d8e2_8fee_11ea_850f_a0999b01858drow20_col19 {\n",
       "            background-color:  #f4f9fe;\n",
       "            color:  #000000;\n",
       "        }    #T_f2b9d8e2_8fee_11ea_850f_a0999b01858drow20_col20 {\n",
       "            background-color:  #08306b;\n",
       "            color:  #f1f1f1;\n",
       "        }    #T_f2b9d8e2_8fee_11ea_850f_a0999b01858drow20_col21 {\n",
       "            background-color:  #f5fafe;\n",
       "            color:  #000000;\n",
       "        }    #T_f2b9d8e2_8fee_11ea_850f_a0999b01858drow20_col22 {\n",
       "            background-color:  #e9f2fa;\n",
       "            color:  #000000;\n",
       "        }    #T_f2b9d8e2_8fee_11ea_850f_a0999b01858drow20_col23 {\n",
       "            background-color:  #f2f8fd;\n",
       "            color:  #000000;\n",
       "        }    #T_f2b9d8e2_8fee_11ea_850f_a0999b01858drow20_col24 {\n",
       "            background-color:  #f2f8fd;\n",
       "            color:  #000000;\n",
       "        }    #T_f2b9d8e2_8fee_11ea_850f_a0999b01858drow20_col25 {\n",
       "            background-color:  #eef5fc;\n",
       "            color:  #000000;\n",
       "        }    #T_f2b9d8e2_8fee_11ea_850f_a0999b01858drow21_col0 {\n",
       "            background-color:  #ddeaf7;\n",
       "            color:  #000000;\n",
       "        }    #T_f2b9d8e2_8fee_11ea_850f_a0999b01858drow21_col1 {\n",
       "            background-color:  #edf4fc;\n",
       "            color:  #000000;\n",
       "        }    #T_f2b9d8e2_8fee_11ea_850f_a0999b01858drow21_col2 {\n",
       "            background-color:  #f5fafe;\n",
       "            color:  #000000;\n",
       "        }    #T_f2b9d8e2_8fee_11ea_850f_a0999b01858drow21_col3 {\n",
       "            background-color:  #dfebf7;\n",
       "            color:  #000000;\n",
       "        }    #T_f2b9d8e2_8fee_11ea_850f_a0999b01858drow21_col4 {\n",
       "            background-color:  #eaf3fb;\n",
       "            color:  #000000;\n",
       "        }    #T_f2b9d8e2_8fee_11ea_850f_a0999b01858drow21_col5 {\n",
       "            background-color:  #f7fbff;\n",
       "            color:  #000000;\n",
       "        }    #T_f2b9d8e2_8fee_11ea_850f_a0999b01858drow21_col6 {\n",
       "            background-color:  #f3f8fe;\n",
       "            color:  #000000;\n",
       "        }    #T_f2b9d8e2_8fee_11ea_850f_a0999b01858drow21_col7 {\n",
       "            background-color:  #f1f7fd;\n",
       "            color:  #000000;\n",
       "        }    #T_f2b9d8e2_8fee_11ea_850f_a0999b01858drow21_col8 {\n",
       "            background-color:  #ebf3fb;\n",
       "            color:  #000000;\n",
       "        }    #T_f2b9d8e2_8fee_11ea_850f_a0999b01858drow21_col9 {\n",
       "            background-color:  #e3eef9;\n",
       "            color:  #000000;\n",
       "        }    #T_f2b9d8e2_8fee_11ea_850f_a0999b01858drow21_col10 {\n",
       "            background-color:  #e9f2fa;\n",
       "            color:  #000000;\n",
       "        }    #T_f2b9d8e2_8fee_11ea_850f_a0999b01858drow21_col11 {\n",
       "            background-color:  #f3f8fe;\n",
       "            color:  #000000;\n",
       "        }    #T_f2b9d8e2_8fee_11ea_850f_a0999b01858drow21_col12 {\n",
       "            background-color:  #f4f9fe;\n",
       "            color:  #000000;\n",
       "        }    #T_f2b9d8e2_8fee_11ea_850f_a0999b01858drow21_col13 {\n",
       "            background-color:  #f4f9fe;\n",
       "            color:  #000000;\n",
       "        }    #T_f2b9d8e2_8fee_11ea_850f_a0999b01858drow21_col14 {\n",
       "            background-color:  #eaf3fb;\n",
       "            color:  #000000;\n",
       "        }    #T_f2b9d8e2_8fee_11ea_850f_a0999b01858drow21_col15 {\n",
       "            background-color:  #e4eff9;\n",
       "            color:  #000000;\n",
       "        }    #T_f2b9d8e2_8fee_11ea_850f_a0999b01858drow21_col16 {\n",
       "            background-color:  #e5eff9;\n",
       "            color:  #000000;\n",
       "        }    #T_f2b9d8e2_8fee_11ea_850f_a0999b01858drow21_col17 {\n",
       "            background-color:  #ecf4fb;\n",
       "            color:  #000000;\n",
       "        }    #T_f2b9d8e2_8fee_11ea_850f_a0999b01858drow21_col18 {\n",
       "            background-color:  #eaf3fb;\n",
       "            color:  #000000;\n",
       "        }    #T_f2b9d8e2_8fee_11ea_850f_a0999b01858drow21_col19 {\n",
       "            background-color:  #f5fafe;\n",
       "            color:  #000000;\n",
       "        }    #T_f2b9d8e2_8fee_11ea_850f_a0999b01858drow21_col20 {\n",
       "            background-color:  #f6faff;\n",
       "            color:  #000000;\n",
       "        }    #T_f2b9d8e2_8fee_11ea_850f_a0999b01858drow21_col21 {\n",
       "            background-color:  #08306b;\n",
       "            color:  #f1f1f1;\n",
       "        }    #T_f2b9d8e2_8fee_11ea_850f_a0999b01858drow21_col22 {\n",
       "            background-color:  #ebf3fb;\n",
       "            color:  #000000;\n",
       "        }    #T_f2b9d8e2_8fee_11ea_850f_a0999b01858drow21_col23 {\n",
       "            background-color:  #f2f8fd;\n",
       "            color:  #000000;\n",
       "        }    #T_f2b9d8e2_8fee_11ea_850f_a0999b01858drow21_col24 {\n",
       "            background-color:  #f5f9fe;\n",
       "            color:  #000000;\n",
       "        }    #T_f2b9d8e2_8fee_11ea_850f_a0999b01858drow21_col25 {\n",
       "            background-color:  #eff6fc;\n",
       "            color:  #000000;\n",
       "        }    #T_f2b9d8e2_8fee_11ea_850f_a0999b01858drow22_col0 {\n",
       "            background-color:  #e3eef9;\n",
       "            color:  #000000;\n",
       "        }    #T_f2b9d8e2_8fee_11ea_850f_a0999b01858drow22_col1 {\n",
       "            background-color:  #f7fbff;\n",
       "            color:  #000000;\n",
       "        }    #T_f2b9d8e2_8fee_11ea_850f_a0999b01858drow22_col2 {\n",
       "            background-color:  #e1edf8;\n",
       "            color:  #000000;\n",
       "        }    #T_f2b9d8e2_8fee_11ea_850f_a0999b01858drow22_col3 {\n",
       "            background-color:  #cfe1f2;\n",
       "            color:  #000000;\n",
       "        }    #T_f2b9d8e2_8fee_11ea_850f_a0999b01858drow22_col4 {\n",
       "            background-color:  #e7f0fa;\n",
       "            color:  #000000;\n",
       "        }    #T_f2b9d8e2_8fee_11ea_850f_a0999b01858drow22_col5 {\n",
       "            background-color:  #cddff1;\n",
       "            color:  #000000;\n",
       "        }    #T_f2b9d8e2_8fee_11ea_850f_a0999b01858drow22_col6 {\n",
       "            background-color:  #f2f7fd;\n",
       "            color:  #000000;\n",
       "        }    #T_f2b9d8e2_8fee_11ea_850f_a0999b01858drow22_col7 {\n",
       "            background-color:  #e7f1fa;\n",
       "            color:  #000000;\n",
       "        }    #T_f2b9d8e2_8fee_11ea_850f_a0999b01858drow22_col8 {\n",
       "            background-color:  #ddeaf7;\n",
       "            color:  #000000;\n",
       "        }    #T_f2b9d8e2_8fee_11ea_850f_a0999b01858drow22_col9 {\n",
       "            background-color:  #d1e2f3;\n",
       "            color:  #000000;\n",
       "        }    #T_f2b9d8e2_8fee_11ea_850f_a0999b01858drow22_col10 {\n",
       "            background-color:  #eff6fc;\n",
       "            color:  #000000;\n",
       "        }    #T_f2b9d8e2_8fee_11ea_850f_a0999b01858drow22_col11 {\n",
       "            background-color:  #f1f7fd;\n",
       "            color:  #000000;\n",
       "        }    #T_f2b9d8e2_8fee_11ea_850f_a0999b01858drow22_col12 {\n",
       "            background-color:  #f3f8fe;\n",
       "            color:  #000000;\n",
       "        }    #T_f2b9d8e2_8fee_11ea_850f_a0999b01858drow22_col13 {\n",
       "            background-color:  #f7fbff;\n",
       "            color:  #000000;\n",
       "        }    #T_f2b9d8e2_8fee_11ea_850f_a0999b01858drow22_col14 {\n",
       "            background-color:  #e8f1fa;\n",
       "            color:  #000000;\n",
       "        }    #T_f2b9d8e2_8fee_11ea_850f_a0999b01858drow22_col15 {\n",
       "            background-color:  #eaf3fb;\n",
       "            color:  #000000;\n",
       "        }    #T_f2b9d8e2_8fee_11ea_850f_a0999b01858drow22_col16 {\n",
       "            background-color:  #f2f8fd;\n",
       "            color:  #000000;\n",
       "        }    #T_f2b9d8e2_8fee_11ea_850f_a0999b01858drow22_col17 {\n",
       "            background-color:  #eaf2fb;\n",
       "            color:  #000000;\n",
       "        }    #T_f2b9d8e2_8fee_11ea_850f_a0999b01858drow22_col18 {\n",
       "            background-color:  #eaf3fb;\n",
       "            color:  #000000;\n",
       "        }    #T_f2b9d8e2_8fee_11ea_850f_a0999b01858drow22_col19 {\n",
       "            background-color:  #f7fbff;\n",
       "            color:  #000000;\n",
       "        }    #T_f2b9d8e2_8fee_11ea_850f_a0999b01858drow22_col20 {\n",
       "            background-color:  #f6faff;\n",
       "            color:  #000000;\n",
       "        }    #T_f2b9d8e2_8fee_11ea_850f_a0999b01858drow22_col21 {\n",
       "            background-color:  #f7fbff;\n",
       "            color:  #000000;\n",
       "        }    #T_f2b9d8e2_8fee_11ea_850f_a0999b01858drow22_col22 {\n",
       "            background-color:  #08306b;\n",
       "            color:  #f1f1f1;\n",
       "        }    #T_f2b9d8e2_8fee_11ea_850f_a0999b01858drow22_col23 {\n",
       "            background-color:  #f0f6fd;\n",
       "            color:  #000000;\n",
       "        }    #T_f2b9d8e2_8fee_11ea_850f_a0999b01858drow22_col24 {\n",
       "            background-color:  #64a9d3;\n",
       "            color:  #000000;\n",
       "        }    #T_f2b9d8e2_8fee_11ea_850f_a0999b01858drow22_col25 {\n",
       "            background-color:  #e6f0f9;\n",
       "            color:  #000000;\n",
       "        }    #T_f2b9d8e2_8fee_11ea_850f_a0999b01858drow23_col0 {\n",
       "            background-color:  #dfebf7;\n",
       "            color:  #000000;\n",
       "        }    #T_f2b9d8e2_8fee_11ea_850f_a0999b01858drow23_col1 {\n",
       "            background-color:  #eff6fc;\n",
       "            color:  #000000;\n",
       "        }    #T_f2b9d8e2_8fee_11ea_850f_a0999b01858drow23_col2 {\n",
       "            background-color:  #f5fafe;\n",
       "            color:  #000000;\n",
       "        }    #T_f2b9d8e2_8fee_11ea_850f_a0999b01858drow23_col3 {\n",
       "            background-color:  #e0ecf8;\n",
       "            color:  #000000;\n",
       "        }    #T_f2b9d8e2_8fee_11ea_850f_a0999b01858drow23_col4 {\n",
       "            background-color:  #ebf3fb;\n",
       "            color:  #000000;\n",
       "        }    #T_f2b9d8e2_8fee_11ea_850f_a0999b01858drow23_col5 {\n",
       "            background-color:  #f5fafe;\n",
       "            color:  #000000;\n",
       "        }    #T_f2b9d8e2_8fee_11ea_850f_a0999b01858drow23_col6 {\n",
       "            background-color:  #f4f9fe;\n",
       "            color:  #000000;\n",
       "        }    #T_f2b9d8e2_8fee_11ea_850f_a0999b01858drow23_col7 {\n",
       "            background-color:  #f0f6fd;\n",
       "            color:  #000000;\n",
       "        }    #T_f2b9d8e2_8fee_11ea_850f_a0999b01858drow23_col8 {\n",
       "            background-color:  #ecf4fb;\n",
       "            color:  #000000;\n",
       "        }    #T_f2b9d8e2_8fee_11ea_850f_a0999b01858drow23_col9 {\n",
       "            background-color:  #e3eef9;\n",
       "            color:  #000000;\n",
       "        }    #T_f2b9d8e2_8fee_11ea_850f_a0999b01858drow23_col10 {\n",
       "            background-color:  #eef5fc;\n",
       "            color:  #000000;\n",
       "        }    #T_f2b9d8e2_8fee_11ea_850f_a0999b01858drow23_col11 {\n",
       "            background-color:  #f3f8fe;\n",
       "            color:  #000000;\n",
       "        }    #T_f2b9d8e2_8fee_11ea_850f_a0999b01858drow23_col12 {\n",
       "            background-color:  #f4f9fe;\n",
       "            color:  #000000;\n",
       "        }    #T_f2b9d8e2_8fee_11ea_850f_a0999b01858drow23_col13 {\n",
       "            background-color:  #f4f9fe;\n",
       "            color:  #000000;\n",
       "        }    #T_f2b9d8e2_8fee_11ea_850f_a0999b01858drow23_col14 {\n",
       "            background-color:  #ecf4fb;\n",
       "            color:  #000000;\n",
       "        }    #T_f2b9d8e2_8fee_11ea_850f_a0999b01858drow23_col15 {\n",
       "            background-color:  #e9f2fa;\n",
       "            color:  #000000;\n",
       "        }    #T_f2b9d8e2_8fee_11ea_850f_a0999b01858drow23_col16 {\n",
       "            background-color:  #e6f0f9;\n",
       "            color:  #000000;\n",
       "        }    #T_f2b9d8e2_8fee_11ea_850f_a0999b01858drow23_col17 {\n",
       "            background-color:  #e6f0f9;\n",
       "            color:  #000000;\n",
       "        }    #T_f2b9d8e2_8fee_11ea_850f_a0999b01858drow23_col18 {\n",
       "            background-color:  #eaf3fb;\n",
       "            color:  #000000;\n",
       "        }    #T_f2b9d8e2_8fee_11ea_850f_a0999b01858drow23_col19 {\n",
       "            background-color:  #f5f9fe;\n",
       "            color:  #000000;\n",
       "        }    #T_f2b9d8e2_8fee_11ea_850f_a0999b01858drow23_col20 {\n",
       "            background-color:  #f7fbff;\n",
       "            color:  #000000;\n",
       "        }    #T_f2b9d8e2_8fee_11ea_850f_a0999b01858drow23_col21 {\n",
       "            background-color:  #f5fafe;\n",
       "            color:  #000000;\n",
       "        }    #T_f2b9d8e2_8fee_11ea_850f_a0999b01858drow23_col22 {\n",
       "            background-color:  #e7f1fa;\n",
       "            color:  #000000;\n",
       "        }    #T_f2b9d8e2_8fee_11ea_850f_a0999b01858drow23_col23 {\n",
       "            background-color:  #08306b;\n",
       "            color:  #f1f1f1;\n",
       "        }    #T_f2b9d8e2_8fee_11ea_850f_a0999b01858drow23_col24 {\n",
       "            background-color:  #edf4fc;\n",
       "            color:  #000000;\n",
       "        }    #T_f2b9d8e2_8fee_11ea_850f_a0999b01858drow23_col25 {\n",
       "            background-color:  #eef5fc;\n",
       "            color:  #000000;\n",
       "        }    #T_f2b9d8e2_8fee_11ea_850f_a0999b01858drow24_col0 {\n",
       "            background-color:  #ddeaf7;\n",
       "            color:  #000000;\n",
       "        }    #T_f2b9d8e2_8fee_11ea_850f_a0999b01858drow24_col1 {\n",
       "            background-color:  #f1f7fd;\n",
       "            color:  #000000;\n",
       "        }    #T_f2b9d8e2_8fee_11ea_850f_a0999b01858drow24_col2 {\n",
       "            background-color:  #dfecf7;\n",
       "            color:  #000000;\n",
       "        }    #T_f2b9d8e2_8fee_11ea_850f_a0999b01858drow24_col3 {\n",
       "            background-color:  #d3e4f3;\n",
       "            color:  #000000;\n",
       "        }    #T_f2b9d8e2_8fee_11ea_850f_a0999b01858drow24_col4 {\n",
       "            background-color:  #eaf2fb;\n",
       "            color:  #000000;\n",
       "        }    #T_f2b9d8e2_8fee_11ea_850f_a0999b01858drow24_col5 {\n",
       "            background-color:  #c6dbef;\n",
       "            color:  #000000;\n",
       "        }    #T_f2b9d8e2_8fee_11ea_850f_a0999b01858drow24_col6 {\n",
       "            background-color:  #eef5fc;\n",
       "            color:  #000000;\n",
       "        }    #T_f2b9d8e2_8fee_11ea_850f_a0999b01858drow24_col7 {\n",
       "            background-color:  #e9f2fa;\n",
       "            color:  #000000;\n",
       "        }    #T_f2b9d8e2_8fee_11ea_850f_a0999b01858drow24_col8 {\n",
       "            background-color:  #e6f0f9;\n",
       "            color:  #000000;\n",
       "        }    #T_f2b9d8e2_8fee_11ea_850f_a0999b01858drow24_col9 {\n",
       "            background-color:  #d8e7f5;\n",
       "            color:  #000000;\n",
       "        }    #T_f2b9d8e2_8fee_11ea_850f_a0999b01858drow24_col10 {\n",
       "            background-color:  #a0cbe2;\n",
       "            color:  #000000;\n",
       "        }    #T_f2b9d8e2_8fee_11ea_850f_a0999b01858drow24_col11 {\n",
       "            background-color:  #e3eef9;\n",
       "            color:  #000000;\n",
       "        }    #T_f2b9d8e2_8fee_11ea_850f_a0999b01858drow24_col12 {\n",
       "            background-color:  #e8f1fa;\n",
       "            color:  #000000;\n",
       "        }    #T_f2b9d8e2_8fee_11ea_850f_a0999b01858drow24_col13 {\n",
       "            background-color:  #f5fafe;\n",
       "            color:  #000000;\n",
       "        }    #T_f2b9d8e2_8fee_11ea_850f_a0999b01858drow24_col14 {\n",
       "            background-color:  #d0e2f2;\n",
       "            color:  #000000;\n",
       "        }    #T_f2b9d8e2_8fee_11ea_850f_a0999b01858drow24_col15 {\n",
       "            background-color:  #bed8ec;\n",
       "            color:  #000000;\n",
       "        }    #T_f2b9d8e2_8fee_11ea_850f_a0999b01858drow24_col16 {\n",
       "            background-color:  #c3daee;\n",
       "            color:  #000000;\n",
       "        }    #T_f2b9d8e2_8fee_11ea_850f_a0999b01858drow24_col17 {\n",
       "            background-color:  #c6dbef;\n",
       "            color:  #000000;\n",
       "        }    #T_f2b9d8e2_8fee_11ea_850f_a0999b01858drow24_col18 {\n",
       "            background-color:  #c7dcef;\n",
       "            color:  #000000;\n",
       "        }    #T_f2b9d8e2_8fee_11ea_850f_a0999b01858drow24_col19 {\n",
       "            background-color:  #ecf4fb;\n",
       "            color:  #000000;\n",
       "        }    #T_f2b9d8e2_8fee_11ea_850f_a0999b01858drow24_col20 {\n",
       "            background-color:  #f4f9fe;\n",
       "            color:  #000000;\n",
       "        }    #T_f2b9d8e2_8fee_11ea_850f_a0999b01858drow24_col21 {\n",
       "            background-color:  #f5f9fe;\n",
       "            color:  #000000;\n",
       "        }    #T_f2b9d8e2_8fee_11ea_850f_a0999b01858drow24_col22 {\n",
       "            background-color:  #5aa2cf;\n",
       "            color:  #000000;\n",
       "        }    #T_f2b9d8e2_8fee_11ea_850f_a0999b01858drow24_col23 {\n",
       "            background-color:  #eaf2fb;\n",
       "            color:  #000000;\n",
       "        }    #T_f2b9d8e2_8fee_11ea_850f_a0999b01858drow24_col24 {\n",
       "            background-color:  #08306b;\n",
       "            color:  #f1f1f1;\n",
       "        }    #T_f2b9d8e2_8fee_11ea_850f_a0999b01858drow24_col25 {\n",
       "            background-color:  #e6f0f9;\n",
       "            color:  #000000;\n",
       "        }    #T_f2b9d8e2_8fee_11ea_850f_a0999b01858drow25_col0 {\n",
       "            background-color:  #dfecf7;\n",
       "            color:  #000000;\n",
       "        }    #T_f2b9d8e2_8fee_11ea_850f_a0999b01858drow25_col1 {\n",
       "            background-color:  #f2f7fd;\n",
       "            color:  #000000;\n",
       "        }    #T_f2b9d8e2_8fee_11ea_850f_a0999b01858drow25_col2 {\n",
       "            background-color:  #ebf3fb;\n",
       "            color:  #000000;\n",
       "        }    #T_f2b9d8e2_8fee_11ea_850f_a0999b01858drow25_col3 {\n",
       "            background-color:  #d8e7f5;\n",
       "            color:  #000000;\n",
       "        }    #T_f2b9d8e2_8fee_11ea_850f_a0999b01858drow25_col4 {\n",
       "            background-color:  #f3f8fe;\n",
       "            color:  #000000;\n",
       "        }    #T_f2b9d8e2_8fee_11ea_850f_a0999b01858drow25_col5 {\n",
       "            background-color:  #eef5fc;\n",
       "            color:  #000000;\n",
       "        }    #T_f2b9d8e2_8fee_11ea_850f_a0999b01858drow25_col6 {\n",
       "            background-color:  #e3eef8;\n",
       "            color:  #000000;\n",
       "        }    #T_f2b9d8e2_8fee_11ea_850f_a0999b01858drow25_col7 {\n",
       "            background-color:  #dceaf6;\n",
       "            color:  #000000;\n",
       "        }    #T_f2b9d8e2_8fee_11ea_850f_a0999b01858drow25_col8 {\n",
       "            background-color:  #c1d9ed;\n",
       "            color:  #000000;\n",
       "        }    #T_f2b9d8e2_8fee_11ea_850f_a0999b01858drow25_col9 {\n",
       "            background-color:  #cfe1f2;\n",
       "            color:  #000000;\n",
       "        }    #T_f2b9d8e2_8fee_11ea_850f_a0999b01858drow25_col10 {\n",
       "            background-color:  #eef5fc;\n",
       "            color:  #000000;\n",
       "        }    #T_f2b9d8e2_8fee_11ea_850f_a0999b01858drow25_col11 {\n",
       "            background-color:  #eef5fc;\n",
       "            color:  #000000;\n",
       "        }    #T_f2b9d8e2_8fee_11ea_850f_a0999b01858drow25_col12 {\n",
       "            background-color:  #f2f8fd;\n",
       "            color:  #000000;\n",
       "        }    #T_f2b9d8e2_8fee_11ea_850f_a0999b01858drow25_col13 {\n",
       "            background-color:  #f4f9fe;\n",
       "            color:  #000000;\n",
       "        }    #T_f2b9d8e2_8fee_11ea_850f_a0999b01858drow25_col14 {\n",
       "            background-color:  #e9f2fa;\n",
       "            color:  #000000;\n",
       "        }    #T_f2b9d8e2_8fee_11ea_850f_a0999b01858drow25_col15 {\n",
       "            background-color:  #e0ecf8;\n",
       "            color:  #000000;\n",
       "        }    #T_f2b9d8e2_8fee_11ea_850f_a0999b01858drow25_col16 {\n",
       "            background-color:  #e4eff9;\n",
       "            color:  #000000;\n",
       "        }    #T_f2b9d8e2_8fee_11ea_850f_a0999b01858drow25_col17 {\n",
       "            background-color:  #e9f2fa;\n",
       "            color:  #000000;\n",
       "        }    #T_f2b9d8e2_8fee_11ea_850f_a0999b01858drow25_col18 {\n",
       "            background-color:  #e9f2fa;\n",
       "            color:  #000000;\n",
       "        }    #T_f2b9d8e2_8fee_11ea_850f_a0999b01858drow25_col19 {\n",
       "            background-color:  #f2f8fd;\n",
       "            color:  #000000;\n",
       "        }    #T_f2b9d8e2_8fee_11ea_850f_a0999b01858drow25_col20 {\n",
       "            background-color:  #f5fafe;\n",
       "            color:  #000000;\n",
       "        }    #T_f2b9d8e2_8fee_11ea_850f_a0999b01858drow25_col21 {\n",
       "            background-color:  #f6faff;\n",
       "            color:  #000000;\n",
       "        }    #T_f2b9d8e2_8fee_11ea_850f_a0999b01858drow25_col22 {\n",
       "            background-color:  #e0ecf8;\n",
       "            color:  #000000;\n",
       "        }    #T_f2b9d8e2_8fee_11ea_850f_a0999b01858drow25_col23 {\n",
       "            background-color:  #f2f7fd;\n",
       "            color:  #000000;\n",
       "        }    #T_f2b9d8e2_8fee_11ea_850f_a0999b01858drow25_col24 {\n",
       "            background-color:  #ecf4fb;\n",
       "            color:  #000000;\n",
       "        }    #T_f2b9d8e2_8fee_11ea_850f_a0999b01858drow25_col25 {\n",
       "            background-color:  #08306b;\n",
       "            color:  #f1f1f1;\n",
       "        }</style><table id=\"T_f2b9d8e2_8fee_11ea_850f_a0999b01858d\" ><thead>    <tr>        <th class=\"blank level0\" ></th>        <th class=\"col_heading level0 col0\" >admission_type_id</th>        <th class=\"col_heading level0 col1\" >discharge_disposition_id</th>        <th class=\"col_heading level0 col2\" >time_in_hospital</th>        <th class=\"col_heading level0 col3\" >num_lab_procedures</th>        <th class=\"col_heading level0 col4\" >num_procedures</th>        <th class=\"col_heading level0 col5\" >num_medications</th>        <th class=\"col_heading level0 col6\" >number_outpatient</th>        <th class=\"col_heading level0 col7\" >number_emergency</th>        <th class=\"col_heading level0 col8\" >number_inpatient</th>        <th class=\"col_heading level0 col9\" >number_diagnoses</th>        <th class=\"col_heading level0 col10\" >metformin</th>        <th class=\"col_heading level0 col11\" >repaglinide</th>        <th class=\"col_heading level0 col12\" >nateglinide</th>        <th class=\"col_heading level0 col13\" >chlorpropamide</th>        <th class=\"col_heading level0 col14\" >glimepiride</th>        <th class=\"col_heading level0 col15\" >glipizide</th>        <th class=\"col_heading level0 col16\" >glyburide</th>        <th class=\"col_heading level0 col17\" >pioglitazone</th>        <th class=\"col_heading level0 col18\" >rosiglitazone</th>        <th class=\"col_heading level0 col19\" >acarbose</th>        <th class=\"col_heading level0 col20\" >miglitol</th>        <th class=\"col_heading level0 col21\" >tolazamide</th>        <th class=\"col_heading level0 col22\" >insulin</th>        <th class=\"col_heading level0 col23\" >glyburide-metformin</th>        <th class=\"col_heading level0 col24\" >change</th>        <th class=\"col_heading level0 col25\" >readmitted</th>    </tr></thead><tbody>\n",
       "                <tr>\n",
       "                        <th id=\"T_f2b9d8e2_8fee_11ea_850f_a0999b01858dlevel0_row0\" class=\"row_heading level0 row0\" >admission_type_id</th>\n",
       "                        <td id=\"T_f2b9d8e2_8fee_11ea_850f_a0999b01858drow0_col0\" class=\"data row0 col0\" >1</td>\n",
       "                        <td id=\"T_f2b9d8e2_8fee_11ea_850f_a0999b01858drow0_col1\" class=\"data row0 col1\" >0.0813662</td>\n",
       "                        <td id=\"T_f2b9d8e2_8fee_11ea_850f_a0999b01858drow0_col2\" class=\"data row0 col2\" >-0.0122842</td>\n",
       "                        <td id=\"T_f2b9d8e2_8fee_11ea_850f_a0999b01858drow0_col3\" class=\"data row0 col3\" >-0.142531</td>\n",
       "                        <td id=\"T_f2b9d8e2_8fee_11ea_850f_a0999b01858drow0_col4\" class=\"data row0 col4\" >0.130525</td>\n",
       "                        <td id=\"T_f2b9d8e2_8fee_11ea_850f_a0999b01858drow0_col5\" class=\"data row0 col5\" >0.0799725</td>\n",
       "                        <td id=\"T_f2b9d8e2_8fee_11ea_850f_a0999b01858drow0_col6\" class=\"data row0 col6\" >0.0259013</td>\n",
       "                        <td id=\"T_f2b9d8e2_8fee_11ea_850f_a0999b01858drow0_col7\" class=\"data row0 col7\" >-0.0194295</td>\n",
       "                        <td id=\"T_f2b9d8e2_8fee_11ea_850f_a0999b01858drow0_col8\" class=\"data row0 col8\" >-0.0370928</td>\n",
       "                        <td id=\"T_f2b9d8e2_8fee_11ea_850f_a0999b01858drow0_col9\" class=\"data row0 col9\" >-0.121075</td>\n",
       "                        <td id=\"T_f2b9d8e2_8fee_11ea_850f_a0999b01858drow0_col10\" class=\"data row0 col10\" >0.0146038</td>\n",
       "                        <td id=\"T_f2b9d8e2_8fee_11ea_850f_a0999b01858drow0_col11\" class=\"data row0 col11\" >-0.00314495</td>\n",
       "                        <td id=\"T_f2b9d8e2_8fee_11ea_850f_a0999b01858drow0_col12\" class=\"data row0 col12\" >-0.00870879</td>\n",
       "                        <td id=\"T_f2b9d8e2_8fee_11ea_850f_a0999b01858drow0_col13\" class=\"data row0 col13\" >0.00813344</td>\n",
       "                        <td id=\"T_f2b9d8e2_8fee_11ea_850f_a0999b01858drow0_col14\" class=\"data row0 col14\" >-0.00150293</td>\n",
       "                        <td id=\"T_f2b9d8e2_8fee_11ea_850f_a0999b01858drow0_col15\" class=\"data row0 col15\" >0.0128263</td>\n",
       "                        <td id=\"T_f2b9d8e2_8fee_11ea_850f_a0999b01858drow0_col16\" class=\"data row0 col16\" >0.00221612</td>\n",
       "                        <td id=\"T_f2b9d8e2_8fee_11ea_850f_a0999b01858drow0_col17\" class=\"data row0 col17\" >0.0150411</td>\n",
       "                        <td id=\"T_f2b9d8e2_8fee_11ea_850f_a0999b01858drow0_col18\" class=\"data row0 col18\" >0.0224293</td>\n",
       "                        <td id=\"T_f2b9d8e2_8fee_11ea_850f_a0999b01858drow0_col19\" class=\"data row0 col19\" >0.00552277</td>\n",
       "                        <td id=\"T_f2b9d8e2_8fee_11ea_850f_a0999b01858drow0_col20\" class=\"data row0 col20\" >-0.000302751</td>\n",
       "                        <td id=\"T_f2b9d8e2_8fee_11ea_850f_a0999b01858drow0_col21\" class=\"data row0 col21\" >0.00616697</td>\n",
       "                        <td id=\"T_f2b9d8e2_8fee_11ea_850f_a0999b01858drow0_col22\" class=\"data row0 col22\" >-0.0307997</td>\n",
       "                        <td id=\"T_f2b9d8e2_8fee_11ea_850f_a0999b01858drow0_col23\" class=\"data row0 col23\" >-0.0033966</td>\n",
       "                        <td id=\"T_f2b9d8e2_8fee_11ea_850f_a0999b01858drow0_col24\" class=\"data row0 col24\" >0.00708769</td>\n",
       "                        <td id=\"T_f2b9d8e2_8fee_11ea_850f_a0999b01858drow0_col25\" class=\"data row0 col25\" >-0.0048991</td>\n",
       "            </tr>\n",
       "            <tr>\n",
       "                        <th id=\"T_f2b9d8e2_8fee_11ea_850f_a0999b01858dlevel0_row1\" class=\"row_heading level0 row1\" >discharge_disposition_id</th>\n",
       "                        <td id=\"T_f2b9d8e2_8fee_11ea_850f_a0999b01858drow1_col0\" class=\"data row1 col0\" >0.0813662</td>\n",
       "                        <td id=\"T_f2b9d8e2_8fee_11ea_850f_a0999b01858drow1_col1\" class=\"data row1 col1\" >1</td>\n",
       "                        <td id=\"T_f2b9d8e2_8fee_11ea_850f_a0999b01858drow1_col2\" class=\"data row1 col2\" >0.162717</td>\n",
       "                        <td id=\"T_f2b9d8e2_8fee_11ea_850f_a0999b01858drow1_col3\" class=\"data row1 col3\" >0.0228862</td>\n",
       "                        <td id=\"T_f2b9d8e2_8fee_11ea_850f_a0999b01858drow1_col4\" class=\"data row1 col4\" >0.0146158</td>\n",
       "                        <td id=\"T_f2b9d8e2_8fee_11ea_850f_a0999b01858drow1_col5\" class=\"data row1 col5\" >0.107709</td>\n",
       "                        <td id=\"T_f2b9d8e2_8fee_11ea_850f_a0999b01858drow1_col6\" class=\"data row1 col6\" >-0.00920574</td>\n",
       "                        <td id=\"T_f2b9d8e2_8fee_11ea_850f_a0999b01858drow1_col7\" class=\"data row1 col7\" >-0.0249965</td>\n",
       "                        <td id=\"T_f2b9d8e2_8fee_11ea_850f_a0999b01858drow1_col8\" class=\"data row1 col8\" >0.0202455</td>\n",
       "                        <td id=\"T_f2b9d8e2_8fee_11ea_850f_a0999b01858drow1_col9\" class=\"data row1 col9\" >0.0423801</td>\n",
       "                        <td id=\"T_f2b9d8e2_8fee_11ea_850f_a0999b01858drow1_col10\" class=\"data row1 col10\" >-0.0110831</td>\n",
       "                        <td id=\"T_f2b9d8e2_8fee_11ea_850f_a0999b01858drow1_col11\" class=\"data row1 col11\" >-0.00441492</td>\n",
       "                        <td id=\"T_f2b9d8e2_8fee_11ea_850f_a0999b01858drow1_col12\" class=\"data row1 col12\" >-0.0120848</td>\n",
       "                        <td id=\"T_f2b9d8e2_8fee_11ea_850f_a0999b01858drow1_col13\" class=\"data row1 col13\" >0.0157831</td>\n",
       "                        <td id=\"T_f2b9d8e2_8fee_11ea_850f_a0999b01858drow1_col14\" class=\"data row1 col14\" >-0.0217368</td>\n",
       "                        <td id=\"T_f2b9d8e2_8fee_11ea_850f_a0999b01858drow1_col15\" class=\"data row1 col15\" >-0.0141962</td>\n",
       "                        <td id=\"T_f2b9d8e2_8fee_11ea_850f_a0999b01858drow1_col16\" class=\"data row1 col16\" >0.0448981</td>\n",
       "                        <td id=\"T_f2b9d8e2_8fee_11ea_850f_a0999b01858drow1_col17\" class=\"data row1 col17\" >-0.0130669</td>\n",
       "                        <td id=\"T_f2b9d8e2_8fee_11ea_850f_a0999b01858drow1_col18\" class=\"data row1 col18\" >-0.00554237</td>\n",
       "                        <td id=\"T_f2b9d8e2_8fee_11ea_850f_a0999b01858drow1_col19\" class=\"data row1 col19\" >0.00592046</td>\n",
       "                        <td id=\"T_f2b9d8e2_8fee_11ea_850f_a0999b01858drow1_col20\" class=\"data row1 col20\" >0.00836159</td>\n",
       "                        <td id=\"T_f2b9d8e2_8fee_11ea_850f_a0999b01858drow1_col21\" class=\"data row1 col21\" >0.00895167</td>\n",
       "                        <td id=\"T_f2b9d8e2_8fee_11ea_850f_a0999b01858drow1_col22\" class=\"data row1 col22\" >-0.0458642</td>\n",
       "                        <td id=\"T_f2b9d8e2_8fee_11ea_850f_a0999b01858drow1_col23\" class=\"data row1 col23\" >-0.00486664</td>\n",
       "                        <td id=\"T_f2b9d8e2_8fee_11ea_850f_a0999b01858drow1_col24\" class=\"data row1 col24\" >-0.0124401</td>\n",
       "                        <td id=\"T_f2b9d8e2_8fee_11ea_850f_a0999b01858drow1_col25\" class=\"data row1 col25\" >-0.0162319</td>\n",
       "            </tr>\n",
       "            <tr>\n",
       "                        <th id=\"T_f2b9d8e2_8fee_11ea_850f_a0999b01858dlevel0_row2\" class=\"row_heading level0 row2\" >time_in_hospital</th>\n",
       "                        <td id=\"T_f2b9d8e2_8fee_11ea_850f_a0999b01858drow2_col0\" class=\"data row2 col0\" >-0.0122842</td>\n",
       "                        <td id=\"T_f2b9d8e2_8fee_11ea_850f_a0999b01858drow2_col1\" class=\"data row2 col1\" >0.162717</td>\n",
       "                        <td id=\"T_f2b9d8e2_8fee_11ea_850f_a0999b01858drow2_col2\" class=\"data row2 col2\" >1</td>\n",
       "                        <td id=\"T_f2b9d8e2_8fee_11ea_850f_a0999b01858drow2_col3\" class=\"data row2 col3\" >0.319328</td>\n",
       "                        <td id=\"T_f2b9d8e2_8fee_11ea_850f_a0999b01858drow2_col4\" class=\"data row2 col4\" >0.189262</td>\n",
       "                        <td id=\"T_f2b9d8e2_8fee_11ea_850f_a0999b01858drow2_col5\" class=\"data row2 col5\" >0.46384</td>\n",
       "                        <td id=\"T_f2b9d8e2_8fee_11ea_850f_a0999b01858drow2_col6\" class=\"data row2 col6\" >-0.0103663</td>\n",
       "                        <td id=\"T_f2b9d8e2_8fee_11ea_850f_a0999b01858drow2_col7\" class=\"data row2 col7\" >-0.0104213</td>\n",
       "                        <td id=\"T_f2b9d8e2_8fee_11ea_850f_a0999b01858drow2_col8\" class=\"data row2 col8\" >0.0724122</td>\n",
       "                        <td id=\"T_f2b9d8e2_8fee_11ea_850f_a0999b01858drow2_col9\" class=\"data row2 col9\" >0.210353</td>\n",
       "                        <td id=\"T_f2b9d8e2_8fee_11ea_850f_a0999b01858drow2_col10\" class=\"data row2 col10\" >-0.00751197</td>\n",
       "                        <td id=\"T_f2b9d8e2_8fee_11ea_850f_a0999b01858drow2_col11\" class=\"data row2 col11\" >0.0331197</td>\n",
       "                        <td id=\"T_f2b9d8e2_8fee_11ea_850f_a0999b01858drow2_col12\" class=\"data row2 col12\" >0.00507852</td>\n",
       "                        <td id=\"T_f2b9d8e2_8fee_11ea_850f_a0999b01858drow2_col13\" class=\"data row2 col13\" >0.00238516</td>\n",
       "                        <td id=\"T_f2b9d8e2_8fee_11ea_850f_a0999b01858drow2_col14\" class=\"data row2 col14\" >0.013603</td>\n",
       "                        <td id=\"T_f2b9d8e2_8fee_11ea_850f_a0999b01858drow2_col15\" class=\"data row2 col15\" >0.0147329</td>\n",
       "                        <td id=\"T_f2b9d8e2_8fee_11ea_850f_a0999b01858drow2_col16\" class=\"data row2 col16\" >0.0243074</td>\n",
       "                        <td id=\"T_f2b9d8e2_8fee_11ea_850f_a0999b01858drow2_col17\" class=\"data row2 col17\" >0.00467934</td>\n",
       "                        <td id=\"T_f2b9d8e2_8fee_11ea_850f_a0999b01858drow2_col18\" class=\"data row2 col18\" >0.00483956</td>\n",
       "                        <td id=\"T_f2b9d8e2_8fee_11ea_850f_a0999b01858drow2_col19\" class=\"data row2 col19\" >0.00598305</td>\n",
       "                        <td id=\"T_f2b9d8e2_8fee_11ea_850f_a0999b01858drow2_col20\" class=\"data row2 col20\" >0.00181411</td>\n",
       "                        <td id=\"T_f2b9d8e2_8fee_11ea_850f_a0999b01858drow2_col21\" class=\"data row2 col21\" >-0.0030473</td>\n",
       "                        <td id=\"T_f2b9d8e2_8fee_11ea_850f_a0999b01858drow2_col22\" class=\"data row2 col22\" >0.101923</td>\n",
       "                        <td id=\"T_f2b9d8e2_8fee_11ea_850f_a0999b01858drow2_col23\" class=\"data row2 col23\" >-0.00197399</td>\n",
       "                        <td id=\"T_f2b9d8e2_8fee_11ea_850f_a0999b01858drow2_col24\" class=\"data row2 col24\" >0.109498</td>\n",
       "                        <td id=\"T_f2b9d8e2_8fee_11ea_850f_a0999b01858drow2_col25\" class=\"data row2 col25\" >0.0489525</td>\n",
       "            </tr>\n",
       "            <tr>\n",
       "                        <th id=\"T_f2b9d8e2_8fee_11ea_850f_a0999b01858dlevel0_row3\" class=\"row_heading level0 row3\" >num_lab_procedures</th>\n",
       "                        <td id=\"T_f2b9d8e2_8fee_11ea_850f_a0999b01858drow3_col0\" class=\"data row3 col0\" >-0.142531</td>\n",
       "                        <td id=\"T_f2b9d8e2_8fee_11ea_850f_a0999b01858drow3_col1\" class=\"data row3 col1\" >0.0228862</td>\n",
       "                        <td id=\"T_f2b9d8e2_8fee_11ea_850f_a0999b01858drow3_col2\" class=\"data row3 col2\" >0.319328</td>\n",
       "                        <td id=\"T_f2b9d8e2_8fee_11ea_850f_a0999b01858drow3_col3\" class=\"data row3 col3\" >1</td>\n",
       "                        <td id=\"T_f2b9d8e2_8fee_11ea_850f_a0999b01858drow3_col4\" class=\"data row3 col4\" >0.0582826</td>\n",
       "                        <td id=\"T_f2b9d8e2_8fee_11ea_850f_a0999b01858drow3_col5\" class=\"data row3 col5\" >0.268948</td>\n",
       "                        <td id=\"T_f2b9d8e2_8fee_11ea_850f_a0999b01858drow3_col6\" class=\"data row3 col6\" >-0.00771251</td>\n",
       "                        <td id=\"T_f2b9d8e2_8fee_11ea_850f_a0999b01858drow3_col7\" class=\"data row3 col7\" >-0.0022397</td>\n",
       "                        <td id=\"T_f2b9d8e2_8fee_11ea_850f_a0999b01858drow3_col8\" class=\"data row3 col8\" >0.0386653</td>\n",
       "                        <td id=\"T_f2b9d8e2_8fee_11ea_850f_a0999b01858drow3_col9\" class=\"data row3 col9\" >0.151184</td>\n",
       "                        <td id=\"T_f2b9d8e2_8fee_11ea_850f_a0999b01858drow3_col10\" class=\"data row3 col10\" >-0.0477991</td>\n",
       "                        <td id=\"T_f2b9d8e2_8fee_11ea_850f_a0999b01858drow3_col11\" class=\"data row3 col11\" >0.0123202</td>\n",
       "                        <td id=\"T_f2b9d8e2_8fee_11ea_850f_a0999b01858drow3_col12\" class=\"data row3 col12\" >-0.00669835</td>\n",
       "                        <td id=\"T_f2b9d8e2_8fee_11ea_850f_a0999b01858drow3_col13\" class=\"data row3 col13\" >-0.00125387</td>\n",
       "                        <td id=\"T_f2b9d8e2_8fee_11ea_850f_a0999b01858drow3_col14\" class=\"data row3 col14\" >-0.00055658</td>\n",
       "                        <td id=\"T_f2b9d8e2_8fee_11ea_850f_a0999b01858drow3_col15\" class=\"data row3 col15\" >0.0132207</td>\n",
       "                        <td id=\"T_f2b9d8e2_8fee_11ea_850f_a0999b01858drow3_col16\" class=\"data row3 col16\" >-0.00125147</td>\n",
       "                        <td id=\"T_f2b9d8e2_8fee_11ea_850f_a0999b01858drow3_col17\" class=\"data row3 col17\" >-0.0139533</td>\n",
       "                        <td id=\"T_f2b9d8e2_8fee_11ea_850f_a0999b01858drow3_col18\" class=\"data row3 col18\" >-0.0102074</td>\n",
       "                        <td id=\"T_f2b9d8e2_8fee_11ea_850f_a0999b01858drow3_col19\" class=\"data row3 col19\" >0.000394917</td>\n",
       "                        <td id=\"T_f2b9d8e2_8fee_11ea_850f_a0999b01858drow3_col20\" class=\"data row3 col20\" >-0.00467982</td>\n",
       "                        <td id=\"T_f2b9d8e2_8fee_11ea_850f_a0999b01858drow3_col21\" class=\"data row3 col21\" >0.000225827</td>\n",
       "                        <td id=\"T_f2b9d8e2_8fee_11ea_850f_a0999b01858drow3_col22\" class=\"data row3 col22\" >0.0936117</td>\n",
       "                        <td id=\"T_f2b9d8e2_8fee_11ea_850f_a0999b01858drow3_col23\" class=\"data row3 col23\" >-0.010556</td>\n",
       "                        <td id=\"T_f2b9d8e2_8fee_11ea_850f_a0999b01858drow3_col24\" class=\"data row3 col24\" >0.0639225</td>\n",
       "                        <td id=\"T_f2b9d8e2_8fee_11ea_850f_a0999b01858drow3_col25\" class=\"data row3 col25\" >0.0377943</td>\n",
       "            </tr>\n",
       "            <tr>\n",
       "                        <th id=\"T_f2b9d8e2_8fee_11ea_850f_a0999b01858dlevel0_row4\" class=\"row_heading level0 row4\" >num_procedures</th>\n",
       "                        <td id=\"T_f2b9d8e2_8fee_11ea_850f_a0999b01858drow4_col0\" class=\"data row4 col0\" >0.130525</td>\n",
       "                        <td id=\"T_f2b9d8e2_8fee_11ea_850f_a0999b01858drow4_col1\" class=\"data row4 col1\" >0.0146158</td>\n",
       "                        <td id=\"T_f2b9d8e2_8fee_11ea_850f_a0999b01858drow4_col2\" class=\"data row4 col2\" >0.189262</td>\n",
       "                        <td id=\"T_f2b9d8e2_8fee_11ea_850f_a0999b01858drow4_col3\" class=\"data row4 col3\" >0.0582826</td>\n",
       "                        <td id=\"T_f2b9d8e2_8fee_11ea_850f_a0999b01858drow4_col4\" class=\"data row4 col4\" >1</td>\n",
       "                        <td id=\"T_f2b9d8e2_8fee_11ea_850f_a0999b01858drow4_col5\" class=\"data row4 col5\" >0.383102</td>\n",
       "                        <td id=\"T_f2b9d8e2_8fee_11ea_850f_a0999b01858drow4_col6\" class=\"data row4 col6\" >-0.0263985</td>\n",
       "                        <td id=\"T_f2b9d8e2_8fee_11ea_850f_a0999b01858drow4_col7\" class=\"data row4 col7\" >-0.0385635</td>\n",
       "                        <td id=\"T_f2b9d8e2_8fee_11ea_850f_a0999b01858drow4_col8\" class=\"data row4 col8\" >-0.0679885</td>\n",
       "                        <td id=\"T_f2b9d8e2_8fee_11ea_850f_a0999b01858drow4_col9\" class=\"data row4 col9\" >0.0601423</td>\n",
       "                        <td id=\"T_f2b9d8e2_8fee_11ea_850f_a0999b01858drow4_col10\" class=\"data row4 col10\" >-0.0404939</td>\n",
       "                        <td id=\"T_f2b9d8e2_8fee_11ea_850f_a0999b01858drow4_col11\" class=\"data row4 col11\" >0.00323522</td>\n",
       "                        <td id=\"T_f2b9d8e2_8fee_11ea_850f_a0999b01858drow4_col12\" class=\"data row4 col12\" >-0.00459041</td>\n",
       "                        <td id=\"T_f2b9d8e2_8fee_11ea_850f_a0999b01858drow4_col13\" class=\"data row4 col13\" >0.00737129</td>\n",
       "                        <td id=\"T_f2b9d8e2_8fee_11ea_850f_a0999b01858drow4_col14\" class=\"data row4 col14\" >0.00959082</td>\n",
       "                        <td id=\"T_f2b9d8e2_8fee_11ea_850f_a0999b01858drow4_col15\" class=\"data row4 col15\" >0.00309424</td>\n",
       "                        <td id=\"T_f2b9d8e2_8fee_11ea_850f_a0999b01858drow4_col16\" class=\"data row4 col16\" >0.00532143</td>\n",
       "                        <td id=\"T_f2b9d8e2_8fee_11ea_850f_a0999b01858drow4_col17\" class=\"data row4 col17\" >0.0127885</td>\n",
       "                        <td id=\"T_f2b9d8e2_8fee_11ea_850f_a0999b01858drow4_col18\" class=\"data row4 col18\" >0.0137603</td>\n",
       "                        <td id=\"T_f2b9d8e2_8fee_11ea_850f_a0999b01858drow4_col19\" class=\"data row4 col19\" >-0.00220439</td>\n",
       "                        <td id=\"T_f2b9d8e2_8fee_11ea_850f_a0999b01858drow4_col20\" class=\"data row4 col20\" >1.25278e-05</td>\n",
       "                        <td id=\"T_f2b9d8e2_8fee_11ea_850f_a0999b01858drow4_col21\" class=\"data row4 col21\" >0.0021374</td>\n",
       "                        <td id=\"T_f2b9d8e2_8fee_11ea_850f_a0999b01858drow4_col22\" class=\"data row4 col22\" >0.0196663</td>\n",
       "                        <td id=\"T_f2b9d8e2_8fee_11ea_850f_a0999b01858drow4_col23\" class=\"data row4 col23\" >-0.00206694</td>\n",
       "                        <td id=\"T_f2b9d8e2_8fee_11ea_850f_a0999b01858drow4_col24\" class=\"data row4 col24\" >0.00516403</td>\n",
       "                        <td id=\"T_f2b9d8e2_8fee_11ea_850f_a0999b01858drow4_col25\" class=\"data row4 col25\" >-0.0468328</td>\n",
       "            </tr>\n",
       "            <tr>\n",
       "                        <th id=\"T_f2b9d8e2_8fee_11ea_850f_a0999b01858dlevel0_row5\" class=\"row_heading level0 row5\" >num_medications</th>\n",
       "                        <td id=\"T_f2b9d8e2_8fee_11ea_850f_a0999b01858drow5_col0\" class=\"data row5 col0\" >0.0799725</td>\n",
       "                        <td id=\"T_f2b9d8e2_8fee_11ea_850f_a0999b01858drow5_col1\" class=\"data row5 col1\" >0.107709</td>\n",
       "                        <td id=\"T_f2b9d8e2_8fee_11ea_850f_a0999b01858drow5_col2\" class=\"data row5 col2\" >0.46384</td>\n",
       "                        <td id=\"T_f2b9d8e2_8fee_11ea_850f_a0999b01858drow5_col3\" class=\"data row5 col3\" >0.268948</td>\n",
       "                        <td id=\"T_f2b9d8e2_8fee_11ea_850f_a0999b01858drow5_col4\" class=\"data row5 col4\" >0.383102</td>\n",
       "                        <td id=\"T_f2b9d8e2_8fee_11ea_850f_a0999b01858drow5_col5\" class=\"data row5 col5\" >1</td>\n",
       "                        <td id=\"T_f2b9d8e2_8fee_11ea_850f_a0999b01858drow5_col6\" class=\"data row5 col6\" >0.0432291</td>\n",
       "                        <td id=\"T_f2b9d8e2_8fee_11ea_850f_a0999b01858drow5_col7\" class=\"data row5 col7\" >0.0122596</td>\n",
       "                        <td id=\"T_f2b9d8e2_8fee_11ea_850f_a0999b01858drow5_col8\" class=\"data row5 col8\" >0.061969</td>\n",
       "                        <td id=\"T_f2b9d8e2_8fee_11ea_850f_a0999b01858drow5_col9\" class=\"data row5 col9\" >0.244153</td>\n",
       "                        <td id=\"T_f2b9d8e2_8fee_11ea_850f_a0999b01858drow5_col10\" class=\"data row5 col10\" >0.0686051</td>\n",
       "                        <td id=\"T_f2b9d8e2_8fee_11ea_850f_a0999b01858drow5_col11\" class=\"data row5 col11\" >0.0233809</td>\n",
       "                        <td id=\"T_f2b9d8e2_8fee_11ea_850f_a0999b01858drow5_col12\" class=\"data row5 col12\" >0.0226262</td>\n",
       "                        <td id=\"T_f2b9d8e2_8fee_11ea_850f_a0999b01858drow5_col13\" class=\"data row5 col13\" >0.00187339</td>\n",
       "                        <td id=\"T_f2b9d8e2_8fee_11ea_850f_a0999b01858drow5_col14\" class=\"data row5 col14\" >0.04304</td>\n",
       "                        <td id=\"T_f2b9d8e2_8fee_11ea_850f_a0999b01858drow5_col15\" class=\"data row5 col15\" >0.0558337</td>\n",
       "                        <td id=\"T_f2b9d8e2_8fee_11ea_850f_a0999b01858drow5_col16\" class=\"data row5 col16\" >0.036723</td>\n",
       "                        <td id=\"T_f2b9d8e2_8fee_11ea_850f_a0999b01858drow5_col17\" class=\"data row5 col17\" >0.0663694</td>\n",
       "                        <td id=\"T_f2b9d8e2_8fee_11ea_850f_a0999b01858drow5_col18\" class=\"data row5 col18\" >0.0517392</td>\n",
       "                        <td id=\"T_f2b9d8e2_8fee_11ea_850f_a0999b01858drow5_col19\" class=\"data row5 col19\" >0.0186134</td>\n",
       "                        <td id=\"T_f2b9d8e2_8fee_11ea_850f_a0999b01858drow5_col20\" class=\"data row5 col20\" >0.00432814</td>\n",
       "                        <td id=\"T_f2b9d8e2_8fee_11ea_850f_a0999b01858drow5_col21\" class=\"data row5 col21\" >-0.00335032</td>\n",
       "                        <td id=\"T_f2b9d8e2_8fee_11ea_850f_a0999b01858drow5_col22\" class=\"data row5 col22\" >0.214483</td>\n",
       "                        <td id=\"T_f2b9d8e2_8fee_11ea_850f_a0999b01858drow5_col23\" class=\"data row5 col23\" >0.00807462</td>\n",
       "                        <td id=\"T_f2b9d8e2_8fee_11ea_850f_a0999b01858drow5_col24\" class=\"data row5 col24\" >0.247926</td>\n",
       "                        <td id=\"T_f2b9d8e2_8fee_11ea_850f_a0999b01858drow5_col25\" class=\"data row5 col25\" >0.0431823</td>\n",
       "            </tr>\n",
       "            <tr>\n",
       "                        <th id=\"T_f2b9d8e2_8fee_11ea_850f_a0999b01858dlevel0_row6\" class=\"row_heading level0 row6\" >number_outpatient</th>\n",
       "                        <td id=\"T_f2b9d8e2_8fee_11ea_850f_a0999b01858drow6_col0\" class=\"data row6 col0\" >0.0259013</td>\n",
       "                        <td id=\"T_f2b9d8e2_8fee_11ea_850f_a0999b01858drow6_col1\" class=\"data row6 col1\" >-0.00920574</td>\n",
       "                        <td id=\"T_f2b9d8e2_8fee_11ea_850f_a0999b01858drow6_col2\" class=\"data row6 col2\" >-0.0103663</td>\n",
       "                        <td id=\"T_f2b9d8e2_8fee_11ea_850f_a0999b01858drow6_col3\" class=\"data row6 col3\" >-0.00771251</td>\n",
       "                        <td id=\"T_f2b9d8e2_8fee_11ea_850f_a0999b01858drow6_col4\" class=\"data row6 col4\" >-0.0263985</td>\n",
       "                        <td id=\"T_f2b9d8e2_8fee_11ea_850f_a0999b01858drow6_col5\" class=\"data row6 col5\" >0.0432291</td>\n",
       "                        <td id=\"T_f2b9d8e2_8fee_11ea_850f_a0999b01858drow6_col6\" class=\"data row6 col6\" >1</td>\n",
       "                        <td id=\"T_f2b9d8e2_8fee_11ea_850f_a0999b01858drow6_col7\" class=\"data row6 col7\" >0.0915314</td>\n",
       "                        <td id=\"T_f2b9d8e2_8fee_11ea_850f_a0999b01858drow6_col8\" class=\"data row6 col8\" >0.107052</td>\n",
       "                        <td id=\"T_f2b9d8e2_8fee_11ea_850f_a0999b01858drow6_col9\" class=\"data row6 col9\" >0.0929653</td>\n",
       "                        <td id=\"T_f2b9d8e2_8fee_11ea_850f_a0999b01858drow6_col10\" class=\"data row6 col10\" >-0.0116387</td>\n",
       "                        <td id=\"T_f2b9d8e2_8fee_11ea_850f_a0999b01858drow6_col11\" class=\"data row6 col11\" >0.00292526</td>\n",
       "                        <td id=\"T_f2b9d8e2_8fee_11ea_850f_a0999b01858drow6_col12\" class=\"data row6 col12\" >0.00112472</td>\n",
       "                        <td id=\"T_f2b9d8e2_8fee_11ea_850f_a0999b01858drow6_col13\" class=\"data row6 col13\" >-0.00522143</td>\n",
       "                        <td id=\"T_f2b9d8e2_8fee_11ea_850f_a0999b01858drow6_col14\" class=\"data row6 col14\" >-0.0134197</td>\n",
       "                        <td id=\"T_f2b9d8e2_8fee_11ea_850f_a0999b01858drow6_col15\" class=\"data row6 col15\" >0.00740547</td>\n",
       "                        <td id=\"T_f2b9d8e2_8fee_11ea_850f_a0999b01858drow6_col16\" class=\"data row6 col16\" >-0.00424819</td>\n",
       "                        <td id=\"T_f2b9d8e2_8fee_11ea_850f_a0999b01858drow6_col17\" class=\"data row6 col17\" >0.0123405</td>\n",
       "                        <td id=\"T_f2b9d8e2_8fee_11ea_850f_a0999b01858drow6_col18\" class=\"data row6 col18\" >-0.00299837</td>\n",
       "                        <td id=\"T_f2b9d8e2_8fee_11ea_850f_a0999b01858drow6_col19\" class=\"data row6 col19\" >0.0124203</td>\n",
       "                        <td id=\"T_f2b9d8e2_8fee_11ea_850f_a0999b01858drow6_col20\" class=\"data row6 col20\" >0.000495193</td>\n",
       "                        <td id=\"T_f2b9d8e2_8fee_11ea_850f_a0999b01858drow6_col21\" class=\"data row6 col21\" >-0.00521152</td>\n",
       "                        <td id=\"T_f2b9d8e2_8fee_11ea_850f_a0999b01858drow6_col22\" class=\"data row6 col22\" >0.00563428</td>\n",
       "                        <td id=\"T_f2b9d8e2_8fee_11ea_850f_a0999b01858drow6_col23\" class=\"data row6 col23\" >-0.00744871</td>\n",
       "                        <td id=\"T_f2b9d8e2_8fee_11ea_850f_a0999b01858drow6_col24\" class=\"data row6 col24\" >0.0245817</td>\n",
       "                        <td id=\"T_f2b9d8e2_8fee_11ea_850f_a0999b01858drow6_col25\" class=\"data row6 col25\" >0.0812308</td>\n",
       "            </tr>\n",
       "            <tr>\n",
       "                        <th id=\"T_f2b9d8e2_8fee_11ea_850f_a0999b01858dlevel0_row7\" class=\"row_heading level0 row7\" >number_emergency</th>\n",
       "                        <td id=\"T_f2b9d8e2_8fee_11ea_850f_a0999b01858drow7_col0\" class=\"data row7 col0\" >-0.0194295</td>\n",
       "                        <td id=\"T_f2b9d8e2_8fee_11ea_850f_a0999b01858drow7_col1\" class=\"data row7 col1\" >-0.0249965</td>\n",
       "                        <td id=\"T_f2b9d8e2_8fee_11ea_850f_a0999b01858drow7_col2\" class=\"data row7 col2\" >-0.0104213</td>\n",
       "                        <td id=\"T_f2b9d8e2_8fee_11ea_850f_a0999b01858drow7_col3\" class=\"data row7 col3\" >-0.0022397</td>\n",
       "                        <td id=\"T_f2b9d8e2_8fee_11ea_850f_a0999b01858drow7_col4\" class=\"data row7 col4\" >-0.0385635</td>\n",
       "                        <td id=\"T_f2b9d8e2_8fee_11ea_850f_a0999b01858drow7_col5\" class=\"data row7 col5\" >0.0122596</td>\n",
       "                        <td id=\"T_f2b9d8e2_8fee_11ea_850f_a0999b01858drow7_col6\" class=\"data row7 col6\" >0.0915314</td>\n",
       "                        <td id=\"T_f2b9d8e2_8fee_11ea_850f_a0999b01858drow7_col7\" class=\"data row7 col7\" >1</td>\n",
       "                        <td id=\"T_f2b9d8e2_8fee_11ea_850f_a0999b01858drow7_col8\" class=\"data row7 col8\" >0.267318</td>\n",
       "                        <td id=\"T_f2b9d8e2_8fee_11ea_850f_a0999b01858drow7_col9\" class=\"data row7 col9\" >0.0559765</td>\n",
       "                        <td id=\"T_f2b9d8e2_8fee_11ea_850f_a0999b01858drow7_col10\" class=\"data row7 col10\" >-0.00921587</td>\n",
       "                        <td id=\"T_f2b9d8e2_8fee_11ea_850f_a0999b01858drow7_col11\" class=\"data row7 col11\" >0.0107022</td>\n",
       "                        <td id=\"T_f2b9d8e2_8fee_11ea_850f_a0999b01858drow7_col12\" class=\"data row7 col12\" >0.00258092</td>\n",
       "                        <td id=\"T_f2b9d8e2_8fee_11ea_850f_a0999b01858drow7_col13\" class=\"data row7 col13\" >-0.00506598</td>\n",
       "                        <td id=\"T_f2b9d8e2_8fee_11ea_850f_a0999b01858drow7_col14\" class=\"data row7 col14\" >-0.000434332</td>\n",
       "                        <td id=\"T_f2b9d8e2_8fee_11ea_850f_a0999b01858drow7_col15\" class=\"data row7 col15\" >-0.00600022</td>\n",
       "                        <td id=\"T_f2b9d8e2_8fee_11ea_850f_a0999b01858drow7_col16\" class=\"data row7 col16\" >-0.02948</td>\n",
       "                        <td id=\"T_f2b9d8e2_8fee_11ea_850f_a0999b01858drow7_col17\" class=\"data row7 col17\" >0.00116781</td>\n",
       "                        <td id=\"T_f2b9d8e2_8fee_11ea_850f_a0999b01858drow7_col18\" class=\"data row7 col18\" >-0.00916718</td>\n",
       "                        <td id=\"T_f2b9d8e2_8fee_11ea_850f_a0999b01858drow7_col19\" class=\"data row7 col19\" >0.000834061</td>\n",
       "                        <td id=\"T_f2b9d8e2_8fee_11ea_850f_a0999b01858drow7_col20\" class=\"data row7 col20\" >-0.000758674</td>\n",
       "                        <td id=\"T_f2b9d8e2_8fee_11ea_850f_a0999b01858drow7_col21\" class=\"data row7 col21\" >-0.00298393</td>\n",
       "                        <td id=\"T_f2b9d8e2_8fee_11ea_850f_a0999b01858drow7_col22\" class=\"data row7 col22\" >0.0429873</td>\n",
       "                        <td id=\"T_f2b9d8e2_8fee_11ea_850f_a0999b01858drow7_col23\" class=\"data row7 col23\" >0.00189064</td>\n",
       "                        <td id=\"T_f2b9d8e2_8fee_11ea_850f_a0999b01858drow7_col24\" class=\"data row7 col24\" >0.038352</td>\n",
       "                        <td id=\"T_f2b9d8e2_8fee_11ea_850f_a0999b01858drow7_col25\" class=\"data row7 col25\" >0.102178</td>\n",
       "            </tr>\n",
       "            <tr>\n",
       "                        <th id=\"T_f2b9d8e2_8fee_11ea_850f_a0999b01858dlevel0_row8\" class=\"row_heading level0 row8\" >number_inpatient</th>\n",
       "                        <td id=\"T_f2b9d8e2_8fee_11ea_850f_a0999b01858drow8_col0\" class=\"data row8 col0\" >-0.0370928</td>\n",
       "                        <td id=\"T_f2b9d8e2_8fee_11ea_850f_a0999b01858drow8_col1\" class=\"data row8 col1\" >0.0202455</td>\n",
       "                        <td id=\"T_f2b9d8e2_8fee_11ea_850f_a0999b01858drow8_col2\" class=\"data row8 col2\" >0.0724122</td>\n",
       "                        <td id=\"T_f2b9d8e2_8fee_11ea_850f_a0999b01858drow8_col3\" class=\"data row8 col3\" >0.0386653</td>\n",
       "                        <td id=\"T_f2b9d8e2_8fee_11ea_850f_a0999b01858drow8_col4\" class=\"data row8 col4\" >-0.0679885</td>\n",
       "                        <td id=\"T_f2b9d8e2_8fee_11ea_850f_a0999b01858drow8_col5\" class=\"data row8 col5\" >0.061969</td>\n",
       "                        <td id=\"T_f2b9d8e2_8fee_11ea_850f_a0999b01858drow8_col6\" class=\"data row8 col6\" >0.107052</td>\n",
       "                        <td id=\"T_f2b9d8e2_8fee_11ea_850f_a0999b01858drow8_col7\" class=\"data row8 col7\" >0.267318</td>\n",
       "                        <td id=\"T_f2b9d8e2_8fee_11ea_850f_a0999b01858drow8_col8\" class=\"data row8 col8\" >1</td>\n",
       "                        <td id=\"T_f2b9d8e2_8fee_11ea_850f_a0999b01858drow8_col9\" class=\"data row8 col9\" >0.102597</td>\n",
       "                        <td id=\"T_f2b9d8e2_8fee_11ea_850f_a0999b01858drow8_col10\" class=\"data row8 col10\" >-0.0712707</td>\n",
       "                        <td id=\"T_f2b9d8e2_8fee_11ea_850f_a0999b01858drow8_col11\" class=\"data row8 col11\" >0.0127248</td>\n",
       "                        <td id=\"T_f2b9d8e2_8fee_11ea_850f_a0999b01858drow8_col12\" class=\"data row8 col12\" >-0.00782478</td>\n",
       "                        <td id=\"T_f2b9d8e2_8fee_11ea_850f_a0999b01858drow8_col13\" class=\"data row8 col13\" >-0.00784028</td>\n",
       "                        <td id=\"T_f2b9d8e2_8fee_11ea_850f_a0999b01858drow8_col14\" class=\"data row8 col14\" >-0.0127501</td>\n",
       "                        <td id=\"T_f2b9d8e2_8fee_11ea_850f_a0999b01858drow8_col15\" class=\"data row8 col15\" >-0.0244258</td>\n",
       "                        <td id=\"T_f2b9d8e2_8fee_11ea_850f_a0999b01858drow8_col16\" class=\"data row8 col16\" >-0.0390843</td>\n",
       "                        <td id=\"T_f2b9d8e2_8fee_11ea_850f_a0999b01858drow8_col17\" class=\"data row8 col17\" >-0.0261919</td>\n",
       "                        <td id=\"T_f2b9d8e2_8fee_11ea_850f_a0999b01858drow8_col18\" class=\"data row8 col18\" >-0.0216131</td>\n",
       "                        <td id=\"T_f2b9d8e2_8fee_11ea_850f_a0999b01858drow8_col19\" class=\"data row8 col19\" >0.0024321</td>\n",
       "                        <td id=\"T_f2b9d8e2_8fee_11ea_850f_a0999b01858drow8_col20\" class=\"data row8 col20\" >0.000961928</td>\n",
       "                        <td id=\"T_f2b9d8e2_8fee_11ea_850f_a0999b01858drow8_col21\" class=\"data row8 col21\" >-0.00479587</td>\n",
       "                        <td id=\"T_f2b9d8e2_8fee_11ea_850f_a0999b01858drow8_col22\" class=\"data row8 col22\" >0.0700917</td>\n",
       "                        <td id=\"T_f2b9d8e2_8fee_11ea_850f_a0999b01858drow8_col23\" class=\"data row8 col23\" >-0.0113719</td>\n",
       "                        <td id=\"T_f2b9d8e2_8fee_11ea_850f_a0999b01858drow8_col24\" class=\"data row8 col24\" >0.0232079</td>\n",
       "                        <td id=\"T_f2b9d8e2_8fee_11ea_850f_a0999b01858drow8_col25\" class=\"data row8 col25\" >0.215625</td>\n",
       "            </tr>\n",
       "            <tr>\n",
       "                        <th id=\"T_f2b9d8e2_8fee_11ea_850f_a0999b01858dlevel0_row9\" class=\"row_heading level0 row9\" >number_diagnoses</th>\n",
       "                        <td id=\"T_f2b9d8e2_8fee_11ea_850f_a0999b01858drow9_col0\" class=\"data row9 col0\" >-0.121075</td>\n",
       "                        <td id=\"T_f2b9d8e2_8fee_11ea_850f_a0999b01858drow9_col1\" class=\"data row9 col1\" >0.0423801</td>\n",
       "                        <td id=\"T_f2b9d8e2_8fee_11ea_850f_a0999b01858drow9_col2\" class=\"data row9 col2\" >0.210353</td>\n",
       "                        <td id=\"T_f2b9d8e2_8fee_11ea_850f_a0999b01858drow9_col3\" class=\"data row9 col3\" >0.151184</td>\n",
       "                        <td id=\"T_f2b9d8e2_8fee_11ea_850f_a0999b01858drow9_col4\" class=\"data row9 col4\" >0.0601423</td>\n",
       "                        <td id=\"T_f2b9d8e2_8fee_11ea_850f_a0999b01858drow9_col5\" class=\"data row9 col5\" >0.244153</td>\n",
       "                        <td id=\"T_f2b9d8e2_8fee_11ea_850f_a0999b01858drow9_col6\" class=\"data row9 col6\" >0.0929653</td>\n",
       "                        <td id=\"T_f2b9d8e2_8fee_11ea_850f_a0999b01858drow9_col7\" class=\"data row9 col7\" >0.0559765</td>\n",
       "                        <td id=\"T_f2b9d8e2_8fee_11ea_850f_a0999b01858drow9_col8\" class=\"data row9 col8\" >0.102597</td>\n",
       "                        <td id=\"T_f2b9d8e2_8fee_11ea_850f_a0999b01858drow9_col9\" class=\"data row9 col9\" >1</td>\n",
       "                        <td id=\"T_f2b9d8e2_8fee_11ea_850f_a0999b01858drow9_col10\" class=\"data row9 col10\" >-0.0750612</td>\n",
       "                        <td id=\"T_f2b9d8e2_8fee_11ea_850f_a0999b01858drow9_col11\" class=\"data row9 col11\" >0.0384929</td>\n",
       "                        <td id=\"T_f2b9d8e2_8fee_11ea_850f_a0999b01858drow9_col12\" class=\"data row9 col12\" >0.0150039</td>\n",
       "                        <td id=\"T_f2b9d8e2_8fee_11ea_850f_a0999b01858drow9_col13\" class=\"data row9 col13\" >-0.012136</td>\n",
       "                        <td id=\"T_f2b9d8e2_8fee_11ea_850f_a0999b01858drow9_col14\" class=\"data row9 col14\" >0.00929807</td>\n",
       "                        <td id=\"T_f2b9d8e2_8fee_11ea_850f_a0999b01858drow9_col15\" class=\"data row9 col15\" >-0.0109502</td>\n",
       "                        <td id=\"T_f2b9d8e2_8fee_11ea_850f_a0999b01858drow9_col16\" class=\"data row9 col16\" >-0.0310562</td>\n",
       "                        <td id=\"T_f2b9d8e2_8fee_11ea_850f_a0999b01858drow9_col17\" class=\"data row9 col17\" >0.000949943</td>\n",
       "                        <td id=\"T_f2b9d8e2_8fee_11ea_850f_a0999b01858drow9_col18\" class=\"data row9 col18\" >-0.0128566</td>\n",
       "                        <td id=\"T_f2b9d8e2_8fee_11ea_850f_a0999b01858drow9_col19\" class=\"data row9 col19\" >0.00732583</td>\n",
       "                        <td id=\"T_f2b9d8e2_8fee_11ea_850f_a0999b01858drow9_col20\" class=\"data row9 col20\" >0.000736619</td>\n",
       "                        <td id=\"T_f2b9d8e2_8fee_11ea_850f_a0999b01858drow9_col21\" class=\"data row9 col21\" >-0.0105566</td>\n",
       "                        <td id=\"T_f2b9d8e2_8fee_11ea_850f_a0999b01858drow9_col22\" class=\"data row9 col22\" >0.0935881</td>\n",
       "                        <td id=\"T_f2b9d8e2_8fee_11ea_850f_a0999b01858drow9_col23\" class=\"data row9 col23\" >-0.00865669</td>\n",
       "                        <td id=\"T_f2b9d8e2_8fee_11ea_850f_a0999b01858drow9_col24\" class=\"data row9 col24\" >0.0543712</td>\n",
       "                        <td id=\"T_f2b9d8e2_8fee_11ea_850f_a0999b01858drow9_col25\" class=\"data row9 col25\" >0.107187</td>\n",
       "            </tr>\n",
       "            <tr>\n",
       "                        <th id=\"T_f2b9d8e2_8fee_11ea_850f_a0999b01858dlevel0_row10\" class=\"row_heading level0 row10\" >metformin</th>\n",
       "                        <td id=\"T_f2b9d8e2_8fee_11ea_850f_a0999b01858drow10_col0\" class=\"data row10 col0\" >0.0146038</td>\n",
       "                        <td id=\"T_f2b9d8e2_8fee_11ea_850f_a0999b01858drow10_col1\" class=\"data row10 col1\" >-0.0110831</td>\n",
       "                        <td id=\"T_f2b9d8e2_8fee_11ea_850f_a0999b01858drow10_col2\" class=\"data row10 col2\" >-0.00751197</td>\n",
       "                        <td id=\"T_f2b9d8e2_8fee_11ea_850f_a0999b01858drow10_col3\" class=\"data row10 col3\" >-0.0477991</td>\n",
       "                        <td id=\"T_f2b9d8e2_8fee_11ea_850f_a0999b01858drow10_col4\" class=\"data row10 col4\" >-0.0404939</td>\n",
       "                        <td id=\"T_f2b9d8e2_8fee_11ea_850f_a0999b01858drow10_col5\" class=\"data row10 col5\" >0.0686051</td>\n",
       "                        <td id=\"T_f2b9d8e2_8fee_11ea_850f_a0999b01858drow10_col6\" class=\"data row10 col6\" >-0.0116387</td>\n",
       "                        <td id=\"T_f2b9d8e2_8fee_11ea_850f_a0999b01858drow10_col7\" class=\"data row10 col7\" >-0.00921587</td>\n",
       "                        <td id=\"T_f2b9d8e2_8fee_11ea_850f_a0999b01858drow10_col8\" class=\"data row10 col8\" >-0.0712707</td>\n",
       "                        <td id=\"T_f2b9d8e2_8fee_11ea_850f_a0999b01858drow10_col9\" class=\"data row10 col9\" >-0.0750612</td>\n",
       "                        <td id=\"T_f2b9d8e2_8fee_11ea_850f_a0999b01858drow10_col10\" class=\"data row10 col10\" >1</td>\n",
       "                        <td id=\"T_f2b9d8e2_8fee_11ea_850f_a0999b01858drow10_col11\" class=\"data row10 col11\" >-0.00210201</td>\n",
       "                        <td id=\"T_f2b9d8e2_8fee_11ea_850f_a0999b01858drow10_col12\" class=\"data row10 col12\" >0.0153442</td>\n",
       "                        <td id=\"T_f2b9d8e2_8fee_11ea_850f_a0999b01858drow10_col13\" class=\"data row10 col13\" >-0.0108522</td>\n",
       "                        <td id=\"T_f2b9d8e2_8fee_11ea_850f_a0999b01858drow10_col14\" class=\"data row10 col14\" >0.0402767</td>\n",
       "                        <td id=\"T_f2b9d8e2_8fee_11ea_850f_a0999b01858drow10_col15\" class=\"data row10 col15\" >0.0785927</td>\n",
       "                        <td id=\"T_f2b9d8e2_8fee_11ea_850f_a0999b01858drow10_col16\" class=\"data row10 col16\" >0.138367</td>\n",
       "                        <td id=\"T_f2b9d8e2_8fee_11ea_850f_a0999b01858drow10_col17\" class=\"data row10 col17\" >0.0573369</td>\n",
       "                        <td id=\"T_f2b9d8e2_8fee_11ea_850f_a0999b01858drow10_col18\" class=\"data row10 col18\" >0.0957224</td>\n",
       "                        <td id=\"T_f2b9d8e2_8fee_11ea_850f_a0999b01858drow10_col19\" class=\"data row10 col19\" >0.0109668</td>\n",
       "                        <td id=\"T_f2b9d8e2_8fee_11ea_850f_a0999b01858drow10_col20\" class=\"data row10 col20\" >0.00748692</td>\n",
       "                        <td id=\"T_f2b9d8e2_8fee_11ea_850f_a0999b01858drow10_col21\" class=\"data row10 col21\" >0.00356606</td>\n",
       "                        <td id=\"T_f2b9d8e2_8fee_11ea_850f_a0999b01858drow10_col22\" class=\"data row10 col22\" >-0.0322434</td>\n",
       "                        <td id=\"T_f2b9d8e2_8fee_11ea_850f_a0999b01858drow10_col23\" class=\"data row10 col23\" >-0.0234737</td>\n",
       "                        <td id=\"T_f2b9d8e2_8fee_11ea_850f_a0999b01858drow10_col24\" class=\"data row10 col24\" >0.323162</td>\n",
       "                        <td id=\"T_f2b9d8e2_8fee_11ea_850f_a0999b01858drow10_col25\" class=\"data row10 col25\" >-0.0280606</td>\n",
       "            </tr>\n",
       "            <tr>\n",
       "                        <th id=\"T_f2b9d8e2_8fee_11ea_850f_a0999b01858dlevel0_row11\" class=\"row_heading level0 row11\" >repaglinide</th>\n",
       "                        <td id=\"T_f2b9d8e2_8fee_11ea_850f_a0999b01858drow11_col0\" class=\"data row11 col0\" >-0.00314495</td>\n",
       "                        <td id=\"T_f2b9d8e2_8fee_11ea_850f_a0999b01858drow11_col1\" class=\"data row11 col1\" >-0.00441492</td>\n",
       "                        <td id=\"T_f2b9d8e2_8fee_11ea_850f_a0999b01858drow11_col2\" class=\"data row11 col2\" >0.0331197</td>\n",
       "                        <td id=\"T_f2b9d8e2_8fee_11ea_850f_a0999b01858drow11_col3\" class=\"data row11 col3\" >0.0123202</td>\n",
       "                        <td id=\"T_f2b9d8e2_8fee_11ea_850f_a0999b01858drow11_col4\" class=\"data row11 col4\" >0.00323522</td>\n",
       "                        <td id=\"T_f2b9d8e2_8fee_11ea_850f_a0999b01858drow11_col5\" class=\"data row11 col5\" >0.0233809</td>\n",
       "                        <td id=\"T_f2b9d8e2_8fee_11ea_850f_a0999b01858drow11_col6\" class=\"data row11 col6\" >0.00292526</td>\n",
       "                        <td id=\"T_f2b9d8e2_8fee_11ea_850f_a0999b01858drow11_col7\" class=\"data row11 col7\" >0.0107022</td>\n",
       "                        <td id=\"T_f2b9d8e2_8fee_11ea_850f_a0999b01858drow11_col8\" class=\"data row11 col8\" >0.0127248</td>\n",
       "                        <td id=\"T_f2b9d8e2_8fee_11ea_850f_a0999b01858drow11_col9\" class=\"data row11 col9\" >0.0384929</td>\n",
       "                        <td id=\"T_f2b9d8e2_8fee_11ea_850f_a0999b01858drow11_col10\" class=\"data row11 col10\" >-0.00210201</td>\n",
       "                        <td id=\"T_f2b9d8e2_8fee_11ea_850f_a0999b01858drow11_col11\" class=\"data row11 col11\" >1</td>\n",
       "                        <td id=\"T_f2b9d8e2_8fee_11ea_850f_a0999b01858drow11_col12\" class=\"data row11 col12\" >-0.00163712</td>\n",
       "                        <td id=\"T_f2b9d8e2_8fee_11ea_850f_a0999b01858drow11_col13\" class=\"data row11 col13\" >-0.00360906</td>\n",
       "                        <td id=\"T_f2b9d8e2_8fee_11ea_850f_a0999b01858drow11_col14\" class=\"data row11 col14\" >-0.00648938</td>\n",
       "                        <td id=\"T_f2b9d8e2_8fee_11ea_850f_a0999b01858drow11_col15\" class=\"data row11 col15\" >-0.0179488</td>\n",
       "                        <td id=\"T_f2b9d8e2_8fee_11ea_850f_a0999b01858drow11_col16\" class=\"data row11 col16\" >-0.0257126</td>\n",
       "                        <td id=\"T_f2b9d8e2_8fee_11ea_850f_a0999b01858drow11_col17\" class=\"data row11 col17\" >0.0189056</td>\n",
       "                        <td id=\"T_f2b9d8e2_8fee_11ea_850f_a0999b01858drow11_col18\" class=\"data row11 col18\" >0.0115957</td>\n",
       "                        <td id=\"T_f2b9d8e2_8fee_11ea_850f_a0999b01858drow11_col19\" class=\"data row11 col19\" >0.0167314</td>\n",
       "                        <td id=\"T_f2b9d8e2_8fee_11ea_850f_a0999b01858drow11_col20\" class=\"data row11 col20\" >0.0145336</td>\n",
       "                        <td id=\"T_f2b9d8e2_8fee_11ea_850f_a0999b01858drow11_col21\" class=\"data row11 col21\" >-0.00239471</td>\n",
       "                        <td id=\"T_f2b9d8e2_8fee_11ea_850f_a0999b01858drow11_col22\" class=\"data row11 col22\" >0.00875072</td>\n",
       "                        <td id=\"T_f2b9d8e2_8fee_11ea_850f_a0999b01858drow11_col23\" class=\"data row11 col23\" >-0.00551448</td>\n",
       "                        <td id=\"T_f2b9d8e2_8fee_11ea_850f_a0999b01858drow11_col24\" class=\"data row11 col24\" >0.0758438</td>\n",
       "                        <td id=\"T_f2b9d8e2_8fee_11ea_850f_a0999b01858drow11_col25\" class=\"data row11 col25\" >0.0216906</td>\n",
       "            </tr>\n",
       "            <tr>\n",
       "                        <th id=\"T_f2b9d8e2_8fee_11ea_850f_a0999b01858dlevel0_row12\" class=\"row_heading level0 row12\" >nateglinide</th>\n",
       "                        <td id=\"T_f2b9d8e2_8fee_11ea_850f_a0999b01858drow12_col0\" class=\"data row12 col0\" >-0.00870879</td>\n",
       "                        <td id=\"T_f2b9d8e2_8fee_11ea_850f_a0999b01858drow12_col1\" class=\"data row12 col1\" >-0.0120848</td>\n",
       "                        <td id=\"T_f2b9d8e2_8fee_11ea_850f_a0999b01858drow12_col2\" class=\"data row12 col2\" >0.00507852</td>\n",
       "                        <td id=\"T_f2b9d8e2_8fee_11ea_850f_a0999b01858drow12_col3\" class=\"data row12 col3\" >-0.00669835</td>\n",
       "                        <td id=\"T_f2b9d8e2_8fee_11ea_850f_a0999b01858drow12_col4\" class=\"data row12 col4\" >-0.00459041</td>\n",
       "                        <td id=\"T_f2b9d8e2_8fee_11ea_850f_a0999b01858drow12_col5\" class=\"data row12 col5\" >0.0226262</td>\n",
       "                        <td id=\"T_f2b9d8e2_8fee_11ea_850f_a0999b01858drow12_col6\" class=\"data row12 col6\" >0.00112472</td>\n",
       "                        <td id=\"T_f2b9d8e2_8fee_11ea_850f_a0999b01858drow12_col7\" class=\"data row12 col7\" >0.00258092</td>\n",
       "                        <td id=\"T_f2b9d8e2_8fee_11ea_850f_a0999b01858drow12_col8\" class=\"data row12 col8\" >-0.00782478</td>\n",
       "                        <td id=\"T_f2b9d8e2_8fee_11ea_850f_a0999b01858drow12_col9\" class=\"data row12 col9\" >0.0150039</td>\n",
       "                        <td id=\"T_f2b9d8e2_8fee_11ea_850f_a0999b01858drow12_col10\" class=\"data row12 col10\" >0.0153442</td>\n",
       "                        <td id=\"T_f2b9d8e2_8fee_11ea_850f_a0999b01858drow12_col11\" class=\"data row12 col11\" >-0.00163712</td>\n",
       "                        <td id=\"T_f2b9d8e2_8fee_11ea_850f_a0999b01858drow12_col12\" class=\"data row12 col12\" >1</td>\n",
       "                        <td id=\"T_f2b9d8e2_8fee_11ea_850f_a0999b01858drow12_col13\" class=\"data row12 col13\" >-0.00242505</td>\n",
       "                        <td id=\"T_f2b9d8e2_8fee_11ea_850f_a0999b01858drow12_col14\" class=\"data row12 col14\" >0.00881649</td>\n",
       "                        <td id=\"T_f2b9d8e2_8fee_11ea_850f_a0999b01858drow12_col15\" class=\"data row12 col15\" >-0.0150256</td>\n",
       "                        <td id=\"T_f2b9d8e2_8fee_11ea_850f_a0999b01858drow12_col16\" class=\"data row12 col16\" >-0.0212456</td>\n",
       "                        <td id=\"T_f2b9d8e2_8fee_11ea_850f_a0999b01858drow12_col17\" class=\"data row12 col17\" >0.0243518</td>\n",
       "                        <td id=\"T_f2b9d8e2_8fee_11ea_850f_a0999b01858drow12_col18\" class=\"data row12 col18\" >0.0153801</td>\n",
       "                        <td id=\"T_f2b9d8e2_8fee_11ea_850f_a0999b01858drow12_col19\" class=\"data row12 col19\" >-0.000269624</td>\n",
       "                        <td id=\"T_f2b9d8e2_8fee_11ea_850f_a0999b01858drow12_col20\" class=\"data row12 col20\" >0.010882</td>\n",
       "                        <td id=\"T_f2b9d8e2_8fee_11ea_850f_a0999b01858drow12_col21\" class=\"data row12 col21\" >-0.00160909</td>\n",
       "                        <td id=\"T_f2b9d8e2_8fee_11ea_850f_a0999b01858drow12_col22\" class=\"data row12 col22\" >0.00261426</td>\n",
       "                        <td id=\"T_f2b9d8e2_8fee_11ea_850f_a0999b01858drow12_col23\" class=\"data row12 col23\" >-0.00410526</td>\n",
       "                        <td id=\"T_f2b9d8e2_8fee_11ea_850f_a0999b01858drow12_col24\" class=\"data row12 col24\" >0.0549224</td>\n",
       "                        <td id=\"T_f2b9d8e2_8fee_11ea_850f_a0999b01858drow12_col25\" class=\"data row12 col25\" >0.00426967</td>\n",
       "            </tr>\n",
       "            <tr>\n",
       "                        <th id=\"T_f2b9d8e2_8fee_11ea_850f_a0999b01858dlevel0_row13\" class=\"row_heading level0 row13\" >chlorpropamide</th>\n",
       "                        <td id=\"T_f2b9d8e2_8fee_11ea_850f_a0999b01858drow13_col0\" class=\"data row13 col0\" >0.00813344</td>\n",
       "                        <td id=\"T_f2b9d8e2_8fee_11ea_850f_a0999b01858drow13_col1\" class=\"data row13 col1\" >0.0157831</td>\n",
       "                        <td id=\"T_f2b9d8e2_8fee_11ea_850f_a0999b01858drow13_col2\" class=\"data row13 col2\" >0.00238516</td>\n",
       "                        <td id=\"T_f2b9d8e2_8fee_11ea_850f_a0999b01858drow13_col3\" class=\"data row13 col3\" >-0.00125387</td>\n",
       "                        <td id=\"T_f2b9d8e2_8fee_11ea_850f_a0999b01858drow13_col4\" class=\"data row13 col4\" >0.00737129</td>\n",
       "                        <td id=\"T_f2b9d8e2_8fee_11ea_850f_a0999b01858drow13_col5\" class=\"data row13 col5\" >0.00187339</td>\n",
       "                        <td id=\"T_f2b9d8e2_8fee_11ea_850f_a0999b01858drow13_col6\" class=\"data row13 col6\" >-0.00522143</td>\n",
       "                        <td id=\"T_f2b9d8e2_8fee_11ea_850f_a0999b01858drow13_col7\" class=\"data row13 col7\" >-0.00506598</td>\n",
       "                        <td id=\"T_f2b9d8e2_8fee_11ea_850f_a0999b01858drow13_col8\" class=\"data row13 col8\" >-0.00784028</td>\n",
       "                        <td id=\"T_f2b9d8e2_8fee_11ea_850f_a0999b01858drow13_col9\" class=\"data row13 col9\" >-0.012136</td>\n",
       "                        <td id=\"T_f2b9d8e2_8fee_11ea_850f_a0999b01858drow13_col10\" class=\"data row13 col10\" >-0.0108522</td>\n",
       "                        <td id=\"T_f2b9d8e2_8fee_11ea_850f_a0999b01858drow13_col11\" class=\"data row13 col11\" >-0.00360906</td>\n",
       "                        <td id=\"T_f2b9d8e2_8fee_11ea_850f_a0999b01858drow13_col12\" class=\"data row13 col12\" >-0.00242505</td>\n",
       "                        <td id=\"T_f2b9d8e2_8fee_11ea_850f_a0999b01858drow13_col13\" class=\"data row13 col13\" >1</td>\n",
       "                        <td id=\"T_f2b9d8e2_8fee_11ea_850f_a0999b01858drow13_col14\" class=\"data row13 col14\" >-0.00673268</td>\n",
       "                        <td id=\"T_f2b9d8e2_8fee_11ea_850f_a0999b01858drow13_col15\" class=\"data row13 col15\" >-0.0099199</td>\n",
       "                        <td id=\"T_f2b9d8e2_8fee_11ea_850f_a0999b01858drow13_col16\" class=\"data row13 col16\" >-0.0065452</td>\n",
       "                        <td id=\"T_f2b9d8e2_8fee_11ea_850f_a0999b01858drow13_col17\" class=\"data row13 col17\" >-0.00675115</td>\n",
       "                        <td id=\"T_f2b9d8e2_8fee_11ea_850f_a0999b01858drow13_col18\" class=\"data row13 col18\" >-0.00181943</td>\n",
       "                        <td id=\"T_f2b9d8e2_8fee_11ea_850f_a0999b01858drow13_col19\" class=\"data row13 col19\" >-0.00159988</td>\n",
       "                        <td id=\"T_f2b9d8e2_8fee_11ea_850f_a0999b01858drow13_col20\" class=\"data row13 col20\" >-0.00055649</td>\n",
       "                        <td id=\"T_f2b9d8e2_8fee_11ea_850f_a0999b01858drow13_col21\" class=\"data row13 col21\" >-0.00055649</td>\n",
       "                        <td id=\"T_f2b9d8e2_8fee_11ea_850f_a0999b01858drow13_col22\" class=\"data row13 col22\" >-0.0185085</td>\n",
       "                        <td id=\"T_f2b9d8e2_8fee_11ea_850f_a0999b01858drow13_col23\" class=\"data row13 col23\" >-0.0024198</td>\n",
       "                        <td id=\"T_f2b9d8e2_8fee_11ea_850f_a0999b01858drow13_col24\" class=\"data row13 col24\" >-0.00680447</td>\n",
       "                        <td id=\"T_f2b9d8e2_8fee_11ea_850f_a0999b01858drow13_col25\" class=\"data row13 col25\" >6.80573e-05</td>\n",
       "            </tr>\n",
       "            <tr>\n",
       "                        <th id=\"T_f2b9d8e2_8fee_11ea_850f_a0999b01858dlevel0_row14\" class=\"row_heading level0 row14\" >glimepiride</th>\n",
       "                        <td id=\"T_f2b9d8e2_8fee_11ea_850f_a0999b01858drow14_col0\" class=\"data row14 col0\" >-0.00150293</td>\n",
       "                        <td id=\"T_f2b9d8e2_8fee_11ea_850f_a0999b01858drow14_col1\" class=\"data row14 col1\" >-0.0217368</td>\n",
       "                        <td id=\"T_f2b9d8e2_8fee_11ea_850f_a0999b01858drow14_col2\" class=\"data row14 col2\" >0.013603</td>\n",
       "                        <td id=\"T_f2b9d8e2_8fee_11ea_850f_a0999b01858drow14_col3\" class=\"data row14 col3\" >-0.00055658</td>\n",
       "                        <td id=\"T_f2b9d8e2_8fee_11ea_850f_a0999b01858drow14_col4\" class=\"data row14 col4\" >0.00959082</td>\n",
       "                        <td id=\"T_f2b9d8e2_8fee_11ea_850f_a0999b01858drow14_col5\" class=\"data row14 col5\" >0.04304</td>\n",
       "                        <td id=\"T_f2b9d8e2_8fee_11ea_850f_a0999b01858drow14_col6\" class=\"data row14 col6\" >-0.0134197</td>\n",
       "                        <td id=\"T_f2b9d8e2_8fee_11ea_850f_a0999b01858drow14_col7\" class=\"data row14 col7\" >-0.000434332</td>\n",
       "                        <td id=\"T_f2b9d8e2_8fee_11ea_850f_a0999b01858drow14_col8\" class=\"data row14 col8\" >-0.0127501</td>\n",
       "                        <td id=\"T_f2b9d8e2_8fee_11ea_850f_a0999b01858drow14_col9\" class=\"data row14 col9\" >0.00929807</td>\n",
       "                        <td id=\"T_f2b9d8e2_8fee_11ea_850f_a0999b01858drow14_col10\" class=\"data row14 col10\" >0.0402767</td>\n",
       "                        <td id=\"T_f2b9d8e2_8fee_11ea_850f_a0999b01858drow14_col11\" class=\"data row14 col11\" >-0.00648938</td>\n",
       "                        <td id=\"T_f2b9d8e2_8fee_11ea_850f_a0999b01858drow14_col12\" class=\"data row14 col12\" >0.00881649</td>\n",
       "                        <td id=\"T_f2b9d8e2_8fee_11ea_850f_a0999b01858drow14_col13\" class=\"data row14 col13\" >-0.00673268</td>\n",
       "                        <td id=\"T_f2b9d8e2_8fee_11ea_850f_a0999b01858drow14_col14\" class=\"data row14 col14\" >1</td>\n",
       "                        <td id=\"T_f2b9d8e2_8fee_11ea_850f_a0999b01858drow14_col15\" class=\"data row14 col15\" >-0.0740585</td>\n",
       "                        <td id=\"T_f2b9d8e2_8fee_11ea_850f_a0999b01858drow14_col16\" class=\"data row14 col16\" >-0.0709227</td>\n",
       "                        <td id=\"T_f2b9d8e2_8fee_11ea_850f_a0999b01858drow14_col17\" class=\"data row14 col17\" >0.0446406</td>\n",
       "                        <td id=\"T_f2b9d8e2_8fee_11ea_850f_a0999b01858drow14_col18\" class=\"data row14 col18\" >0.0392912</td>\n",
       "                        <td id=\"T_f2b9d8e2_8fee_11ea_850f_a0999b01858drow14_col19\" class=\"data row14 col19\" >0.0175419</td>\n",
       "                        <td id=\"T_f2b9d8e2_8fee_11ea_850f_a0999b01858drow14_col20\" class=\"data row14 col20\" >0.0214339</td>\n",
       "                        <td id=\"T_f2b9d8e2_8fee_11ea_850f_a0999b01858drow14_col21\" class=\"data row14 col21\" >-0.00446732</td>\n",
       "                        <td id=\"T_f2b9d8e2_8fee_11ea_850f_a0999b01858drow14_col22\" class=\"data row14 col22\" >0.00749618</td>\n",
       "                        <td id=\"T_f2b9d8e2_8fee_11ea_850f_a0999b01858drow14_col23\" class=\"data row14 col23\" >-0.0117941</td>\n",
       "                        <td id=\"T_f2b9d8e2_8fee_11ea_850f_a0999b01858drow14_col24\" class=\"data row14 col24\" >0.139372</td>\n",
       "                        <td id=\"T_f2b9d8e2_8fee_11ea_850f_a0999b01858drow14_col25\" class=\"data row14 col25\" >0.00404504</td>\n",
       "            </tr>\n",
       "            <tr>\n",
       "                        <th id=\"T_f2b9d8e2_8fee_11ea_850f_a0999b01858dlevel0_row15\" class=\"row_heading level0 row15\" >glipizide</th>\n",
       "                        <td id=\"T_f2b9d8e2_8fee_11ea_850f_a0999b01858drow15_col0\" class=\"data row15 col0\" >0.0128263</td>\n",
       "                        <td id=\"T_f2b9d8e2_8fee_11ea_850f_a0999b01858drow15_col1\" class=\"data row15 col1\" >-0.0141962</td>\n",
       "                        <td id=\"T_f2b9d8e2_8fee_11ea_850f_a0999b01858drow15_col2\" class=\"data row15 col2\" >0.0147329</td>\n",
       "                        <td id=\"T_f2b9d8e2_8fee_11ea_850f_a0999b01858drow15_col3\" class=\"data row15 col3\" >0.0132207</td>\n",
       "                        <td id=\"T_f2b9d8e2_8fee_11ea_850f_a0999b01858drow15_col4\" class=\"data row15 col4\" >0.00309424</td>\n",
       "                        <td id=\"T_f2b9d8e2_8fee_11ea_850f_a0999b01858drow15_col5\" class=\"data row15 col5\" >0.0558337</td>\n",
       "                        <td id=\"T_f2b9d8e2_8fee_11ea_850f_a0999b01858drow15_col6\" class=\"data row15 col6\" >0.00740547</td>\n",
       "                        <td id=\"T_f2b9d8e2_8fee_11ea_850f_a0999b01858drow15_col7\" class=\"data row15 col7\" >-0.00600022</td>\n",
       "                        <td id=\"T_f2b9d8e2_8fee_11ea_850f_a0999b01858drow15_col8\" class=\"data row15 col8\" >-0.0244258</td>\n",
       "                        <td id=\"T_f2b9d8e2_8fee_11ea_850f_a0999b01858drow15_col9\" class=\"data row15 col9\" >-0.0109502</td>\n",
       "                        <td id=\"T_f2b9d8e2_8fee_11ea_850f_a0999b01858drow15_col10\" class=\"data row15 col10\" >0.0785927</td>\n",
       "                        <td id=\"T_f2b9d8e2_8fee_11ea_850f_a0999b01858drow15_col11\" class=\"data row15 col11\" >-0.0179488</td>\n",
       "                        <td id=\"T_f2b9d8e2_8fee_11ea_850f_a0999b01858drow15_col12\" class=\"data row15 col12\" >-0.0150256</td>\n",
       "                        <td id=\"T_f2b9d8e2_8fee_11ea_850f_a0999b01858drow15_col13\" class=\"data row15 col13\" >-0.0099199</td>\n",
       "                        <td id=\"T_f2b9d8e2_8fee_11ea_850f_a0999b01858drow15_col14\" class=\"data row15 col14\" >-0.0740585</td>\n",
       "                        <td id=\"T_f2b9d8e2_8fee_11ea_850f_a0999b01858drow15_col15\" class=\"data row15 col15\" >1</td>\n",
       "                        <td id=\"T_f2b9d8e2_8fee_11ea_850f_a0999b01858drow15_col16\" class=\"data row15 col16\" >-0.108604</td>\n",
       "                        <td id=\"T_f2b9d8e2_8fee_11ea_850f_a0999b01858drow15_col17\" class=\"data row15 col17\" >0.0485596</td>\n",
       "                        <td id=\"T_f2b9d8e2_8fee_11ea_850f_a0999b01858drow15_col18\" class=\"data row15 col18\" >0.0421227</td>\n",
       "                        <td id=\"T_f2b9d8e2_8fee_11ea_850f_a0999b01858drow15_col19\" class=\"data row15 col19\" >0.0305182</td>\n",
       "                        <td id=\"T_f2b9d8e2_8fee_11ea_850f_a0999b01858drow15_col20\" class=\"data row15 col20\" >-0.000998314</td>\n",
       "                        <td id=\"T_f2b9d8e2_8fee_11ea_850f_a0999b01858drow15_col21\" class=\"data row15 col21\" >-0.00413571</td>\n",
       "                        <td id=\"T_f2b9d8e2_8fee_11ea_850f_a0999b01858drow15_col22\" class=\"data row15 col22\" >-0.0350134</td>\n",
       "                        <td id=\"T_f2b9d8e2_8fee_11ea_850f_a0999b01858drow15_col23\" class=\"data row15 col23\" >-0.0283576</td>\n",
       "                        <td id=\"T_f2b9d8e2_8fee_11ea_850f_a0999b01858drow15_col24\" class=\"data row15 col24\" >0.197687</td>\n",
       "                        <td id=\"T_f2b9d8e2_8fee_11ea_850f_a0999b01858drow15_col25\" class=\"data row15 col25\" >0.0192062</td>\n",
       "            </tr>\n",
       "            <tr>\n",
       "                        <th id=\"T_f2b9d8e2_8fee_11ea_850f_a0999b01858dlevel0_row16\" class=\"row_heading level0 row16\" >glyburide</th>\n",
       "                        <td id=\"T_f2b9d8e2_8fee_11ea_850f_a0999b01858drow16_col0\" class=\"data row16 col0\" >0.00221612</td>\n",
       "                        <td id=\"T_f2b9d8e2_8fee_11ea_850f_a0999b01858drow16_col1\" class=\"data row16 col1\" >0.0448981</td>\n",
       "                        <td id=\"T_f2b9d8e2_8fee_11ea_850f_a0999b01858drow16_col2\" class=\"data row16 col2\" >0.0243074</td>\n",
       "                        <td id=\"T_f2b9d8e2_8fee_11ea_850f_a0999b01858drow16_col3\" class=\"data row16 col3\" >-0.00125147</td>\n",
       "                        <td id=\"T_f2b9d8e2_8fee_11ea_850f_a0999b01858drow16_col4\" class=\"data row16 col4\" >0.00532143</td>\n",
       "                        <td id=\"T_f2b9d8e2_8fee_11ea_850f_a0999b01858drow16_col5\" class=\"data row16 col5\" >0.036723</td>\n",
       "                        <td id=\"T_f2b9d8e2_8fee_11ea_850f_a0999b01858drow16_col6\" class=\"data row16 col6\" >-0.00424819</td>\n",
       "                        <td id=\"T_f2b9d8e2_8fee_11ea_850f_a0999b01858drow16_col7\" class=\"data row16 col7\" >-0.02948</td>\n",
       "                        <td id=\"T_f2b9d8e2_8fee_11ea_850f_a0999b01858drow16_col8\" class=\"data row16 col8\" >-0.0390843</td>\n",
       "                        <td id=\"T_f2b9d8e2_8fee_11ea_850f_a0999b01858drow16_col9\" class=\"data row16 col9\" >-0.0310562</td>\n",
       "                        <td id=\"T_f2b9d8e2_8fee_11ea_850f_a0999b01858drow16_col10\" class=\"data row16 col10\" >0.138367</td>\n",
       "                        <td id=\"T_f2b9d8e2_8fee_11ea_850f_a0999b01858drow16_col11\" class=\"data row16 col11\" >-0.0257126</td>\n",
       "                        <td id=\"T_f2b9d8e2_8fee_11ea_850f_a0999b01858drow16_col12\" class=\"data row16 col12\" >-0.0212456</td>\n",
       "                        <td id=\"T_f2b9d8e2_8fee_11ea_850f_a0999b01858drow16_col13\" class=\"data row16 col13\" >-0.0065452</td>\n",
       "                        <td id=\"T_f2b9d8e2_8fee_11ea_850f_a0999b01858drow16_col14\" class=\"data row16 col14\" >-0.0709227</td>\n",
       "                        <td id=\"T_f2b9d8e2_8fee_11ea_850f_a0999b01858drow16_col15\" class=\"data row16 col15\" >-0.108604</td>\n",
       "                        <td id=\"T_f2b9d8e2_8fee_11ea_850f_a0999b01858drow16_col16\" class=\"data row16 col16\" >1</td>\n",
       "                        <td id=\"T_f2b9d8e2_8fee_11ea_850f_a0999b01858drow16_col17\" class=\"data row16 col17\" >0.0254384</td>\n",
       "                        <td id=\"T_f2b9d8e2_8fee_11ea_850f_a0999b01858drow16_col18\" class=\"data row16 col18\" >0.0359727</td>\n",
       "                        <td id=\"T_f2b9d8e2_8fee_11ea_850f_a0999b01858drow16_col19\" class=\"data row16 col19\" >0.0106214</td>\n",
       "                        <td id=\"T_f2b9d8e2_8fee_11ea_850f_a0999b01858drow16_col20\" class=\"data row16 col20\" >0.00019502</td>\n",
       "                        <td id=\"T_f2b9d8e2_8fee_11ea_850f_a0999b01858drow16_col21\" class=\"data row16 col21\" >-0.00658164</td>\n",
       "                        <td id=\"T_f2b9d8e2_8fee_11ea_850f_a0999b01858drow16_col22\" class=\"data row16 col22\" >-0.078356</td>\n",
       "                        <td id=\"T_f2b9d8e2_8fee_11ea_850f_a0999b01858drow16_col23\" class=\"data row16 col23\" >-0.0109706</td>\n",
       "                        <td id=\"T_f2b9d8e2_8fee_11ea_850f_a0999b01858drow16_col24\" class=\"data row16 col24\" >0.178148</td>\n",
       "                        <td id=\"T_f2b9d8e2_8fee_11ea_850f_a0999b01858drow16_col25\" class=\"data row16 col25\" >-0.00406419</td>\n",
       "            </tr>\n",
       "            <tr>\n",
       "                        <th id=\"T_f2b9d8e2_8fee_11ea_850f_a0999b01858dlevel0_row17\" class=\"row_heading level0 row17\" >pioglitazone</th>\n",
       "                        <td id=\"T_f2b9d8e2_8fee_11ea_850f_a0999b01858drow17_col0\" class=\"data row17 col0\" >0.0150411</td>\n",
       "                        <td id=\"T_f2b9d8e2_8fee_11ea_850f_a0999b01858drow17_col1\" class=\"data row17 col1\" >-0.0130669</td>\n",
       "                        <td id=\"T_f2b9d8e2_8fee_11ea_850f_a0999b01858drow17_col2\" class=\"data row17 col2\" >0.00467934</td>\n",
       "                        <td id=\"T_f2b9d8e2_8fee_11ea_850f_a0999b01858drow17_col3\" class=\"data row17 col3\" >-0.0139533</td>\n",
       "                        <td id=\"T_f2b9d8e2_8fee_11ea_850f_a0999b01858drow17_col4\" class=\"data row17 col4\" >0.0127885</td>\n",
       "                        <td id=\"T_f2b9d8e2_8fee_11ea_850f_a0999b01858drow17_col5\" class=\"data row17 col5\" >0.0663694</td>\n",
       "                        <td id=\"T_f2b9d8e2_8fee_11ea_850f_a0999b01858drow17_col6\" class=\"data row17 col6\" >0.0123405</td>\n",
       "                        <td id=\"T_f2b9d8e2_8fee_11ea_850f_a0999b01858drow17_col7\" class=\"data row17 col7\" >0.00116781</td>\n",
       "                        <td id=\"T_f2b9d8e2_8fee_11ea_850f_a0999b01858drow17_col8\" class=\"data row17 col8\" >-0.0261919</td>\n",
       "                        <td id=\"T_f2b9d8e2_8fee_11ea_850f_a0999b01858drow17_col9\" class=\"data row17 col9\" >0.000949943</td>\n",
       "                        <td id=\"T_f2b9d8e2_8fee_11ea_850f_a0999b01858drow17_col10\" class=\"data row17 col10\" >0.0573369</td>\n",
       "                        <td id=\"T_f2b9d8e2_8fee_11ea_850f_a0999b01858drow17_col11\" class=\"data row17 col11\" >0.0189056</td>\n",
       "                        <td id=\"T_f2b9d8e2_8fee_11ea_850f_a0999b01858drow17_col12\" class=\"data row17 col12\" >0.0243518</td>\n",
       "                        <td id=\"T_f2b9d8e2_8fee_11ea_850f_a0999b01858drow17_col13\" class=\"data row17 col13\" >-0.00675115</td>\n",
       "                        <td id=\"T_f2b9d8e2_8fee_11ea_850f_a0999b01858drow17_col14\" class=\"data row17 col14\" >0.0446406</td>\n",
       "                        <td id=\"T_f2b9d8e2_8fee_11ea_850f_a0999b01858drow17_col15\" class=\"data row17 col15\" >0.0485596</td>\n",
       "                        <td id=\"T_f2b9d8e2_8fee_11ea_850f_a0999b01858drow17_col16\" class=\"data row17 col16\" >0.0254384</td>\n",
       "                        <td id=\"T_f2b9d8e2_8fee_11ea_850f_a0999b01858drow17_col17\" class=\"data row17 col17\" >1</td>\n",
       "                        <td id=\"T_f2b9d8e2_8fee_11ea_850f_a0999b01858drow17_col18\" class=\"data row17 col18\" >-0.0651459</td>\n",
       "                        <td id=\"T_f2b9d8e2_8fee_11ea_850f_a0999b01858drow17_col19\" class=\"data row17 col19\" >0.0125629</td>\n",
       "                        <td id=\"T_f2b9d8e2_8fee_11ea_850f_a0999b01858drow17_col20\" class=\"data row17 col20\" >0.00265996</td>\n",
       "                        <td id=\"T_f2b9d8e2_8fee_11ea_850f_a0999b01858drow17_col21\" class=\"data row17 col21\" >-0.00335731</td>\n",
       "                        <td id=\"T_f2b9d8e2_8fee_11ea_850f_a0999b01858drow17_col22\" class=\"data row17 col22\" >0.00586676</td>\n",
       "                        <td id=\"T_f2b9d8e2_8fee_11ea_850f_a0999b01858drow17_col23\" class=\"data row17 col23\" >0.0291478</td>\n",
       "                        <td id=\"T_f2b9d8e2_8fee_11ea_850f_a0999b01858drow17_col24\" class=\"data row17 col24\" >0.202265</td>\n",
       "                        <td id=\"T_f2b9d8e2_8fee_11ea_850f_a0999b01858drow17_col25\" class=\"data row17 col25\" >0.0116057</td>\n",
       "            </tr>\n",
       "            <tr>\n",
       "                        <th id=\"T_f2b9d8e2_8fee_11ea_850f_a0999b01858dlevel0_row18\" class=\"row_heading level0 row18\" >rosiglitazone</th>\n",
       "                        <td id=\"T_f2b9d8e2_8fee_11ea_850f_a0999b01858drow18_col0\" class=\"data row18 col0\" >0.0224293</td>\n",
       "                        <td id=\"T_f2b9d8e2_8fee_11ea_850f_a0999b01858drow18_col1\" class=\"data row18 col1\" >-0.00554237</td>\n",
       "                        <td id=\"T_f2b9d8e2_8fee_11ea_850f_a0999b01858drow18_col2\" class=\"data row18 col2\" >0.00483956</td>\n",
       "                        <td id=\"T_f2b9d8e2_8fee_11ea_850f_a0999b01858drow18_col3\" class=\"data row18 col3\" >-0.0102074</td>\n",
       "                        <td id=\"T_f2b9d8e2_8fee_11ea_850f_a0999b01858drow18_col4\" class=\"data row18 col4\" >0.0137603</td>\n",
       "                        <td id=\"T_f2b9d8e2_8fee_11ea_850f_a0999b01858drow18_col5\" class=\"data row18 col5\" >0.0517392</td>\n",
       "                        <td id=\"T_f2b9d8e2_8fee_11ea_850f_a0999b01858drow18_col6\" class=\"data row18 col6\" >-0.00299837</td>\n",
       "                        <td id=\"T_f2b9d8e2_8fee_11ea_850f_a0999b01858drow18_col7\" class=\"data row18 col7\" >-0.00916718</td>\n",
       "                        <td id=\"T_f2b9d8e2_8fee_11ea_850f_a0999b01858drow18_col8\" class=\"data row18 col8\" >-0.0216131</td>\n",
       "                        <td id=\"T_f2b9d8e2_8fee_11ea_850f_a0999b01858drow18_col9\" class=\"data row18 col9\" >-0.0128566</td>\n",
       "                        <td id=\"T_f2b9d8e2_8fee_11ea_850f_a0999b01858drow18_col10\" class=\"data row18 col10\" >0.0957224</td>\n",
       "                        <td id=\"T_f2b9d8e2_8fee_11ea_850f_a0999b01858drow18_col11\" class=\"data row18 col11\" >0.0115957</td>\n",
       "                        <td id=\"T_f2b9d8e2_8fee_11ea_850f_a0999b01858drow18_col12\" class=\"data row18 col12\" >0.0153801</td>\n",
       "                        <td id=\"T_f2b9d8e2_8fee_11ea_850f_a0999b01858drow18_col13\" class=\"data row18 col13\" >-0.00181943</td>\n",
       "                        <td id=\"T_f2b9d8e2_8fee_11ea_850f_a0999b01858drow18_col14\" class=\"data row18 col14\" >0.0392912</td>\n",
       "                        <td id=\"T_f2b9d8e2_8fee_11ea_850f_a0999b01858drow18_col15\" class=\"data row18 col15\" >0.0421227</td>\n",
       "                        <td id=\"T_f2b9d8e2_8fee_11ea_850f_a0999b01858drow18_col16\" class=\"data row18 col16\" >0.0359727</td>\n",
       "                        <td id=\"T_f2b9d8e2_8fee_11ea_850f_a0999b01858drow18_col17\" class=\"data row18 col17\" >-0.0651459</td>\n",
       "                        <td id=\"T_f2b9d8e2_8fee_11ea_850f_a0999b01858drow18_col18\" class=\"data row18 col18\" >1</td>\n",
       "                        <td id=\"T_f2b9d8e2_8fee_11ea_850f_a0999b01858drow18_col19\" class=\"data row18 col19\" >0.00733179</td>\n",
       "                        <td id=\"T_f2b9d8e2_8fee_11ea_850f_a0999b01858drow18_col20\" class=\"data row18 col20\" >0.00358146</td>\n",
       "                        <td id=\"T_f2b9d8e2_8fee_11ea_850f_a0999b01858drow18_col21\" class=\"data row18 col21\" >0.00358146</td>\n",
       "                        <td id=\"T_f2b9d8e2_8fee_11ea_850f_a0999b01858drow18_col22\" class=\"data row18 col22\" >0.00528736</td>\n",
       "                        <td id=\"T_f2b9d8e2_8fee_11ea_850f_a0999b01858drow18_col23\" class=\"data row18 col23\" >0.00510489</td>\n",
       "                        <td id=\"T_f2b9d8e2_8fee_11ea_850f_a0999b01858drow18_col24\" class=\"data row18 col24\" >0.196194</td>\n",
       "                        <td id=\"T_f2b9d8e2_8fee_11ea_850f_a0999b01858drow18_col25\" class=\"data row18 col25\" >0.0110824</td>\n",
       "            </tr>\n",
       "            <tr>\n",
       "                        <th id=\"T_f2b9d8e2_8fee_11ea_850f_a0999b01858dlevel0_row19\" class=\"row_heading level0 row19\" >acarbose</th>\n",
       "                        <td id=\"T_f2b9d8e2_8fee_11ea_850f_a0999b01858drow19_col0\" class=\"data row19 col0\" >0.00552277</td>\n",
       "                        <td id=\"T_f2b9d8e2_8fee_11ea_850f_a0999b01858drow19_col1\" class=\"data row19 col1\" >0.00592046</td>\n",
       "                        <td id=\"T_f2b9d8e2_8fee_11ea_850f_a0999b01858drow19_col2\" class=\"data row19 col2\" >0.00598305</td>\n",
       "                        <td id=\"T_f2b9d8e2_8fee_11ea_850f_a0999b01858drow19_col3\" class=\"data row19 col3\" >0.000394917</td>\n",
       "                        <td id=\"T_f2b9d8e2_8fee_11ea_850f_a0999b01858drow19_col4\" class=\"data row19 col4\" >-0.00220439</td>\n",
       "                        <td id=\"T_f2b9d8e2_8fee_11ea_850f_a0999b01858drow19_col5\" class=\"data row19 col5\" >0.0186134</td>\n",
       "                        <td id=\"T_f2b9d8e2_8fee_11ea_850f_a0999b01858drow19_col6\" class=\"data row19 col6\" >0.0124203</td>\n",
       "                        <td id=\"T_f2b9d8e2_8fee_11ea_850f_a0999b01858drow19_col7\" class=\"data row19 col7\" >0.000834061</td>\n",
       "                        <td id=\"T_f2b9d8e2_8fee_11ea_850f_a0999b01858drow19_col8\" class=\"data row19 col8\" >0.0024321</td>\n",
       "                        <td id=\"T_f2b9d8e2_8fee_11ea_850f_a0999b01858drow19_col9\" class=\"data row19 col9\" >0.00732583</td>\n",
       "                        <td id=\"T_f2b9d8e2_8fee_11ea_850f_a0999b01858drow19_col10\" class=\"data row19 col10\" >0.0109668</td>\n",
       "                        <td id=\"T_f2b9d8e2_8fee_11ea_850f_a0999b01858drow19_col11\" class=\"data row19 col11\" >0.0167314</td>\n",
       "                        <td id=\"T_f2b9d8e2_8fee_11ea_850f_a0999b01858drow19_col12\" class=\"data row19 col12\" >-0.000269624</td>\n",
       "                        <td id=\"T_f2b9d8e2_8fee_11ea_850f_a0999b01858drow19_col13\" class=\"data row19 col13\" >-0.00159988</td>\n",
       "                        <td id=\"T_f2b9d8e2_8fee_11ea_850f_a0999b01858drow19_col14\" class=\"data row19 col14\" >0.0175419</td>\n",
       "                        <td id=\"T_f2b9d8e2_8fee_11ea_850f_a0999b01858drow19_col15\" class=\"data row19 col15\" >0.0305182</td>\n",
       "                        <td id=\"T_f2b9d8e2_8fee_11ea_850f_a0999b01858drow19_col16\" class=\"data row19 col16\" >0.0106214</td>\n",
       "                        <td id=\"T_f2b9d8e2_8fee_11ea_850f_a0999b01858drow19_col17\" class=\"data row19 col17\" >0.0125629</td>\n",
       "                        <td id=\"T_f2b9d8e2_8fee_11ea_850f_a0999b01858drow19_col18\" class=\"data row19 col18\" >0.00733179</td>\n",
       "                        <td id=\"T_f2b9d8e2_8fee_11ea_850f_a0999b01858drow19_col19\" class=\"data row19 col19\" >1</td>\n",
       "                        <td id=\"T_f2b9d8e2_8fee_11ea_850f_a0999b01858drow19_col20\" class=\"data row19 col20\" >0.00836799</td>\n",
       "                        <td id=\"T_f2b9d8e2_8fee_11ea_850f_a0999b01858drow19_col21\" class=\"data row19 col21\" >-0.00106157</td>\n",
       "                        <td id=\"T_f2b9d8e2_8fee_11ea_850f_a0999b01858drow19_col22\" class=\"data row19 col22\" >-0.0107487</td>\n",
       "                        <td id=\"T_f2b9d8e2_8fee_11ea_850f_a0999b01858drow19_col23\" class=\"data row19 col23\" >0.00411549</td>\n",
       "                        <td id=\"T_f2b9d8e2_8fee_11ea_850f_a0999b01858drow19_col24\" class=\"data row19 col24\" >0.0461276</td>\n",
       "                        <td id=\"T_f2b9d8e2_8fee_11ea_850f_a0999b01858drow19_col25\" class=\"data row19 col25\" >0.0144392</td>\n",
       "            </tr>\n",
       "            <tr>\n",
       "                        <th id=\"T_f2b9d8e2_8fee_11ea_850f_a0999b01858dlevel0_row20\" class=\"row_heading level0 row20\" >miglitol</th>\n",
       "                        <td id=\"T_f2b9d8e2_8fee_11ea_850f_a0999b01858drow20_col0\" class=\"data row20 col0\" >-0.000302751</td>\n",
       "                        <td id=\"T_f2b9d8e2_8fee_11ea_850f_a0999b01858drow20_col1\" class=\"data row20 col1\" >0.00836159</td>\n",
       "                        <td id=\"T_f2b9d8e2_8fee_11ea_850f_a0999b01858drow20_col2\" class=\"data row20 col2\" >0.00181411</td>\n",
       "                        <td id=\"T_f2b9d8e2_8fee_11ea_850f_a0999b01858drow20_col3\" class=\"data row20 col3\" >-0.00467982</td>\n",
       "                        <td id=\"T_f2b9d8e2_8fee_11ea_850f_a0999b01858drow20_col4\" class=\"data row20 col4\" >1.25278e-05</td>\n",
       "                        <td id=\"T_f2b9d8e2_8fee_11ea_850f_a0999b01858drow20_col5\" class=\"data row20 col5\" >0.00432814</td>\n",
       "                        <td id=\"T_f2b9d8e2_8fee_11ea_850f_a0999b01858drow20_col6\" class=\"data row20 col6\" >0.000495193</td>\n",
       "                        <td id=\"T_f2b9d8e2_8fee_11ea_850f_a0999b01858drow20_col7\" class=\"data row20 col7\" >-0.000758674</td>\n",
       "                        <td id=\"T_f2b9d8e2_8fee_11ea_850f_a0999b01858drow20_col8\" class=\"data row20 col8\" >0.000961928</td>\n",
       "                        <td id=\"T_f2b9d8e2_8fee_11ea_850f_a0999b01858drow20_col9\" class=\"data row20 col9\" >0.000736619</td>\n",
       "                        <td id=\"T_f2b9d8e2_8fee_11ea_850f_a0999b01858drow20_col10\" class=\"data row20 col10\" >0.00748692</td>\n",
       "                        <td id=\"T_f2b9d8e2_8fee_11ea_850f_a0999b01858drow20_col11\" class=\"data row20 col11\" >0.0145336</td>\n",
       "                        <td id=\"T_f2b9d8e2_8fee_11ea_850f_a0999b01858drow20_col12\" class=\"data row20 col12\" >0.010882</td>\n",
       "                        <td id=\"T_f2b9d8e2_8fee_11ea_850f_a0999b01858drow20_col13\" class=\"data row20 col13\" >-0.00055649</td>\n",
       "                        <td id=\"T_f2b9d8e2_8fee_11ea_850f_a0999b01858drow20_col14\" class=\"data row20 col14\" >0.0214339</td>\n",
       "                        <td id=\"T_f2b9d8e2_8fee_11ea_850f_a0999b01858drow20_col15\" class=\"data row20 col15\" >-0.000998314</td>\n",
       "                        <td id=\"T_f2b9d8e2_8fee_11ea_850f_a0999b01858drow20_col16\" class=\"data row20 col16\" >0.00019502</td>\n",
       "                        <td id=\"T_f2b9d8e2_8fee_11ea_850f_a0999b01858drow20_col17\" class=\"data row20 col17\" >0.00265996</td>\n",
       "                        <td id=\"T_f2b9d8e2_8fee_11ea_850f_a0999b01858drow20_col18\" class=\"data row20 col18\" >0.00358146</td>\n",
       "                        <td id=\"T_f2b9d8e2_8fee_11ea_850f_a0999b01858drow20_col19\" class=\"data row20 col19\" >0.00836799</td>\n",
       "                        <td id=\"T_f2b9d8e2_8fee_11ea_850f_a0999b01858drow20_col20\" class=\"data row20 col20\" >1</td>\n",
       "                        <td id=\"T_f2b9d8e2_8fee_11ea_850f_a0999b01858drow20_col21\" class=\"data row20 col21\" >-0.000369247</td>\n",
       "                        <td id=\"T_f2b9d8e2_8fee_11ea_850f_a0999b01858drow20_col22\" class=\"data row20 col22\" >0.00132621</td>\n",
       "                        <td id=\"T_f2b9d8e2_8fee_11ea_850f_a0999b01858drow20_col23\" class=\"data row20 col23\" >-0.00160561</td>\n",
       "                        <td id=\"T_f2b9d8e2_8fee_11ea_850f_a0999b01858drow20_col24\" class=\"data row20 col24\" >0.0144702</td>\n",
       "                        <td id=\"T_f2b9d8e2_8fee_11ea_850f_a0999b01858drow20_col25\" class=\"data row20 col25\" >0.00610835</td>\n",
       "            </tr>\n",
       "            <tr>\n",
       "                        <th id=\"T_f2b9d8e2_8fee_11ea_850f_a0999b01858dlevel0_row21\" class=\"row_heading level0 row21\" >tolazamide</th>\n",
       "                        <td id=\"T_f2b9d8e2_8fee_11ea_850f_a0999b01858drow21_col0\" class=\"data row21 col0\" >0.00616697</td>\n",
       "                        <td id=\"T_f2b9d8e2_8fee_11ea_850f_a0999b01858drow21_col1\" class=\"data row21 col1\" >0.00895167</td>\n",
       "                        <td id=\"T_f2b9d8e2_8fee_11ea_850f_a0999b01858drow21_col2\" class=\"data row21 col2\" >-0.0030473</td>\n",
       "                        <td id=\"T_f2b9d8e2_8fee_11ea_850f_a0999b01858drow21_col3\" class=\"data row21 col3\" >0.000225827</td>\n",
       "                        <td id=\"T_f2b9d8e2_8fee_11ea_850f_a0999b01858drow21_col4\" class=\"data row21 col4\" >0.0021374</td>\n",
       "                        <td id=\"T_f2b9d8e2_8fee_11ea_850f_a0999b01858drow21_col5\" class=\"data row21 col5\" >-0.00335032</td>\n",
       "                        <td id=\"T_f2b9d8e2_8fee_11ea_850f_a0999b01858drow21_col6\" class=\"data row21 col6\" >-0.00521152</td>\n",
       "                        <td id=\"T_f2b9d8e2_8fee_11ea_850f_a0999b01858drow21_col7\" class=\"data row21 col7\" >-0.00298393</td>\n",
       "                        <td id=\"T_f2b9d8e2_8fee_11ea_850f_a0999b01858drow21_col8\" class=\"data row21 col8\" >-0.00479587</td>\n",
       "                        <td id=\"T_f2b9d8e2_8fee_11ea_850f_a0999b01858drow21_col9\" class=\"data row21 col9\" >-0.0105566</td>\n",
       "                        <td id=\"T_f2b9d8e2_8fee_11ea_850f_a0999b01858drow21_col10\" class=\"data row21 col10\" >0.00356606</td>\n",
       "                        <td id=\"T_f2b9d8e2_8fee_11ea_850f_a0999b01858drow21_col11\" class=\"data row21 col11\" >-0.00239471</td>\n",
       "                        <td id=\"T_f2b9d8e2_8fee_11ea_850f_a0999b01858drow21_col12\" class=\"data row21 col12\" >-0.00160909</td>\n",
       "                        <td id=\"T_f2b9d8e2_8fee_11ea_850f_a0999b01858drow21_col13\" class=\"data row21 col13\" >-0.00055649</td>\n",
       "                        <td id=\"T_f2b9d8e2_8fee_11ea_850f_a0999b01858drow21_col14\" class=\"data row21 col14\" >-0.00446732</td>\n",
       "                        <td id=\"T_f2b9d8e2_8fee_11ea_850f_a0999b01858drow21_col15\" class=\"data row21 col15\" >-0.00413571</td>\n",
       "                        <td id=\"T_f2b9d8e2_8fee_11ea_850f_a0999b01858drow21_col16\" class=\"data row21 col16\" >-0.00658164</td>\n",
       "                        <td id=\"T_f2b9d8e2_8fee_11ea_850f_a0999b01858drow21_col17\" class=\"data row21 col17\" >-0.00335731</td>\n",
       "                        <td id=\"T_f2b9d8e2_8fee_11ea_850f_a0999b01858drow21_col18\" class=\"data row21 col18\" >0.00358146</td>\n",
       "                        <td id=\"T_f2b9d8e2_8fee_11ea_850f_a0999b01858drow21_col19\" class=\"data row21 col19\" >-0.00106157</td>\n",
       "                        <td id=\"T_f2b9d8e2_8fee_11ea_850f_a0999b01858drow21_col20\" class=\"data row21 col20\" >-0.000369247</td>\n",
       "                        <td id=\"T_f2b9d8e2_8fee_11ea_850f_a0999b01858drow21_col21\" class=\"data row21 col21\" >1</td>\n",
       "                        <td id=\"T_f2b9d8e2_8fee_11ea_850f_a0999b01858drow21_col22\" class=\"data row21 col22\" >-0.0122065</td>\n",
       "                        <td id=\"T_f2b9d8e2_8fee_11ea_850f_a0999b01858drow21_col23\" class=\"data row21 col23\" >-0.00160561</td>\n",
       "                        <td id=\"T_f2b9d8e2_8fee_11ea_850f_a0999b01858drow21_col24\" class=\"data row21 col24\" >0.00197051</td>\n",
       "                        <td id=\"T_f2b9d8e2_8fee_11ea_850f_a0999b01858drow21_col25\" class=\"data row21 col25\" >-0.00430695</td>\n",
       "            </tr>\n",
       "            <tr>\n",
       "                        <th id=\"T_f2b9d8e2_8fee_11ea_850f_a0999b01858dlevel0_row22\" class=\"row_heading level0 row22\" >insulin</th>\n",
       "                        <td id=\"T_f2b9d8e2_8fee_11ea_850f_a0999b01858drow22_col0\" class=\"data row22 col0\" >-0.0307997</td>\n",
       "                        <td id=\"T_f2b9d8e2_8fee_11ea_850f_a0999b01858drow22_col1\" class=\"data row22 col1\" >-0.0458642</td>\n",
       "                        <td id=\"T_f2b9d8e2_8fee_11ea_850f_a0999b01858drow22_col2\" class=\"data row22 col2\" >0.101923</td>\n",
       "                        <td id=\"T_f2b9d8e2_8fee_11ea_850f_a0999b01858drow22_col3\" class=\"data row22 col3\" >0.0936117</td>\n",
       "                        <td id=\"T_f2b9d8e2_8fee_11ea_850f_a0999b01858drow22_col4\" class=\"data row22 col4\" >0.0196663</td>\n",
       "                        <td id=\"T_f2b9d8e2_8fee_11ea_850f_a0999b01858drow22_col5\" class=\"data row22 col5\" >0.214483</td>\n",
       "                        <td id=\"T_f2b9d8e2_8fee_11ea_850f_a0999b01858drow22_col6\" class=\"data row22 col6\" >0.00563428</td>\n",
       "                        <td id=\"T_f2b9d8e2_8fee_11ea_850f_a0999b01858drow22_col7\" class=\"data row22 col7\" >0.0429873</td>\n",
       "                        <td id=\"T_f2b9d8e2_8fee_11ea_850f_a0999b01858drow22_col8\" class=\"data row22 col8\" >0.0700917</td>\n",
       "                        <td id=\"T_f2b9d8e2_8fee_11ea_850f_a0999b01858drow22_col9\" class=\"data row22 col9\" >0.0935881</td>\n",
       "                        <td id=\"T_f2b9d8e2_8fee_11ea_850f_a0999b01858drow22_col10\" class=\"data row22 col10\" >-0.0322434</td>\n",
       "                        <td id=\"T_f2b9d8e2_8fee_11ea_850f_a0999b01858drow22_col11\" class=\"data row22 col11\" >0.00875072</td>\n",
       "                        <td id=\"T_f2b9d8e2_8fee_11ea_850f_a0999b01858drow22_col12\" class=\"data row22 col12\" >0.00261426</td>\n",
       "                        <td id=\"T_f2b9d8e2_8fee_11ea_850f_a0999b01858drow22_col13\" class=\"data row22 col13\" >-0.0185085</td>\n",
       "                        <td id=\"T_f2b9d8e2_8fee_11ea_850f_a0999b01858drow22_col14\" class=\"data row22 col14\" >0.00749618</td>\n",
       "                        <td id=\"T_f2b9d8e2_8fee_11ea_850f_a0999b01858drow22_col15\" class=\"data row22 col15\" >-0.0350134</td>\n",
       "                        <td id=\"T_f2b9d8e2_8fee_11ea_850f_a0999b01858drow22_col16\" class=\"data row22 col16\" >-0.078356</td>\n",
       "                        <td id=\"T_f2b9d8e2_8fee_11ea_850f_a0999b01858drow22_col17\" class=\"data row22 col17\" >0.00586676</td>\n",
       "                        <td id=\"T_f2b9d8e2_8fee_11ea_850f_a0999b01858drow22_col18\" class=\"data row22 col18\" >0.00528736</td>\n",
       "                        <td id=\"T_f2b9d8e2_8fee_11ea_850f_a0999b01858drow22_col19\" class=\"data row22 col19\" >-0.0107487</td>\n",
       "                        <td id=\"T_f2b9d8e2_8fee_11ea_850f_a0999b01858drow22_col20\" class=\"data row22 col20\" >0.00132621</td>\n",
       "                        <td id=\"T_f2b9d8e2_8fee_11ea_850f_a0999b01858drow22_col21\" class=\"data row22 col21\" >-0.0122065</td>\n",
       "                        <td id=\"T_f2b9d8e2_8fee_11ea_850f_a0999b01858drow22_col22\" class=\"data row22 col22\" >1</td>\n",
       "                        <td id=\"T_f2b9d8e2_8fee_11ea_850f_a0999b01858drow22_col23\" class=\"data row22 col23\" >0.00878881</td>\n",
       "                        <td id=\"T_f2b9d8e2_8fee_11ea_850f_a0999b01858drow22_col24\" class=\"data row22 col24\" >0.515723</td>\n",
       "                        <td id=\"T_f2b9d8e2_8fee_11ea_850f_a0999b01858drow22_col25\" class=\"data row22 col25\" >0.0448838</td>\n",
       "            </tr>\n",
       "            <tr>\n",
       "                        <th id=\"T_f2b9d8e2_8fee_11ea_850f_a0999b01858dlevel0_row23\" class=\"row_heading level0 row23\" >glyburide-metformin</th>\n",
       "                        <td id=\"T_f2b9d8e2_8fee_11ea_850f_a0999b01858drow23_col0\" class=\"data row23 col0\" >-0.0033966</td>\n",
       "                        <td id=\"T_f2b9d8e2_8fee_11ea_850f_a0999b01858drow23_col1\" class=\"data row23 col1\" >-0.00486664</td>\n",
       "                        <td id=\"T_f2b9d8e2_8fee_11ea_850f_a0999b01858drow23_col2\" class=\"data row23 col2\" >-0.00197399</td>\n",
       "                        <td id=\"T_f2b9d8e2_8fee_11ea_850f_a0999b01858drow23_col3\" class=\"data row23 col3\" >-0.010556</td>\n",
       "                        <td id=\"T_f2b9d8e2_8fee_11ea_850f_a0999b01858drow23_col4\" class=\"data row23 col4\" >-0.00206694</td>\n",
       "                        <td id=\"T_f2b9d8e2_8fee_11ea_850f_a0999b01858drow23_col5\" class=\"data row23 col5\" >0.00807462</td>\n",
       "                        <td id=\"T_f2b9d8e2_8fee_11ea_850f_a0999b01858drow23_col6\" class=\"data row23 col6\" >-0.00744871</td>\n",
       "                        <td id=\"T_f2b9d8e2_8fee_11ea_850f_a0999b01858drow23_col7\" class=\"data row23 col7\" >0.00189064</td>\n",
       "                        <td id=\"T_f2b9d8e2_8fee_11ea_850f_a0999b01858drow23_col8\" class=\"data row23 col8\" >-0.0113719</td>\n",
       "                        <td id=\"T_f2b9d8e2_8fee_11ea_850f_a0999b01858drow23_col9\" class=\"data row23 col9\" >-0.00865669</td>\n",
       "                        <td id=\"T_f2b9d8e2_8fee_11ea_850f_a0999b01858drow23_col10\" class=\"data row23 col10\" >-0.0234737</td>\n",
       "                        <td id=\"T_f2b9d8e2_8fee_11ea_850f_a0999b01858drow23_col11\" class=\"data row23 col11\" >-0.00551448</td>\n",
       "                        <td id=\"T_f2b9d8e2_8fee_11ea_850f_a0999b01858drow23_col12\" class=\"data row23 col12\" >-0.00410526</td>\n",
       "                        <td id=\"T_f2b9d8e2_8fee_11ea_850f_a0999b01858drow23_col13\" class=\"data row23 col13\" >-0.0024198</td>\n",
       "                        <td id=\"T_f2b9d8e2_8fee_11ea_850f_a0999b01858drow23_col14\" class=\"data row23 col14\" >-0.0117941</td>\n",
       "                        <td id=\"T_f2b9d8e2_8fee_11ea_850f_a0999b01858drow23_col15\" class=\"data row23 col15\" >-0.0283576</td>\n",
       "                        <td id=\"T_f2b9d8e2_8fee_11ea_850f_a0999b01858drow23_col16\" class=\"data row23 col16\" >-0.0109706</td>\n",
       "                        <td id=\"T_f2b9d8e2_8fee_11ea_850f_a0999b01858drow23_col17\" class=\"data row23 col17\" >0.0291478</td>\n",
       "                        <td id=\"T_f2b9d8e2_8fee_11ea_850f_a0999b01858drow23_col18\" class=\"data row23 col18\" >0.00510489</td>\n",
       "                        <td id=\"T_f2b9d8e2_8fee_11ea_850f_a0999b01858drow23_col19\" class=\"data row23 col19\" >0.00411549</td>\n",
       "                        <td id=\"T_f2b9d8e2_8fee_11ea_850f_a0999b01858drow23_col20\" class=\"data row23 col20\" >-0.00160561</td>\n",
       "                        <td id=\"T_f2b9d8e2_8fee_11ea_850f_a0999b01858drow23_col21\" class=\"data row23 col21\" >-0.00160561</td>\n",
       "                        <td id=\"T_f2b9d8e2_8fee_11ea_850f_a0999b01858drow23_col22\" class=\"data row23 col22\" >0.00878881</td>\n",
       "                        <td id=\"T_f2b9d8e2_8fee_11ea_850f_a0999b01858drow23_col23\" class=\"data row23 col23\" >1</td>\n",
       "                        <td id=\"T_f2b9d8e2_8fee_11ea_850f_a0999b01858drow23_col24\" class=\"data row23 col24\" >0.0423532</td>\n",
       "                        <td id=\"T_f2b9d8e2_8fee_11ea_850f_a0999b01858drow23_col25\" class=\"data row23 col25\" >0.00244383</td>\n",
       "            </tr>\n",
       "            <tr>\n",
       "                        <th id=\"T_f2b9d8e2_8fee_11ea_850f_a0999b01858dlevel0_row24\" class=\"row_heading level0 row24\" >change</th>\n",
       "                        <td id=\"T_f2b9d8e2_8fee_11ea_850f_a0999b01858drow24_col0\" class=\"data row24 col0\" >0.00708769</td>\n",
       "                        <td id=\"T_f2b9d8e2_8fee_11ea_850f_a0999b01858drow24_col1\" class=\"data row24 col1\" >-0.0124401</td>\n",
       "                        <td id=\"T_f2b9d8e2_8fee_11ea_850f_a0999b01858drow24_col2\" class=\"data row24 col2\" >0.109498</td>\n",
       "                        <td id=\"T_f2b9d8e2_8fee_11ea_850f_a0999b01858drow24_col3\" class=\"data row24 col3\" >0.0639225</td>\n",
       "                        <td id=\"T_f2b9d8e2_8fee_11ea_850f_a0999b01858drow24_col4\" class=\"data row24 col4\" >0.00516403</td>\n",
       "                        <td id=\"T_f2b9d8e2_8fee_11ea_850f_a0999b01858drow24_col5\" class=\"data row24 col5\" >0.247926</td>\n",
       "                        <td id=\"T_f2b9d8e2_8fee_11ea_850f_a0999b01858drow24_col6\" class=\"data row24 col6\" >0.0245817</td>\n",
       "                        <td id=\"T_f2b9d8e2_8fee_11ea_850f_a0999b01858drow24_col7\" class=\"data row24 col7\" >0.038352</td>\n",
       "                        <td id=\"T_f2b9d8e2_8fee_11ea_850f_a0999b01858drow24_col8\" class=\"data row24 col8\" >0.0232079</td>\n",
       "                        <td id=\"T_f2b9d8e2_8fee_11ea_850f_a0999b01858drow24_col9\" class=\"data row24 col9\" >0.0543712</td>\n",
       "                        <td id=\"T_f2b9d8e2_8fee_11ea_850f_a0999b01858drow24_col10\" class=\"data row24 col10\" >0.323162</td>\n",
       "                        <td id=\"T_f2b9d8e2_8fee_11ea_850f_a0999b01858drow24_col11\" class=\"data row24 col11\" >0.0758438</td>\n",
       "                        <td id=\"T_f2b9d8e2_8fee_11ea_850f_a0999b01858drow24_col12\" class=\"data row24 col12\" >0.0549224</td>\n",
       "                        <td id=\"T_f2b9d8e2_8fee_11ea_850f_a0999b01858drow24_col13\" class=\"data row24 col13\" >-0.00680447</td>\n",
       "                        <td id=\"T_f2b9d8e2_8fee_11ea_850f_a0999b01858drow24_col14\" class=\"data row24 col14\" >0.139372</td>\n",
       "                        <td id=\"T_f2b9d8e2_8fee_11ea_850f_a0999b01858drow24_col15\" class=\"data row24 col15\" >0.197687</td>\n",
       "                        <td id=\"T_f2b9d8e2_8fee_11ea_850f_a0999b01858drow24_col16\" class=\"data row24 col16\" >0.178148</td>\n",
       "                        <td id=\"T_f2b9d8e2_8fee_11ea_850f_a0999b01858drow24_col17\" class=\"data row24 col17\" >0.202265</td>\n",
       "                        <td id=\"T_f2b9d8e2_8fee_11ea_850f_a0999b01858drow24_col18\" class=\"data row24 col18\" >0.196194</td>\n",
       "                        <td id=\"T_f2b9d8e2_8fee_11ea_850f_a0999b01858drow24_col19\" class=\"data row24 col19\" >0.0461276</td>\n",
       "                        <td id=\"T_f2b9d8e2_8fee_11ea_850f_a0999b01858drow24_col20\" class=\"data row24 col20\" >0.0144702</td>\n",
       "                        <td id=\"T_f2b9d8e2_8fee_11ea_850f_a0999b01858drow24_col21\" class=\"data row24 col21\" >0.00197051</td>\n",
       "                        <td id=\"T_f2b9d8e2_8fee_11ea_850f_a0999b01858drow24_col22\" class=\"data row24 col22\" >0.515723</td>\n",
       "                        <td id=\"T_f2b9d8e2_8fee_11ea_850f_a0999b01858drow24_col23\" class=\"data row24 col23\" >0.0423532</td>\n",
       "                        <td id=\"T_f2b9d8e2_8fee_11ea_850f_a0999b01858drow24_col24\" class=\"data row24 col24\" >1</td>\n",
       "                        <td id=\"T_f2b9d8e2_8fee_11ea_850f_a0999b01858drow24_col25\" class=\"data row24 col25\" >0.0450489</td>\n",
       "            </tr>\n",
       "            <tr>\n",
       "                        <th id=\"T_f2b9d8e2_8fee_11ea_850f_a0999b01858dlevel0_row25\" class=\"row_heading level0 row25\" >readmitted</th>\n",
       "                        <td id=\"T_f2b9d8e2_8fee_11ea_850f_a0999b01858drow25_col0\" class=\"data row25 col0\" >-0.0048991</td>\n",
       "                        <td id=\"T_f2b9d8e2_8fee_11ea_850f_a0999b01858drow25_col1\" class=\"data row25 col1\" >-0.0162319</td>\n",
       "                        <td id=\"T_f2b9d8e2_8fee_11ea_850f_a0999b01858drow25_col2\" class=\"data row25 col2\" >0.0489525</td>\n",
       "                        <td id=\"T_f2b9d8e2_8fee_11ea_850f_a0999b01858drow25_col3\" class=\"data row25 col3\" >0.0377943</td>\n",
       "                        <td id=\"T_f2b9d8e2_8fee_11ea_850f_a0999b01858drow25_col4\" class=\"data row25 col4\" >-0.0468328</td>\n",
       "                        <td id=\"T_f2b9d8e2_8fee_11ea_850f_a0999b01858drow25_col5\" class=\"data row25 col5\" >0.0431823</td>\n",
       "                        <td id=\"T_f2b9d8e2_8fee_11ea_850f_a0999b01858drow25_col6\" class=\"data row25 col6\" >0.0812308</td>\n",
       "                        <td id=\"T_f2b9d8e2_8fee_11ea_850f_a0999b01858drow25_col7\" class=\"data row25 col7\" >0.102178</td>\n",
       "                        <td id=\"T_f2b9d8e2_8fee_11ea_850f_a0999b01858drow25_col8\" class=\"data row25 col8\" >0.215625</td>\n",
       "                        <td id=\"T_f2b9d8e2_8fee_11ea_850f_a0999b01858drow25_col9\" class=\"data row25 col9\" >0.107187</td>\n",
       "                        <td id=\"T_f2b9d8e2_8fee_11ea_850f_a0999b01858drow25_col10\" class=\"data row25 col10\" >-0.0280606</td>\n",
       "                        <td id=\"T_f2b9d8e2_8fee_11ea_850f_a0999b01858drow25_col11\" class=\"data row25 col11\" >0.0216906</td>\n",
       "                        <td id=\"T_f2b9d8e2_8fee_11ea_850f_a0999b01858drow25_col12\" class=\"data row25 col12\" >0.00426967</td>\n",
       "                        <td id=\"T_f2b9d8e2_8fee_11ea_850f_a0999b01858drow25_col13\" class=\"data row25 col13\" >6.80573e-05</td>\n",
       "                        <td id=\"T_f2b9d8e2_8fee_11ea_850f_a0999b01858drow25_col14\" class=\"data row25 col14\" >0.00404504</td>\n",
       "                        <td id=\"T_f2b9d8e2_8fee_11ea_850f_a0999b01858drow25_col15\" class=\"data row25 col15\" >0.0192062</td>\n",
       "                        <td id=\"T_f2b9d8e2_8fee_11ea_850f_a0999b01858drow25_col16\" class=\"data row25 col16\" >-0.00406419</td>\n",
       "                        <td id=\"T_f2b9d8e2_8fee_11ea_850f_a0999b01858drow25_col17\" class=\"data row25 col17\" >0.0116057</td>\n",
       "                        <td id=\"T_f2b9d8e2_8fee_11ea_850f_a0999b01858drow25_col18\" class=\"data row25 col18\" >0.0110824</td>\n",
       "                        <td id=\"T_f2b9d8e2_8fee_11ea_850f_a0999b01858drow25_col19\" class=\"data row25 col19\" >0.0144392</td>\n",
       "                        <td id=\"T_f2b9d8e2_8fee_11ea_850f_a0999b01858drow25_col20\" class=\"data row25 col20\" >0.00610835</td>\n",
       "                        <td id=\"T_f2b9d8e2_8fee_11ea_850f_a0999b01858drow25_col21\" class=\"data row25 col21\" >-0.00430695</td>\n",
       "                        <td id=\"T_f2b9d8e2_8fee_11ea_850f_a0999b01858drow25_col22\" class=\"data row25 col22\" >0.0448838</td>\n",
       "                        <td id=\"T_f2b9d8e2_8fee_11ea_850f_a0999b01858drow25_col23\" class=\"data row25 col23\" >0.00244383</td>\n",
       "                        <td id=\"T_f2b9d8e2_8fee_11ea_850f_a0999b01858drow25_col24\" class=\"data row25 col24\" >0.0450489</td>\n",
       "                        <td id=\"T_f2b9d8e2_8fee_11ea_850f_a0999b01858drow25_col25\" class=\"data row25 col25\" >1</td>\n",
       "            </tr>\n",
       "    </tbody></table>"
      ],
      "text/plain": [
       "<pandas.io.formats.style.Styler at 0x1a2a3951d0>"
      ]
     },
     "execution_count": 37,
     "metadata": {},
     "output_type": "execute_result"
    }
   ],
   "source": [
    "corr = df.corr()\n",
    "corr.style.background_gradient(cmap='Blues')"
   ]
  },
  {
   "cell_type": "markdown",
   "metadata": {},
   "source": [
    "### Converting categorical data into numerical datatype"
   ]
  },
  {
   "cell_type": "code",
   "execution_count": 38,
   "metadata": {},
   "outputs": [],
   "source": [
    "# changing age variables into ordinal\n",
    "for i in range(0,10):\n",
    "    df['age'] = df['age'].replace('[' + str(i*10) + '-' + str(10*(i+1)) + ')', i+1)\n"
   ]
  },
  {
   "cell_type": "code",
   "execution_count": 39,
   "metadata": {},
   "outputs": [],
   "source": [
    "# changing gender into dummy variables\n",
    "df['gender']=df['gender'].replace(0, 'Male')\n",
    "df['gender']=df['gender'].replace(1, 'Female')\n",
    "\n",
    "gender_d=pd.get_dummies(df['gender'])\n",
    "df=pd.concat([df,gender_d],axis=1)\n",
    "df.drop(['gender'],axis=1,inplace=True)\n",
    "\n",
    "# changing race into dummy variables\n",
    "race_d=pd.get_dummies(df['race'])\n",
    "df=pd.concat([df,race_d],axis=1)\n",
    "df.drop(['race'],axis=1,inplace=True)\n",
    "\n",
    "# changing diabetesMed into dummy variables\n",
    "diabetes_med=pd.get_dummies(df['diabetesMed'], prefix='diabMed')\n",
    "df=pd.concat([df,diabetes_med],axis=1)\n",
    "df.drop(['diabetesMed'],axis=1,inplace=True)\n",
    "\n",
    "# changing max glucose serum test values into dummy variables\n",
    "glucose_d=pd.get_dummies(df['max_glu_serum'],prefix='Glucose')\n",
    "df=pd.concat([df,glucose_d],axis=1)\n",
    "df.drop(['max_glu_serum'],axis=1,inplace=True)\n",
    "\n",
    "# changing A1C blood test values into dummy variables\n",
    "a1c_d=pd.get_dummies(df['A1Cresult'],prefix='A1C')\n",
    "df=pd.concat([df,a1c_d],axis=1)\n",
    "df.drop(['A1Cresult'],axis=1,inplace=True)"
   ]
  },
  {
   "cell_type": "code",
   "execution_count": 40,
   "metadata": {},
   "outputs": [
    {
     "name": "stdout",
     "output_type": "stream",
     "text": [
      "perinatal\n",
      "diabetes\n",
      "external injury and supplemental\n"
     ]
    }
   ],
   "source": [
    "def map_diag(diag_code):\n",
    "    \"\"\" \n",
    "    Mapping diagnosis ID code to disease/disorder\n",
    "    :param diag_code: number\n",
    "    :return: category for a diagnosis\n",
    "    \"\"\"\n",
    "    \n",
    "    if \"V\" in str(diag_code) or \"E\" in str(diag_code):\n",
    "        diag_category='external injury and supplemental'\n",
    "    elif float(diag_code) is 0:\n",
    "        diag_category='N/A'\n",
    "    elif float(diag_code) < 140:\n",
    "        diag_category='infectious and parasitic'\n",
    "    elif float(diag_code) >= 140 and float(diag_code) < 240:\n",
    "        diag_category='neoplasms'\n",
    "    elif float(diag_code) >= 240 and float(diag_code) < 249:\n",
    "        diag_category='thyroid'\n",
    "    elif float(diag_code) >= 249 and float(diag_code) < 260:\n",
    "        diag_category='diabetes'\n",
    "    elif float(diag_code) >= 260 and float(diag_code) < 280:\n",
    "        diag_category='nutritional, metabolic, immunity'\n",
    "    elif float(diag_code) >= 280 and float(diag_code) < 290:\n",
    "        diag_category='blood'\n",
    "    elif float(diag_code) >= 290 and float(diag_code) < 320:\n",
    "        diag_category='mental'\n",
    "    elif float(diag_code) >= 320 and float(diag_code) <390:\n",
    "        diag_category='nervous'\n",
    "    elif float(diag_code) >= 390 and float(diag_code) < 460:\n",
    "        diag_category='circulatory'\n",
    "    elif float(diag_code) >= 460 and float(diag_code) < 520:\n",
    "        diag_category='respiratory'\n",
    "    elif float(diag_code) >= 520 and float(diag_code) < 580:\n",
    "        diag_category='digestive'\n",
    "    elif float(diag_code) >= 580 and float(diag_code) < 630:\n",
    "        diag_category='genitourinary'\n",
    "    elif float(diag_code) >= 630 and float(diag_code) < 680:\n",
    "        diag_category='pregnancy'\n",
    "    elif float(diag_code) >= 680 and float(diag_code) < 710:\n",
    "        diag_category='skin'\n",
    "    elif float(diag_code) >= 710 and float(diag_code) < 740:\n",
    "        diag_category='musculoskeletal'\n",
    "    elif float(diag_code) >= 740 and float(diag_code) < 760:\n",
    "        diag_category='congenital'\n",
    "    elif float(diag_code) >= 760 and float(diag_code) < 780:\n",
    "        diag_category='perinatal'\n",
    "    elif float(diag_code) >= 780 and float(diag_code) < 800:\n",
    "        diag_category='symptoms'\n",
    "    else: \n",
    "        diag_category='injury and poisoning'\n",
    "    return diag_category\n",
    "\n",
    "#testing to make sure the function works correctly\n",
    "print(map_diag(\"777.3\"))\n",
    "print(map_diag(\"250\"))\n",
    "print(map_diag(\"E909\"))"
   ]
  },
  {
   "cell_type": "code",
   "execution_count": 41,
   "metadata": {},
   "outputs": [
    {
     "data": {
      "text/plain": [
       "1    276\n",
       "2    648\n",
       "3      8\n",
       "4    197\n",
       "5    414\n",
       "Name: diag_1, dtype: object"
      ]
     },
     "execution_count": 41,
     "metadata": {},
     "output_type": "execute_result"
    }
   ],
   "source": [
    "diag=['diag_1','diag_2','diag_3']\n",
    "\n",
    "#fill in missing columns\n",
    "df[diag] = df[diag].replace('?', 0)\n",
    "\n",
    "df.diag_1.head()"
   ]
  },
  {
   "cell_type": "code",
   "execution_count": 42,
   "metadata": {
    "scrolled": true
   },
   "outputs": [
    {
     "data": {
      "text/plain": [
       "1    nutritional, metabolic, immunity\n",
       "2                           pregnancy\n",
       "3            infectious and parasitic\n",
       "4                           neoplasms\n",
       "5                         circulatory\n",
       "Name: diag_1, dtype: object"
      ]
     },
     "execution_count": 42,
     "metadata": {},
     "output_type": "execute_result"
    }
   ],
   "source": [
    "for col in diag:\n",
    "    df[col] = df[col].apply(map_diag)\n",
    "    \n",
    "df.diag_1.head()"
   ]
  },
  {
   "cell_type": "code",
   "execution_count": 43,
   "metadata": {},
   "outputs": [],
   "source": [
    "# changing diagnosis values into dummy variables\n",
    "\n",
    "diag_1_d=pd.get_dummies(df['diag_1'], prefix='diag1')\n",
    "df=pd.concat([df,diag_1_d],axis=1)\n",
    "df.drop(['diag_1'],axis=1,inplace=True)\n",
    "\n",
    "diag_2_d=pd.get_dummies(df['diag_2'],prefix='diag2')\n",
    "df=pd.concat([df,diag_2_d],axis=1)\n",
    "df.drop(['diag_2'],axis=1,inplace=True)\n",
    "\n",
    "diag_3_d=pd.get_dummies(df['diag_3'],prefix='diag3')\n",
    "df=pd.concat([df,diag_3_d],axis=1)\n",
    "df.drop(['diag_3'],axis=1,inplace=True)"
   ]
  },
  {
   "cell_type": "code",
   "execution_count": 44,
   "metadata": {},
   "outputs": [],
   "source": [
    "# changing discharge disposition id and admission source id into dummy variables\n",
    "\n",
    "admission_type_id_d=pd.get_dummies(df['admission_type_id'],prefix='adm_type')\n",
    "df=pd.concat([df,admission_type_id_d],axis=1)\n",
    "df.drop(['admission_type_id'],axis=1,inplace=True)\n",
    "\n",
    "discharge_disposition_id_d=pd.get_dummies(df['discharge_disposition_id'],prefix='discharge')\n",
    "df=pd.concat([df,discharge_disposition_id_d],axis=1)\n",
    "df.drop(['discharge_disposition_id'],axis=1,inplace=True)\n"
   ]
  },
  {
   "cell_type": "markdown",
   "metadata": {},
   "source": [
    "### Feature Engineering I - Creating new column that labels medication as type 1 or type 2 diabetic"
   ]
  },
  {
   "cell_type": "code",
   "execution_count": 45,
   "metadata": {
    "scrolled": true
   },
   "outputs": [
    {
     "data": {
      "text/plain": [
       "array(['type1', 'type2', 'N/A'], dtype=object)"
      ]
     },
     "execution_count": 45,
     "metadata": {},
     "output_type": "execute_result"
    }
   ],
   "source": [
    "typeTwoMeds = ['metformin', 'glimepiride','glipizide','glyburide','pioglitazone', 'rosiglitazone', \n",
    "               'miglitol', 'tolazamide', 'glyburide-metformin', 'chlorpropamide', 'acarbose', \n",
    "               'nateglinide', 'repaglinide']\n",
    "\n",
    "def map_dbtype_med(row):\n",
    "    if row[typeTwoMeds].any() == 1:\n",
    "        return 'type2'\n",
    "    elif row['insulin'] == 1:\n",
    "        return 'type1'\n",
    "    else:\n",
    "        return 'N/A'\n",
    "    \n",
    "df['dbtype_med'] = df.apply(lambda row: map_dbtype_med(row), axis=1)\n",
    "df.dbtype_med.unique()"
   ]
  },
  {
   "cell_type": "code",
   "execution_count": 46,
   "metadata": {},
   "outputs": [],
   "source": [
    "# changing dbmed_type into dummy variables\n",
    "dbmed_type_d=pd.get_dummies(df['dbtype_med'])\n",
    "df=pd.concat([df,dbmed_type_d],axis=1)\n",
    "df.drop(['dbtype_med'],axis=1,inplace=True)"
   ]
  },
  {
   "cell_type": "markdown",
   "metadata": {},
   "source": [
    "### Feature Engineering II - Creating new column to label which diseases are related to diabetes "
   ]
  },
  {
   "cell_type": "code",
   "execution_count": 47,
   "metadata": {
    "scrolled": false
   },
   "outputs": [],
   "source": [
    "related_diseases = ['diag1_diabetes', 'diag1_musculoskeletal', 'diag1_thyroid','diag1_skin',\n",
    "                    'diag1_nutritional, metabolic, immunity','diag2_diabetes','diag2_musculoskeletal',\n",
    "                   'diag2_thyroid','diag2_skin','diag2_nutritional, metabolic, immunity','diag3_diabetes',\n",
    "                   'diag3_musculoskeletal','diag3_thyroid','diag3_skin','diag3_nutritional, metabolic, immunity']\n",
    "\n",
    "def label_related_disease (row):\n",
    "    if row[related_diseases].any() == 1 :\n",
    "        return 'Yes'\n",
    "    return 'No'"
   ]
  },
  {
   "cell_type": "code",
   "execution_count": 48,
   "metadata": {},
   "outputs": [],
   "source": [
    "df['db_rel_dis'] = df.apply(lambda row: label_related_disease(row), axis=1)"
   ]
  },
  {
   "cell_type": "code",
   "execution_count": 49,
   "metadata": {
    "scrolled": false
   },
   "outputs": [],
   "source": [
    "# changing diabetes related disease column into dummy variables\n",
    "Db_Rel_Dis_d=pd.get_dummies(df['db_rel_dis'],prefix='db_related')\n",
    "df=pd.concat([df,Db_Rel_Dis_d],axis=1)\n",
    "df.drop(['db_rel_dis'],axis=1,inplace=True)"
   ]
  },
  {
   "cell_type": "code",
   "execution_count": 52,
   "metadata": {},
   "outputs": [],
   "source": [
    "data = df.copy()"
   ]
  },
  {
   "cell_type": "code",
   "execution_count": 53,
   "metadata": {
    "scrolled": true
   },
   "outputs": [
    {
     "name": "stdout",
     "output_type": "stream",
     "text": [
      "<class 'pandas.core.frame.DataFrame'>\n",
      "Int64Index: 100241 entries, 1 to 101765\n",
      "Columns: 136 entries, age to db_related_Yes\n",
      "dtypes: int64(25), uint8(111)\n",
      "memory usage: 30.5 MB\n"
     ]
    }
   ],
   "source": [
    "# check to see that all features are numerical\n",
    "data.info()"
   ]
  },
  {
   "cell_type": "markdown",
   "metadata": {},
   "source": [
    "# MODELING"
   ]
  },
  {
   "cell_type": "code",
   "execution_count": 54,
   "metadata": {},
   "outputs": [],
   "source": [
    "from sklearn.metrics import classification_report, confusion_matrix, accuracy_score\n",
    "from sklearn.model_selection import cross_val_score\n",
    "from sklearn.model_selection import train_test_split\n",
    "\n",
    "features = data.drop('readmitted',axis=1).values\n",
    "target = data.readmitted.values\n",
    "X_train,X_test,y_train,y_test=train_test_split(features,target,test_size=0.20)"
   ]
  },
  {
   "cell_type": "code",
   "execution_count": 55,
   "metadata": {},
   "outputs": [],
   "source": [
    "# machine learning\n",
    "from sklearn.linear_model import LogisticRegression\n",
    "from sklearn.tree import DecisionTreeClassifier\n",
    "from sklearn.ensemble import RandomForestClassifier\n",
    "from sklearn.neighbors import KNeighborsClassifier\n",
    "from xgboost import XGBClassifier\n",
    "\n",
    "from sklearn.model_selection import StratifiedKFold\n",
    "skf = StratifiedKFold(n_splits=5)"
   ]
  },
  {
   "cell_type": "markdown",
   "metadata": {},
   "source": [
    "### K-Fold Cross Validation"
   ]
  },
  {
   "cell_type": "code",
   "execution_count": 57,
   "metadata": {
    "scrolled": true
   },
   "outputs": [
    {
     "name": "stderr",
     "output_type": "stream",
     "text": [
      "/opt/anaconda3/lib/python3.7/site-packages/sklearn/linear_model/logistic.py:432: FutureWarning:\n",
      "\n",
      "Default solver will be changed to 'lbfgs' in 0.22. Specify a solver to silence this warning.\n",
      "\n",
      "/opt/anaconda3/lib/python3.7/site-packages/sklearn/linear_model/logistic.py:432: FutureWarning:\n",
      "\n",
      "Default solver will be changed to 'lbfgs' in 0.22. Specify a solver to silence this warning.\n",
      "\n",
      "/opt/anaconda3/lib/python3.7/site-packages/sklearn/linear_model/logistic.py:432: FutureWarning:\n",
      "\n",
      "Default solver will be changed to 'lbfgs' in 0.22. Specify a solver to silence this warning.\n",
      "\n",
      "/opt/anaconda3/lib/python3.7/site-packages/sklearn/linear_model/logistic.py:432: FutureWarning:\n",
      "\n",
      "Default solver will be changed to 'lbfgs' in 0.22. Specify a solver to silence this warning.\n",
      "\n",
      "/opt/anaconda3/lib/python3.7/site-packages/sklearn/linear_model/logistic.py:432: FutureWarning:\n",
      "\n",
      "Default solver will be changed to 'lbfgs' in 0.22. Specify a solver to silence this warning.\n",
      "\n"
     ]
    },
    {
     "name": "stdout",
     "output_type": "stream",
     "text": [
      "Logistic Regression: [0.61249938 0.6182852  0.60830964 0.63585574 0.64069437]\n",
      "Decision Tree: [0.55144895 0.55972866 0.55893062 0.55484611 0.55349928]\n"
     ]
    },
    {
     "name": "stderr",
     "output_type": "stream",
     "text": [
      "/opt/anaconda3/lib/python3.7/site-packages/sklearn/ensemble/forest.py:245: FutureWarning:\n",
      "\n",
      "The default value of n_estimators will change from 10 in version 0.20 to 100 in 0.22.\n",
      "\n",
      "/opt/anaconda3/lib/python3.7/site-packages/sklearn/ensemble/forest.py:245: FutureWarning:\n",
      "\n",
      "The default value of n_estimators will change from 10 in version 0.20 to 100 in 0.22.\n",
      "\n",
      "/opt/anaconda3/lib/python3.7/site-packages/sklearn/ensemble/forest.py:245: FutureWarning:\n",
      "\n",
      "The default value of n_estimators will change from 10 in version 0.20 to 100 in 0.22.\n",
      "\n",
      "/opt/anaconda3/lib/python3.7/site-packages/sklearn/ensemble/forest.py:245: FutureWarning:\n",
      "\n",
      "The default value of n_estimators will change from 10 in version 0.20 to 100 in 0.22.\n",
      "\n",
      "/opt/anaconda3/lib/python3.7/site-packages/sklearn/ensemble/forest.py:245: FutureWarning:\n",
      "\n",
      "The default value of n_estimators will change from 10 in version 0.20 to 100 in 0.22.\n",
      "\n"
     ]
    },
    {
     "name": "stdout",
     "output_type": "stream",
     "text": [
      "Random Forest: [0.5834705  0.5906529  0.58681231 0.60003991 0.59879284]\n",
      "KNN: [0.55573844 0.56381864 0.55653649 0.56282736 0.56611962]\n",
      "XGBoost: [0.62107836 0.62347249 0.61878398 0.64403651 0.64278944]\n"
     ]
    }
   ],
   "source": [
    "# Logistic regression model performance using cross_val_score\n",
    "logreg = LogisticRegression()\n",
    "print('Logistic Regression:', cross_val_score(logreg, features, target,cv=skf,scoring='accuracy'))\n",
    "\n",
    "# Decision Tree model performance using cross_val_score\n",
    "dtree = DecisionTreeClassifier()\n",
    "print('Decision Tree:',cross_val_score(dtree, features, target,cv=skf,scoring='accuracy'))\n",
    "\n",
    "# Random Forest performance using cross_val_score\n",
    "rforest= RandomForestClassifier()\n",
    "print('Random Forest:',cross_val_score(rforest,features, target ,cv=skf, scoring='accuracy'))\n",
    "\n",
    "# KNN using cross_val_score\n",
    "knn= KNeighborsClassifier()\n",
    "print('KNN:',cross_val_score(knn, features, target, cv=skf, scoring='accuracy'))\n",
    "\n",
    "# XGBoost performance using cross_val_score\n",
    "xgb = XGBClassifier()\n",
    "print('XGBoost:',cross_val_score(xgb,features, target,cv=skf, scoring='accuracy'))"
   ]
  },
  {
   "cell_type": "markdown",
   "metadata": {},
   "source": [
    "#### Proceeding with the top 3 algorithms with the best scores"
   ]
  },
  {
   "cell_type": "markdown",
   "metadata": {},
   "source": [
    "### Logistic Regression"
   ]
  },
  {
   "cell_type": "code",
   "execution_count": 58,
   "metadata": {},
   "outputs": [
    {
     "name": "stdout",
     "output_type": "stream",
     "text": [
      "Confusion Matrix: \n",
      " [[8309 2456]\n",
      " [4858 4426]]\n",
      "Classification Report: \n",
      "               precision    recall  f1-score   support\n",
      "\n",
      "           0       0.63      0.77      0.69     10765\n",
      "           1       0.64      0.48      0.55      9284\n",
      "\n",
      "    accuracy                           0.64     20049\n",
      "   macro avg       0.64      0.62      0.62     20049\n",
      "weighted avg       0.64      0.64      0.63     20049\n",
      "\n"
     ]
    }
   ],
   "source": [
    "logreg = LogisticRegression(solver='sag',multi_class='ovr', max_iter=4000)\n",
    "logreg.fit(X_train, y_train)\n",
    "y_pred_logreg=logreg.predict(X_test)\n",
    "print(\"Confusion Matrix: \\n\", confusion_matrix(y_test, y_pred_logreg))\n",
    "print(\"Classification Report: \\n\", classification_report(y_test,y_pred_logreg))"
   ]
  },
  {
   "cell_type": "code",
   "execution_count": 60,
   "metadata": {},
   "outputs": [
    {
     "data": {
      "image/png": "[encoded data removed]",
      "text/plain": [
       "<Figure size 432x288 with 1 Axes>"
      ]
     },
     "metadata": {
      "needs_background": "light"
     },
     "output_type": "display_data"
    }
   ],
   "source": [
    "from sklearn import metrics\n",
    "from sklearn.metrics import roc_auc_score\n",
    "\n",
    "# Receiver Operator Characteristic(ROC) curve plots true positive rate against false positive rate\n",
    "    # AUC score 1 means perfect classifier\n",
    "    # AUC score 0.5 means bad classifier\n",
    "\n",
    "y_pred_proba = logreg.predict_proba(X_test)[:,1]\n",
    "fpr, tpr, _ = metrics.roc_curve(y_test,  y_pred_proba)\n",
    "auc = roc_auc_score(y_test, y_pred_proba)\n",
    "plt.plot(fpr,tpr,label=\"data 1, auc=\"+str(auc))\n",
    "plt.legend(loc=4)\n",
    "plt.show()"
   ]
  },
  {
   "cell_type": "markdown",
   "metadata": {},
   "source": [
    "### Random Forest"
   ]
  },
  {
   "cell_type": "code",
   "execution_count": 61,
   "metadata": {},
   "outputs": [
    {
     "name": "stderr",
     "output_type": "stream",
     "text": [
      "/opt/anaconda3/lib/python3.7/site-packages/sklearn/ensemble/forest.py:245: FutureWarning:\n",
      "\n",
      "The default value of n_estimators will change from 10 in version 0.20 to 100 in 0.22.\n",
      "\n"
     ]
    },
    {
     "name": "stdout",
     "output_type": "stream",
     "text": [
      "Confusion matrix:\n",
      " [[7941 2824]\n",
      " [5104 4180]]\n",
      "Classification report: \n",
      "               precision    recall  f1-score   support\n",
      "\n",
      "           0       0.61      0.74      0.67     10765\n",
      "           1       0.60      0.45      0.51      9284\n",
      "\n",
      "    accuracy                           0.60     20049\n",
      "   macro avg       0.60      0.59      0.59     20049\n",
      "weighted avg       0.60      0.60      0.60     20049\n",
      "\n"
     ]
    }
   ],
   "source": [
    "rf = RandomForestClassifier()\n",
    "rf.fit(X_train, y_train)\n",
    "rf_pred = rf.predict(X_test)\n",
    "\n",
    "cm = confusion_matrix(y_test, rf_pred)\n",
    "print('Confusion matrix:\\n',cm)\n",
    "print('Classification report: \\n',classification_report(y_test,rf_pred))"
   ]
  },
  {
   "cell_type": "code",
   "execution_count": 62,
   "metadata": {},
   "outputs": [
    {
     "name": "stdout",
     "output_type": "stream",
     "text": [
      "0.6415916049927227\n"
     ]
    }
   ],
   "source": [
    "# predicting probabilities to calculate ROC AUC\n",
    "rf_prob=rf.predict_proba(X_test)[:, 1]\n",
    "\n",
    "# calculate ROC AUC using test prediction\n",
    "roc_value = roc_auc_score(y_test, rf_prob)\n",
    "print(roc_value)"
   ]
  },
  {
   "cell_type": "markdown",
   "metadata": {},
   "source": [
    "### XGBoost"
   ]
  },
  {
   "cell_type": "code",
   "execution_count": null,
   "metadata": {},
   "outputs": [],
   "source": [
    "pd.set_option('display.max_rows', None, 'display.max_columns', None)"
   ]
  },
  {
   "cell_type": "code",
   "execution_count": 64,
   "metadata": {},
   "outputs": [
    {
     "name": "stdout",
     "output_type": "stream",
     "text": [
      "Confusion Matrix: \n",
      " [[8170 2595]\n",
      " [4648 4636]]\n",
      "Classification Report: \n",
      "               precision    recall  f1-score   support\n",
      "\n",
      "           0       0.64      0.76      0.69     10765\n",
      "           1       0.64      0.50      0.56      9284\n",
      "\n",
      "    accuracy                           0.64     20049\n",
      "   macro avg       0.64      0.63      0.63     20049\n",
      "weighted avg       0.64      0.64      0.63     20049\n",
      "\n",
      "roc auc score: 0.6291473696912597\n"
     ]
    }
   ],
   "source": [
    "from xgboost import plot_importance\n",
    "\n",
    "xg = XGBClassifier()\n",
    "xg.fit(X_train, y_train)\n",
    "xg_pred = xg.predict(X_test)\n",
    "\n",
    "print(\"Confusion Matrix: \\n\", confusion_matrix(y_test, xg_pred))\n",
    "print(\"Classification Report: \\n\", classification_report(y_test,xg_pred))\n",
    "print (\"roc auc score:\",roc_auc_score(y_test, xg_pred))"
   ]
  },
  {
   "cell_type": "code",
   "execution_count": 65,
   "metadata": {
    "scrolled": true
   },
   "outputs": [
    {
     "name": "stdout",
     "output_type": "stream",
     "text": [
      "n=14, Accuracy: 0.6250873704476965\n"
     ]
    }
   ],
   "source": [
    "from sklearn.feature_selection import SelectFromModel\n",
    "\n",
    "thresh=0.0185\n",
    "\n",
    "# select features using threshold\n",
    "selection = SelectFromModel(xg, threshold=thresh, prefit=True)\n",
    "select_X_train = selection.transform(X_train)\n",
    "# train model\n",
    "selection_model = XGBClassifier()\n",
    "selection_model.fit(select_X_train, y_train)\n",
    "# eval model\n",
    "select_X_test = selection.transform(X_test)\n",
    "y_pred_select_xg = selection_model.predict(select_X_test)\n",
    "predictions_xg = [round(value) for value in y_pred_select_xg]\n",
    "accuracy2 = roc_auc_score(y_test, predictions_xg)\n",
    "print(\"n=%d, Accuracy:\" % (select_X_train.shape[1]), accuracy2)"
   ]
  },
  {
   "cell_type": "code",
   "execution_count": 66,
   "metadata": {},
   "outputs": [
    {
     "name": "stdout",
     "output_type": "stream",
     "text": [
      "n=15, Accuracy: 0.6257820815739008\n"
     ]
    }
   ],
   "source": [
    "thresh=0.018\n",
    "\n",
    "# select features using threshold\n",
    "selection = SelectFromModel(xg, threshold=thresh, prefit=True)\n",
    "select_X_train = selection.transform(X_train)\n",
    "# train model\n",
    "selection_model.fit(select_X_train, y_train)\n",
    "# eval model\n",
    "select_X_test = selection.transform(X_test)\n",
    "y_pred_select_xg = selection_model.predict(select_X_test)\n",
    "predictions_xg = [round(value) for value in y_pred_select_xg]\n",
    "accuracy3 = roc_auc_score(y_test, predictions_xg)\n",
    "print(\"n=%d, Accuracy:\" % (select_X_train.shape[1]), accuracy3)"
   ]
  },
  {
   "cell_type": "code",
   "execution_count": 67,
   "metadata": {},
   "outputs": [
    {
     "name": "stdout",
     "output_type": "stream",
     "text": [
      "n=15, Accuracy: 0.6257820815739008\n"
     ]
    }
   ],
   "source": [
    "thresh=0.017\n",
    "\n",
    "# select features using threshold\n",
    "selection = SelectFromModel(xg, threshold=thresh, prefit=True)\n",
    "select_X_train = selection.transform(X_train)\n",
    "# train model\n",
    "selection_model.fit(select_X_train, y_train)\n",
    "# eval model\n",
    "select_X_test = selection.transform(X_test)\n",
    "y_pred_select_xg = selection_model.predict(select_X_test)\n",
    "predictions_xg = [round(value) for value in y_pred_select_xg]\n",
    "accuracy4 = roc_auc_score(y_test, predictions_xg)\n",
    "print(\"n=%d, Accuracy:\" % (select_X_train.shape[1]), accuracy4)"
   ]
  },
  {
   "cell_type": "code",
   "execution_count": 68,
   "metadata": {},
   "outputs": [
    {
     "name": "stdout",
     "output_type": "stream",
     "text": [
      "n=15, Accuracy: 0.6257820815739008\n"
     ]
    }
   ],
   "source": [
    "thresh=0.016\n",
    "\n",
    "# select features using threshold\n",
    "selection = SelectFromModel(xg, threshold=thresh, prefit=True)\n",
    "select_X_train = selection.transform(X_train)\n",
    "# train model\n",
    "selection_model.fit(select_X_train, y_train)\n",
    "# eval model\n",
    "select_X_test = selection.transform(X_test)\n",
    "y_pred_select_xg = selection_model.predict(select_X_test)\n",
    "predictions_xg = [round(value) for value in y_pred_select_xg]\n",
    "accuracy5 = roc_auc_score(y_test, predictions_xg)\n",
    "print(\"n=%d, Accuracy:\" % (select_X_train.shape[1]), accuracy5)"
   ]
  },
  {
   "cell_type": "code",
   "execution_count": 69,
   "metadata": {},
   "outputs": [
    {
     "name": "stdout",
     "output_type": "stream",
     "text": [
      "n=18, Accuracy: 0.6251358084157793\n"
     ]
    }
   ],
   "source": [
    "thresh=0.015\n",
    "\n",
    "# select features using threshold\n",
    "selection = SelectFromModel(xg, threshold=thresh, prefit=True)\n",
    "select_X_train = selection.transform(X_train)\n",
    "# train model\n",
    "selection_model.fit(select_X_train, y_train)\n",
    "# eval model\n",
    "select_X_test = selection.transform(X_test)\n",
    "y_pred_select_xg = selection_model.predict(select_X_test)\n",
    "predictions_xg = [round(value) for value in y_pred_select_xg]\n",
    "accuracy6 = roc_auc_score(y_test, predictions_xg)\n",
    "print(\"n=%d, Accuracy:\" % (select_X_train.shape[1]), accuracy6)"
   ]
  },
  {
   "cell_type": "code",
   "execution_count": 70,
   "metadata": {},
   "outputs": [
    {
     "name": "stdout",
     "output_type": "stream",
     "text": [
      "n=27, Accuracy: 0.6268928229159516\n"
     ]
    }
   ],
   "source": [
    "thresh=0.01\n",
    "\n",
    "# select features using threshold\n",
    "selection = SelectFromModel(xg, threshold=thresh, prefit=True)\n",
    "select_X_train = selection.transform(X_train)\n",
    "# train model\n",
    "selection_model.fit(select_X_train, y_train)\n",
    "# eval model\n",
    "select_X_test = selection.transform(X_test)\n",
    "y_pred_select_xg = selection_model.predict(select_X_test)\n",
    "predictions_xg = [round(value) for value in y_pred_select_xg]\n",
    "accuracy7 = roc_auc_score(y_test, predictions_xg)\n",
    "print(\"n=%d, Accuracy:\" % (select_X_train.shape[1]), accuracy7)"
   ]
  },
  {
   "cell_type": "code",
   "execution_count": 71,
   "metadata": {},
   "outputs": [
    {
     "name": "stdout",
     "output_type": "stream",
     "text": [
      "n=61, Accuracy: 0.6291473696912597\n"
     ]
    }
   ],
   "source": [
    "thresh=0.0001\n",
    "\n",
    "# select features using threshold\n",
    "selection = SelectFromModel(xg, threshold=thresh, prefit=True)\n",
    "select_X_train = selection.transform(X_train)\n",
    "# train model\n",
    "selection_model.fit(select_X_train, y_train)\n",
    "# eval model\n",
    "select_X_test = selection.transform(X_test)\n",
    "y_pred_select_xg = selection_model.predict(select_X_test)\n",
    "predictions_xg = [round(value) for value in y_pred_select_xg]\n",
    "accuracy8 = roc_auc_score(y_test, predictions_xg)\n",
    "print(\"n=%d, Accuracy:\" % (select_X_train.shape[1]), accuracy8)"
   ]
  },
  {
   "cell_type": "markdown",
   "metadata": {},
   "source": [
    "### Grid Search"
   ]
  },
  {
   "cell_type": "code",
   "execution_count": 73,
   "metadata": {},
   "outputs": [
    {
     "data": {
      "text/plain": [
       "({'max_depth': 7, 'min_child_weight': 5}, 0.6953581260806709)"
      ]
     },
     "execution_count": 73,
     "metadata": {},
     "output_type": "execute_result"
    }
   ],
   "source": [
    "# tuning max_depth and min_child_weight\n",
    "from sklearn.model_selection import GridSearchCV\n",
    "param_test1 = {\n",
    " 'max_depth':range(3,10,2),\n",
    " 'min_child_weight':range(1,6,2)\n",
    "}\n",
    "gsearch1 = GridSearchCV(estimator = XGBClassifier( n_estimators=150, objective= 'binary:logistic'), \n",
    "                        param_grid = param_test1, scoring='roc_auc', cv=skf )\n",
    "gsearch1.fit(X_train, y_train)\n",
    "gsearch1.best_params_, gsearch1.best_score_"
   ]
  },
  {
   "cell_type": "code",
   "execution_count": 74,
   "metadata": {},
   "outputs": [
    {
     "data": {
      "text/plain": [
       "({'gamma': 0.0}, 0.6953581260806709)"
      ]
     },
     "execution_count": 74,
     "metadata": {},
     "output_type": "execute_result"
    }
   ],
   "source": [
    "# tuning gamma using best max_depth, min_child_weight, and n_estimators\n",
    "param_test2 = {\n",
    " 'gamma':[i/10.0 for i in range(0,3)]\n",
    "}\n",
    "gsearch2 = GridSearchCV(estimator = XGBClassifier( n_estimators=150, max_depth=7, min_child_weight=5, \n",
    "                objective= 'binary:logistic'), param_grid = param_test2, scoring='roc_auc', cv=skf)\n",
    "gsearch2.fit(X_train, y_train)\n",
    "gsearch2.best_params_, gsearch2.best_score_"
   ]
  },
  {
   "cell_type": "code",
   "execution_count": 75,
   "metadata": {},
   "outputs": [
    {
     "data": {
      "text/plain": [
       "({'colsample_bytree': 0.6, 'subsample': 0.9}, 0.6968376552868627)"
      ]
     },
     "execution_count": 75,
     "metadata": {},
     "output_type": "execute_result"
    }
   ],
   "source": [
    "# tuning subsample and colsample_bytree \n",
    "param_test3 = {\n",
    " 'subsample':[i/10.0 for i in range(6,10)],\n",
    " 'colsample_bytree':[i/10.0 for i in range(6,10)]\n",
    "}\n",
    "gsearch3 = GridSearchCV(estimator = XGBClassifier( n_estimators=150, max_depth=7, \n",
    "                min_child_weight=5, gamma=0, objective= 'binary:logistic'),param_grid = param_test3, \n",
    "                        scoring='roc_auc', cv=skf)\n",
    "gsearch3.fit(X_train, y_train)\n",
    "gsearch3.best_params_, gsearch3.best_score_"
   ]
  },
  {
   "cell_type": "code",
   "execution_count": 76,
   "metadata": {},
   "outputs": [
    {
     "data": {
      "text/plain": [
       "({'learning_rate': 0.1}, 0.6968376552868627)"
      ]
     },
     "execution_count": 76,
     "metadata": {},
     "output_type": "execute_result"
    }
   ],
   "source": [
    "# tuning learning rate\n",
    "param_test4 = { \n",
    "    'learning_rate':[0.05,0.1]\n",
    "}\n",
    "gsearch4 = GridSearchCV(estimator = XGBClassifier( n_estimators=150, max_depth=7, \n",
    "                min_child_weight=5, gamma=0, subsample=0.9, colsample_bytree=0.6,\n",
    "                objective= 'binary:logistic'),param_grid = param_test4, scoring='roc_auc',cv=skf)\n",
    "gsearch4.fit(X_train, y_train)\n",
    "gsearch4.best_params_, gsearch4.best_score_"
   ]
  },
  {
   "cell_type": "code",
   "execution_count": 77,
   "metadata": {},
   "outputs": [
    {
     "data": {
      "text/plain": [
       "0.6348206004146795"
      ]
     },
     "execution_count": 77,
     "metadata": {},
     "output_type": "execute_result"
    }
   ],
   "source": [
    "# testing n_estimators=100 vs n_estimators=150\n",
    "xg2 = XGBClassifier(objective=\"binary:logistic\", learning_rate=0.1, n_estimators=100, max_depth=7,\n",
    "                min_child_weight=5, gamma=0, subsample=0.9, colsample_bytree=0.6, cv=skf)\n",
    "xg2.fit(X_train, y_train)\n",
    "y_pred_xg2 = xg2.predict(X_test)\n",
    "roc_auc_score(y_test, y_pred_xg2)"
   ]
  },
  {
   "cell_type": "code",
   "execution_count": 78,
   "metadata": {},
   "outputs": [
    {
     "data": {
      "text/plain": [
       "0.6397474851979534"
      ]
     },
     "execution_count": 78,
     "metadata": {},
     "output_type": "execute_result"
    }
   ],
   "source": [
    "xg3 = XGBClassifier(objective=\"binary:logistic\", learning_rate=0.1, n_estimators=150, max_depth=7,\n",
    "                min_child_weight=5, gamma=0, subsample=0.9, colsample_bytree=0.6, cv=skf)\n",
    "xg3.fit(X_train, y_train)\n",
    "y_pred_xg3 = xg3.predict(X_test)\n",
    "roc_auc_score(y_test, y_pred_xg3)"
   ]
  },
  {
   "cell_type": "code",
   "execution_count": 79,
   "metadata": {
    "scrolled": true
   },
   "outputs": [
    {
     "data": {
      "image/png": "[encoded data removed]",
      "text/plain": [
       "<Figure size 720x936 with 1 Axes>"
      ]
     },
     "metadata": {
      "needs_background": "light"
     },
     "output_type": "display_data"
    }
   ],
   "source": [
    "#using xg3 which has all the best parameters\n",
    "\n",
    "ax = plot_importance(xg3, max_num_features=15)\n",
    "ax.figure.set_size_inches(10,13)"
   ]
  },
  {
   "cell_type": "code",
   "execution_count": 81,
   "metadata": {},
   "outputs": [
    {
     "data": {
      "text/plain": [
       "'num_lab_procedures'"
      ]
     },
     "execution_count": 81,
     "metadata": {},
     "output_type": "execute_result"
    }
   ],
   "source": [
    "# checking feature number with its column name\n",
    "data.columns[2]"
   ]
  },
  {
   "cell_type": "code",
   "execution_count": 82,
   "metadata": {},
   "outputs": [
    {
     "name": "stdout",
     "output_type": "stream",
     "text": [
      "135\n"
     ]
    }
   ],
   "source": [
    "feature_columns = data.drop('readmitted', axis=1)\n",
    "print(len(feature_columns.columns))"
   ]
  },
  {
   "cell_type": "code",
   "execution_count": 83,
   "metadata": {},
   "outputs": [],
   "source": [
    "feature_columns = list(feature_columns)"
   ]
  },
  {
   "cell_type": "code",
   "execution_count": 84,
   "metadata": {},
   "outputs": [],
   "source": [
    "x_test = pd.DataFrame(X_test, columns = feature_columns)"
   ]
  },
  {
   "cell_type": "code",
   "execution_count": 85,
   "metadata": {},
   "outputs": [
    {
     "data": {
      "text/plain": [
       "Index(['age', 'time_in_hospital', 'num_lab_procedures', 'num_procedures',\n",
       "       'num_medications', 'number_outpatient', 'number_emergency',\n",
       "       'number_inpatient', 'number_diagnoses', 'metformin',\n",
       "       ...\n",
       "       'discharge_23', 'discharge_24', 'discharge_25', 'discharge_27',\n",
       "       'discharge_28', 'N/A', 'type1', 'type2', 'db_related_No',\n",
       "       'db_related_Yes'],\n",
       "      dtype='object', length=135)"
      ]
     },
     "execution_count": 85,
     "metadata": {},
     "output_type": "execute_result"
    }
   ],
   "source": [
    "x_test.columns"
   ]
  },
  {
   "cell_type": "code",
   "execution_count": 87,
   "metadata": {
    "scrolled": true
   },
   "outputs": [],
   "source": [
    "# compare y_test and xgboost y_pred with X_test\n",
    "y_predict = np.array(y_pred_xg3)\n",
    "y_test = np.array(y_test)\n",
    "df2 = pd.DataFrame({'y_predict': y_pred_xg3,'y_test': y_test}, columns= ['y_predict', 'y_test'])\n",
    "final = pd.concat([df2, x_test], axis=1)"
   ]
  },
  {
   "cell_type": "code",
   "execution_count": 91,
   "metadata": {
    "scrolled": true
   },
   "outputs": [],
   "source": [
    "def prediction(row):\n",
    "    return y_predict == y_test\n",
    "\n",
    "final['correct_prediction'] = final.apply(lambda row: prediction(row), axis=0)"
   ]
  },
  {
   "cell_type": "code",
   "execution_count": 92,
   "metadata": {},
   "outputs": [
    {
     "data": {
      "text/html": [
       "<div>\n",
       "<style scoped>\n",
       "    .dataframe tbody tr th:only-of-type {\n",
       "        vertical-align: middle;\n",
       "    }\n",
       "\n",
       "    .dataframe tbody tr th {\n",
       "        vertical-align: top;\n",
       "    }\n",
       "\n",
       "    .dataframe thead th {\n",
       "        text-align: right;\n",
       "    }\n",
       "</style>\n",
       "<table border=\"1\" class=\"dataframe\">\n",
       "  <thead>\n",
       "    <tr style=\"text-align: right;\">\n",
       "      <th></th>\n",
       "      <th>y_predict</th>\n",
       "      <th>y_test</th>\n",
       "      <th>age</th>\n",
       "      <th>time_in_hospital</th>\n",
       "      <th>num_lab_procedures</th>\n",
       "      <th>num_procedures</th>\n",
       "      <th>num_medications</th>\n",
       "      <th>number_outpatient</th>\n",
       "      <th>number_emergency</th>\n",
       "      <th>number_inpatient</th>\n",
       "      <th>...</th>\n",
       "      <th>discharge_24</th>\n",
       "      <th>discharge_25</th>\n",
       "      <th>discharge_27</th>\n",
       "      <th>discharge_28</th>\n",
       "      <th>N/A</th>\n",
       "      <th>type1</th>\n",
       "      <th>type2</th>\n",
       "      <th>db_related_No</th>\n",
       "      <th>db_related_Yes</th>\n",
       "      <th>correct_prediction</th>\n",
       "    </tr>\n",
       "  </thead>\n",
       "  <tbody>\n",
       "    <tr>\n",
       "      <td>0</td>\n",
       "      <td>0</td>\n",
       "      <td>0</td>\n",
       "      <td>8</td>\n",
       "      <td>1</td>\n",
       "      <td>42</td>\n",
       "      <td>0</td>\n",
       "      <td>7</td>\n",
       "      <td>1</td>\n",
       "      <td>0</td>\n",
       "      <td>0</td>\n",
       "      <td>...</td>\n",
       "      <td>0</td>\n",
       "      <td>0</td>\n",
       "      <td>0</td>\n",
       "      <td>0</td>\n",
       "      <td>1</td>\n",
       "      <td>0</td>\n",
       "      <td>0</td>\n",
       "      <td>1</td>\n",
       "      <td>0</td>\n",
       "      <td>True</td>\n",
       "    </tr>\n",
       "    <tr>\n",
       "      <td>1</td>\n",
       "      <td>0</td>\n",
       "      <td>0</td>\n",
       "      <td>7</td>\n",
       "      <td>2</td>\n",
       "      <td>38</td>\n",
       "      <td>2</td>\n",
       "      <td>16</td>\n",
       "      <td>0</td>\n",
       "      <td>0</td>\n",
       "      <td>0</td>\n",
       "      <td>...</td>\n",
       "      <td>0</td>\n",
       "      <td>0</td>\n",
       "      <td>0</td>\n",
       "      <td>0</td>\n",
       "      <td>1</td>\n",
       "      <td>0</td>\n",
       "      <td>0</td>\n",
       "      <td>0</td>\n",
       "      <td>1</td>\n",
       "      <td>True</td>\n",
       "    </tr>\n",
       "    <tr>\n",
       "      <td>2</td>\n",
       "      <td>1</td>\n",
       "      <td>0</td>\n",
       "      <td>7</td>\n",
       "      <td>1</td>\n",
       "      <td>20</td>\n",
       "      <td>2</td>\n",
       "      <td>22</td>\n",
       "      <td>0</td>\n",
       "      <td>1</td>\n",
       "      <td>3</td>\n",
       "      <td>...</td>\n",
       "      <td>0</td>\n",
       "      <td>0</td>\n",
       "      <td>0</td>\n",
       "      <td>0</td>\n",
       "      <td>0</td>\n",
       "      <td>0</td>\n",
       "      <td>1</td>\n",
       "      <td>1</td>\n",
       "      <td>0</td>\n",
       "      <td>False</td>\n",
       "    </tr>\n",
       "    <tr>\n",
       "      <td>3</td>\n",
       "      <td>0</td>\n",
       "      <td>1</td>\n",
       "      <td>6</td>\n",
       "      <td>1</td>\n",
       "      <td>41</td>\n",
       "      <td>2</td>\n",
       "      <td>9</td>\n",
       "      <td>0</td>\n",
       "      <td>0</td>\n",
       "      <td>1</td>\n",
       "      <td>...</td>\n",
       "      <td>0</td>\n",
       "      <td>0</td>\n",
       "      <td>0</td>\n",
       "      <td>0</td>\n",
       "      <td>1</td>\n",
       "      <td>0</td>\n",
       "      <td>0</td>\n",
       "      <td>0</td>\n",
       "      <td>1</td>\n",
       "      <td>False</td>\n",
       "    </tr>\n",
       "    <tr>\n",
       "      <td>4</td>\n",
       "      <td>0</td>\n",
       "      <td>0</td>\n",
       "      <td>7</td>\n",
       "      <td>5</td>\n",
       "      <td>41</td>\n",
       "      <td>3</td>\n",
       "      <td>5</td>\n",
       "      <td>0</td>\n",
       "      <td>0</td>\n",
       "      <td>0</td>\n",
       "      <td>...</td>\n",
       "      <td>0</td>\n",
       "      <td>0</td>\n",
       "      <td>0</td>\n",
       "      <td>0</td>\n",
       "      <td>1</td>\n",
       "      <td>0</td>\n",
       "      <td>0</td>\n",
       "      <td>1</td>\n",
       "      <td>0</td>\n",
       "      <td>True</td>\n",
       "    </tr>\n",
       "    <tr>\n",
       "      <td>...</td>\n",
       "      <td>...</td>\n",
       "      <td>...</td>\n",
       "      <td>...</td>\n",
       "      <td>...</td>\n",
       "      <td>...</td>\n",
       "      <td>...</td>\n",
       "      <td>...</td>\n",
       "      <td>...</td>\n",
       "      <td>...</td>\n",
       "      <td>...</td>\n",
       "      <td>...</td>\n",
       "      <td>...</td>\n",
       "      <td>...</td>\n",
       "      <td>...</td>\n",
       "      <td>...</td>\n",
       "      <td>...</td>\n",
       "      <td>...</td>\n",
       "      <td>...</td>\n",
       "      <td>...</td>\n",
       "      <td>...</td>\n",
       "      <td>...</td>\n",
       "    </tr>\n",
       "    <tr>\n",
       "      <td>20044</td>\n",
       "      <td>0</td>\n",
       "      <td>1</td>\n",
       "      <td>6</td>\n",
       "      <td>7</td>\n",
       "      <td>75</td>\n",
       "      <td>6</td>\n",
       "      <td>32</td>\n",
       "      <td>0</td>\n",
       "      <td>0</td>\n",
       "      <td>0</td>\n",
       "      <td>...</td>\n",
       "      <td>0</td>\n",
       "      <td>0</td>\n",
       "      <td>0</td>\n",
       "      <td>0</td>\n",
       "      <td>0</td>\n",
       "      <td>1</td>\n",
       "      <td>0</td>\n",
       "      <td>0</td>\n",
       "      <td>1</td>\n",
       "      <td>False</td>\n",
       "    </tr>\n",
       "    <tr>\n",
       "      <td>20045</td>\n",
       "      <td>0</td>\n",
       "      <td>0</td>\n",
       "      <td>1</td>\n",
       "      <td>2</td>\n",
       "      <td>10</td>\n",
       "      <td>0</td>\n",
       "      <td>1</td>\n",
       "      <td>0</td>\n",
       "      <td>0</td>\n",
       "      <td>0</td>\n",
       "      <td>...</td>\n",
       "      <td>0</td>\n",
       "      <td>0</td>\n",
       "      <td>0</td>\n",
       "      <td>0</td>\n",
       "      <td>1</td>\n",
       "      <td>0</td>\n",
       "      <td>0</td>\n",
       "      <td>0</td>\n",
       "      <td>1</td>\n",
       "      <td>True</td>\n",
       "    </tr>\n",
       "    <tr>\n",
       "      <td>20046</td>\n",
       "      <td>0</td>\n",
       "      <td>1</td>\n",
       "      <td>4</td>\n",
       "      <td>4</td>\n",
       "      <td>50</td>\n",
       "      <td>0</td>\n",
       "      <td>7</td>\n",
       "      <td>0</td>\n",
       "      <td>0</td>\n",
       "      <td>0</td>\n",
       "      <td>...</td>\n",
       "      <td>0</td>\n",
       "      <td>0</td>\n",
       "      <td>0</td>\n",
       "      <td>0</td>\n",
       "      <td>1</td>\n",
       "      <td>0</td>\n",
       "      <td>0</td>\n",
       "      <td>0</td>\n",
       "      <td>1</td>\n",
       "      <td>False</td>\n",
       "    </tr>\n",
       "    <tr>\n",
       "      <td>20047</td>\n",
       "      <td>0</td>\n",
       "      <td>1</td>\n",
       "      <td>1</td>\n",
       "      <td>2</td>\n",
       "      <td>36</td>\n",
       "      <td>0</td>\n",
       "      <td>5</td>\n",
       "      <td>0</td>\n",
       "      <td>0</td>\n",
       "      <td>0</td>\n",
       "      <td>...</td>\n",
       "      <td>0</td>\n",
       "      <td>0</td>\n",
       "      <td>0</td>\n",
       "      <td>0</td>\n",
       "      <td>1</td>\n",
       "      <td>0</td>\n",
       "      <td>0</td>\n",
       "      <td>0</td>\n",
       "      <td>1</td>\n",
       "      <td>False</td>\n",
       "    </tr>\n",
       "    <tr>\n",
       "      <td>20048</td>\n",
       "      <td>0</td>\n",
       "      <td>0</td>\n",
       "      <td>5</td>\n",
       "      <td>10</td>\n",
       "      <td>59</td>\n",
       "      <td>0</td>\n",
       "      <td>24</td>\n",
       "      <td>0</td>\n",
       "      <td>0</td>\n",
       "      <td>0</td>\n",
       "      <td>...</td>\n",
       "      <td>0</td>\n",
       "      <td>0</td>\n",
       "      <td>0</td>\n",
       "      <td>0</td>\n",
       "      <td>0</td>\n",
       "      <td>0</td>\n",
       "      <td>1</td>\n",
       "      <td>0</td>\n",
       "      <td>1</td>\n",
       "      <td>True</td>\n",
       "    </tr>\n",
       "  </tbody>\n",
       "</table>\n",
       "<p>20049 rows × 138 columns</p>\n",
       "</div>"
      ],
      "text/plain": [
       "       y_predict  y_test  age  time_in_hospital  num_lab_procedures  \\\n",
       "0              0       0    8                 1                  42   \n",
       "1              0       0    7                 2                  38   \n",
       "2              1       0    7                 1                  20   \n",
       "3              0       1    6                 1                  41   \n",
       "4              0       0    7                 5                  41   \n",
       "...          ...     ...  ...               ...                 ...   \n",
       "20044          0       1    6                 7                  75   \n",
       "20045          0       0    1                 2                  10   \n",
       "20046          0       1    4                 4                  50   \n",
       "20047          0       1    1                 2                  36   \n",
       "20048          0       0    5                10                  59   \n",
       "\n",
       "       num_procedures  num_medications  number_outpatient  number_emergency  \\\n",
       "0                   0                7                  1                 0   \n",
       "1                   2               16                  0                 0   \n",
       "2                   2               22                  0                 1   \n",
       "3                   2                9                  0                 0   \n",
       "4                   3                5                  0                 0   \n",
       "...               ...              ...                ...               ...   \n",
       "20044               6               32                  0                 0   \n",
       "20045               0                1                  0                 0   \n",
       "20046               0                7                  0                 0   \n",
       "20047               0                5                  0                 0   \n",
       "20048               0               24                  0                 0   \n",
       "\n",
       "       number_inpatient  ...  discharge_24  discharge_25  discharge_27  \\\n",
       "0                     0  ...             0             0             0   \n",
       "1                     0  ...             0             0             0   \n",
       "2                     3  ...             0             0             0   \n",
       "3                     1  ...             0             0             0   \n",
       "4                     0  ...             0             0             0   \n",
       "...                 ...  ...           ...           ...           ...   \n",
       "20044                 0  ...             0             0             0   \n",
       "20045                 0  ...             0             0             0   \n",
       "20046                 0  ...             0             0             0   \n",
       "20047                 0  ...             0             0             0   \n",
       "20048                 0  ...             0             0             0   \n",
       "\n",
       "       discharge_28  N/A  type1  type2  db_related_No  db_related_Yes  \\\n",
       "0                 0    1      0      0              1               0   \n",
       "1                 0    1      0      0              0               1   \n",
       "2                 0    0      0      1              1               0   \n",
       "3                 0    1      0      0              0               1   \n",
       "4                 0    1      0      0              1               0   \n",
       "...             ...  ...    ...    ...            ...             ...   \n",
       "20044             0    0      1      0              0               1   \n",
       "20045             0    1      0      0              0               1   \n",
       "20046             0    1      0      0              0               1   \n",
       "20047             0    1      0      0              0               1   \n",
       "20048             0    0      0      1              0               1   \n",
       "\n",
       "       correct_prediction  \n",
       "0                    True  \n",
       "1                    True  \n",
       "2                   False  \n",
       "3                   False  \n",
       "4                    True  \n",
       "...                   ...  \n",
       "20044               False  \n",
       "20045                True  \n",
       "20046               False  \n",
       "20047               False  \n",
       "20048                True  \n",
       "\n",
       "[20049 rows x 138 columns]"
      ]
     },
     "execution_count": 92,
     "metadata": {},
     "output_type": "execute_result"
    }
   ],
   "source": [
    "final"
   ]
  },
  {
   "cell_type": "code",
   "execution_count": 93,
   "metadata": {
    "scrolled": true
   },
   "outputs": [
    {
     "data": {
      "image/png": "[encoded data removed]",
      "text/plain": [
       "<Figure size 432x288 with 1 Axes>"
      ]
     },
     "metadata": {
      "needs_background": "light"
     },
     "output_type": "display_data"
    }
   ],
   "source": [
    "ax = sns.countplot(x=\"correct_prediction\", data=final)"
   ]
  },
  {
   "cell_type": "code",
   "execution_count": 94,
   "metadata": {},
   "outputs": [],
   "source": [
    "true_predictions = final.loc[final.correct_prediction == True]\n",
    "false_predictions = final.loc[final.correct_prediction == False]"
   ]
  },
  {
   "cell_type": "code",
   "execution_count": null,
   "metadata": {},
   "outputs": [],
   "source": [
    "## checking both true and false predictions .describe() to see if there are any significant differences in mean"
   ]
  },
  {
   "cell_type": "code",
   "execution_count": 95,
   "metadata": {},
   "outputs": [
    {
     "data": {
      "text/html": [
       "<div>\n",
       "<style scoped>\n",
       "    .dataframe tbody tr th:only-of-type {\n",
       "        vertical-align: middle;\n",
       "    }\n",
       "\n",
       "    .dataframe tbody tr th {\n",
       "        vertical-align: top;\n",
       "    }\n",
       "\n",
       "    .dataframe thead th {\n",
       "        text-align: right;\n",
       "    }\n",
       "</style>\n",
       "<table border=\"1\" class=\"dataframe\">\n",
       "  <thead>\n",
       "    <tr style=\"text-align: right;\">\n",
       "      <th></th>\n",
       "      <th>y_predict</th>\n",
       "      <th>y_test</th>\n",
       "      <th>age</th>\n",
       "      <th>time_in_hospital</th>\n",
       "      <th>num_lab_procedures</th>\n",
       "      <th>num_procedures</th>\n",
       "      <th>num_medications</th>\n",
       "      <th>number_outpatient</th>\n",
       "      <th>number_emergency</th>\n",
       "      <th>number_inpatient</th>\n",
       "      <th>...</th>\n",
       "      <th>discharge_23</th>\n",
       "      <th>discharge_24</th>\n",
       "      <th>discharge_25</th>\n",
       "      <th>discharge_27</th>\n",
       "      <th>discharge_28</th>\n",
       "      <th>N/A</th>\n",
       "      <th>type1</th>\n",
       "      <th>type2</th>\n",
       "      <th>db_related_No</th>\n",
       "      <th>db_related_Yes</th>\n",
       "    </tr>\n",
       "  </thead>\n",
       "  <tbody>\n",
       "    <tr>\n",
       "      <td>count</td>\n",
       "      <td>12961.000000</td>\n",
       "      <td>12961.000000</td>\n",
       "      <td>12961.000000</td>\n",
       "      <td>12961.000000</td>\n",
       "      <td>12961.000000</td>\n",
       "      <td>12961.000000</td>\n",
       "      <td>12961.000000</td>\n",
       "      <td>12961.000000</td>\n",
       "      <td>12961.000000</td>\n",
       "      <td>12961.000000</td>\n",
       "      <td>...</td>\n",
       "      <td>12961.000000</td>\n",
       "      <td>12961.000000</td>\n",
       "      <td>12961.000000</td>\n",
       "      <td>12961.000000</td>\n",
       "      <td>12961.000000</td>\n",
       "      <td>12961.000000</td>\n",
       "      <td>12961.000000</td>\n",
       "      <td>12961.000000</td>\n",
       "      <td>12961.000000</td>\n",
       "      <td>12961.000000</td>\n",
       "    </tr>\n",
       "    <tr>\n",
       "      <td>mean</td>\n",
       "      <td>0.393102</td>\n",
       "      <td>0.393102</td>\n",
       "      <td>7.072139</td>\n",
       "      <td>4.366330</td>\n",
       "      <td>43.098449</td>\n",
       "      <td>1.369030</td>\n",
       "      <td>16.182008</td>\n",
       "      <td>0.385387</td>\n",
       "      <td>0.227143</td>\n",
       "      <td>0.713834</td>\n",
       "      <td>...</td>\n",
       "      <td>0.004012</td>\n",
       "      <td>0.000386</td>\n",
       "      <td>0.009953</td>\n",
       "      <td>0.000154</td>\n",
       "      <td>0.001003</td>\n",
       "      <td>0.242342</td>\n",
       "      <td>0.303140</td>\n",
       "      <td>0.454517</td>\n",
       "      <td>0.444719</td>\n",
       "      <td>0.555281</td>\n",
       "    </tr>\n",
       "    <tr>\n",
       "      <td>std</td>\n",
       "      <td>0.488458</td>\n",
       "      <td>0.488458</td>\n",
       "      <td>1.567847</td>\n",
       "      <td>2.967034</td>\n",
       "      <td>19.836178</td>\n",
       "      <td>1.709494</td>\n",
       "      <td>8.234542</td>\n",
       "      <td>1.322467</td>\n",
       "      <td>1.197583</td>\n",
       "      <td>1.381190</td>\n",
       "      <td>...</td>\n",
       "      <td>0.063216</td>\n",
       "      <td>0.019638</td>\n",
       "      <td>0.099271</td>\n",
       "      <td>0.012422</td>\n",
       "      <td>0.031656</td>\n",
       "      <td>0.428517</td>\n",
       "      <td>0.459633</td>\n",
       "      <td>0.497946</td>\n",
       "      <td>0.496954</td>\n",
       "      <td>0.496954</td>\n",
       "    </tr>\n",
       "    <tr>\n",
       "      <td>min</td>\n",
       "      <td>0.000000</td>\n",
       "      <td>0.000000</td>\n",
       "      <td>1.000000</td>\n",
       "      <td>1.000000</td>\n",
       "      <td>1.000000</td>\n",
       "      <td>0.000000</td>\n",
       "      <td>1.000000</td>\n",
       "      <td>0.000000</td>\n",
       "      <td>0.000000</td>\n",
       "      <td>0.000000</td>\n",
       "      <td>...</td>\n",
       "      <td>0.000000</td>\n",
       "      <td>0.000000</td>\n",
       "      <td>0.000000</td>\n",
       "      <td>0.000000</td>\n",
       "      <td>0.000000</td>\n",
       "      <td>0.000000</td>\n",
       "      <td>0.000000</td>\n",
       "      <td>0.000000</td>\n",
       "      <td>0.000000</td>\n",
       "      <td>0.000000</td>\n",
       "    </tr>\n",
       "    <tr>\n",
       "      <td>25%</td>\n",
       "      <td>0.000000</td>\n",
       "      <td>0.000000</td>\n",
       "      <td>6.000000</td>\n",
       "      <td>2.000000</td>\n",
       "      <td>31.000000</td>\n",
       "      <td>0.000000</td>\n",
       "      <td>11.000000</td>\n",
       "      <td>0.000000</td>\n",
       "      <td>0.000000</td>\n",
       "      <td>0.000000</td>\n",
       "      <td>...</td>\n",
       "      <td>0.000000</td>\n",
       "      <td>0.000000</td>\n",
       "      <td>0.000000</td>\n",
       "      <td>0.000000</td>\n",
       "      <td>0.000000</td>\n",
       "      <td>0.000000</td>\n",
       "      <td>0.000000</td>\n",
       "      <td>0.000000</td>\n",
       "      <td>0.000000</td>\n",
       "      <td>0.000000</td>\n",
       "    </tr>\n",
       "    <tr>\n",
       "      <td>50%</td>\n",
       "      <td>0.000000</td>\n",
       "      <td>0.000000</td>\n",
       "      <td>7.000000</td>\n",
       "      <td>4.000000</td>\n",
       "      <td>44.000000</td>\n",
       "      <td>1.000000</td>\n",
       "      <td>15.000000</td>\n",
       "      <td>0.000000</td>\n",
       "      <td>0.000000</td>\n",
       "      <td>0.000000</td>\n",
       "      <td>...</td>\n",
       "      <td>0.000000</td>\n",
       "      <td>0.000000</td>\n",
       "      <td>0.000000</td>\n",
       "      <td>0.000000</td>\n",
       "      <td>0.000000</td>\n",
       "      <td>0.000000</td>\n",
       "      <td>0.000000</td>\n",
       "      <td>0.000000</td>\n",
       "      <td>0.000000</td>\n",
       "      <td>1.000000</td>\n",
       "    </tr>\n",
       "    <tr>\n",
       "      <td>75%</td>\n",
       "      <td>1.000000</td>\n",
       "      <td>1.000000</td>\n",
       "      <td>8.000000</td>\n",
       "      <td>6.000000</td>\n",
       "      <td>57.000000</td>\n",
       "      <td>2.000000</td>\n",
       "      <td>20.000000</td>\n",
       "      <td>0.000000</td>\n",
       "      <td>0.000000</td>\n",
       "      <td>1.000000</td>\n",
       "      <td>...</td>\n",
       "      <td>0.000000</td>\n",
       "      <td>0.000000</td>\n",
       "      <td>0.000000</td>\n",
       "      <td>0.000000</td>\n",
       "      <td>0.000000</td>\n",
       "      <td>0.000000</td>\n",
       "      <td>1.000000</td>\n",
       "      <td>1.000000</td>\n",
       "      <td>1.000000</td>\n",
       "      <td>1.000000</td>\n",
       "    </tr>\n",
       "    <tr>\n",
       "      <td>max</td>\n",
       "      <td>1.000000</td>\n",
       "      <td>1.000000</td>\n",
       "      <td>10.000000</td>\n",
       "      <td>14.000000</td>\n",
       "      <td>120.000000</td>\n",
       "      <td>6.000000</td>\n",
       "      <td>75.000000</td>\n",
       "      <td>29.000000</td>\n",
       "      <td>76.000000</td>\n",
       "      <td>16.000000</td>\n",
       "      <td>...</td>\n",
       "      <td>1.000000</td>\n",
       "      <td>1.000000</td>\n",
       "      <td>1.000000</td>\n",
       "      <td>1.000000</td>\n",
       "      <td>1.000000</td>\n",
       "      <td>1.000000</td>\n",
       "      <td>1.000000</td>\n",
       "      <td>1.000000</td>\n",
       "      <td>1.000000</td>\n",
       "      <td>1.000000</td>\n",
       "    </tr>\n",
       "  </tbody>\n",
       "</table>\n",
       "<p>8 rows × 137 columns</p>\n",
       "</div>"
      ],
      "text/plain": [
       "          y_predict        y_test           age  time_in_hospital  \\\n",
       "count  12961.000000  12961.000000  12961.000000      12961.000000   \n",
       "mean       0.393102      0.393102      7.072139          4.366330   \n",
       "std        0.488458      0.488458      1.567847          2.967034   \n",
       "min        0.000000      0.000000      1.000000          1.000000   \n",
       "25%        0.000000      0.000000      6.000000          2.000000   \n",
       "50%        0.000000      0.000000      7.000000          4.000000   \n",
       "75%        1.000000      1.000000      8.000000          6.000000   \n",
       "max        1.000000      1.000000     10.000000         14.000000   \n",
       "\n",
       "       num_lab_procedures  num_procedures  num_medications  number_outpatient  \\\n",
       "count        12961.000000    12961.000000     12961.000000       12961.000000   \n",
       "mean            43.098449        1.369030        16.182008           0.385387   \n",
       "std             19.836178        1.709494         8.234542           1.322467   \n",
       "min              1.000000        0.000000         1.000000           0.000000   \n",
       "25%             31.000000        0.000000        11.000000           0.000000   \n",
       "50%             44.000000        1.000000        15.000000           0.000000   \n",
       "75%             57.000000        2.000000        20.000000           0.000000   \n",
       "max            120.000000        6.000000        75.000000          29.000000   \n",
       "\n",
       "       number_emergency  number_inpatient  ...  discharge_23  discharge_24  \\\n",
       "count      12961.000000      12961.000000  ...  12961.000000  12961.000000   \n",
       "mean           0.227143          0.713834  ...      0.004012      0.000386   \n",
       "std            1.197583          1.381190  ...      0.063216      0.019638   \n",
       "min            0.000000          0.000000  ...      0.000000      0.000000   \n",
       "25%            0.000000          0.000000  ...      0.000000      0.000000   \n",
       "50%            0.000000          0.000000  ...      0.000000      0.000000   \n",
       "75%            0.000000          1.000000  ...      0.000000      0.000000   \n",
       "max           76.000000         16.000000  ...      1.000000      1.000000   \n",
       "\n",
       "       discharge_25  discharge_27  discharge_28           N/A         type1  \\\n",
       "count  12961.000000  12961.000000  12961.000000  12961.000000  12961.000000   \n",
       "mean       0.009953      0.000154      0.001003      0.242342      0.303140   \n",
       "std        0.099271      0.012422      0.031656      0.428517      0.459633   \n",
       "min        0.000000      0.000000      0.000000      0.000000      0.000000   \n",
       "25%        0.000000      0.000000      0.000000      0.000000      0.000000   \n",
       "50%        0.000000      0.000000      0.000000      0.000000      0.000000   \n",
       "75%        0.000000      0.000000      0.000000      0.000000      1.000000   \n",
       "max        1.000000      1.000000      1.000000      1.000000      1.000000   \n",
       "\n",
       "              type2  db_related_No  db_related_Yes  \n",
       "count  12961.000000   12961.000000    12961.000000  \n",
       "mean       0.454517       0.444719        0.555281  \n",
       "std        0.497946       0.496954        0.496954  \n",
       "min        0.000000       0.000000        0.000000  \n",
       "25%        0.000000       0.000000        0.000000  \n",
       "50%        0.000000       0.000000        1.000000  \n",
       "75%        1.000000       1.000000        1.000000  \n",
       "max        1.000000       1.000000        1.000000  \n",
       "\n",
       "[8 rows x 137 columns]"
      ]
     },
     "execution_count": 95,
     "metadata": {},
     "output_type": "execute_result"
    }
   ],
   "source": [
    "true_predictions.describe()"
   ]
  },
  {
   "cell_type": "code",
   "execution_count": 96,
   "metadata": {},
   "outputs": [
    {
     "data": {
      "text/html": [
       "<div>\n",
       "<style scoped>\n",
       "    .dataframe tbody tr th:only-of-type {\n",
       "        vertical-align: middle;\n",
       "    }\n",
       "\n",
       "    .dataframe tbody tr th {\n",
       "        vertical-align: top;\n",
       "    }\n",
       "\n",
       "    .dataframe thead th {\n",
       "        text-align: right;\n",
       "    }\n",
       "</style>\n",
       "<table border=\"1\" class=\"dataframe\">\n",
       "  <thead>\n",
       "    <tr style=\"text-align: right;\">\n",
       "      <th></th>\n",
       "      <th>y_predict</th>\n",
       "      <th>y_test</th>\n",
       "      <th>age</th>\n",
       "      <th>time_in_hospital</th>\n",
       "      <th>num_lab_procedures</th>\n",
       "      <th>num_procedures</th>\n",
       "      <th>num_medications</th>\n",
       "      <th>number_outpatient</th>\n",
       "      <th>number_emergency</th>\n",
       "      <th>number_inpatient</th>\n",
       "      <th>...</th>\n",
       "      <th>discharge_23</th>\n",
       "      <th>discharge_24</th>\n",
       "      <th>discharge_25</th>\n",
       "      <th>discharge_27</th>\n",
       "      <th>discharge_28</th>\n",
       "      <th>N/A</th>\n",
       "      <th>type1</th>\n",
       "      <th>type2</th>\n",
       "      <th>db_related_No</th>\n",
       "      <th>db_related_Yes</th>\n",
       "    </tr>\n",
       "  </thead>\n",
       "  <tbody>\n",
       "    <tr>\n",
       "      <td>count</td>\n",
       "      <td>7088.000000</td>\n",
       "      <td>7088.000000</td>\n",
       "      <td>7088.000000</td>\n",
       "      <td>7088.000000</td>\n",
       "      <td>7088.000000</td>\n",
       "      <td>7088.000000</td>\n",
       "      <td>7088.000000</td>\n",
       "      <td>7088.000000</td>\n",
       "      <td>7088.000000</td>\n",
       "      <td>7088.000000</td>\n",
       "      <td>...</td>\n",
       "      <td>7088.000000</td>\n",
       "      <td>7088.000000</td>\n",
       "      <td>7088.000000</td>\n",
       "      <td>7088.0</td>\n",
       "      <td>7088.000000</td>\n",
       "      <td>7088.000000</td>\n",
       "      <td>7088.000000</td>\n",
       "      <td>7088.000000</td>\n",
       "      <td>7088.000000</td>\n",
       "      <td>7088.000000</td>\n",
       "    </tr>\n",
       "    <tr>\n",
       "      <td>mean</td>\n",
       "      <td>0.409001</td>\n",
       "      <td>0.590999</td>\n",
       "      <td>7.235327</td>\n",
       "      <td>4.446388</td>\n",
       "      <td>43.272997</td>\n",
       "      <td>1.300649</td>\n",
       "      <td>15.998307</td>\n",
       "      <td>0.348476</td>\n",
       "      <td>0.161823</td>\n",
       "      <td>0.510440</td>\n",
       "      <td>...</td>\n",
       "      <td>0.003668</td>\n",
       "      <td>0.000141</td>\n",
       "      <td>0.008465</td>\n",
       "      <td>0.0</td>\n",
       "      <td>0.001270</td>\n",
       "      <td>0.211343</td>\n",
       "      <td>0.298392</td>\n",
       "      <td>0.490265</td>\n",
       "      <td>0.458804</td>\n",
       "      <td>0.541196</td>\n",
       "    </tr>\n",
       "    <tr>\n",
       "      <td>std</td>\n",
       "      <td>0.491684</td>\n",
       "      <td>0.491684</td>\n",
       "      <td>1.513099</td>\n",
       "      <td>2.955042</td>\n",
       "      <td>19.789433</td>\n",
       "      <td>1.702028</td>\n",
       "      <td>7.805180</td>\n",
       "      <td>1.173965</td>\n",
       "      <td>0.824298</td>\n",
       "      <td>0.984086</td>\n",
       "      <td>...</td>\n",
       "      <td>0.060459</td>\n",
       "      <td>0.011878</td>\n",
       "      <td>0.091622</td>\n",
       "      <td>0.0</td>\n",
       "      <td>0.035613</td>\n",
       "      <td>0.408290</td>\n",
       "      <td>0.457585</td>\n",
       "      <td>0.499940</td>\n",
       "      <td>0.498335</td>\n",
       "      <td>0.498335</td>\n",
       "    </tr>\n",
       "    <tr>\n",
       "      <td>min</td>\n",
       "      <td>0.000000</td>\n",
       "      <td>0.000000</td>\n",
       "      <td>1.000000</td>\n",
       "      <td>1.000000</td>\n",
       "      <td>1.000000</td>\n",
       "      <td>0.000000</td>\n",
       "      <td>1.000000</td>\n",
       "      <td>0.000000</td>\n",
       "      <td>0.000000</td>\n",
       "      <td>0.000000</td>\n",
       "      <td>...</td>\n",
       "      <td>0.000000</td>\n",
       "      <td>0.000000</td>\n",
       "      <td>0.000000</td>\n",
       "      <td>0.0</td>\n",
       "      <td>0.000000</td>\n",
       "      <td>0.000000</td>\n",
       "      <td>0.000000</td>\n",
       "      <td>0.000000</td>\n",
       "      <td>0.000000</td>\n",
       "      <td>0.000000</td>\n",
       "    </tr>\n",
       "    <tr>\n",
       "      <td>25%</td>\n",
       "      <td>0.000000</td>\n",
       "      <td>0.000000</td>\n",
       "      <td>6.000000</td>\n",
       "      <td>2.000000</td>\n",
       "      <td>32.000000</td>\n",
       "      <td>0.000000</td>\n",
       "      <td>11.000000</td>\n",
       "      <td>0.000000</td>\n",
       "      <td>0.000000</td>\n",
       "      <td>0.000000</td>\n",
       "      <td>...</td>\n",
       "      <td>0.000000</td>\n",
       "      <td>0.000000</td>\n",
       "      <td>0.000000</td>\n",
       "      <td>0.0</td>\n",
       "      <td>0.000000</td>\n",
       "      <td>0.000000</td>\n",
       "      <td>0.000000</td>\n",
       "      <td>0.000000</td>\n",
       "      <td>0.000000</td>\n",
       "      <td>0.000000</td>\n",
       "    </tr>\n",
       "    <tr>\n",
       "      <td>50%</td>\n",
       "      <td>0.000000</td>\n",
       "      <td>1.000000</td>\n",
       "      <td>7.000000</td>\n",
       "      <td>4.000000</td>\n",
       "      <td>44.000000</td>\n",
       "      <td>1.000000</td>\n",
       "      <td>15.000000</td>\n",
       "      <td>0.000000</td>\n",
       "      <td>0.000000</td>\n",
       "      <td>0.000000</td>\n",
       "      <td>...</td>\n",
       "      <td>0.000000</td>\n",
       "      <td>0.000000</td>\n",
       "      <td>0.000000</td>\n",
       "      <td>0.0</td>\n",
       "      <td>0.000000</td>\n",
       "      <td>0.000000</td>\n",
       "      <td>0.000000</td>\n",
       "      <td>0.000000</td>\n",
       "      <td>0.000000</td>\n",
       "      <td>1.000000</td>\n",
       "    </tr>\n",
       "    <tr>\n",
       "      <td>75%</td>\n",
       "      <td>1.000000</td>\n",
       "      <td>1.000000</td>\n",
       "      <td>8.000000</td>\n",
       "      <td>6.000000</td>\n",
       "      <td>57.000000</td>\n",
       "      <td>2.000000</td>\n",
       "      <td>20.000000</td>\n",
       "      <td>0.000000</td>\n",
       "      <td>0.000000</td>\n",
       "      <td>1.000000</td>\n",
       "      <td>...</td>\n",
       "      <td>0.000000</td>\n",
       "      <td>0.000000</td>\n",
       "      <td>0.000000</td>\n",
       "      <td>0.0</td>\n",
       "      <td>0.000000</td>\n",
       "      <td>0.000000</td>\n",
       "      <td>1.000000</td>\n",
       "      <td>1.000000</td>\n",
       "      <td>1.000000</td>\n",
       "      <td>1.000000</td>\n",
       "    </tr>\n",
       "    <tr>\n",
       "      <td>max</td>\n",
       "      <td>1.000000</td>\n",
       "      <td>1.000000</td>\n",
       "      <td>10.000000</td>\n",
       "      <td>14.000000</td>\n",
       "      <td>126.000000</td>\n",
       "      <td>6.000000</td>\n",
       "      <td>75.000000</td>\n",
       "      <td>35.000000</td>\n",
       "      <td>37.000000</td>\n",
       "      <td>16.000000</td>\n",
       "      <td>...</td>\n",
       "      <td>1.000000</td>\n",
       "      <td>1.000000</td>\n",
       "      <td>1.000000</td>\n",
       "      <td>0.0</td>\n",
       "      <td>1.000000</td>\n",
       "      <td>1.000000</td>\n",
       "      <td>1.000000</td>\n",
       "      <td>1.000000</td>\n",
       "      <td>1.000000</td>\n",
       "      <td>1.000000</td>\n",
       "    </tr>\n",
       "  </tbody>\n",
       "</table>\n",
       "<p>8 rows × 137 columns</p>\n",
       "</div>"
      ],
      "text/plain": [
       "         y_predict       y_test          age  time_in_hospital  \\\n",
       "count  7088.000000  7088.000000  7088.000000       7088.000000   \n",
       "mean      0.409001     0.590999     7.235327          4.446388   \n",
       "std       0.491684     0.491684     1.513099          2.955042   \n",
       "min       0.000000     0.000000     1.000000          1.000000   \n",
       "25%       0.000000     0.000000     6.000000          2.000000   \n",
       "50%       0.000000     1.000000     7.000000          4.000000   \n",
       "75%       1.000000     1.000000     8.000000          6.000000   \n",
       "max       1.000000     1.000000    10.000000         14.000000   \n",
       "\n",
       "       num_lab_procedures  num_procedures  num_medications  number_outpatient  \\\n",
       "count         7088.000000     7088.000000      7088.000000        7088.000000   \n",
       "mean            43.272997        1.300649        15.998307           0.348476   \n",
       "std             19.789433        1.702028         7.805180           1.173965   \n",
       "min              1.000000        0.000000         1.000000           0.000000   \n",
       "25%             32.000000        0.000000        11.000000           0.000000   \n",
       "50%             44.000000        1.000000        15.000000           0.000000   \n",
       "75%             57.000000        2.000000        20.000000           0.000000   \n",
       "max            126.000000        6.000000        75.000000          35.000000   \n",
       "\n",
       "       number_emergency  number_inpatient  ...  discharge_23  discharge_24  \\\n",
       "count       7088.000000       7088.000000  ...   7088.000000   7088.000000   \n",
       "mean           0.161823          0.510440  ...      0.003668      0.000141   \n",
       "std            0.824298          0.984086  ...      0.060459      0.011878   \n",
       "min            0.000000          0.000000  ...      0.000000      0.000000   \n",
       "25%            0.000000          0.000000  ...      0.000000      0.000000   \n",
       "50%            0.000000          0.000000  ...      0.000000      0.000000   \n",
       "75%            0.000000          1.000000  ...      0.000000      0.000000   \n",
       "max           37.000000         16.000000  ...      1.000000      1.000000   \n",
       "\n",
       "       discharge_25  discharge_27  discharge_28          N/A        type1  \\\n",
       "count   7088.000000        7088.0   7088.000000  7088.000000  7088.000000   \n",
       "mean       0.008465           0.0      0.001270     0.211343     0.298392   \n",
       "std        0.091622           0.0      0.035613     0.408290     0.457585   \n",
       "min        0.000000           0.0      0.000000     0.000000     0.000000   \n",
       "25%        0.000000           0.0      0.000000     0.000000     0.000000   \n",
       "50%        0.000000           0.0      0.000000     0.000000     0.000000   \n",
       "75%        0.000000           0.0      0.000000     0.000000     1.000000   \n",
       "max        1.000000           0.0      1.000000     1.000000     1.000000   \n",
       "\n",
       "             type2  db_related_No  db_related_Yes  \n",
       "count  7088.000000    7088.000000     7088.000000  \n",
       "mean      0.490265       0.458804        0.541196  \n",
       "std       0.499940       0.498335        0.498335  \n",
       "min       0.000000       0.000000        0.000000  \n",
       "25%       0.000000       0.000000        0.000000  \n",
       "50%       0.000000       0.000000        1.000000  \n",
       "75%       1.000000       1.000000        1.000000  \n",
       "max       1.000000       1.000000        1.000000  \n",
       "\n",
       "[8 rows x 137 columns]"
      ]
     },
     "execution_count": 96,
     "metadata": {},
     "output_type": "execute_result"
    }
   ],
   "source": [
    "false_predictions.describe()"
   ]
  },
  {
   "cell_type": "code",
   "execution_count": 97,
   "metadata": {},
   "outputs": [
    {
     "data": {
      "image/png": "[encoded data removed]",
      "text/plain": [
       "<Figure size 648x360 with 1 Axes>"
      ]
     },
     "metadata": {
      "needs_background": "light"
     },
     "output_type": "display_data"
    }
   ],
   "source": [
    "final.groupby(['diag1_pregnancy', 'correct_prediction']).size().unstack().plot(kind='bar',stacked=True, figsize=(9,5))\n",
    "plt.show()"
   ]
  },
  {
   "cell_type": "code",
   "execution_count": 98,
   "metadata": {},
   "outputs": [
    {
     "data": {
      "image/png": "[encoded data removed]",
      "text/plain": [
       "<Figure size 648x360 with 1 Axes>"
      ]
     },
     "metadata": {
      "needs_background": "light"
     },
     "output_type": "display_data"
    }
   ],
   "source": [
    "final.groupby(['diag2_congenital', 'correct_prediction']).size().unstack().plot(kind='bar',stacked=True, figsize=(9,5))\n",
    "plt.show()"
   ]
  },
  {
   "cell_type": "code",
   "execution_count": 99,
   "metadata": {},
   "outputs": [
    {
     "data": {
      "image/png": "[encoded data removed]",
      "text/plain": [
       "<Figure size 648x360 with 1 Axes>"
      ]
     },
     "metadata": {
      "needs_background": "light"
     },
     "output_type": "display_data"
    }
   ],
   "source": [
    "final.groupby(['diag3_pregnancy', 'correct_prediction']).size().unstack().plot(kind='bar',stacked=True, figsize=(9,5))\n",
    "plt.show()"
   ]
  },
  {
   "cell_type": "code",
   "execution_count": 100,
   "metadata": {
    "scrolled": true
   },
   "outputs": [
    {
     "data": {
      "image/png": "[encoded data removed]",
      "text/plain": [
       "<Figure size 648x360 with 1 Axes>"
      ]
     },
     "metadata": {
      "needs_background": "light"
     },
     "output_type": "display_data"
    }
   ],
   "source": [
    "final.groupby(['discharge_9', 'correct_prediction']).size().unstack().plot(kind='bar',stacked=True, figsize=(9,5))\n",
    "plt.show()"
   ]
  },
  {
   "cell_type": "code",
   "execution_count": null,
   "metadata": {},
   "outputs": [],
   "source": []
  }
 ],
 "metadata": {
  "kernelspec": {
   "display_name": "Python 3",
   "language": "python",
   "name": "python3"
  },
  "language_info": {
   "codemirror_mode": {
    "name": "ipython",
    "version": 3
   },
   "file_extension": ".py",
   "mimetype": "text/x-python",
   "name": "python",
   "nbconvert_exporter": "python",
   "pygments_lexer": "ipython3",
   "version": "3.7.4"
  }
 },
 "nbformat": 4,
 "nbformat_minor": 2
}
